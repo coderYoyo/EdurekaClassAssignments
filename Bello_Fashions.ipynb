{
  "nbformat": 4,
  "nbformat_minor": 0,
  "metadata": {
    "kernelspec": {
      "display_name": "Python 3",
      "language": "python",
      "name": "python3"
    },
    "language_info": {
      "codemirror_mode": {
        "name": "ipython",
        "version": 3
      },
      "file_extension": ".py",
      "mimetype": "text/x-python",
      "name": "python",
      "nbconvert_exporter": "python",
      "pygments_lexer": "ipython3",
      "version": "3.8.1"
    },
    "colab": {
      "name": "Bello Fashions.ipynb",
      "provenance": [],
      "collapsed_sections": []
    }
  },
  "cells": [
    {
      "cell_type": "markdown",
      "metadata": {
        "id": "usDkwSglYuHM"
      },
      "source": [
        "## <u>Python for AI-ML</u>\n",
        "\n",
        "# Module 4 - Data Preprocessing"
      ]
    },
    {
      "cell_type": "markdown",
      "metadata": {
        "id": "WMLesW9FYuHP"
      },
      "source": [
        "# Use Case-1: Bello Fashions\n",
        "\n",
        "\n",
        "### Problem Statement\n",
        "The data analysis team has been given a task to analyze the monthly sales by the manager."
      ]
    },
    {
      "cell_type": "markdown",
      "metadata": {
        "id": "EEMHM2uFYuHP"
      },
      "source": [
        "### Import Basic Libraries"
      ]
    },
    {
      "cell_type": "code",
      "metadata": {
        "id": "WN86PT4RYuHQ"
      },
      "source": [
        "import pandas as pd\n",
        "import numpy as np"
      ],
      "execution_count": null,
      "outputs": []
    },
    {
      "cell_type": "code",
      "metadata": {
        "id": "jo8jSei7ZILR",
        "colab": {
          "base_uri": "https://localhost:8080/"
        },
        "outputId": "607338cf-d3ce-4389-e181-483813559bee"
      },
      "source": [
        "#Downloading and unzip the data\n",
        "!wget https://www.dropbox.com/s/c2927nzgomsn23f/Pandas%20Data%20preprocessing.zip\n",
        "!unzip \"Pandas Data preprocessing.zip\"\n",
        "!rm \"Pandas Data preprocessing.zip\""
      ],
      "execution_count": null,
      "outputs": [
        {
          "output_type": "stream",
          "name": "stdout",
          "text": [
            "--2021-10-23 02:23:38--  https://www.dropbox.com/s/c2927nzgomsn23f/Pandas%20Data%20preprocessing.zip\n",
            "Resolving www.dropbox.com (www.dropbox.com)... 162.125.6.18, 2620:100:6050:18::a27d:b12\n",
            "Connecting to www.dropbox.com (www.dropbox.com)|162.125.6.18|:443... connected.\n",
            "HTTP request sent, awaiting response... 301 Moved Permanently\n",
            "Location: /s/raw/c2927nzgomsn23f/Pandas%20Data%20preprocessing.zip [following]\n",
            "--2021-10-23 02:23:38--  https://www.dropbox.com/s/raw/c2927nzgomsn23f/Pandas%20Data%20preprocessing.zip\n",
            "Reusing existing connection to www.dropbox.com:443.\n",
            "HTTP request sent, awaiting response... 302 Found\n",
            "Location: https://ucf501e8c8bc8721fe44346ea0ff.dl.dropboxusercontent.com/cd/0/inline/BYg6I2Em_6PcsxegzRF9EEXk2jdnxsxkbZBDALmoIVmd42ZAOSZfN0AnK47q8bCYjcRVaAePTx1RKVV0gamGa_cl2wf6TUTBP5ZzOlCooQHI797gGvUAHt5uenhBfHyotZBhVwtFUvo0G10oq5l2YsxT/file# [following]\n",
            "--2021-10-23 02:23:38--  https://ucf501e8c8bc8721fe44346ea0ff.dl.dropboxusercontent.com/cd/0/inline/BYg6I2Em_6PcsxegzRF9EEXk2jdnxsxkbZBDALmoIVmd42ZAOSZfN0AnK47q8bCYjcRVaAePTx1RKVV0gamGa_cl2wf6TUTBP5ZzOlCooQHI797gGvUAHt5uenhBfHyotZBhVwtFUvo0G10oq5l2YsxT/file\n",
            "Resolving ucf501e8c8bc8721fe44346ea0ff.dl.dropboxusercontent.com (ucf501e8c8bc8721fe44346ea0ff.dl.dropboxusercontent.com)... 162.125.6.15, 2620:100:6022:15::a27d:420f\n",
            "Connecting to ucf501e8c8bc8721fe44346ea0ff.dl.dropboxusercontent.com (ucf501e8c8bc8721fe44346ea0ff.dl.dropboxusercontent.com)|162.125.6.15|:443... connected.\n",
            "HTTP request sent, awaiting response... 302 Found\n",
            "Location: /cd/0/inline2/BYgFUmaGri8ql3eGF9nrmpx-pdvgESL_RIjn3_LsSPhvgJPDwdmO7xGaUqWOOqwx064dtdWURZKZW7HYVas9wiqMN1AhhLucFsJdo9aDdRxYKMYql88rioJY4bnkDUZDR9XYbyDZmmS_4LmyPfd7DE7A46fKx-czMnFgruy2SYLXa8gMe6e38PxrtujpmQd8ls7Ote3tZufeAV4lJ3OKhwGnCq0vBRF6mGf1U8vXLk_ulS3WwHjupVDEgxlmDS_V3ocHKedvgH8OvHVcv8PSY0J4o0r_8ze8I1CCNsOOPKVRAowMKsfINtvIQhHHRaHtSbDrANYyNNLB_We4bdMiTcqBUWa8Ci1nm76cwySOR2pIrrx00GMLPB6BjwsqJ904S0w/file [following]\n",
            "--2021-10-23 02:23:38--  https://ucf501e8c8bc8721fe44346ea0ff.dl.dropboxusercontent.com/cd/0/inline2/BYgFUmaGri8ql3eGF9nrmpx-pdvgESL_RIjn3_LsSPhvgJPDwdmO7xGaUqWOOqwx064dtdWURZKZW7HYVas9wiqMN1AhhLucFsJdo9aDdRxYKMYql88rioJY4bnkDUZDR9XYbyDZmmS_4LmyPfd7DE7A46fKx-czMnFgruy2SYLXa8gMe6e38PxrtujpmQd8ls7Ote3tZufeAV4lJ3OKhwGnCq0vBRF6mGf1U8vXLk_ulS3WwHjupVDEgxlmDS_V3ocHKedvgH8OvHVcv8PSY0J4o0r_8ze8I1CCNsOOPKVRAowMKsfINtvIQhHHRaHtSbDrANYyNNLB_We4bdMiTcqBUWa8Ci1nm76cwySOR2pIrrx00GMLPB6BjwsqJ904S0w/file\n",
            "Reusing existing connection to ucf501e8c8bc8721fe44346ea0ff.dl.dropboxusercontent.com:443.\n",
            "HTTP request sent, awaiting response... 200 OK\n",
            "Length: 9768 (9.5K) [application/zip]\n",
            "Saving to: ‘Pandas Data preprocessing.zip’\n",
            "\n",
            "Pandas Data preproc 100%[===================>]   9.54K  --.-KB/s    in 0s      \n",
            "\n",
            "2021-10-23 02:23:38 (188 MB/s) - ‘Pandas Data preprocessing.zip’ saved [9768/9768]\n",
            "\n",
            "Archive:  Pandas Data preprocessing.zip\n",
            "replace autodata.csv? [y]es, [n]o, [A]ll, [N]one, [r]ename: N\n"
          ]
        }
      ]
    },
    {
      "cell_type": "markdown",
      "metadata": {
        "id": "Fl9fJZ9tYuHS"
      },
      "source": [
        "### Reading Data from Multiple Sources"
      ]
    },
    {
      "cell_type": "markdown",
      "metadata": {
        "id": "6QNRuiMEYuHS"
      },
      "source": [
        "Richard reads data from multiple sources using pandas and merges into a single flat file(CSV). Later, he shares this file to Robin to perform the Data Analyst."
      ]
    },
    {
      "cell_type": "code",
      "metadata": {
        "id": "hxrtCikeYuHT"
      },
      "source": [
        "from sqlalchemy import create_engine"
      ],
      "execution_count": null,
      "outputs": []
    },
    {
      "cell_type": "code",
      "metadata": {
        "id": "uXQjYBMEdml7",
        "colab": {
          "base_uri": "https://localhost:8080/",
          "height": 53
        },
        "outputId": "195703b9-96b5-4215-9259-6e8eae04da6d"
      },
      "source": [
        "\"\"\"\n",
        "import shutil\n",
        "import os\n",
        "os.mkdir(\"DB Folder\")\n",
        "shutil.move(\"/content/db_bello_customers.db\", \"/content/DB Folder/db_bello_customers.db\")\n",
        "engine=create_engine('sqlite:////content/DB Folder/db_bello_customers.db',future=True)\n",
        "\"\"\""
      ],
      "execution_count": null,
      "outputs": [
        {
          "output_type": "execute_result",
          "data": {
            "application/vnd.google.colaboratory.intrinsic+json": {
              "type": "string"
            },
            "text/plain": [
              "'\\nimport shutil\\nimport os\\nos.mkdir(\"DB Folder\")\\nshutil.move(\"/content/db_bello_customers.db\", \"/content/DB Folder/db_bello_customers.db\")\\nengine=create_engine(\\'sqlite:////content/DB Folder/db_bello_customers.db\\',future=True)\\n'"
            ]
          },
          "metadata": {},
          "execution_count": 67
        }
      ]
    },
    {
      "cell_type": "code",
      "metadata": {
        "id": "YXMfSgB7YuHT"
      },
      "source": [
        "engine=create_engine('sqlite:///db_bello_customers.db',future=True)"
      ],
      "execution_count": null,
      "outputs": []
    },
    {
      "cell_type": "code",
      "metadata": {
        "id": "T-eqYgnNbHun",
        "colab": {
          "base_uri": "https://localhost:8080/"
        },
        "outputId": "17032b34-279d-4058-8e13-eb5db88837a8"
      },
      "source": [
        "type(engine)"
      ],
      "execution_count": null,
      "outputs": [
        {
          "output_type": "execute_result",
          "data": {
            "text/plain": [
              "sqlalchemy.future.engine.Engine"
            ]
          },
          "metadata": {},
          "execution_count": 69
        }
      ]
    },
    {
      "cell_type": "code",
      "metadata": {
        "id": "yea44NrIbRbI",
        "colab": {
          "base_uri": "https://localhost:8080/"
        },
        "outputId": "4da09e93-4a9c-4aa6-c8b7-4f7203bf6be0"
      },
      "source": [
        "connect = engine.connect() # connects database\n",
        "type(connect) # creates a database file"
      ],
      "execution_count": null,
      "outputs": [
        {
          "output_type": "execute_result",
          "data": {
            "text/plain": [
              "sqlalchemy.future.engine.Connection"
            ]
          },
          "metadata": {},
          "execution_count": 70
        }
      ]
    },
    {
      "cell_type": "code",
      "metadata": {
        "id": "FvyIDb0dYuHU"
      },
      "source": [
        "on_premise_db=pd.read_sql_table('Payments',connect)"
      ],
      "execution_count": null,
      "outputs": []
    },
    {
      "cell_type": "code",
      "metadata": {
        "id": "FlpFGCfRhwk5",
        "colab": {
          "base_uri": "https://localhost:8080/"
        },
        "outputId": "c510d1b7-a062-4d31-99af-52b6e7866997"
      },
      "source": [
        "type(on_premise_db)"
      ],
      "execution_count": null,
      "outputs": [
        {
          "output_type": "execute_result",
          "data": {
            "text/plain": [
              "pandas.core.frame.DataFrame"
            ]
          },
          "metadata": {},
          "execution_count": 72
        }
      ]
    },
    {
      "cell_type": "code",
      "metadata": {
        "id": "YrkUfErvhyfI",
        "colab": {
          "base_uri": "https://localhost:8080/",
          "height": 206
        },
        "outputId": "75ab0a64-31c3-4a6e-f9c0-b395ac2e075a"
      },
      "source": [
        "on_premise_db.head()"
      ],
      "execution_count": null,
      "outputs": [
        {
          "output_type": "execute_result",
          "data": {
            "text/html": [
              "<div>\n",
              "<style scoped>\n",
              "    .dataframe tbody tr th:only-of-type {\n",
              "        vertical-align: middle;\n",
              "    }\n",
              "\n",
              "    .dataframe tbody tr th {\n",
              "        vertical-align: top;\n",
              "    }\n",
              "\n",
              "    .dataframe thead th {\n",
              "        text-align: right;\n",
              "    }\n",
              "</style>\n",
              "<table border=\"1\" class=\"dataframe\">\n",
              "  <thead>\n",
              "    <tr style=\"text-align: right;\">\n",
              "      <th></th>\n",
              "      <th>Date</th>\n",
              "      <th>CustomerID</th>\n",
              "      <th>PaymentMode</th>\n",
              "      <th>ShippingMode</th>\n",
              "      <th>Gender</th>\n",
              "      <th>ShippingTime</th>\n",
              "    </tr>\n",
              "  </thead>\n",
              "  <tbody>\n",
              "    <tr>\n",
              "      <th>0</th>\n",
              "      <td>16/08/20</td>\n",
              "      <td>10471</td>\n",
              "      <td>Creditcard</td>\n",
              "      <td>Economy</td>\n",
              "      <td>Female</td>\n",
              "      <td>17.0</td>\n",
              "    </tr>\n",
              "    <tr>\n",
              "      <th>1</th>\n",
              "      <td>2/8/2020 0:00</td>\n",
              "      <td>10472</td>\n",
              "      <td>Ewallet</td>\n",
              "      <td>Mail</td>\n",
              "      <td>Unspecified</td>\n",
              "      <td>12.0</td>\n",
              "    </tr>\n",
              "    <tr>\n",
              "      <th>2</th>\n",
              "      <td>8/8/2020 0:00</td>\n",
              "      <td>10473</td>\n",
              "      <td>Prepaid Card</td>\n",
              "      <td>Mail</td>\n",
              "      <td>None</td>\n",
              "      <td>10.0</td>\n",
              "    </tr>\n",
              "    <tr>\n",
              "      <th>3</th>\n",
              "      <td>None</td>\n",
              "      <td>10474</td>\n",
              "      <td>Directdeposit</td>\n",
              "      <td>Normal</td>\n",
              "      <td>Female</td>\n",
              "      <td>2133.0</td>\n",
              "    </tr>\n",
              "    <tr>\n",
              "      <th>4</th>\n",
              "      <td>24/08/20</td>\n",
              "      <td>10475</td>\n",
              "      <td>None</td>\n",
              "      <td>Economy</td>\n",
              "      <td>Male</td>\n",
              "      <td>2133.0</td>\n",
              "    </tr>\n",
              "  </tbody>\n",
              "</table>\n",
              "</div>"
            ],
            "text/plain": [
              "            Date  CustomerID  ...       Gender ShippingTime\n",
              "0       16/08/20       10471  ...       Female         17.0\n",
              "1  2/8/2020 0:00       10472  ...  Unspecified         12.0\n",
              "2  8/8/2020 0:00       10473  ...         None         10.0\n",
              "3           None       10474  ...       Female       2133.0\n",
              "4       24/08/20       10475  ...         Male       2133.0\n",
              "\n",
              "[5 rows x 6 columns]"
            ]
          },
          "metadata": {},
          "execution_count": 73
        }
      ]
    },
    {
      "cell_type": "code",
      "metadata": {
        "id": "DfY4m4r0YuHV"
      },
      "source": [
        "#read from csv file\n",
        "cld_data=pd.read_csv('https://raw.githubusercontent.com/SameerJain901/datasets/master/cld_bello_customers.csv')"
      ],
      "execution_count": null,
      "outputs": []
    },
    {
      "cell_type": "code",
      "metadata": {
        "id": "otF_GFi9YuHV"
      },
      "source": [
        "lcl_data=pd.read_excel('lcl_bello_sales.xlsx')"
      ],
      "execution_count": null,
      "outputs": []
    },
    {
      "cell_type": "code",
      "metadata": {
        "id": "Z-HXhtSkYuHW",
        "colab": {
          "base_uri": "https://localhost:8080/",
          "height": 206
        },
        "outputId": "80c6e49c-1c68-4eb7-ead2-ec12e663bd20"
      },
      "source": [
        "on_premise_db.head()"
      ],
      "execution_count": null,
      "outputs": [
        {
          "output_type": "execute_result",
          "data": {
            "text/html": [
              "<div>\n",
              "<style scoped>\n",
              "    .dataframe tbody tr th:only-of-type {\n",
              "        vertical-align: middle;\n",
              "    }\n",
              "\n",
              "    .dataframe tbody tr th {\n",
              "        vertical-align: top;\n",
              "    }\n",
              "\n",
              "    .dataframe thead th {\n",
              "        text-align: right;\n",
              "    }\n",
              "</style>\n",
              "<table border=\"1\" class=\"dataframe\">\n",
              "  <thead>\n",
              "    <tr style=\"text-align: right;\">\n",
              "      <th></th>\n",
              "      <th>Date</th>\n",
              "      <th>CustomerID</th>\n",
              "      <th>PaymentMode</th>\n",
              "      <th>ShippingMode</th>\n",
              "      <th>Gender</th>\n",
              "      <th>ShippingTime</th>\n",
              "    </tr>\n",
              "  </thead>\n",
              "  <tbody>\n",
              "    <tr>\n",
              "      <th>0</th>\n",
              "      <td>16/08/20</td>\n",
              "      <td>10471</td>\n",
              "      <td>Creditcard</td>\n",
              "      <td>Economy</td>\n",
              "      <td>Female</td>\n",
              "      <td>17.0</td>\n",
              "    </tr>\n",
              "    <tr>\n",
              "      <th>1</th>\n",
              "      <td>2/8/2020 0:00</td>\n",
              "      <td>10472</td>\n",
              "      <td>Ewallet</td>\n",
              "      <td>Mail</td>\n",
              "      <td>Unspecified</td>\n",
              "      <td>12.0</td>\n",
              "    </tr>\n",
              "    <tr>\n",
              "      <th>2</th>\n",
              "      <td>8/8/2020 0:00</td>\n",
              "      <td>10473</td>\n",
              "      <td>Prepaid Card</td>\n",
              "      <td>Mail</td>\n",
              "      <td>None</td>\n",
              "      <td>10.0</td>\n",
              "    </tr>\n",
              "    <tr>\n",
              "      <th>3</th>\n",
              "      <td>None</td>\n",
              "      <td>10474</td>\n",
              "      <td>Directdeposit</td>\n",
              "      <td>Normal</td>\n",
              "      <td>Female</td>\n",
              "      <td>2133.0</td>\n",
              "    </tr>\n",
              "    <tr>\n",
              "      <th>4</th>\n",
              "      <td>24/08/20</td>\n",
              "      <td>10475</td>\n",
              "      <td>None</td>\n",
              "      <td>Economy</td>\n",
              "      <td>Male</td>\n",
              "      <td>2133.0</td>\n",
              "    </tr>\n",
              "  </tbody>\n",
              "</table>\n",
              "</div>"
            ],
            "text/plain": [
              "            Date  CustomerID  ...       Gender ShippingTime\n",
              "0       16/08/20       10471  ...       Female         17.0\n",
              "1  2/8/2020 0:00       10472  ...  Unspecified         12.0\n",
              "2  8/8/2020 0:00       10473  ...         None         10.0\n",
              "3           None       10474  ...       Female       2133.0\n",
              "4       24/08/20       10475  ...         Male       2133.0\n",
              "\n",
              "[5 rows x 6 columns]"
            ]
          },
          "metadata": {},
          "execution_count": 76
        }
      ]
    },
    {
      "cell_type": "code",
      "metadata": {
        "id": "QbI_O-pOYuHa",
        "colab": {
          "base_uri": "https://localhost:8080/",
          "height": 206
        },
        "outputId": "d8da4894-d2a5-4d26-a9f5-4e2a36b9f215"
      },
      "source": [
        "lcl_data.head()"
      ],
      "execution_count": null,
      "outputs": [
        {
          "output_type": "execute_result",
          "data": {
            "text/html": [
              "<div>\n",
              "<style scoped>\n",
              "    .dataframe tbody tr th:only-of-type {\n",
              "        vertical-align: middle;\n",
              "    }\n",
              "\n",
              "    .dataframe tbody tr th {\n",
              "        vertical-align: top;\n",
              "    }\n",
              "\n",
              "    .dataframe thead th {\n",
              "        text-align: right;\n",
              "    }\n",
              "</style>\n",
              "<table border=\"1\" class=\"dataframe\">\n",
              "  <thead>\n",
              "    <tr style=\"text-align: right;\">\n",
              "      <th></th>\n",
              "      <th>CustomerID</th>\n",
              "      <th>Price</th>\n",
              "    </tr>\n",
              "  </thead>\n",
              "  <tbody>\n",
              "    <tr>\n",
              "      <th>0</th>\n",
              "      <td>10471</td>\n",
              "      <td>₹ 675036.2138626401</td>\n",
              "    </tr>\n",
              "    <tr>\n",
              "      <th>1</th>\n",
              "      <td>10472</td>\n",
              "      <td>€ 2,315.53</td>\n",
              "    </tr>\n",
              "    <tr>\n",
              "      <th>2</th>\n",
              "      <td>10473</td>\n",
              "      <td>₹ 611426.29122378</td>\n",
              "    </tr>\n",
              "    <tr>\n",
              "      <th>3</th>\n",
              "      <td>10474</td>\n",
              "      <td>₹ 210869.48083470002</td>\n",
              "    </tr>\n",
              "    <tr>\n",
              "      <th>4</th>\n",
              "      <td>10475</td>\n",
              "      <td>₹ 679422.2811434</td>\n",
              "    </tr>\n",
              "  </tbody>\n",
              "</table>\n",
              "</div>"
            ],
            "text/plain": [
              "   CustomerID                 Price\n",
              "0       10471   ₹ 675036.2138626401\n",
              "1       10472            € 2,315.53\n",
              "2       10473     ₹ 611426.29122378\n",
              "3       10474  ₹ 210869.48083470002\n",
              "4       10475      ₹ 679422.2811434"
            ]
          },
          "metadata": {},
          "execution_count": 77
        }
      ]
    },
    {
      "cell_type": "code",
      "metadata": {
        "id": "pa6GRXukYuHa",
        "colab": {
          "base_uri": "https://localhost:8080/",
          "height": 206
        },
        "outputId": "65731a18-6668-49d4-855f-d1a216a30682"
      },
      "source": [
        "cld_data.head()"
      ],
      "execution_count": null,
      "outputs": [
        {
          "output_type": "execute_result",
          "data": {
            "text/html": [
              "<div>\n",
              "<style scoped>\n",
              "    .dataframe tbody tr th:only-of-type {\n",
              "        vertical-align: middle;\n",
              "    }\n",
              "\n",
              "    .dataframe tbody tr th {\n",
              "        vertical-align: top;\n",
              "    }\n",
              "\n",
              "    .dataframe thead th {\n",
              "        text-align: right;\n",
              "    }\n",
              "</style>\n",
              "<table border=\"1\" class=\"dataframe\">\n",
              "  <thead>\n",
              "    <tr style=\"text-align: right;\">\n",
              "      <th></th>\n",
              "      <th>CustomerID</th>\n",
              "      <th>ProductType</th>\n",
              "      <th>Rating</th>\n",
              "      <th>Total_Ratings</th>\n",
              "      <th>PaymentMode</th>\n",
              "    </tr>\n",
              "  </thead>\n",
              "  <tbody>\n",
              "    <tr>\n",
              "      <th>0</th>\n",
              "      <td>10471</td>\n",
              "      <td>coates</td>\n",
              "      <td>1 start</td>\n",
              "      <td>8736</td>\n",
              "      <td>Creditcard</td>\n",
              "    </tr>\n",
              "    <tr>\n",
              "      <th>1</th>\n",
              "      <td>10472</td>\n",
              "      <td>dresses</td>\n",
              "      <td>2 star</td>\n",
              "      <td>8547</td>\n",
              "      <td>Ewallet</td>\n",
              "    </tr>\n",
              "    <tr>\n",
              "      <th>2</th>\n",
              "      <td>10473</td>\n",
              "      <td>NaN</td>\n",
              "      <td>2 star</td>\n",
              "      <td>9833</td>\n",
              "      <td>Prepaid Card</td>\n",
              "    </tr>\n",
              "    <tr>\n",
              "      <th>3</th>\n",
              "      <td>10474</td>\n",
              "      <td>dresses</td>\n",
              "      <td>2star</td>\n",
              "      <td>7591</td>\n",
              "      <td>Directdeposit</td>\n",
              "    </tr>\n",
              "    <tr>\n",
              "      <th>4</th>\n",
              "      <td>10475</td>\n",
              "      <td>pantas</td>\n",
              "      <td>1 start</td>\n",
              "      <td>5131</td>\n",
              "      <td>NaN</td>\n",
              "    </tr>\n",
              "  </tbody>\n",
              "</table>\n",
              "</div>"
            ],
            "text/plain": [
              "   CustomerID ProductType   Rating  Total_Ratings    PaymentMode\n",
              "0       10471      coates  1 start           8736     Creditcard\n",
              "1       10472    dresses    2 star           8547        Ewallet\n",
              "2       10473         NaN   2 star           9833   Prepaid Card\n",
              "3       10474    dresses     2star           7591  Directdeposit\n",
              "4       10475      pantas  1 start           5131            NaN"
            ]
          },
          "metadata": {},
          "execution_count": 78
        }
      ]
    },
    {
      "cell_type": "code",
      "metadata": {
        "id": "4BRn8_xUYuHb",
        "colab": {
          "base_uri": "https://localhost:8080/"
        },
        "outputId": "88ac4344-132b-472d-98d0-0eac1fde62d7"
      },
      "source": [
        "# Checking shape of all the DataFrames\n",
        "lcl_data.shape,cld_data.shape,on_premise_db.shape"
      ],
      "execution_count": null,
      "outputs": [
        {
          "output_type": "execute_result",
          "data": {
            "text/plain": [
              "((100, 2), (100, 5), (100, 6))"
            ]
          },
          "metadata": {},
          "execution_count": 79
        }
      ]
    },
    {
      "cell_type": "code",
      "metadata": {
        "id": "9VXdR02uYuHh"
      },
      "source": [
        "# Remove the columns CustomerID from other two DataFrames as they are present in cld_data\n",
        "lcl_data.drop('CustomerID',axis=1,inplace=True)\n",
        "on_premise_db.drop('CustomerID',axis=1,inplace=True)"
      ],
      "execution_count": null,
      "outputs": []
    },
    {
      "cell_type": "markdown",
      "metadata": {
        "id": "tfsc6z1hYuHw"
      },
      "source": [
        "Now, we have to merge them into one single file so that Robin can analyze the data."
      ]
    },
    {
      "cell_type": "code",
      "metadata": {
        "id": "CcTsqaaBYuHw"
      },
      "source": [
        "data=pd.concat([cld_data,on_premise_db,lcl_data],axis=1)"
      ],
      "execution_count": null,
      "outputs": []
    },
    {
      "cell_type": "code",
      "metadata": {
        "id": "tTSTQ3jEYuHx",
        "colab": {
          "base_uri": "https://localhost:8080/"
        },
        "outputId": "9bb75306-e07f-4f21-96f5-c1469f847938"
      },
      "source": [
        "data.shape"
      ],
      "execution_count": null,
      "outputs": [
        {
          "output_type": "execute_result",
          "data": {
            "text/plain": [
              "(100, 11)"
            ]
          },
          "metadata": {},
          "execution_count": 82
        }
      ]
    },
    {
      "cell_type": "code",
      "metadata": {
        "id": "UMF_wOqKYuHy",
        "colab": {
          "base_uri": "https://localhost:8080/",
          "height": 206
        },
        "outputId": "8af7b9ad-0a57-495a-a05b-31b055d4c25e"
      },
      "source": [
        "data.head()"
      ],
      "execution_count": null,
      "outputs": [
        {
          "output_type": "execute_result",
          "data": {
            "text/html": [
              "<div>\n",
              "<style scoped>\n",
              "    .dataframe tbody tr th:only-of-type {\n",
              "        vertical-align: middle;\n",
              "    }\n",
              "\n",
              "    .dataframe tbody tr th {\n",
              "        vertical-align: top;\n",
              "    }\n",
              "\n",
              "    .dataframe thead th {\n",
              "        text-align: right;\n",
              "    }\n",
              "</style>\n",
              "<table border=\"1\" class=\"dataframe\">\n",
              "  <thead>\n",
              "    <tr style=\"text-align: right;\">\n",
              "      <th></th>\n",
              "      <th>CustomerID</th>\n",
              "      <th>ProductType</th>\n",
              "      <th>Rating</th>\n",
              "      <th>Total_Ratings</th>\n",
              "      <th>PaymentMode</th>\n",
              "      <th>Date</th>\n",
              "      <th>PaymentMode</th>\n",
              "      <th>ShippingMode</th>\n",
              "      <th>Gender</th>\n",
              "      <th>ShippingTime</th>\n",
              "      <th>Price</th>\n",
              "    </tr>\n",
              "  </thead>\n",
              "  <tbody>\n",
              "    <tr>\n",
              "      <th>0</th>\n",
              "      <td>10471</td>\n",
              "      <td>coates</td>\n",
              "      <td>1 start</td>\n",
              "      <td>8736</td>\n",
              "      <td>Creditcard</td>\n",
              "      <td>16/08/20</td>\n",
              "      <td>Creditcard</td>\n",
              "      <td>Economy</td>\n",
              "      <td>Female</td>\n",
              "      <td>17.0</td>\n",
              "      <td>₹ 675036.2138626401</td>\n",
              "    </tr>\n",
              "    <tr>\n",
              "      <th>1</th>\n",
              "      <td>10472</td>\n",
              "      <td>dresses</td>\n",
              "      <td>2 star</td>\n",
              "      <td>8547</td>\n",
              "      <td>Ewallet</td>\n",
              "      <td>2/8/2020 0:00</td>\n",
              "      <td>Ewallet</td>\n",
              "      <td>Mail</td>\n",
              "      <td>Unspecified</td>\n",
              "      <td>12.0</td>\n",
              "      <td>€ 2,315.53</td>\n",
              "    </tr>\n",
              "    <tr>\n",
              "      <th>2</th>\n",
              "      <td>10473</td>\n",
              "      <td>NaN</td>\n",
              "      <td>2 star</td>\n",
              "      <td>9833</td>\n",
              "      <td>Prepaid Card</td>\n",
              "      <td>8/8/2020 0:00</td>\n",
              "      <td>Prepaid Card</td>\n",
              "      <td>Mail</td>\n",
              "      <td>None</td>\n",
              "      <td>10.0</td>\n",
              "      <td>₹ 611426.29122378</td>\n",
              "    </tr>\n",
              "    <tr>\n",
              "      <th>3</th>\n",
              "      <td>10474</td>\n",
              "      <td>dresses</td>\n",
              "      <td>2star</td>\n",
              "      <td>7591</td>\n",
              "      <td>Directdeposit</td>\n",
              "      <td>None</td>\n",
              "      <td>Directdeposit</td>\n",
              "      <td>Normal</td>\n",
              "      <td>Female</td>\n",
              "      <td>2133.0</td>\n",
              "      <td>₹ 210869.48083470002</td>\n",
              "    </tr>\n",
              "    <tr>\n",
              "      <th>4</th>\n",
              "      <td>10475</td>\n",
              "      <td>pantas</td>\n",
              "      <td>1 start</td>\n",
              "      <td>5131</td>\n",
              "      <td>NaN</td>\n",
              "      <td>24/08/20</td>\n",
              "      <td>None</td>\n",
              "      <td>Economy</td>\n",
              "      <td>Male</td>\n",
              "      <td>2133.0</td>\n",
              "      <td>₹ 679422.2811434</td>\n",
              "    </tr>\n",
              "  </tbody>\n",
              "</table>\n",
              "</div>"
            ],
            "text/plain": [
              "   CustomerID ProductType  ... ShippingTime                 Price\n",
              "0       10471      coates  ...         17.0   ₹ 675036.2138626401\n",
              "1       10472    dresses   ...         12.0            € 2,315.53\n",
              "2       10473         NaN  ...         10.0     ₹ 611426.29122378\n",
              "3       10474    dresses   ...       2133.0  ₹ 210869.48083470002\n",
              "4       10475      pantas  ...       2133.0      ₹ 679422.2811434\n",
              "\n",
              "[5 rows x 11 columns]"
            ]
          },
          "metadata": {},
          "execution_count": 83
        }
      ]
    },
    {
      "cell_type": "code",
      "metadata": {
        "id": "J6iToN51i0HV",
        "colab": {
          "base_uri": "https://localhost:8080/",
          "height": 582
        },
        "outputId": "cd127f0e-2296-4d8b-a773-452dd08676ef"
      },
      "source": [
        "data.reset_index()"
      ],
      "execution_count": null,
      "outputs": [
        {
          "output_type": "execute_result",
          "data": {
            "text/html": [
              "<div>\n",
              "<style scoped>\n",
              "    .dataframe tbody tr th:only-of-type {\n",
              "        vertical-align: middle;\n",
              "    }\n",
              "\n",
              "    .dataframe tbody tr th {\n",
              "        vertical-align: top;\n",
              "    }\n",
              "\n",
              "    .dataframe thead th {\n",
              "        text-align: right;\n",
              "    }\n",
              "</style>\n",
              "<table border=\"1\" class=\"dataframe\">\n",
              "  <thead>\n",
              "    <tr style=\"text-align: right;\">\n",
              "      <th></th>\n",
              "      <th>index</th>\n",
              "      <th>CustomerID</th>\n",
              "      <th>ProductType</th>\n",
              "      <th>Rating</th>\n",
              "      <th>Total_Ratings</th>\n",
              "      <th>PaymentMode</th>\n",
              "      <th>Date</th>\n",
              "      <th>PaymentMode</th>\n",
              "      <th>ShippingMode</th>\n",
              "      <th>Gender</th>\n",
              "      <th>ShippingTime</th>\n",
              "      <th>Price</th>\n",
              "    </tr>\n",
              "  </thead>\n",
              "  <tbody>\n",
              "    <tr>\n",
              "      <th>0</th>\n",
              "      <td>0</td>\n",
              "      <td>10471</td>\n",
              "      <td>coates</td>\n",
              "      <td>1 start</td>\n",
              "      <td>8736</td>\n",
              "      <td>Creditcard</td>\n",
              "      <td>16/08/20</td>\n",
              "      <td>Creditcard</td>\n",
              "      <td>Economy</td>\n",
              "      <td>Female</td>\n",
              "      <td>17.0</td>\n",
              "      <td>₹ 675036.2138626401</td>\n",
              "    </tr>\n",
              "    <tr>\n",
              "      <th>1</th>\n",
              "      <td>1</td>\n",
              "      <td>10472</td>\n",
              "      <td>dresses</td>\n",
              "      <td>2 star</td>\n",
              "      <td>8547</td>\n",
              "      <td>Ewallet</td>\n",
              "      <td>2/8/2020 0:00</td>\n",
              "      <td>Ewallet</td>\n",
              "      <td>Mail</td>\n",
              "      <td>Unspecified</td>\n",
              "      <td>12.0</td>\n",
              "      <td>€ 2,315.53</td>\n",
              "    </tr>\n",
              "    <tr>\n",
              "      <th>2</th>\n",
              "      <td>2</td>\n",
              "      <td>10473</td>\n",
              "      <td>NaN</td>\n",
              "      <td>2 star</td>\n",
              "      <td>9833</td>\n",
              "      <td>Prepaid Card</td>\n",
              "      <td>8/8/2020 0:00</td>\n",
              "      <td>Prepaid Card</td>\n",
              "      <td>Mail</td>\n",
              "      <td>None</td>\n",
              "      <td>10.0</td>\n",
              "      <td>₹ 611426.29122378</td>\n",
              "    </tr>\n",
              "    <tr>\n",
              "      <th>3</th>\n",
              "      <td>3</td>\n",
              "      <td>10474</td>\n",
              "      <td>dresses</td>\n",
              "      <td>2star</td>\n",
              "      <td>7591</td>\n",
              "      <td>Directdeposit</td>\n",
              "      <td>None</td>\n",
              "      <td>Directdeposit</td>\n",
              "      <td>Normal</td>\n",
              "      <td>Female</td>\n",
              "      <td>2133.0</td>\n",
              "      <td>₹ 210869.48083470002</td>\n",
              "    </tr>\n",
              "    <tr>\n",
              "      <th>4</th>\n",
              "      <td>4</td>\n",
              "      <td>10475</td>\n",
              "      <td>pantas</td>\n",
              "      <td>1 start</td>\n",
              "      <td>5131</td>\n",
              "      <td>NaN</td>\n",
              "      <td>24/08/20</td>\n",
              "      <td>None</td>\n",
              "      <td>Economy</td>\n",
              "      <td>Male</td>\n",
              "      <td>2133.0</td>\n",
              "      <td>₹ 679422.2811434</td>\n",
              "    </tr>\n",
              "    <tr>\n",
              "      <th>...</th>\n",
              "      <td>...</td>\n",
              "      <td>...</td>\n",
              "      <td>...</td>\n",
              "      <td>...</td>\n",
              "      <td>...</td>\n",
              "      <td>...</td>\n",
              "      <td>...</td>\n",
              "      <td>...</td>\n",
              "      <td>...</td>\n",
              "      <td>...</td>\n",
              "      <td>...</td>\n",
              "      <td>...</td>\n",
              "    </tr>\n",
              "    <tr>\n",
              "      <th>95</th>\n",
              "      <td>95</td>\n",
              "      <td>10566</td>\n",
              "      <td>Coats/Jackets</td>\n",
              "      <td>2star</td>\n",
              "      <td>6090</td>\n",
              "      <td>Prepaid Card</td>\n",
              "      <td>4/8/2020 0:00</td>\n",
              "      <td>Prepaid Card</td>\n",
              "      <td>Express</td>\n",
              "      <td>Female</td>\n",
              "      <td>5.0</td>\n",
              "      <td>£ 1148.1217405</td>\n",
              "    </tr>\n",
              "    <tr>\n",
              "      <th>96</th>\n",
              "      <td>96</td>\n",
              "      <td>10567</td>\n",
              "      <td>coates</td>\n",
              "      <td>5 star</td>\n",
              "      <td>9433</td>\n",
              "      <td>Mobile</td>\n",
              "      <td>16/08/20</td>\n",
              "      <td>Mobile</td>\n",
              "      <td>Normal</td>\n",
              "      <td>Unspecified</td>\n",
              "      <td>13.0</td>\n",
              "      <td>₹ 127655.91325387999</td>\n",
              "    </tr>\n",
              "    <tr>\n",
              "      <th>97</th>\n",
              "      <td>97</td>\n",
              "      <td>10568</td>\n",
              "      <td>pantas</td>\n",
              "      <td>3 star</td>\n",
              "      <td>7354</td>\n",
              "      <td>Credit Card</td>\n",
              "      <td>25/08/20</td>\n",
              "      <td>Credit Card</td>\n",
              "      <td>Normal</td>\n",
              "      <td>Female</td>\n",
              "      <td>10.0</td>\n",
              "      <td>₹ 577078.47118378</td>\n",
              "    </tr>\n",
              "    <tr>\n",
              "      <th>98</th>\n",
              "      <td>98</td>\n",
              "      <td>10569</td>\n",
              "      <td>Pants</td>\n",
              "      <td>5 star</td>\n",
              "      <td>5200</td>\n",
              "      <td>Directdeposit</td>\n",
              "      <td>26/08/20</td>\n",
              "      <td>Directdeposit</td>\n",
              "      <td>Economy</td>\n",
              "      <td>Male</td>\n",
              "      <td>-2131.0</td>\n",
              "      <td>£ 4118.0053827500005</td>\n",
              "    </tr>\n",
              "    <tr>\n",
              "      <th>99</th>\n",
              "      <td>99</td>\n",
              "      <td>10570</td>\n",
              "      <td>Jeans</td>\n",
              "      <td>1 start</td>\n",
              "      <td>7807</td>\n",
              "      <td>Credit Card</td>\n",
              "      <td>29/08/20</td>\n",
              "      <td>Credit Card</td>\n",
              "      <td>Mail</td>\n",
              "      <td>Unspecified</td>\n",
              "      <td>6.0</td>\n",
              "      <td>£ 6232.343745500001</td>\n",
              "    </tr>\n",
              "  </tbody>\n",
              "</table>\n",
              "<p>100 rows × 12 columns</p>\n",
              "</div>"
            ],
            "text/plain": [
              "    index  CustomerID  ... ShippingTime                 Price\n",
              "0       0       10471  ...         17.0   ₹ 675036.2138626401\n",
              "1       1       10472  ...         12.0            € 2,315.53\n",
              "2       2       10473  ...         10.0     ₹ 611426.29122378\n",
              "3       3       10474  ...       2133.0  ₹ 210869.48083470002\n",
              "4       4       10475  ...       2133.0      ₹ 679422.2811434\n",
              "..    ...         ...  ...          ...                   ...\n",
              "95     95       10566  ...          5.0        £ 1148.1217405\n",
              "96     96       10567  ...         13.0  ₹ 127655.91325387999\n",
              "97     97       10568  ...         10.0     ₹ 577078.47118378\n",
              "98     98       10569  ...      -2131.0  £ 4118.0053827500005\n",
              "99     99       10570  ...          6.0   £ 6232.343745500001\n",
              "\n",
              "[100 rows x 12 columns]"
            ]
          },
          "metadata": {},
          "execution_count": 84
        }
      ]
    },
    {
      "cell_type": "code",
      "metadata": {
        "id": "rfjCoTFTYuHz"
      },
      "source": [
        "data.reset_index(inplace=True)"
      ],
      "execution_count": null,
      "outputs": []
    },
    {
      "cell_type": "code",
      "metadata": {
        "id": "4IY7t2wRtMCv",
        "colab": {
          "base_uri": "https://localhost:8080/",
          "height": 275
        },
        "outputId": "1254702e-56f5-409f-a60b-a49bb9371e4a"
      },
      "source": [
        "data.head()"
      ],
      "execution_count": null,
      "outputs": [
        {
          "output_type": "execute_result",
          "data": {
            "text/html": [
              "<div>\n",
              "<style scoped>\n",
              "    .dataframe tbody tr th:only-of-type {\n",
              "        vertical-align: middle;\n",
              "    }\n",
              "\n",
              "    .dataframe tbody tr th {\n",
              "        vertical-align: top;\n",
              "    }\n",
              "\n",
              "    .dataframe thead th {\n",
              "        text-align: right;\n",
              "    }\n",
              "</style>\n",
              "<table border=\"1\" class=\"dataframe\">\n",
              "  <thead>\n",
              "    <tr style=\"text-align: right;\">\n",
              "      <th></th>\n",
              "      <th>index</th>\n",
              "      <th>CustomerID</th>\n",
              "      <th>ProductType</th>\n",
              "      <th>Rating</th>\n",
              "      <th>Total_Ratings</th>\n",
              "      <th>PaymentMode</th>\n",
              "      <th>Date</th>\n",
              "      <th>PaymentMode</th>\n",
              "      <th>ShippingMode</th>\n",
              "      <th>Gender</th>\n",
              "      <th>ShippingTime</th>\n",
              "      <th>Price</th>\n",
              "    </tr>\n",
              "  </thead>\n",
              "  <tbody>\n",
              "    <tr>\n",
              "      <th>0</th>\n",
              "      <td>0</td>\n",
              "      <td>10471</td>\n",
              "      <td>coates</td>\n",
              "      <td>1 start</td>\n",
              "      <td>8736</td>\n",
              "      <td>Creditcard</td>\n",
              "      <td>16/08/20</td>\n",
              "      <td>Creditcard</td>\n",
              "      <td>Economy</td>\n",
              "      <td>Female</td>\n",
              "      <td>17.0</td>\n",
              "      <td>₹ 675036.2138626401</td>\n",
              "    </tr>\n",
              "    <tr>\n",
              "      <th>1</th>\n",
              "      <td>1</td>\n",
              "      <td>10472</td>\n",
              "      <td>dresses</td>\n",
              "      <td>2 star</td>\n",
              "      <td>8547</td>\n",
              "      <td>Ewallet</td>\n",
              "      <td>2/8/2020 0:00</td>\n",
              "      <td>Ewallet</td>\n",
              "      <td>Mail</td>\n",
              "      <td>Unspecified</td>\n",
              "      <td>12.0</td>\n",
              "      <td>€ 2,315.53</td>\n",
              "    </tr>\n",
              "    <tr>\n",
              "      <th>2</th>\n",
              "      <td>2</td>\n",
              "      <td>10473</td>\n",
              "      <td>NaN</td>\n",
              "      <td>2 star</td>\n",
              "      <td>9833</td>\n",
              "      <td>Prepaid Card</td>\n",
              "      <td>8/8/2020 0:00</td>\n",
              "      <td>Prepaid Card</td>\n",
              "      <td>Mail</td>\n",
              "      <td>None</td>\n",
              "      <td>10.0</td>\n",
              "      <td>₹ 611426.29122378</td>\n",
              "    </tr>\n",
              "    <tr>\n",
              "      <th>3</th>\n",
              "      <td>3</td>\n",
              "      <td>10474</td>\n",
              "      <td>dresses</td>\n",
              "      <td>2star</td>\n",
              "      <td>7591</td>\n",
              "      <td>Directdeposit</td>\n",
              "      <td>None</td>\n",
              "      <td>Directdeposit</td>\n",
              "      <td>Normal</td>\n",
              "      <td>Female</td>\n",
              "      <td>2133.0</td>\n",
              "      <td>₹ 210869.48083470002</td>\n",
              "    </tr>\n",
              "    <tr>\n",
              "      <th>4</th>\n",
              "      <td>4</td>\n",
              "      <td>10475</td>\n",
              "      <td>pantas</td>\n",
              "      <td>1 start</td>\n",
              "      <td>5131</td>\n",
              "      <td>NaN</td>\n",
              "      <td>24/08/20</td>\n",
              "      <td>None</td>\n",
              "      <td>Economy</td>\n",
              "      <td>Male</td>\n",
              "      <td>2133.0</td>\n",
              "      <td>₹ 679422.2811434</td>\n",
              "    </tr>\n",
              "  </tbody>\n",
              "</table>\n",
              "</div>"
            ],
            "text/plain": [
              "   index  CustomerID  ... ShippingTime                 Price\n",
              "0      0       10471  ...         17.0   ₹ 675036.2138626401\n",
              "1      1       10472  ...         12.0            € 2,315.53\n",
              "2      2       10473  ...         10.0     ₹ 611426.29122378\n",
              "3      3       10474  ...       2133.0  ₹ 210869.48083470002\n",
              "4      4       10475  ...       2133.0      ₹ 679422.2811434\n",
              "\n",
              "[5 rows x 12 columns]"
            ]
          },
          "metadata": {},
          "execution_count": 86
        }
      ]
    },
    {
      "cell_type": "code",
      "metadata": {
        "id": "zj0Et4L_YuH0"
      },
      "source": [
        "# Arrange the columns\n",
        "data=data[['Date','CustomerID','ProductType','Rating','Total_Ratings','Gender',\n",
        "                                'PaymentMode','ShippingMode','ShippingTime','Price']]"
      ],
      "execution_count": null,
      "outputs": []
    },
    {
      "cell_type": "code",
      "metadata": {
        "id": "M9rCiJQwYuH0",
        "colab": {
          "base_uri": "https://localhost:8080/",
          "height": 206
        },
        "outputId": "8cc59935-2b2e-40da-9a06-f1e1768530f2"
      },
      "source": [
        "data.head()"
      ],
      "execution_count": null,
      "outputs": [
        {
          "output_type": "execute_result",
          "data": {
            "text/html": [
              "<div>\n",
              "<style scoped>\n",
              "    .dataframe tbody tr th:only-of-type {\n",
              "        vertical-align: middle;\n",
              "    }\n",
              "\n",
              "    .dataframe tbody tr th {\n",
              "        vertical-align: top;\n",
              "    }\n",
              "\n",
              "    .dataframe thead th {\n",
              "        text-align: right;\n",
              "    }\n",
              "</style>\n",
              "<table border=\"1\" class=\"dataframe\">\n",
              "  <thead>\n",
              "    <tr style=\"text-align: right;\">\n",
              "      <th></th>\n",
              "      <th>Date</th>\n",
              "      <th>CustomerID</th>\n",
              "      <th>ProductType</th>\n",
              "      <th>Rating</th>\n",
              "      <th>Total_Ratings</th>\n",
              "      <th>Gender</th>\n",
              "      <th>PaymentMode</th>\n",
              "      <th>PaymentMode</th>\n",
              "      <th>ShippingMode</th>\n",
              "      <th>ShippingTime</th>\n",
              "      <th>Price</th>\n",
              "    </tr>\n",
              "  </thead>\n",
              "  <tbody>\n",
              "    <tr>\n",
              "      <th>0</th>\n",
              "      <td>16/08/20</td>\n",
              "      <td>10471</td>\n",
              "      <td>coates</td>\n",
              "      <td>1 start</td>\n",
              "      <td>8736</td>\n",
              "      <td>Female</td>\n",
              "      <td>Creditcard</td>\n",
              "      <td>Creditcard</td>\n",
              "      <td>Economy</td>\n",
              "      <td>17.0</td>\n",
              "      <td>₹ 675036.2138626401</td>\n",
              "    </tr>\n",
              "    <tr>\n",
              "      <th>1</th>\n",
              "      <td>2/8/2020 0:00</td>\n",
              "      <td>10472</td>\n",
              "      <td>dresses</td>\n",
              "      <td>2 star</td>\n",
              "      <td>8547</td>\n",
              "      <td>Unspecified</td>\n",
              "      <td>Ewallet</td>\n",
              "      <td>Ewallet</td>\n",
              "      <td>Mail</td>\n",
              "      <td>12.0</td>\n",
              "      <td>€ 2,315.53</td>\n",
              "    </tr>\n",
              "    <tr>\n",
              "      <th>2</th>\n",
              "      <td>8/8/2020 0:00</td>\n",
              "      <td>10473</td>\n",
              "      <td>NaN</td>\n",
              "      <td>2 star</td>\n",
              "      <td>9833</td>\n",
              "      <td>None</td>\n",
              "      <td>Prepaid Card</td>\n",
              "      <td>Prepaid Card</td>\n",
              "      <td>Mail</td>\n",
              "      <td>10.0</td>\n",
              "      <td>₹ 611426.29122378</td>\n",
              "    </tr>\n",
              "    <tr>\n",
              "      <th>3</th>\n",
              "      <td>None</td>\n",
              "      <td>10474</td>\n",
              "      <td>dresses</td>\n",
              "      <td>2star</td>\n",
              "      <td>7591</td>\n",
              "      <td>Female</td>\n",
              "      <td>Directdeposit</td>\n",
              "      <td>Directdeposit</td>\n",
              "      <td>Normal</td>\n",
              "      <td>2133.0</td>\n",
              "      <td>₹ 210869.48083470002</td>\n",
              "    </tr>\n",
              "    <tr>\n",
              "      <th>4</th>\n",
              "      <td>24/08/20</td>\n",
              "      <td>10475</td>\n",
              "      <td>pantas</td>\n",
              "      <td>1 start</td>\n",
              "      <td>5131</td>\n",
              "      <td>Male</td>\n",
              "      <td>NaN</td>\n",
              "      <td>None</td>\n",
              "      <td>Economy</td>\n",
              "      <td>2133.0</td>\n",
              "      <td>₹ 679422.2811434</td>\n",
              "    </tr>\n",
              "  </tbody>\n",
              "</table>\n",
              "</div>"
            ],
            "text/plain": [
              "            Date  CustomerID  ... ShippingTime                 Price\n",
              "0       16/08/20       10471  ...         17.0   ₹ 675036.2138626401\n",
              "1  2/8/2020 0:00       10472  ...         12.0            € 2,315.53\n",
              "2  8/8/2020 0:00       10473  ...         10.0     ₹ 611426.29122378\n",
              "3           None       10474  ...       2133.0  ₹ 210869.48083470002\n",
              "4       24/08/20       10475  ...       2133.0      ₹ 679422.2811434\n",
              "\n",
              "[5 rows x 11 columns]"
            ]
          },
          "metadata": {},
          "execution_count": 88
        }
      ]
    },
    {
      "cell_type": "markdown",
      "metadata": {
        "id": "S5SkS0MCYuH0"
      },
      "source": [
        "#### Data dictionary for the data"
      ]
    },
    {
      "cell_type": "markdown",
      "metadata": {
        "id": "ZgbUbGMMYuH1"
      },
      "source": [
        "![image.png](attachment:image.png)"
      ]
    },
    {
      "cell_type": "code",
      "metadata": {
        "id": "XP5R4P-RYuH2"
      },
      "source": [
        "# Saving the data\n",
        "data.to_csv('Bello_Customers.csv',index=False)"
      ],
      "execution_count": null,
      "outputs": []
    },
    {
      "cell_type": "markdown",
      "metadata": {
        "id": "vG7mabawYuH2"
      },
      "source": [
        "### Duplicate Entries"
      ]
    },
    {
      "cell_type": "code",
      "metadata": {
        "id": "6BbtGI3DYuH2"
      },
      "source": [
        "uncleaned=pd.read_csv('Bello_Customers.csv')"
      ],
      "execution_count": null,
      "outputs": []
    },
    {
      "cell_type": "code",
      "metadata": {
        "id": "EBe-JgvMYuH2"
      },
      "source": [
        "data=uncleaned.copy()"
      ],
      "execution_count": null,
      "outputs": []
    },
    {
      "cell_type": "code",
      "metadata": {
        "id": "wfYsjgl2YuH3",
        "colab": {
          "base_uri": "https://localhost:8080/"
        },
        "outputId": "5f9c673b-ec26-41a6-a7b1-c6e0a869a7a9"
      },
      "source": [
        "# Returns boolean series denoting duplicate rows\n",
        "data.duplicated()"
      ],
      "execution_count": null,
      "outputs": [
        {
          "output_type": "execute_result",
          "data": {
            "text/plain": [
              "0     False\n",
              "1     False\n",
              "2     False\n",
              "3     False\n",
              "4     False\n",
              "      ...  \n",
              "95    False\n",
              "96    False\n",
              "97    False\n",
              "98    False\n",
              "99    False\n",
              "Length: 100, dtype: bool"
            ]
          },
          "metadata": {},
          "execution_count": 92
        }
      ]
    },
    {
      "cell_type": "code",
      "metadata": {
        "id": "eNA1ML4k6L4n",
        "colab": {
          "base_uri": "https://localhost:8080/"
        },
        "outputId": "ef79061e-662b-4c2a-889a-28d904b85ec9"
      },
      "source": [
        "data.duplicated().any()"
      ],
      "execution_count": null,
      "outputs": [
        {
          "output_type": "execute_result",
          "data": {
            "text/plain": [
              "True"
            ]
          },
          "metadata": {},
          "execution_count": 93
        }
      ]
    },
    {
      "cell_type": "code",
      "metadata": {
        "id": "YI9eA_zRYuH3",
        "colab": {
          "base_uri": "https://localhost:8080/",
          "height": 112
        },
        "outputId": "0e2f6414-07b0-4e17-d1b7-36a38c93e9b4"
      },
      "source": [
        "# Let's see which rows are duplicates\n",
        "data[data.duplicated()]"
      ],
      "execution_count": null,
      "outputs": [
        {
          "output_type": "execute_result",
          "data": {
            "text/html": [
              "<div>\n",
              "<style scoped>\n",
              "    .dataframe tbody tr th:only-of-type {\n",
              "        vertical-align: middle;\n",
              "    }\n",
              "\n",
              "    .dataframe tbody tr th {\n",
              "        vertical-align: top;\n",
              "    }\n",
              "\n",
              "    .dataframe thead th {\n",
              "        text-align: right;\n",
              "    }\n",
              "</style>\n",
              "<table border=\"1\" class=\"dataframe\">\n",
              "  <thead>\n",
              "    <tr style=\"text-align: right;\">\n",
              "      <th></th>\n",
              "      <th>Date</th>\n",
              "      <th>CustomerID</th>\n",
              "      <th>ProductType</th>\n",
              "      <th>Rating</th>\n",
              "      <th>Total_Ratings</th>\n",
              "      <th>Gender</th>\n",
              "      <th>PaymentMode</th>\n",
              "      <th>PaymentMode.1</th>\n",
              "      <th>ShippingMode</th>\n",
              "      <th>ShippingTime</th>\n",
              "      <th>Price</th>\n",
              "    </tr>\n",
              "  </thead>\n",
              "  <tbody>\n",
              "    <tr>\n",
              "      <th>88</th>\n",
              "      <td>31/08/20</td>\n",
              "      <td>10558</td>\n",
              "      <td>coates</td>\n",
              "      <td>5 star</td>\n",
              "      <td>7007</td>\n",
              "      <td>Unspecified</td>\n",
              "      <td>Credit Card</td>\n",
              "      <td>Credit Card</td>\n",
              "      <td>Normal</td>\n",
              "      <td>11.0</td>\n",
              "      <td>₹ 234895.78095268</td>\n",
              "    </tr>\n",
              "    <tr>\n",
              "      <th>89</th>\n",
              "      <td>31/08/20</td>\n",
              "      <td>10558</td>\n",
              "      <td>coates</td>\n",
              "      <td>5 star</td>\n",
              "      <td>7007</td>\n",
              "      <td>Unspecified</td>\n",
              "      <td>Credit Card</td>\n",
              "      <td>Credit Card</td>\n",
              "      <td>Normal</td>\n",
              "      <td>11.0</td>\n",
              "      <td>₹ 234895.78095268</td>\n",
              "    </tr>\n",
              "  </tbody>\n",
              "</table>\n",
              "</div>"
            ],
            "text/plain": [
              "        Date  CustomerID  ... ShippingTime              Price\n",
              "88  31/08/20       10558  ...         11.0  ₹ 234895.78095268\n",
              "89  31/08/20       10558  ...         11.0  ₹ 234895.78095268\n",
              "\n",
              "[2 rows x 11 columns]"
            ]
          },
          "metadata": {},
          "execution_count": 94
        }
      ]
    },
    {
      "cell_type": "code",
      "metadata": {
        "id": "yQeidkHlYuH4",
        "colab": {
          "base_uri": "https://localhost:8080/"
        },
        "outputId": "158b0ce3-d4e6-419a-b56e-c9054ef38bae"
      },
      "source": [
        "# original entry\n",
        "data.iloc[87,:]"
      ],
      "execution_count": null,
      "outputs": [
        {
          "output_type": "execute_result",
          "data": {
            "text/plain": [
              "Date                      31/08/20\n",
              "CustomerID                   10558\n",
              "ProductType                 coates\n",
              "Rating                      5 star\n",
              "Total_Ratings                 7007\n",
              "Gender                 Unspecified\n",
              "PaymentMode            Credit Card\n",
              "PaymentMode.1          Credit Card\n",
              "ShippingMode                Normal\n",
              "ShippingTime                    11\n",
              "Price            ₹ 234895.78095268\n",
              "Name: 87, dtype: object"
            ]
          },
          "metadata": {},
          "execution_count": 95
        }
      ]
    },
    {
      "cell_type": "code",
      "metadata": {
        "id": "cn95iRERkvox",
        "colab": {
          "base_uri": "https://localhost:8080/"
        },
        "outputId": "70b1a65f-5aee-4fc7-c848-7c1378a3a38f"
      },
      "source": [
        "data.info()"
      ],
      "execution_count": null,
      "outputs": [
        {
          "output_type": "stream",
          "name": "stdout",
          "text": [
            "<class 'pandas.core.frame.DataFrame'>\n",
            "RangeIndex: 100 entries, 0 to 99\n",
            "Data columns (total 11 columns):\n",
            " #   Column         Non-Null Count  Dtype  \n",
            "---  ------         --------------  -----  \n",
            " 0   Date           99 non-null     object \n",
            " 1   CustomerID     100 non-null    int64  \n",
            " 2   ProductType    96 non-null     object \n",
            " 3   Rating         94 non-null     object \n",
            " 4   Total_Ratings  100 non-null    int64  \n",
            " 5   Gender         95 non-null     object \n",
            " 6   PaymentMode    94 non-null     object \n",
            " 7   PaymentMode.1  94 non-null     object \n",
            " 8   ShippingMode   97 non-null     object \n",
            " 9   ShippingTime   99 non-null     float64\n",
            " 10  Price          99 non-null     object \n",
            "dtypes: float64(1), int64(2), object(8)\n",
            "memory usage: 8.7+ KB\n"
          ]
        }
      ]
    },
    {
      "cell_type": "code",
      "metadata": {
        "id": "sJVJ-D2vk4E9",
        "colab": {
          "base_uri": "https://localhost:8080/"
        },
        "outputId": "57d3f377-d73b-47c2-9c66-2769a8beb19f"
      },
      "source": [
        "data[\"CustomerID\"] == 10558"
      ],
      "execution_count": null,
      "outputs": [
        {
          "output_type": "execute_result",
          "data": {
            "text/plain": [
              "0     False\n",
              "1     False\n",
              "2     False\n",
              "3     False\n",
              "4     False\n",
              "      ...  \n",
              "95    False\n",
              "96    False\n",
              "97    False\n",
              "98    False\n",
              "99    False\n",
              "Name: CustomerID, Length: 100, dtype: bool"
            ]
          },
          "metadata": {},
          "execution_count": 97
        }
      ]
    },
    {
      "cell_type": "code",
      "metadata": {
        "id": "VUuKSIxr6WJD",
        "colab": {
          "base_uri": "https://localhost:8080/",
          "height": 143
        },
        "outputId": "925efeca-f694-4e04-ffb8-36ff448a4cd1"
      },
      "source": [
        "# how can i return based in customer id 10558\n",
        "data[data[\"CustomerID\"] == 10558]"
      ],
      "execution_count": null,
      "outputs": [
        {
          "output_type": "execute_result",
          "data": {
            "text/html": [
              "<div>\n",
              "<style scoped>\n",
              "    .dataframe tbody tr th:only-of-type {\n",
              "        vertical-align: middle;\n",
              "    }\n",
              "\n",
              "    .dataframe tbody tr th {\n",
              "        vertical-align: top;\n",
              "    }\n",
              "\n",
              "    .dataframe thead th {\n",
              "        text-align: right;\n",
              "    }\n",
              "</style>\n",
              "<table border=\"1\" class=\"dataframe\">\n",
              "  <thead>\n",
              "    <tr style=\"text-align: right;\">\n",
              "      <th></th>\n",
              "      <th>Date</th>\n",
              "      <th>CustomerID</th>\n",
              "      <th>ProductType</th>\n",
              "      <th>Rating</th>\n",
              "      <th>Total_Ratings</th>\n",
              "      <th>Gender</th>\n",
              "      <th>PaymentMode</th>\n",
              "      <th>PaymentMode.1</th>\n",
              "      <th>ShippingMode</th>\n",
              "      <th>ShippingTime</th>\n",
              "      <th>Price</th>\n",
              "    </tr>\n",
              "  </thead>\n",
              "  <tbody>\n",
              "    <tr>\n",
              "      <th>87</th>\n",
              "      <td>31/08/20</td>\n",
              "      <td>10558</td>\n",
              "      <td>coates</td>\n",
              "      <td>5 star</td>\n",
              "      <td>7007</td>\n",
              "      <td>Unspecified</td>\n",
              "      <td>Credit Card</td>\n",
              "      <td>Credit Card</td>\n",
              "      <td>Normal</td>\n",
              "      <td>11.0</td>\n",
              "      <td>₹ 234895.78095268</td>\n",
              "    </tr>\n",
              "    <tr>\n",
              "      <th>88</th>\n",
              "      <td>31/08/20</td>\n",
              "      <td>10558</td>\n",
              "      <td>coates</td>\n",
              "      <td>5 star</td>\n",
              "      <td>7007</td>\n",
              "      <td>Unspecified</td>\n",
              "      <td>Credit Card</td>\n",
              "      <td>Credit Card</td>\n",
              "      <td>Normal</td>\n",
              "      <td>11.0</td>\n",
              "      <td>₹ 234895.78095268</td>\n",
              "    </tr>\n",
              "    <tr>\n",
              "      <th>89</th>\n",
              "      <td>31/08/20</td>\n",
              "      <td>10558</td>\n",
              "      <td>coates</td>\n",
              "      <td>5 star</td>\n",
              "      <td>7007</td>\n",
              "      <td>Unspecified</td>\n",
              "      <td>Credit Card</td>\n",
              "      <td>Credit Card</td>\n",
              "      <td>Normal</td>\n",
              "      <td>11.0</td>\n",
              "      <td>₹ 234895.78095268</td>\n",
              "    </tr>\n",
              "  </tbody>\n",
              "</table>\n",
              "</div>"
            ],
            "text/plain": [
              "        Date  CustomerID  ... ShippingTime              Price\n",
              "87  31/08/20       10558  ...         11.0  ₹ 234895.78095268\n",
              "88  31/08/20       10558  ...         11.0  ₹ 234895.78095268\n",
              "89  31/08/20       10558  ...         11.0  ₹ 234895.78095268\n",
              "\n",
              "[3 rows x 11 columns]"
            ]
          },
          "metadata": {},
          "execution_count": 98
        }
      ]
    },
    {
      "cell_type": "code",
      "metadata": {
        "id": "bsKP3H-MYuH5"
      },
      "source": [
        "# Dropping duplicate entries where inplace attribute ensures that the change is updated in the DataFrame \n",
        "data.drop_duplicates(inplace=True)"
      ],
      "execution_count": null,
      "outputs": []
    },
    {
      "cell_type": "code",
      "metadata": {
        "id": "PP-64O6YYuH5",
        "colab": {
          "base_uri": "https://localhost:8080/"
        },
        "outputId": "2f500584-141b-458c-8fe5-60ec56dbba01"
      },
      "source": [
        "# What would be the total ratings if duplicates entries were there?\n",
        "uncleaned.Total_Ratings.sum()"
      ],
      "execution_count": null,
      "outputs": [
        {
          "output_type": "execute_result",
          "data": {
            "text/plain": [
              "756115"
            ]
          },
          "metadata": {},
          "execution_count": 100
        }
      ]
    },
    {
      "cell_type": "code",
      "metadata": {
        "id": "DW1f0lyDYuH6",
        "colab": {
          "base_uri": "https://localhost:8080/"
        },
        "outputId": "593e2141-2cc4-4c9c-894c-cfa3d1e22b76"
      },
      "source": [
        "# Price after removing duplicate entries\n",
        "data.Total_Ratings.sum()"
      ],
      "execution_count": null,
      "outputs": [
        {
          "output_type": "execute_result",
          "data": {
            "text/plain": [
              "742101"
            ]
          },
          "metadata": {},
          "execution_count": 101
        }
      ]
    },
    {
      "cell_type": "code",
      "metadata": {
        "id": "cd3aDR_wYuH7",
        "colab": {
          "base_uri": "https://localhost:8080/"
        },
        "outputId": "8e92d38c-23f4-4fe6-f8ce-fd713d47972b"
      },
      "source": [
        "# Difference between the ratings\n",
        "uncleaned.Total_Ratings.sum()-data.Total_Ratings.sum()"
      ],
      "execution_count": null,
      "outputs": [
        {
          "output_type": "execute_result",
          "data": {
            "text/plain": [
              "14014"
            ]
          },
          "metadata": {},
          "execution_count": 102
        }
      ]
    },
    {
      "cell_type": "markdown",
      "metadata": {
        "id": "JuIsm844YuH7"
      },
      "source": [
        "Even the change after dropping duplicates seems very little, it generates inconsistent results and would have been harmful to the industry in the long run."
      ]
    },
    {
      "cell_type": "markdown",
      "metadata": {
        "id": "qPkFdORUYuH8"
      },
      "source": [
        "### Shipping Time"
      ]
    },
    {
      "cell_type": "markdown",
      "metadata": {
        "id": "GYzSLR-M7GeG"
      },
      "source": [
        "https://students.flinders.edu.au/content/dam/student/slc/box-and-whisker-plots.pdf"
      ]
    },
    {
      "cell_type": "code",
      "metadata": {
        "id": "J0XWT9c0YuH9",
        "colab": {
          "base_uri": "https://localhost:8080/",
          "height": 338
        },
        "outputId": "d3d3f930-4cec-486e-88e1-d391f3441a4c"
      },
      "source": [
        "# As discussed, we know that we can remove outliers using boxplot and IQR\n",
        "data.boxplot()"
      ],
      "execution_count": null,
      "outputs": [
        {
          "output_type": "stream",
          "name": "stderr",
          "text": [
            "/usr/local/lib/python3.7/dist-packages/numpy/core/_asarray.py:83: VisibleDeprecationWarning: Creating an ndarray from ragged nested sequences (which is a list-or-tuple of lists-or-tuples-or ndarrays with different lengths or shapes) is deprecated. If you meant to do this, you must specify 'dtype=object' when creating the ndarray\n",
            "  return array(a, dtype, copy=False, order=order)\n"
          ]
        },
        {
          "output_type": "execute_result",
          "data": {
            "text/plain": [
              "<matplotlib.axes._subplots.AxesSubplot at 0x7f2966df8390>"
            ]
          },
          "metadata": {},
          "execution_count": 103
        },
        {
          "output_type": "display_data",
          "data": {
            "image/png": "[encoded data removed]",
            "text/plain": [
              "<Figure size 432x288 with 1 Axes>"
            ]
          },
          "metadata": {
            "needs_background": "light"
          }
        }
      ]
    },
    {
      "cell_type": "markdown",
      "metadata": {
        "id": "UnbpPrlhYuH9"
      },
      "source": [
        "As you can see there are 5 extreme entries in the data that should be removed. Shipping time cannot be negative as well."
      ]
    },
    {
      "cell_type": "code",
      "metadata": {
        "id": "IohhsWuqYuH-"
      },
      "source": [
        "# Pandas allows you to get quantiles using quantile function\n",
        "Q1 = data['ShippingTime'].quantile(0.25)\n",
        "Q3 = data['ShippingTime'].quantile(0.75)\n",
        "IQR = Q3 - Q1"
      ],
      "execution_count": null,
      "outputs": []
    },
    {
      "cell_type": "code",
      "metadata": {
        "id": "wLQcS4ryYuH_",
        "colab": {
          "base_uri": "https://localhost:8080/"
        },
        "outputId": "95b2e337-2917-4a11-f7de-dabd7c2701d2"
      },
      "source": [
        "print('The IQR value is',IQR)"
      ],
      "execution_count": null,
      "outputs": [
        {
          "output_type": "stream",
          "name": "stdout",
          "text": [
            "The IQR value is 9.0\n"
          ]
        }
      ]
    },
    {
      "cell_type": "code",
      "metadata": {
        "colab": {
          "base_uri": "https://localhost:8080/",
          "height": 258
        },
        "id": "GNP_sd9oHaWA",
        "outputId": "2f56fd3d-3ced-437d-e8b0-ca8eb68fa746"
      },
      "source": [
        "data.head()"
      ],
      "execution_count": null,
      "outputs": [
        {
          "output_type": "execute_result",
          "data": {
            "text/html": [
              "<div>\n",
              "<style scoped>\n",
              "    .dataframe tbody tr th:only-of-type {\n",
              "        vertical-align: middle;\n",
              "    }\n",
              "\n",
              "    .dataframe tbody tr th {\n",
              "        vertical-align: top;\n",
              "    }\n",
              "\n",
              "    .dataframe thead th {\n",
              "        text-align: right;\n",
              "    }\n",
              "</style>\n",
              "<table border=\"1\" class=\"dataframe\">\n",
              "  <thead>\n",
              "    <tr style=\"text-align: right;\">\n",
              "      <th></th>\n",
              "      <th>Date</th>\n",
              "      <th>CustomerID</th>\n",
              "      <th>ProductType</th>\n",
              "      <th>Rating</th>\n",
              "      <th>Total_Ratings</th>\n",
              "      <th>Gender</th>\n",
              "      <th>PaymentMode</th>\n",
              "      <th>PaymentMode.1</th>\n",
              "      <th>ShippingMode</th>\n",
              "      <th>ShippingTime</th>\n",
              "      <th>Price</th>\n",
              "    </tr>\n",
              "  </thead>\n",
              "  <tbody>\n",
              "    <tr>\n",
              "      <th>0</th>\n",
              "      <td>16/08/20</td>\n",
              "      <td>10471</td>\n",
              "      <td>coates</td>\n",
              "      <td>1 start</td>\n",
              "      <td>8736</td>\n",
              "      <td>Female</td>\n",
              "      <td>Creditcard</td>\n",
              "      <td>Creditcard</td>\n",
              "      <td>Economy</td>\n",
              "      <td>17.0</td>\n",
              "      <td>₹ 675036.2138626401</td>\n",
              "    </tr>\n",
              "    <tr>\n",
              "      <th>1</th>\n",
              "      <td>2/8/2020 0:00</td>\n",
              "      <td>10472</td>\n",
              "      <td>dresses</td>\n",
              "      <td>2 star</td>\n",
              "      <td>8547</td>\n",
              "      <td>Unspecified</td>\n",
              "      <td>Ewallet</td>\n",
              "      <td>Ewallet</td>\n",
              "      <td>Mail</td>\n",
              "      <td>12.0</td>\n",
              "      <td>€ 2,315.53</td>\n",
              "    </tr>\n",
              "    <tr>\n",
              "      <th>2</th>\n",
              "      <td>8/8/2020 0:00</td>\n",
              "      <td>10473</td>\n",
              "      <td>NaN</td>\n",
              "      <td>2 star</td>\n",
              "      <td>9833</td>\n",
              "      <td>NaN</td>\n",
              "      <td>Prepaid Card</td>\n",
              "      <td>Prepaid Card</td>\n",
              "      <td>Mail</td>\n",
              "      <td>10.0</td>\n",
              "      <td>₹ 611426.29122378</td>\n",
              "    </tr>\n",
              "    <tr>\n",
              "      <th>3</th>\n",
              "      <td>NaN</td>\n",
              "      <td>10474</td>\n",
              "      <td>dresses</td>\n",
              "      <td>2star</td>\n",
              "      <td>7591</td>\n",
              "      <td>Female</td>\n",
              "      <td>Directdeposit</td>\n",
              "      <td>Directdeposit</td>\n",
              "      <td>Normal</td>\n",
              "      <td>2133.0</td>\n",
              "      <td>₹ 210869.48083470002</td>\n",
              "    </tr>\n",
              "    <tr>\n",
              "      <th>4</th>\n",
              "      <td>24/08/20</td>\n",
              "      <td>10475</td>\n",
              "      <td>pantas</td>\n",
              "      <td>1 start</td>\n",
              "      <td>5131</td>\n",
              "      <td>Male</td>\n",
              "      <td>NaN</td>\n",
              "      <td>NaN</td>\n",
              "      <td>Economy</td>\n",
              "      <td>2133.0</td>\n",
              "      <td>₹ 679422.2811434</td>\n",
              "    </tr>\n",
              "  </tbody>\n",
              "</table>\n",
              "</div>"
            ],
            "text/plain": [
              "            Date  CustomerID  ... ShippingTime                 Price\n",
              "0       16/08/20       10471  ...         17.0   ₹ 675036.2138626401\n",
              "1  2/8/2020 0:00       10472  ...         12.0            € 2,315.53\n",
              "2  8/8/2020 0:00       10473  ...         10.0     ₹ 611426.29122378\n",
              "3            NaN       10474  ...       2133.0  ₹ 210869.48083470002\n",
              "4       24/08/20       10475  ...       2133.0      ₹ 679422.2811434\n",
              "\n",
              "[5 rows x 11 columns]"
            ]
          },
          "metadata": {},
          "execution_count": 106
        }
      ]
    },
    {
      "cell_type": "code",
      "metadata": {
        "colab": {
          "base_uri": "https://localhost:8080/"
        },
        "id": "3bfF-vFFH9Ti",
        "outputId": "49445f67-19c6-41dd-d164-66e716311381"
      },
      "source": [
        "(data[\"CustomerID\"] == 10471) | (data[\"ShippingMode\"] == \"Normal\")"
      ],
      "execution_count": null,
      "outputs": [
        {
          "output_type": "execute_result",
          "data": {
            "text/plain": [
              "0      True\n",
              "1     False\n",
              "2     False\n",
              "3      True\n",
              "4     False\n",
              "      ...  \n",
              "95    False\n",
              "96     True\n",
              "97     True\n",
              "98    False\n",
              "99    False\n",
              "Length: 98, dtype: bool"
            ]
          },
          "metadata": {},
          "execution_count": 107
        }
      ]
    },
    {
      "cell_type": "code",
      "metadata": {
        "colab": {
          "base_uri": "https://localhost:8080/",
          "height": 1000
        },
        "id": "jGidpcheH9NX",
        "outputId": "cc0c915b-ce42-412f-a513-9e8fe5943bc4"
      },
      "source": [
        "data[(data[\"CustomerID\"] == 10471) | (data[\"ShippingMode\"] == \"Normal\")]"
      ],
      "execution_count": null,
      "outputs": [
        {
          "output_type": "execute_result",
          "data": {
            "text/html": [
              "<div>\n",
              "<style scoped>\n",
              "    .dataframe tbody tr th:only-of-type {\n",
              "        vertical-align: middle;\n",
              "    }\n",
              "\n",
              "    .dataframe tbody tr th {\n",
              "        vertical-align: top;\n",
              "    }\n",
              "\n",
              "    .dataframe thead th {\n",
              "        text-align: right;\n",
              "    }\n",
              "</style>\n",
              "<table border=\"1\" class=\"dataframe\">\n",
              "  <thead>\n",
              "    <tr style=\"text-align: right;\">\n",
              "      <th></th>\n",
              "      <th>Date</th>\n",
              "      <th>CustomerID</th>\n",
              "      <th>ProductType</th>\n",
              "      <th>Rating</th>\n",
              "      <th>Total_Ratings</th>\n",
              "      <th>Gender</th>\n",
              "      <th>PaymentMode</th>\n",
              "      <th>PaymentMode.1</th>\n",
              "      <th>ShippingMode</th>\n",
              "      <th>ShippingTime</th>\n",
              "      <th>Price</th>\n",
              "    </tr>\n",
              "  </thead>\n",
              "  <tbody>\n",
              "    <tr>\n",
              "      <th>0</th>\n",
              "      <td>16/08/20</td>\n",
              "      <td>10471</td>\n",
              "      <td>coates</td>\n",
              "      <td>1 start</td>\n",
              "      <td>8736</td>\n",
              "      <td>Female</td>\n",
              "      <td>Creditcard</td>\n",
              "      <td>Creditcard</td>\n",
              "      <td>Economy</td>\n",
              "      <td>17.0</td>\n",
              "      <td>₹ 675036.2138626401</td>\n",
              "    </tr>\n",
              "    <tr>\n",
              "      <th>3</th>\n",
              "      <td>NaN</td>\n",
              "      <td>10474</td>\n",
              "      <td>dresses</td>\n",
              "      <td>2star</td>\n",
              "      <td>7591</td>\n",
              "      <td>Female</td>\n",
              "      <td>Directdeposit</td>\n",
              "      <td>Directdeposit</td>\n",
              "      <td>Normal</td>\n",
              "      <td>2133.0</td>\n",
              "      <td>₹ 210869.48083470002</td>\n",
              "    </tr>\n",
              "    <tr>\n",
              "      <th>22</th>\n",
              "      <td>4/8/2020 0:00</td>\n",
              "      <td>10493</td>\n",
              "      <td>Pants</td>\n",
              "      <td>4 star</td>\n",
              "      <td>6943</td>\n",
              "      <td>Unspecified</td>\n",
              "      <td>Ewallet</td>\n",
              "      <td>Ewallet</td>\n",
              "      <td>Normal</td>\n",
              "      <td>17.0</td>\n",
              "      <td>₹ 634808.1963701401</td>\n",
              "    </tr>\n",
              "    <tr>\n",
              "      <th>30</th>\n",
              "      <td>31/08/20</td>\n",
              "      <td>10501</td>\n",
              "      <td>pantas</td>\n",
              "      <td>4 star</td>\n",
              "      <td>6569</td>\n",
              "      <td>NaN</td>\n",
              "      <td>Creditcard</td>\n",
              "      <td>Creditcard</td>\n",
              "      <td>Normal</td>\n",
              "      <td>9.0</td>\n",
              "      <td>₹ 581033.69733056</td>\n",
              "    </tr>\n",
              "    <tr>\n",
              "      <th>31</th>\n",
              "      <td>30/08/20</td>\n",
              "      <td>10502</td>\n",
              "      <td>NaN</td>\n",
              "      <td>3 star</td>\n",
              "      <td>8823</td>\n",
              "      <td>Female</td>\n",
              "      <td>Ewallet</td>\n",
              "      <td>Ewallet</td>\n",
              "      <td>Normal</td>\n",
              "      <td>16.0</td>\n",
              "      <td>€ 5,242.22</td>\n",
              "    </tr>\n",
              "    <tr>\n",
              "      <th>33</th>\n",
              "      <td>24/08/20</td>\n",
              "      <td>10504</td>\n",
              "      <td>NaN</td>\n",
              "      <td>1 start</td>\n",
              "      <td>5037</td>\n",
              "      <td>Female</td>\n",
              "      <td>Ewallet</td>\n",
              "      <td>Ewallet</td>\n",
              "      <td>Normal</td>\n",
              "      <td>14.0</td>\n",
              "      <td>€ 5,546.63</td>\n",
              "    </tr>\n",
              "    <tr>\n",
              "      <th>45</th>\n",
              "      <td>25/08/20</td>\n",
              "      <td>10516</td>\n",
              "      <td>Jeans</td>\n",
              "      <td>3 star</td>\n",
              "      <td>7033</td>\n",
              "      <td>Male</td>\n",
              "      <td>NaN</td>\n",
              "      <td>NaN</td>\n",
              "      <td>Normal</td>\n",
              "      <td>14.0</td>\n",
              "      <td>₹ 167727.12548098</td>\n",
              "    </tr>\n",
              "    <tr>\n",
              "      <th>46</th>\n",
              "      <td>29/08/20</td>\n",
              "      <td>10517</td>\n",
              "      <td>Hats</td>\n",
              "      <td>5 star</td>\n",
              "      <td>7532</td>\n",
              "      <td>Female</td>\n",
              "      <td>Credit Card</td>\n",
              "      <td>Credit Card</td>\n",
              "      <td>Normal</td>\n",
              "      <td>7.0</td>\n",
              "      <td>$3,124.78</td>\n",
              "    </tr>\n",
              "    <tr>\n",
              "      <th>47</th>\n",
              "      <td>21/08/20</td>\n",
              "      <td>10518</td>\n",
              "      <td>Jeans</td>\n",
              "      <td>2star</td>\n",
              "      <td>7285</td>\n",
              "      <td>Female</td>\n",
              "      <td>Creditcard</td>\n",
              "      <td>Creditcard</td>\n",
              "      <td>Normal</td>\n",
              "      <td>14.0</td>\n",
              "      <td>€ 2,773.90</td>\n",
              "    </tr>\n",
              "    <tr>\n",
              "      <th>48</th>\n",
              "      <td>20/08/20</td>\n",
              "      <td>10519</td>\n",
              "      <td>Jeans</td>\n",
              "      <td>2star</td>\n",
              "      <td>7678</td>\n",
              "      <td>Unspecified</td>\n",
              "      <td>Ewallet</td>\n",
              "      <td>Ewallet</td>\n",
              "      <td>Normal</td>\n",
              "      <td>18.0</td>\n",
              "      <td>₹ 159529.19686752</td>\n",
              "    </tr>\n",
              "    <tr>\n",
              "      <th>49</th>\n",
              "      <td>6/8/2020 0:00</td>\n",
              "      <td>10520</td>\n",
              "      <td>Hats</td>\n",
              "      <td>4 star</td>\n",
              "      <td>5620</td>\n",
              "      <td>Unspecified</td>\n",
              "      <td>Ewallet</td>\n",
              "      <td>Ewallet</td>\n",
              "      <td>Normal</td>\n",
              "      <td>7.0</td>\n",
              "      <td>$1,012.61</td>\n",
              "    </tr>\n",
              "    <tr>\n",
              "      <th>50</th>\n",
              "      <td>4/8/2020 0:00</td>\n",
              "      <td>10521</td>\n",
              "      <td>Shirts/Tops</td>\n",
              "      <td>4 star</td>\n",
              "      <td>7082</td>\n",
              "      <td>Unspecified</td>\n",
              "      <td>Directdeposit</td>\n",
              "      <td>Directdeposit</td>\n",
              "      <td>Normal</td>\n",
              "      <td>10.0</td>\n",
              "      <td>₹ 325505.3302182</td>\n",
              "    </tr>\n",
              "    <tr>\n",
              "      <th>53</th>\n",
              "      <td>26/08/20</td>\n",
              "      <td>10524</td>\n",
              "      <td>Dresses</td>\n",
              "      <td>3 star</td>\n",
              "      <td>6654</td>\n",
              "      <td>Male</td>\n",
              "      <td>Direct Deposit</td>\n",
              "      <td>Direct Deposit</td>\n",
              "      <td>Normal</td>\n",
              "      <td>5.0</td>\n",
              "      <td>₹ 442385.73497213994</td>\n",
              "    </tr>\n",
              "    <tr>\n",
              "      <th>55</th>\n",
              "      <td>5/8/2020 0:00</td>\n",
              "      <td>10526</td>\n",
              "      <td>Jeans</td>\n",
              "      <td>2 star</td>\n",
              "      <td>9482</td>\n",
              "      <td>Unspecified</td>\n",
              "      <td>Direct Deposit</td>\n",
              "      <td>Direct Deposit</td>\n",
              "      <td>Normal</td>\n",
              "      <td>10.0</td>\n",
              "      <td>₹ 321706.90933682</td>\n",
              "    </tr>\n",
              "    <tr>\n",
              "      <th>60</th>\n",
              "      <td>30/08/20</td>\n",
              "      <td>10531</td>\n",
              "      <td>Pants</td>\n",
              "      <td>1 start</td>\n",
              "      <td>8535</td>\n",
              "      <td>Unspecified</td>\n",
              "      <td>Direct Deposit</td>\n",
              "      <td>Direct Deposit</td>\n",
              "      <td>Normal</td>\n",
              "      <td>18.0</td>\n",
              "      <td>€ 5,597.06</td>\n",
              "    </tr>\n",
              "    <tr>\n",
              "      <th>62</th>\n",
              "      <td>4/8/2020 0:00</td>\n",
              "      <td>10533</td>\n",
              "      <td>coates</td>\n",
              "      <td>5 star</td>\n",
              "      <td>8349</td>\n",
              "      <td>Unspecified</td>\n",
              "      <td>Prepaid Card</td>\n",
              "      <td>Prepaid Card</td>\n",
              "      <td>Normal</td>\n",
              "      <td>10.0</td>\n",
              "      <td>£ 6329.0235485</td>\n",
              "    </tr>\n",
              "    <tr>\n",
              "      <th>63</th>\n",
              "      <td>1/8/2020 0:00</td>\n",
              "      <td>10534</td>\n",
              "      <td>Shirts/Tops</td>\n",
              "      <td>4 star</td>\n",
              "      <td>8046</td>\n",
              "      <td>Male</td>\n",
              "      <td>Creditcard</td>\n",
              "      <td>Creditcard</td>\n",
              "      <td>Normal</td>\n",
              "      <td>9.0</td>\n",
              "      <td>₹ 443946.32070874</td>\n",
              "    </tr>\n",
              "    <tr>\n",
              "      <th>66</th>\n",
              "      <td>18/08/20</td>\n",
              "      <td>10537</td>\n",
              "      <td>Coats/Jackets</td>\n",
              "      <td>2star</td>\n",
              "      <td>9832</td>\n",
              "      <td>Male</td>\n",
              "      <td>Cash</td>\n",
              "      <td>Cash</td>\n",
              "      <td>Normal</td>\n",
              "      <td>6.0</td>\n",
              "      <td>$5,836.06</td>\n",
              "    </tr>\n",
              "    <tr>\n",
              "      <th>68</th>\n",
              "      <td>2/8/2020 0:00</td>\n",
              "      <td>10539</td>\n",
              "      <td>pantas</td>\n",
              "      <td>4 star</td>\n",
              "      <td>7374</td>\n",
              "      <td>Female</td>\n",
              "      <td>Credit Card</td>\n",
              "      <td>Credit Card</td>\n",
              "      <td>Normal</td>\n",
              "      <td>12.0</td>\n",
              "      <td>$1,842.56</td>\n",
              "    </tr>\n",
              "    <tr>\n",
              "      <th>79</th>\n",
              "      <td>18/08/20</td>\n",
              "      <td>10550</td>\n",
              "      <td>Dresses</td>\n",
              "      <td>5 star</td>\n",
              "      <td>9365</td>\n",
              "      <td>Unspecified</td>\n",
              "      <td>Credit Card</td>\n",
              "      <td>Credit Card</td>\n",
              "      <td>Normal</td>\n",
              "      <td>13.0</td>\n",
              "      <td>$2,904.03</td>\n",
              "    </tr>\n",
              "    <tr>\n",
              "      <th>80</th>\n",
              "      <td>21/08/20</td>\n",
              "      <td>10551</td>\n",
              "      <td>Hats</td>\n",
              "      <td>2star</td>\n",
              "      <td>8734</td>\n",
              "      <td>Male</td>\n",
              "      <td>Directdeposit</td>\n",
              "      <td>Directdeposit</td>\n",
              "      <td>Normal</td>\n",
              "      <td>16.0</td>\n",
              "      <td>£ 5817.31677175</td>\n",
              "    </tr>\n",
              "    <tr>\n",
              "      <th>85</th>\n",
              "      <td>8/8/2020 0:00</td>\n",
              "      <td>10556</td>\n",
              "      <td>dresses</td>\n",
              "      <td>1 start</td>\n",
              "      <td>7502</td>\n",
              "      <td>Male</td>\n",
              "      <td>Prepaid Card</td>\n",
              "      <td>Prepaid Card</td>\n",
              "      <td>Normal</td>\n",
              "      <td>14.0</td>\n",
              "      <td>$9,962.44</td>\n",
              "    </tr>\n",
              "    <tr>\n",
              "      <th>87</th>\n",
              "      <td>31/08/20</td>\n",
              "      <td>10558</td>\n",
              "      <td>coates</td>\n",
              "      <td>5 star</td>\n",
              "      <td>7007</td>\n",
              "      <td>Unspecified</td>\n",
              "      <td>Credit Card</td>\n",
              "      <td>Credit Card</td>\n",
              "      <td>Normal</td>\n",
              "      <td>11.0</td>\n",
              "      <td>₹ 234895.78095268</td>\n",
              "    </tr>\n",
              "    <tr>\n",
              "      <th>93</th>\n",
              "      <td>18/08/20</td>\n",
              "      <td>10564</td>\n",
              "      <td>Dresses</td>\n",
              "      <td>2star</td>\n",
              "      <td>9142</td>\n",
              "      <td>Female</td>\n",
              "      <td>Creditcard</td>\n",
              "      <td>Creditcard</td>\n",
              "      <td>Normal</td>\n",
              "      <td>5.0</td>\n",
              "      <td>₹ 325580.74608394003</td>\n",
              "    </tr>\n",
              "    <tr>\n",
              "      <th>96</th>\n",
              "      <td>16/08/20</td>\n",
              "      <td>10567</td>\n",
              "      <td>coates</td>\n",
              "      <td>5 star</td>\n",
              "      <td>9433</td>\n",
              "      <td>Unspecified</td>\n",
              "      <td>Mobile</td>\n",
              "      <td>Mobile</td>\n",
              "      <td>Normal</td>\n",
              "      <td>13.0</td>\n",
              "      <td>₹ 127655.91325387999</td>\n",
              "    </tr>\n",
              "    <tr>\n",
              "      <th>97</th>\n",
              "      <td>25/08/20</td>\n",
              "      <td>10568</td>\n",
              "      <td>pantas</td>\n",
              "      <td>3 star</td>\n",
              "      <td>7354</td>\n",
              "      <td>Female</td>\n",
              "      <td>Credit Card</td>\n",
              "      <td>Credit Card</td>\n",
              "      <td>Normal</td>\n",
              "      <td>10.0</td>\n",
              "      <td>₹ 577078.47118378</td>\n",
              "    </tr>\n",
              "  </tbody>\n",
              "</table>\n",
              "</div>"
            ],
            "text/plain": [
              "             Date  CustomerID  ... ShippingTime                 Price\n",
              "0        16/08/20       10471  ...         17.0   ₹ 675036.2138626401\n",
              "3             NaN       10474  ...       2133.0  ₹ 210869.48083470002\n",
              "22  4/8/2020 0:00       10493  ...         17.0   ₹ 634808.1963701401\n",
              "30       31/08/20       10501  ...          9.0     ₹ 581033.69733056\n",
              "31       30/08/20       10502  ...         16.0            € 5,242.22\n",
              "33       24/08/20       10504  ...         14.0            € 5,546.63\n",
              "45       25/08/20       10516  ...         14.0     ₹ 167727.12548098\n",
              "46       29/08/20       10517  ...          7.0            $3,124.78 \n",
              "47       21/08/20       10518  ...         14.0            € 2,773.90\n",
              "48       20/08/20       10519  ...         18.0     ₹ 159529.19686752\n",
              "49  6/8/2020 0:00       10520  ...          7.0            $1,012.61 \n",
              "50  4/8/2020 0:00       10521  ...         10.0      ₹ 325505.3302182\n",
              "53       26/08/20       10524  ...          5.0  ₹ 442385.73497213994\n",
              "55  5/8/2020 0:00       10526  ...         10.0     ₹ 321706.90933682\n",
              "60       30/08/20       10531  ...         18.0            € 5,597.06\n",
              "62  4/8/2020 0:00       10533  ...         10.0        £ 6329.0235485\n",
              "63  1/8/2020 0:00       10534  ...          9.0     ₹ 443946.32070874\n",
              "66       18/08/20       10537  ...          6.0            $5,836.06 \n",
              "68  2/8/2020 0:00       10539  ...         12.0            $1,842.56 \n",
              "79       18/08/20       10550  ...         13.0            $2,904.03 \n",
              "80       21/08/20       10551  ...         16.0       £ 5817.31677175\n",
              "85  8/8/2020 0:00       10556  ...         14.0            $9,962.44 \n",
              "87       31/08/20       10558  ...         11.0     ₹ 234895.78095268\n",
              "93       18/08/20       10564  ...          5.0  ₹ 325580.74608394003\n",
              "96       16/08/20       10567  ...         13.0  ₹ 127655.91325387999\n",
              "97       25/08/20       10568  ...         10.0     ₹ 577078.47118378\n",
              "\n",
              "[26 rows x 11 columns]"
            ]
          },
          "metadata": {},
          "execution_count": 108
        }
      ]
    },
    {
      "cell_type": "code",
      "metadata": {
        "id": "9lFYoeE7YuIA"
      },
      "source": [
        "# Let's see which entries are outliers\n",
        "outliers=data[(data.ShippingTime < (Q1 - 1.5 * IQR)) |(data.ShippingTime > (Q3 + 1.5 * IQR))]"
      ],
      "execution_count": null,
      "outputs": []
    },
    {
      "cell_type": "code",
      "metadata": {
        "id": "Qx0zAyrnYuIA",
        "colab": {
          "base_uri": "https://localhost:8080/",
          "height": 269
        },
        "outputId": "3d8942d4-aba1-45bf-cca5-5f63a849ef8b"
      },
      "source": [
        "outliers"
      ],
      "execution_count": null,
      "outputs": [
        {
          "output_type": "execute_result",
          "data": {
            "text/html": [
              "<div>\n",
              "<style scoped>\n",
              "    .dataframe tbody tr th:only-of-type {\n",
              "        vertical-align: middle;\n",
              "    }\n",
              "\n",
              "    .dataframe tbody tr th {\n",
              "        vertical-align: top;\n",
              "    }\n",
              "\n",
              "    .dataframe thead th {\n",
              "        text-align: right;\n",
              "    }\n",
              "</style>\n",
              "<table border=\"1\" class=\"dataframe\">\n",
              "  <thead>\n",
              "    <tr style=\"text-align: right;\">\n",
              "      <th></th>\n",
              "      <th>Date</th>\n",
              "      <th>CustomerID</th>\n",
              "      <th>ProductType</th>\n",
              "      <th>Rating</th>\n",
              "      <th>Total_Ratings</th>\n",
              "      <th>Gender</th>\n",
              "      <th>PaymentMode</th>\n",
              "      <th>PaymentMode.1</th>\n",
              "      <th>ShippingMode</th>\n",
              "      <th>ShippingTime</th>\n",
              "      <th>Price</th>\n",
              "    </tr>\n",
              "  </thead>\n",
              "  <tbody>\n",
              "    <tr>\n",
              "      <th>3</th>\n",
              "      <td>NaN</td>\n",
              "      <td>10474</td>\n",
              "      <td>dresses</td>\n",
              "      <td>2star</td>\n",
              "      <td>7591</td>\n",
              "      <td>Female</td>\n",
              "      <td>Directdeposit</td>\n",
              "      <td>Directdeposit</td>\n",
              "      <td>Normal</td>\n",
              "      <td>2133.0</td>\n",
              "      <td>₹ 210869.48083470002</td>\n",
              "    </tr>\n",
              "    <tr>\n",
              "      <th>4</th>\n",
              "      <td>24/08/20</td>\n",
              "      <td>10475</td>\n",
              "      <td>pantas</td>\n",
              "      <td>1 start</td>\n",
              "      <td>5131</td>\n",
              "      <td>Male</td>\n",
              "      <td>NaN</td>\n",
              "      <td>NaN</td>\n",
              "      <td>Economy</td>\n",
              "      <td>2133.0</td>\n",
              "      <td>₹ 679422.2811434</td>\n",
              "    </tr>\n",
              "    <tr>\n",
              "      <th>27</th>\n",
              "      <td>19/08/20</td>\n",
              "      <td>10498</td>\n",
              "      <td>Coats/Jackets</td>\n",
              "      <td>3 star</td>\n",
              "      <td>9297</td>\n",
              "      <td>Unspecified</td>\n",
              "      <td>Direct Deposit</td>\n",
              "      <td>Direct Deposit</td>\n",
              "      <td>Express</td>\n",
              "      <td>213.0</td>\n",
              "      <td>₹ 635118.07344224</td>\n",
              "    </tr>\n",
              "    <tr>\n",
              "      <th>43</th>\n",
              "      <td>14/08/20</td>\n",
              "      <td>10514</td>\n",
              "      <td>dresses</td>\n",
              "      <td>5 star</td>\n",
              "      <td>5567</td>\n",
              "      <td>Unspecified</td>\n",
              "      <td>Credit Card</td>\n",
              "      <td>Credit Card</td>\n",
              "      <td>Express</td>\n",
              "      <td>1321.0</td>\n",
              "      <td>€ 7,261.79</td>\n",
              "    </tr>\n",
              "    <tr>\n",
              "      <th>59</th>\n",
              "      <td>17/08/20</td>\n",
              "      <td>10530</td>\n",
              "      <td>Cardigan</td>\n",
              "      <td>4 star</td>\n",
              "      <td>6930</td>\n",
              "      <td>Female</td>\n",
              "      <td>Cash</td>\n",
              "      <td>Cash</td>\n",
              "      <td>Economy</td>\n",
              "      <td>3113.0</td>\n",
              "      <td>$8,670.69</td>\n",
              "    </tr>\n",
              "    <tr>\n",
              "      <th>71</th>\n",
              "      <td>20/08/20</td>\n",
              "      <td>10542</td>\n",
              "      <td>Hats</td>\n",
              "      <td>2star</td>\n",
              "      <td>9157</td>\n",
              "      <td>Male</td>\n",
              "      <td>Cash</td>\n",
              "      <td>Cash</td>\n",
              "      <td>Mail</td>\n",
              "      <td>3132.0</td>\n",
              "      <td>₹ 708227.40839738</td>\n",
              "    </tr>\n",
              "    <tr>\n",
              "      <th>98</th>\n",
              "      <td>26/08/20</td>\n",
              "      <td>10569</td>\n",
              "      <td>Pants</td>\n",
              "      <td>5 star</td>\n",
              "      <td>5200</td>\n",
              "      <td>Male</td>\n",
              "      <td>Directdeposit</td>\n",
              "      <td>Directdeposit</td>\n",
              "      <td>Economy</td>\n",
              "      <td>-2131.0</td>\n",
              "      <td>£ 4118.0053827500005</td>\n",
              "    </tr>\n",
              "  </tbody>\n",
              "</table>\n",
              "</div>"
            ],
            "text/plain": [
              "        Date  CustomerID  ... ShippingTime                 Price\n",
              "3        NaN       10474  ...       2133.0  ₹ 210869.48083470002\n",
              "4   24/08/20       10475  ...       2133.0      ₹ 679422.2811434\n",
              "27  19/08/20       10498  ...        213.0     ₹ 635118.07344224\n",
              "43  14/08/20       10514  ...       1321.0            € 7,261.79\n",
              "59  17/08/20       10530  ...       3113.0            $8,670.69 \n",
              "71  20/08/20       10542  ...       3132.0     ₹ 708227.40839738\n",
              "98  26/08/20       10569  ...      -2131.0  £ 4118.0053827500005\n",
              "\n",
              "[7 rows x 11 columns]"
            ]
          },
          "metadata": {},
          "execution_count": 110
        }
      ]
    },
    {
      "cell_type": "code",
      "metadata": {
        "id": "9arQ8LgzYuIB"
      },
      "source": [
        "# Dropping these entries\n",
        "data.drop([3,4,27,43,59,71,98],axis=0,inplace=True)"
      ],
      "execution_count": null,
      "outputs": []
    },
    {
      "cell_type": "code",
      "metadata": {
        "id": "16IecUAz7V1r"
      },
      "source": [
        "# Alternatively\n",
        "#data.drop(outliers.index,axis=0,inplace=True)"
      ],
      "execution_count": null,
      "outputs": []
    },
    {
      "cell_type": "code",
      "metadata": {
        "id": "CpRGJgFDYuIC",
        "colab": {
          "base_uri": "https://localhost:8080/",
          "height": 283
        },
        "outputId": "be674ee7-d6a3-4be9-e36b-9273cd5d5053"
      },
      "source": [
        "# No outliers present in the data\n",
        "data.boxplot(column='ShippingTime') # You can also specify the names of columns you want to plot for."
      ],
      "execution_count": null,
      "outputs": [
        {
          "output_type": "execute_result",
          "data": {
            "text/plain": [
              "<matplotlib.axes._subplots.AxesSubplot at 0x7f29674c3a90>"
            ]
          },
          "metadata": {},
          "execution_count": 113
        },
        {
          "output_type": "display_data",
          "data": {
            "image/png": "[encoded data removed]",
            "text/plain": [
              "<Figure size 432x288 with 1 Axes>"
            ]
          },
          "metadata": {
            "needs_background": "light"
          }
        }
      ]
    },
    {
      "cell_type": "code",
      "metadata": {
        "id": "zcjK7MGZYuIC",
        "colab": {
          "base_uri": "https://localhost:8080/"
        },
        "outputId": "6c9c1296-b014-4adc-cee9-13c5d1e3bb11"
      },
      "source": [
        "# Let's check the total shipping time before and after remvoging outliers\n",
        "print('Before: ', round(uncleaned.ShippingTime.mean(),3))\n",
        "print('After: ',round(data.ShippingTime.mean(),3))\n",
        "print('Difference: ',round(uncleaned.ShippingTime.mean()-data.ShippingTime.mean(),3))"
      ],
      "execution_count": null,
      "outputs": [
        {
          "output_type": "stream",
          "name": "stdout",
          "text": [
            "Before:  112.02\n",
            "After:  12.822\n",
            "Difference:  99.198\n"
          ]
        }
      ]
    },
    {
      "cell_type": "markdown",
      "metadata": {
        "id": "9MFysXOaYuIE"
      },
      "source": [
        "That is really extreme change in values. This would have caused serious harm to the company."
      ]
    },
    {
      "cell_type": "code",
      "metadata": {
        "colab": {
          "base_uri": "https://localhost:8080/",
          "height": 293
        },
        "id": "KFIK0VH9LjFu",
        "outputId": "1cfb43d3-4c97-4343-b432-8ecbc1e8e662"
      },
      "source": [
        "data.head()"
      ],
      "execution_count": null,
      "outputs": [
        {
          "output_type": "execute_result",
          "data": {
            "text/html": [
              "<div>\n",
              "<style scoped>\n",
              "    .dataframe tbody tr th:only-of-type {\n",
              "        vertical-align: middle;\n",
              "    }\n",
              "\n",
              "    .dataframe tbody tr th {\n",
              "        vertical-align: top;\n",
              "    }\n",
              "\n",
              "    .dataframe thead th {\n",
              "        text-align: right;\n",
              "    }\n",
              "</style>\n",
              "<table border=\"1\" class=\"dataframe\">\n",
              "  <thead>\n",
              "    <tr style=\"text-align: right;\">\n",
              "      <th></th>\n",
              "      <th>Date</th>\n",
              "      <th>CustomerID</th>\n",
              "      <th>ProductType</th>\n",
              "      <th>Rating</th>\n",
              "      <th>Total_Ratings</th>\n",
              "      <th>Gender</th>\n",
              "      <th>PaymentMode</th>\n",
              "      <th>PaymentMode.1</th>\n",
              "      <th>ShippingMode</th>\n",
              "      <th>ShippingTime</th>\n",
              "      <th>Price</th>\n",
              "    </tr>\n",
              "  </thead>\n",
              "  <tbody>\n",
              "    <tr>\n",
              "      <th>0</th>\n",
              "      <td>16/08/20</td>\n",
              "      <td>10471</td>\n",
              "      <td>coates</td>\n",
              "      <td>1 start</td>\n",
              "      <td>8736</td>\n",
              "      <td>Female</td>\n",
              "      <td>Creditcard</td>\n",
              "      <td>Creditcard</td>\n",
              "      <td>Economy</td>\n",
              "      <td>17.0</td>\n",
              "      <td>₹ 675036.2138626401</td>\n",
              "    </tr>\n",
              "    <tr>\n",
              "      <th>1</th>\n",
              "      <td>2/8/2020 0:00</td>\n",
              "      <td>10472</td>\n",
              "      <td>dresses</td>\n",
              "      <td>2 star</td>\n",
              "      <td>8547</td>\n",
              "      <td>Unspecified</td>\n",
              "      <td>Ewallet</td>\n",
              "      <td>Ewallet</td>\n",
              "      <td>Mail</td>\n",
              "      <td>12.0</td>\n",
              "      <td>€ 2,315.53</td>\n",
              "    </tr>\n",
              "    <tr>\n",
              "      <th>2</th>\n",
              "      <td>8/8/2020 0:00</td>\n",
              "      <td>10473</td>\n",
              "      <td>NaN</td>\n",
              "      <td>2 star</td>\n",
              "      <td>9833</td>\n",
              "      <td>NaN</td>\n",
              "      <td>Prepaid Card</td>\n",
              "      <td>Prepaid Card</td>\n",
              "      <td>Mail</td>\n",
              "      <td>10.0</td>\n",
              "      <td>₹ 611426.29122378</td>\n",
              "    </tr>\n",
              "    <tr>\n",
              "      <th>5</th>\n",
              "      <td>28/08/20</td>\n",
              "      <td>10476</td>\n",
              "      <td>Coats/Jackets</td>\n",
              "      <td>2 star</td>\n",
              "      <td>5347</td>\n",
              "      <td>Female</td>\n",
              "      <td>Direct Deposit</td>\n",
              "      <td>Direct Deposit</td>\n",
              "      <td>Mail</td>\n",
              "      <td>20.0</td>\n",
              "      <td>NaN</td>\n",
              "    </tr>\n",
              "    <tr>\n",
              "      <th>6</th>\n",
              "      <td>8/8/2020 0:00</td>\n",
              "      <td>10477</td>\n",
              "      <td>coates</td>\n",
              "      <td>5 star</td>\n",
              "      <td>9406</td>\n",
              "      <td>Unspecified</td>\n",
              "      <td>Direct Deposit</td>\n",
              "      <td>Direct Deposit</td>\n",
              "      <td>Mail</td>\n",
              "      <td>14.0</td>\n",
              "      <td>£ 6610.077565000001</td>\n",
              "    </tr>\n",
              "  </tbody>\n",
              "</table>\n",
              "</div>"
            ],
            "text/plain": [
              "            Date  CustomerID  ... ShippingTime                Price\n",
              "0       16/08/20       10471  ...         17.0  ₹ 675036.2138626401\n",
              "1  2/8/2020 0:00       10472  ...         12.0           € 2,315.53\n",
              "2  8/8/2020 0:00       10473  ...         10.0    ₹ 611426.29122378\n",
              "5       28/08/20       10476  ...         20.0                  NaN\n",
              "6  8/8/2020 0:00       10477  ...         14.0  £ 6610.077565000001\n",
              "\n",
              "[5 rows x 11 columns]"
            ]
          },
          "metadata": {},
          "execution_count": 115
        }
      ]
    },
    {
      "cell_type": "code",
      "metadata": {
        "colab": {
          "base_uri": "https://localhost:8080/",
          "height": 300
        },
        "id": "zkcOdW38Lkz9",
        "outputId": "20a36fc4-580c-48ab-c337-064c38db235b"
      },
      "source": [
        "# &\n",
        "data[(data[\"Gender\"] == \"Female\") & (data[\"ShippingMode\"] == \"Mail\")]"
      ],
      "execution_count": null,
      "outputs": [
        {
          "output_type": "execute_result",
          "data": {
            "text/html": [
              "<div>\n",
              "<style scoped>\n",
              "    .dataframe tbody tr th:only-of-type {\n",
              "        vertical-align: middle;\n",
              "    }\n",
              "\n",
              "    .dataframe tbody tr th {\n",
              "        vertical-align: top;\n",
              "    }\n",
              "\n",
              "    .dataframe thead th {\n",
              "        text-align: right;\n",
              "    }\n",
              "</style>\n",
              "<table border=\"1\" class=\"dataframe\">\n",
              "  <thead>\n",
              "    <tr style=\"text-align: right;\">\n",
              "      <th></th>\n",
              "      <th>Date</th>\n",
              "      <th>CustomerID</th>\n",
              "      <th>ProductType</th>\n",
              "      <th>Rating</th>\n",
              "      <th>Total_Ratings</th>\n",
              "      <th>Gender</th>\n",
              "      <th>PaymentMode</th>\n",
              "      <th>PaymentMode.1</th>\n",
              "      <th>ShippingMode</th>\n",
              "      <th>ShippingTime</th>\n",
              "      <th>Price</th>\n",
              "    </tr>\n",
              "  </thead>\n",
              "  <tbody>\n",
              "    <tr>\n",
              "      <th>5</th>\n",
              "      <td>28/08/20</td>\n",
              "      <td>10476</td>\n",
              "      <td>Coats/Jackets</td>\n",
              "      <td>2 star</td>\n",
              "      <td>5347</td>\n",
              "      <td>Female</td>\n",
              "      <td>Direct Deposit</td>\n",
              "      <td>Direct Deposit</td>\n",
              "      <td>Mail</td>\n",
              "      <td>20.0</td>\n",
              "      <td>NaN</td>\n",
              "    </tr>\n",
              "    <tr>\n",
              "      <th>11</th>\n",
              "      <td>18/08/20</td>\n",
              "      <td>10482</td>\n",
              "      <td>pantas</td>\n",
              "      <td>5 star</td>\n",
              "      <td>7816</td>\n",
              "      <td>Female</td>\n",
              "      <td>Mobile Payment</td>\n",
              "      <td>Mobile Payment</td>\n",
              "      <td>Mail</td>\n",
              "      <td>10.0</td>\n",
              "      <td>€ 6,580.20</td>\n",
              "    </tr>\n",
              "    <tr>\n",
              "      <th>14</th>\n",
              "      <td>20/08/20</td>\n",
              "      <td>10485</td>\n",
              "      <td>dresses</td>\n",
              "      <td>1 start</td>\n",
              "      <td>9030</td>\n",
              "      <td>Female</td>\n",
              "      <td>Mobile</td>\n",
              "      <td>Mobile</td>\n",
              "      <td>Mail</td>\n",
              "      <td>7.0</td>\n",
              "      <td>$9,743.11</td>\n",
              "    </tr>\n",
              "    <tr>\n",
              "      <th>17</th>\n",
              "      <td>17/08/20</td>\n",
              "      <td>10488</td>\n",
              "      <td>Dresses</td>\n",
              "      <td>5 star</td>\n",
              "      <td>7659</td>\n",
              "      <td>Female</td>\n",
              "      <td>Ewallet</td>\n",
              "      <td>Ewallet</td>\n",
              "      <td>Mail</td>\n",
              "      <td>10.0</td>\n",
              "      <td>$1,991.18</td>\n",
              "    </tr>\n",
              "    <tr>\n",
              "      <th>39</th>\n",
              "      <td>16/08/20</td>\n",
              "      <td>10510</td>\n",
              "      <td>dresses</td>\n",
              "      <td>1 start</td>\n",
              "      <td>7287</td>\n",
              "      <td>Female</td>\n",
              "      <td>Prepaid Card</td>\n",
              "      <td>Prepaid Card</td>\n",
              "      <td>Mail</td>\n",
              "      <td>20.0</td>\n",
              "      <td>₹ 217387.35303316</td>\n",
              "    </tr>\n",
              "    <tr>\n",
              "      <th>51</th>\n",
              "      <td>12/8/2020 0:00</td>\n",
              "      <td>10522</td>\n",
              "      <td>coates</td>\n",
              "      <td>1 start</td>\n",
              "      <td>9686</td>\n",
              "      <td>Female</td>\n",
              "      <td>Credit Card</td>\n",
              "      <td>Credit Card</td>\n",
              "      <td>Mail</td>\n",
              "      <td>9.0</td>\n",
              "      <td>$1,813.71</td>\n",
              "    </tr>\n",
              "    <tr>\n",
              "      <th>72</th>\n",
              "      <td>30/08/20</td>\n",
              "      <td>10543</td>\n",
              "      <td>Coats/Jackets</td>\n",
              "      <td>4 star</td>\n",
              "      <td>7100</td>\n",
              "      <td>Female</td>\n",
              "      <td>Mobile</td>\n",
              "      <td>Mobile</td>\n",
              "      <td>Mail</td>\n",
              "      <td>19.0</td>\n",
              "      <td>$6,425.44</td>\n",
              "    </tr>\n",
              "    <tr>\n",
              "      <th>84</th>\n",
              "      <td>23/08/20</td>\n",
              "      <td>10555</td>\n",
              "      <td>coates</td>\n",
              "      <td>1 start</td>\n",
              "      <td>8399</td>\n",
              "      <td>Female</td>\n",
              "      <td>Prepaid Card</td>\n",
              "      <td>Prepaid Card</td>\n",
              "      <td>Mail</td>\n",
              "      <td>14.0</td>\n",
              "      <td>$2,528.42</td>\n",
              "    </tr>\n",
              "  </tbody>\n",
              "</table>\n",
              "</div>"
            ],
            "text/plain": [
              "              Date  CustomerID  ... ShippingTime              Price\n",
              "5         28/08/20       10476  ...         20.0                NaN\n",
              "11        18/08/20       10482  ...         10.0         € 6,580.20\n",
              "14        20/08/20       10485  ...          7.0         $9,743.11 \n",
              "17        17/08/20       10488  ...         10.0         $1,991.18 \n",
              "39        16/08/20       10510  ...         20.0  ₹ 217387.35303316\n",
              "51  12/8/2020 0:00       10522  ...          9.0         $1,813.71 \n",
              "72        30/08/20       10543  ...         19.0         $6,425.44 \n",
              "84        23/08/20       10555  ...         14.0         $2,528.42 \n",
              "\n",
              "[8 rows x 11 columns]"
            ]
          },
          "metadata": {},
          "execution_count": 116
        }
      ]
    },
    {
      "cell_type": "code",
      "metadata": {
        "colab": {
          "base_uri": "https://localhost:8080/",
          "height": 338
        },
        "id": "YoVXPbr8NVhg",
        "outputId": "ef7f63bc-869b-436e-e588-dbf1813ad1c6"
      },
      "source": [
        "data.boxplot()"
      ],
      "execution_count": null,
      "outputs": [
        {
          "output_type": "stream",
          "name": "stderr",
          "text": [
            "/usr/local/lib/python3.7/dist-packages/numpy/core/_asarray.py:83: VisibleDeprecationWarning: Creating an ndarray from ragged nested sequences (which is a list-or-tuple of lists-or-tuples-or ndarrays with different lengths or shapes) is deprecated. If you meant to do this, you must specify 'dtype=object' when creating the ndarray\n",
            "  return array(a, dtype, copy=False, order=order)\n"
          ]
        },
        {
          "output_type": "execute_result",
          "data": {
            "text/plain": [
              "<matplotlib.axes._subplots.AxesSubplot at 0x7f2966cbf690>"
            ]
          },
          "metadata": {},
          "execution_count": 117
        },
        {
          "output_type": "display_data",
          "data": {
            "image/png": "[encoded data removed]",
            "text/plain": [
              "<Figure size 432x288 with 1 Axes>"
            ]
          },
          "metadata": {
            "needs_background": "light"
          }
        }
      ]
    },
    {
      "cell_type": "code",
      "metadata": {
        "colab": {
          "base_uri": "https://localhost:8080/",
          "height": 283
        },
        "id": "9ndHdnPCNd7n",
        "outputId": "44963150-f345-447d-e44d-b90f2af81840"
      },
      "source": [
        "data.boxplot(column=\"ShippingTime\")"
      ],
      "execution_count": null,
      "outputs": [
        {
          "output_type": "execute_result",
          "data": {
            "text/plain": [
              "<matplotlib.axes._subplots.AxesSubplot at 0x7f2966c1aa90>"
            ]
          },
          "metadata": {},
          "execution_count": 118
        },
        {
          "output_type": "display_data",
          "data": {
            "image/png": "[encoded data removed]",
            "text/plain": [
              "<Figure size 432x288 with 1 Axes>"
            ]
          },
          "metadata": {
            "needs_background": "light"
          }
        }
      ]
    },
    {
      "cell_type": "markdown",
      "metadata": {
        "id": "IP_138YxYuIE"
      },
      "source": [
        "### Empty Records/Values"
      ]
    },
    {
      "cell_type": "code",
      "metadata": {
        "colab": {
          "base_uri": "https://localhost:8080/",
          "height": 293
        },
        "id": "7ZZmJXXYOYpt",
        "outputId": "454f49a3-da11-48e0-910f-113ce1d239dd"
      },
      "source": [
        "data.head()"
      ],
      "execution_count": null,
      "outputs": [
        {
          "output_type": "execute_result",
          "data": {
            "text/html": [
              "<div>\n",
              "<style scoped>\n",
              "    .dataframe tbody tr th:only-of-type {\n",
              "        vertical-align: middle;\n",
              "    }\n",
              "\n",
              "    .dataframe tbody tr th {\n",
              "        vertical-align: top;\n",
              "    }\n",
              "\n",
              "    .dataframe thead th {\n",
              "        text-align: right;\n",
              "    }\n",
              "</style>\n",
              "<table border=\"1\" class=\"dataframe\">\n",
              "  <thead>\n",
              "    <tr style=\"text-align: right;\">\n",
              "      <th></th>\n",
              "      <th>Date</th>\n",
              "      <th>CustomerID</th>\n",
              "      <th>ProductType</th>\n",
              "      <th>Rating</th>\n",
              "      <th>Total_Ratings</th>\n",
              "      <th>Gender</th>\n",
              "      <th>PaymentMode</th>\n",
              "      <th>PaymentMode.1</th>\n",
              "      <th>ShippingMode</th>\n",
              "      <th>ShippingTime</th>\n",
              "      <th>Price</th>\n",
              "    </tr>\n",
              "  </thead>\n",
              "  <tbody>\n",
              "    <tr>\n",
              "      <th>0</th>\n",
              "      <td>16/08/20</td>\n",
              "      <td>10471</td>\n",
              "      <td>coates</td>\n",
              "      <td>1 start</td>\n",
              "      <td>8736</td>\n",
              "      <td>Female</td>\n",
              "      <td>Creditcard</td>\n",
              "      <td>Creditcard</td>\n",
              "      <td>Economy</td>\n",
              "      <td>17.0</td>\n",
              "      <td>₹ 675036.2138626401</td>\n",
              "    </tr>\n",
              "    <tr>\n",
              "      <th>1</th>\n",
              "      <td>2/8/2020 0:00</td>\n",
              "      <td>10472</td>\n",
              "      <td>dresses</td>\n",
              "      <td>2 star</td>\n",
              "      <td>8547</td>\n",
              "      <td>Unspecified</td>\n",
              "      <td>Ewallet</td>\n",
              "      <td>Ewallet</td>\n",
              "      <td>Mail</td>\n",
              "      <td>12.0</td>\n",
              "      <td>€ 2,315.53</td>\n",
              "    </tr>\n",
              "    <tr>\n",
              "      <th>2</th>\n",
              "      <td>8/8/2020 0:00</td>\n",
              "      <td>10473</td>\n",
              "      <td>NaN</td>\n",
              "      <td>2 star</td>\n",
              "      <td>9833</td>\n",
              "      <td>NaN</td>\n",
              "      <td>Prepaid Card</td>\n",
              "      <td>Prepaid Card</td>\n",
              "      <td>Mail</td>\n",
              "      <td>10.0</td>\n",
              "      <td>₹ 611426.29122378</td>\n",
              "    </tr>\n",
              "    <tr>\n",
              "      <th>5</th>\n",
              "      <td>28/08/20</td>\n",
              "      <td>10476</td>\n",
              "      <td>Coats/Jackets</td>\n",
              "      <td>2 star</td>\n",
              "      <td>5347</td>\n",
              "      <td>Female</td>\n",
              "      <td>Direct Deposit</td>\n",
              "      <td>Direct Deposit</td>\n",
              "      <td>Mail</td>\n",
              "      <td>20.0</td>\n",
              "      <td>NaN</td>\n",
              "    </tr>\n",
              "    <tr>\n",
              "      <th>6</th>\n",
              "      <td>8/8/2020 0:00</td>\n",
              "      <td>10477</td>\n",
              "      <td>coates</td>\n",
              "      <td>5 star</td>\n",
              "      <td>9406</td>\n",
              "      <td>Unspecified</td>\n",
              "      <td>Direct Deposit</td>\n",
              "      <td>Direct Deposit</td>\n",
              "      <td>Mail</td>\n",
              "      <td>14.0</td>\n",
              "      <td>£ 6610.077565000001</td>\n",
              "    </tr>\n",
              "  </tbody>\n",
              "</table>\n",
              "</div>"
            ],
            "text/plain": [
              "            Date  CustomerID  ... ShippingTime                Price\n",
              "0       16/08/20       10471  ...         17.0  ₹ 675036.2138626401\n",
              "1  2/8/2020 0:00       10472  ...         12.0           € 2,315.53\n",
              "2  8/8/2020 0:00       10473  ...         10.0    ₹ 611426.29122378\n",
              "5       28/08/20       10476  ...         20.0                  NaN\n",
              "6  8/8/2020 0:00       10477  ...         14.0  £ 6610.077565000001\n",
              "\n",
              "[5 rows x 11 columns]"
            ]
          },
          "metadata": {},
          "execution_count": 119
        }
      ]
    },
    {
      "cell_type": "code",
      "metadata": {
        "colab": {
          "base_uri": "https://localhost:8080/"
        },
        "id": "jXJ-HljyOSwD",
        "outputId": "0ba3e124-9655-4f14-e2b1-f265de6d6f4a"
      },
      "source": [
        "data.isnull().values.any()"
      ],
      "execution_count": null,
      "outputs": [
        {
          "output_type": "execute_result",
          "data": {
            "text/plain": [
              "True"
            ]
          },
          "metadata": {},
          "execution_count": 120
        }
      ]
    },
    {
      "cell_type": "code",
      "metadata": {
        "id": "jiApv8c-YuIE",
        "colab": {
          "base_uri": "https://localhost:8080/"
        },
        "outputId": "5040414b-83f2-4ad3-f5e7-5647a8f5ecb0"
      },
      "source": [
        "# Let's see if there are any null values or not\n",
        "data.isnull().values.any()"
      ],
      "execution_count": null,
      "outputs": [
        {
          "output_type": "execute_result",
          "data": {
            "text/plain": [
              "True"
            ]
          },
          "metadata": {},
          "execution_count": 121
        }
      ]
    },
    {
      "cell_type": "code",
      "metadata": {
        "colab": {
          "base_uri": "https://localhost:8080/",
          "height": 562
        },
        "id": "8umweMoh8WqJ",
        "outputId": "7c165a7d-c9c8-4495-83e5-e6e81c1b5457"
      },
      "source": [
        "data.sort_values(by=\"ShippingTime\",ascending=False)"
      ],
      "execution_count": null,
      "outputs": [
        {
          "output_type": "execute_result",
          "data": {
            "text/html": [
              "<div>\n",
              "<style scoped>\n",
              "    .dataframe tbody tr th:only-of-type {\n",
              "        vertical-align: middle;\n",
              "    }\n",
              "\n",
              "    .dataframe tbody tr th {\n",
              "        vertical-align: top;\n",
              "    }\n",
              "\n",
              "    .dataframe thead th {\n",
              "        text-align: right;\n",
              "    }\n",
              "</style>\n",
              "<table border=\"1\" class=\"dataframe\">\n",
              "  <thead>\n",
              "    <tr style=\"text-align: right;\">\n",
              "      <th></th>\n",
              "      <th>Date</th>\n",
              "      <th>CustomerID</th>\n",
              "      <th>ProductType</th>\n",
              "      <th>Rating</th>\n",
              "      <th>Total_Ratings</th>\n",
              "      <th>Gender</th>\n",
              "      <th>PaymentMode</th>\n",
              "      <th>PaymentMode.1</th>\n",
              "      <th>ShippingMode</th>\n",
              "      <th>ShippingTime</th>\n",
              "      <th>Price</th>\n",
              "    </tr>\n",
              "  </thead>\n",
              "  <tbody>\n",
              "    <tr>\n",
              "      <th>39</th>\n",
              "      <td>16/08/20</td>\n",
              "      <td>10510</td>\n",
              "      <td>dresses</td>\n",
              "      <td>1 start</td>\n",
              "      <td>7287</td>\n",
              "      <td>Female</td>\n",
              "      <td>Prepaid Card</td>\n",
              "      <td>Prepaid Card</td>\n",
              "      <td>Mail</td>\n",
              "      <td>20.0</td>\n",
              "      <td>₹ 217387.35303316</td>\n",
              "    </tr>\n",
              "    <tr>\n",
              "      <th>20</th>\n",
              "      <td>5/8/2020 0:00</td>\n",
              "      <td>10491</td>\n",
              "      <td>Coats/Jackets</td>\n",
              "      <td>1 start</td>\n",
              "      <td>9714</td>\n",
              "      <td>Female</td>\n",
              "      <td>Prepaid Card</td>\n",
              "      <td>Prepaid Card</td>\n",
              "      <td>Economy</td>\n",
              "      <td>20.0</td>\n",
              "      <td>€ 1,514.11</td>\n",
              "    </tr>\n",
              "    <tr>\n",
              "      <th>41</th>\n",
              "      <td>2/8/2020 0:00</td>\n",
              "      <td>10512</td>\n",
              "      <td>pantas</td>\n",
              "      <td>2star</td>\n",
              "      <td>6416</td>\n",
              "      <td>Male</td>\n",
              "      <td>Creditcard</td>\n",
              "      <td>Creditcard</td>\n",
              "      <td>Economy</td>\n",
              "      <td>20.0</td>\n",
              "      <td>£ 5925.050872750001</td>\n",
              "    </tr>\n",
              "    <tr>\n",
              "      <th>5</th>\n",
              "      <td>28/08/20</td>\n",
              "      <td>10476</td>\n",
              "      <td>Coats/Jackets</td>\n",
              "      <td>2 star</td>\n",
              "      <td>5347</td>\n",
              "      <td>Female</td>\n",
              "      <td>Direct Deposit</td>\n",
              "      <td>Direct Deposit</td>\n",
              "      <td>Mail</td>\n",
              "      <td>20.0</td>\n",
              "      <td>NaN</td>\n",
              "    </tr>\n",
              "    <tr>\n",
              "      <th>25</th>\n",
              "      <td>8/8/2020 0:00</td>\n",
              "      <td>10496</td>\n",
              "      <td>Hats</td>\n",
              "      <td>4 star</td>\n",
              "      <td>6594</td>\n",
              "      <td>Male</td>\n",
              "      <td>Prepaid Card</td>\n",
              "      <td>Prepaid Card</td>\n",
              "      <td>Express</td>\n",
              "      <td>20.0</td>\n",
              "      <td>£ 4564.22450475</td>\n",
              "    </tr>\n",
              "    <tr>\n",
              "      <th>...</th>\n",
              "      <td>...</td>\n",
              "      <td>...</td>\n",
              "      <td>...</td>\n",
              "      <td>...</td>\n",
              "      <td>...</td>\n",
              "      <td>...</td>\n",
              "      <td>...</td>\n",
              "      <td>...</td>\n",
              "      <td>...</td>\n",
              "      <td>...</td>\n",
              "      <td>...</td>\n",
              "    </tr>\n",
              "    <tr>\n",
              "      <th>82</th>\n",
              "      <td>23/08/20</td>\n",
              "      <td>10553</td>\n",
              "      <td>Shirts/Tops</td>\n",
              "      <td>3 star</td>\n",
              "      <td>8175</td>\n",
              "      <td>Unspecified</td>\n",
              "      <td>Credit Card</td>\n",
              "      <td>Credit Card</td>\n",
              "      <td>Express</td>\n",
              "      <td>5.0</td>\n",
              "      <td>₹ 388459.65750934</td>\n",
              "    </tr>\n",
              "    <tr>\n",
              "      <th>93</th>\n",
              "      <td>18/08/20</td>\n",
              "      <td>10564</td>\n",
              "      <td>Dresses</td>\n",
              "      <td>2star</td>\n",
              "      <td>9142</td>\n",
              "      <td>Female</td>\n",
              "      <td>Creditcard</td>\n",
              "      <td>Creditcard</td>\n",
              "      <td>Normal</td>\n",
              "      <td>5.0</td>\n",
              "      <td>₹ 325580.74608394003</td>\n",
              "    </tr>\n",
              "    <tr>\n",
              "      <th>95</th>\n",
              "      <td>4/8/2020 0:00</td>\n",
              "      <td>10566</td>\n",
              "      <td>Coats/Jackets</td>\n",
              "      <td>2star</td>\n",
              "      <td>6090</td>\n",
              "      <td>Female</td>\n",
              "      <td>Prepaid Card</td>\n",
              "      <td>Prepaid Card</td>\n",
              "      <td>Express</td>\n",
              "      <td>5.0</td>\n",
              "      <td>£ 1148.1217405</td>\n",
              "    </tr>\n",
              "    <tr>\n",
              "      <th>53</th>\n",
              "      <td>26/08/20</td>\n",
              "      <td>10524</td>\n",
              "      <td>Dresses</td>\n",
              "      <td>3 star</td>\n",
              "      <td>6654</td>\n",
              "      <td>Male</td>\n",
              "      <td>Direct Deposit</td>\n",
              "      <td>Direct Deposit</td>\n",
              "      <td>Normal</td>\n",
              "      <td>5.0</td>\n",
              "      <td>₹ 442385.73497213994</td>\n",
              "    </tr>\n",
              "    <tr>\n",
              "      <th>8</th>\n",
              "      <td>1/8/2020 0:00</td>\n",
              "      <td>10479</td>\n",
              "      <td>pantas</td>\n",
              "      <td>4 star</td>\n",
              "      <td>9630</td>\n",
              "      <td>Male</td>\n",
              "      <td>Direct Deposit</td>\n",
              "      <td>Direct Deposit</td>\n",
              "      <td>Express</td>\n",
              "      <td>NaN</td>\n",
              "      <td>£ 3010.212198</td>\n",
              "    </tr>\n",
              "  </tbody>\n",
              "</table>\n",
              "<p>91 rows × 11 columns</p>\n",
              "</div>"
            ],
            "text/plain": [
              "             Date  CustomerID  ... ShippingTime                 Price\n",
              "39       16/08/20       10510  ...         20.0     ₹ 217387.35303316\n",
              "20  5/8/2020 0:00       10491  ...         20.0            € 1,514.11\n",
              "41  2/8/2020 0:00       10512  ...         20.0   £ 5925.050872750001\n",
              "5        28/08/20       10476  ...         20.0                   NaN\n",
              "25  8/8/2020 0:00       10496  ...         20.0       £ 4564.22450475\n",
              "..            ...         ...  ...          ...                   ...\n",
              "82       23/08/20       10553  ...          5.0     ₹ 388459.65750934\n",
              "93       18/08/20       10564  ...          5.0  ₹ 325580.74608394003\n",
              "95  4/8/2020 0:00       10566  ...          5.0        £ 1148.1217405\n",
              "53       26/08/20       10524  ...          5.0  ₹ 442385.73497213994\n",
              "8   1/8/2020 0:00       10479  ...          NaN         £ 3010.212198\n",
              "\n",
              "[91 rows x 11 columns]"
            ]
          },
          "metadata": {},
          "execution_count": 122
        }
      ]
    },
    {
      "cell_type": "code",
      "metadata": {
        "colab": {
          "base_uri": "https://localhost:8080/"
        },
        "id": "b-rwvBN-PxIf",
        "outputId": "add93ffa-49ca-4900-f36e-072785e21794"
      },
      "source": [
        "sum(data[\"ShippingTime\"].isnull())"
      ],
      "execution_count": null,
      "outputs": [
        {
          "output_type": "execute_result",
          "data": {
            "text/plain": [
              "1"
            ]
          },
          "metadata": {},
          "execution_count": 123
        }
      ]
    },
    {
      "cell_type": "code",
      "metadata": {
        "id": "aftvuYjxYuIF"
      },
      "source": [
        "# Preparing a function that returns information on missing values\n",
        "def check_miss(data):\n",
        "    '''\n",
        "    Returns a sorted DataFrame that contains information about missing values in each column.\n",
        "    Null Values: Either the column has null values or not.\n",
        "    Count_Nulls: Number of null values\n",
        "    Percentage_Nulls: Percentage of null values\n",
        "    '''\n",
        "    cnull=[sum(data[y].isnull()) for y in data.columns]\n",
        "    miss=pd.DataFrame({'Col_name':data.columns,'Null Values':\n",
        "                        [any(data[x].isnull()) for x in data.columns],\n",
        "                    'Count_Nulls':cnull,\n",
        "                    'Percentage_Nulls':list((np.array(cnull)*100)/data.shape[0]),\n",
        "                    'DataType':list(data[x].dtype for x in data.columns)\n",
        "                      })\n",
        "    return miss.sort_values(by='Count_Nulls',ascending=False)"
      ],
      "execution_count": null,
      "outputs": []
    },
    {
      "cell_type": "code",
      "metadata": {
        "id": "ZGDY5Q8KYuIF",
        "colab": {
          "base_uri": "https://localhost:8080/",
          "height": 394
        },
        "outputId": "901ce6d5-4b2e-416d-8f44-67fb40e57343"
      },
      "source": [
        "check_miss(data)"
      ],
      "execution_count": null,
      "outputs": [
        {
          "output_type": "execute_result",
          "data": {
            "text/html": [
              "<div>\n",
              "<style scoped>\n",
              "    .dataframe tbody tr th:only-of-type {\n",
              "        vertical-align: middle;\n",
              "    }\n",
              "\n",
              "    .dataframe tbody tr th {\n",
              "        vertical-align: top;\n",
              "    }\n",
              "\n",
              "    .dataframe thead th {\n",
              "        text-align: right;\n",
              "    }\n",
              "</style>\n",
              "<table border=\"1\" class=\"dataframe\">\n",
              "  <thead>\n",
              "    <tr style=\"text-align: right;\">\n",
              "      <th></th>\n",
              "      <th>Col_name</th>\n",
              "      <th>Null Values</th>\n",
              "      <th>Count_Nulls</th>\n",
              "      <th>Percentage_Nulls</th>\n",
              "      <th>DataType</th>\n",
              "    </tr>\n",
              "  </thead>\n",
              "  <tbody>\n",
              "    <tr>\n",
              "      <th>3</th>\n",
              "      <td>Rating</td>\n",
              "      <td>True</td>\n",
              "      <td>6</td>\n",
              "      <td>6.593407</td>\n",
              "      <td>object</td>\n",
              "    </tr>\n",
              "    <tr>\n",
              "      <th>5</th>\n",
              "      <td>Gender</td>\n",
              "      <td>True</td>\n",
              "      <td>5</td>\n",
              "      <td>5.494505</td>\n",
              "      <td>object</td>\n",
              "    </tr>\n",
              "    <tr>\n",
              "      <th>6</th>\n",
              "      <td>PaymentMode</td>\n",
              "      <td>True</td>\n",
              "      <td>5</td>\n",
              "      <td>5.494505</td>\n",
              "      <td>object</td>\n",
              "    </tr>\n",
              "    <tr>\n",
              "      <th>7</th>\n",
              "      <td>PaymentMode.1</td>\n",
              "      <td>True</td>\n",
              "      <td>5</td>\n",
              "      <td>5.494505</td>\n",
              "      <td>object</td>\n",
              "    </tr>\n",
              "    <tr>\n",
              "      <th>2</th>\n",
              "      <td>ProductType</td>\n",
              "      <td>True</td>\n",
              "      <td>4</td>\n",
              "      <td>4.395604</td>\n",
              "      <td>object</td>\n",
              "    </tr>\n",
              "    <tr>\n",
              "      <th>8</th>\n",
              "      <td>ShippingMode</td>\n",
              "      <td>True</td>\n",
              "      <td>3</td>\n",
              "      <td>3.296703</td>\n",
              "      <td>object</td>\n",
              "    </tr>\n",
              "    <tr>\n",
              "      <th>9</th>\n",
              "      <td>ShippingTime</td>\n",
              "      <td>True</td>\n",
              "      <td>1</td>\n",
              "      <td>1.098901</td>\n",
              "      <td>float64</td>\n",
              "    </tr>\n",
              "    <tr>\n",
              "      <th>10</th>\n",
              "      <td>Price</td>\n",
              "      <td>True</td>\n",
              "      <td>1</td>\n",
              "      <td>1.098901</td>\n",
              "      <td>object</td>\n",
              "    </tr>\n",
              "    <tr>\n",
              "      <th>0</th>\n",
              "      <td>Date</td>\n",
              "      <td>False</td>\n",
              "      <td>0</td>\n",
              "      <td>0.000000</td>\n",
              "      <td>object</td>\n",
              "    </tr>\n",
              "    <tr>\n",
              "      <th>1</th>\n",
              "      <td>CustomerID</td>\n",
              "      <td>False</td>\n",
              "      <td>0</td>\n",
              "      <td>0.000000</td>\n",
              "      <td>int64</td>\n",
              "    </tr>\n",
              "    <tr>\n",
              "      <th>4</th>\n",
              "      <td>Total_Ratings</td>\n",
              "      <td>False</td>\n",
              "      <td>0</td>\n",
              "      <td>0.000000</td>\n",
              "      <td>int64</td>\n",
              "    </tr>\n",
              "  </tbody>\n",
              "</table>\n",
              "</div>"
            ],
            "text/plain": [
              "         Col_name  Null Values  Count_Nulls  Percentage_Nulls DataType\n",
              "3          Rating         True            6          6.593407   object\n",
              "5          Gender         True            5          5.494505   object\n",
              "6     PaymentMode         True            5          5.494505   object\n",
              "7   PaymentMode.1         True            5          5.494505   object\n",
              "2     ProductType         True            4          4.395604   object\n",
              "8    ShippingMode         True            3          3.296703   object\n",
              "9    ShippingTime         True            1          1.098901  float64\n",
              "10          Price         True            1          1.098901   object\n",
              "0            Date        False            0          0.000000   object\n",
              "1      CustomerID        False            0          0.000000    int64\n",
              "4   Total_Ratings        False            0          0.000000    int64"
            ]
          },
          "metadata": {},
          "execution_count": 125
        }
      ]
    },
    {
      "cell_type": "markdown",
      "metadata": {
        "id": "UYuBJy_KYuIG"
      },
      "source": [
        "Almost every column has missing values."
      ]
    },
    {
      "cell_type": "code",
      "metadata": {
        "id": "mY3KfPo_YuIG",
        "colab": {
          "base_uri": "https://localhost:8080/",
          "height": 49
        },
        "outputId": "ca8b3552-a167-4ee6-9963-e11d4e587e10"
      },
      "source": [
        "# Data with no dates should be deleted \n",
        "# It seams we have already dealt with the data with no dates\n",
        "data[data.Date.isna()]"
      ],
      "execution_count": null,
      "outputs": [
        {
          "output_type": "execute_result",
          "data": {
            "text/html": [
              "<div>\n",
              "<style scoped>\n",
              "    .dataframe tbody tr th:only-of-type {\n",
              "        vertical-align: middle;\n",
              "    }\n",
              "\n",
              "    .dataframe tbody tr th {\n",
              "        vertical-align: top;\n",
              "    }\n",
              "\n",
              "    .dataframe thead th {\n",
              "        text-align: right;\n",
              "    }\n",
              "</style>\n",
              "<table border=\"1\" class=\"dataframe\">\n",
              "  <thead>\n",
              "    <tr style=\"text-align: right;\">\n",
              "      <th></th>\n",
              "      <th>Date</th>\n",
              "      <th>CustomerID</th>\n",
              "      <th>ProductType</th>\n",
              "      <th>Rating</th>\n",
              "      <th>Total_Ratings</th>\n",
              "      <th>Gender</th>\n",
              "      <th>PaymentMode</th>\n",
              "      <th>PaymentMode.1</th>\n",
              "      <th>ShippingMode</th>\n",
              "      <th>ShippingTime</th>\n",
              "      <th>Price</th>\n",
              "    </tr>\n",
              "  </thead>\n",
              "  <tbody>\n",
              "  </tbody>\n",
              "</table>\n",
              "</div>"
            ],
            "text/plain": [
              "Empty DataFrame\n",
              "Columns: [Date, CustomerID, ProductType, Rating, Total_Ratings, Gender, PaymentMode, PaymentMode.1, ShippingMode, ShippingTime, Price]\n",
              "Index: []"
            ]
          },
          "metadata": {},
          "execution_count": 126
        }
      ]
    },
    {
      "cell_type": "markdown",
      "metadata": {
        "id": "KG3piRehYuIH"
      },
      "source": [
        "##### Missingno Library"
      ]
    },
    {
      "cell_type": "code",
      "metadata": {
        "id": "54tOgwiFYuII"
      },
      "source": [
        "# Please wait while the library is installed\n",
        "!pip install missingno --quiet --disable-pip-version-check"
      ],
      "execution_count": null,
      "outputs": []
    },
    {
      "cell_type": "code",
      "metadata": {
        "id": "-PYRCNgQYuII"
      },
      "source": [
        "import missingno as mn"
      ],
      "execution_count": null,
      "outputs": []
    },
    {
      "cell_type": "code",
      "metadata": {
        "id": "nbw33ADaYuII",
        "colab": {
          "base_uri": "https://localhost:8080/",
          "height": 570
        },
        "outputId": "c44588d6-4299-4f8c-c6f8-852326b40ec8"
      },
      "source": [
        "mn.matrix(data)"
      ],
      "execution_count": null,
      "outputs": [
        {
          "output_type": "execute_result",
          "data": {
            "text/plain": [
              "<matplotlib.axes._subplots.AxesSubplot at 0x7f2958139750>"
            ]
          },
          "metadata": {},
          "execution_count": 129
        },
        {
          "output_type": "display_data",
          "data": {
            "image/png": "[encoded data removed]",
            "text/plain": [
              "<Figure size 1800x720 with 2 Axes>"
            ]
          },
          "metadata": {
            "needs_background": "light"
          }
        }
      ]
    },
    {
      "cell_type": "code",
      "metadata": {
        "colab": {
          "base_uri": "https://localhost:8080/",
          "height": 585
        },
        "id": "nHVhwlr095i_",
        "outputId": "4e2a5ffe-4c9e-41f7-abee-acf93a4cfb0c"
      },
      "source": [
        "mn.bar(data)"
      ],
      "execution_count": null,
      "outputs": [
        {
          "output_type": "execute_result",
          "data": {
            "text/plain": [
              "<matplotlib.axes._subplots.AxesSubplot at 0x7f2966c23f10>"
            ]
          },
          "metadata": {},
          "execution_count": 130
        },
        {
          "output_type": "display_data",
          "data": {
            "image/png": "[encoded data removed]",
            "text/plain": [
              "<Figure size 1800x720 with 3 Axes>"
            ]
          },
          "metadata": {
            "needs_background": "light"
          }
        }
      ]
    },
    {
      "cell_type": "code",
      "metadata": {
        "id": "0s88091SYuIJ",
        "colab": {
          "base_uri": "https://localhost:8080/"
        },
        "outputId": "d4995975-d894-4325-fcf2-bca637e7ecab"
      },
      "source": [
        "data.info()"
      ],
      "execution_count": null,
      "outputs": [
        {
          "output_type": "stream",
          "name": "stdout",
          "text": [
            "<class 'pandas.core.frame.DataFrame'>\n",
            "Int64Index: 91 entries, 0 to 99\n",
            "Data columns (total 11 columns):\n",
            " #   Column         Non-Null Count  Dtype  \n",
            "---  ------         --------------  -----  \n",
            " 0   Date           91 non-null     object \n",
            " 1   CustomerID     91 non-null     int64  \n",
            " 2   ProductType    87 non-null     object \n",
            " 3   Rating         85 non-null     object \n",
            " 4   Total_Ratings  91 non-null     int64  \n",
            " 5   Gender         86 non-null     object \n",
            " 6   PaymentMode    86 non-null     object \n",
            " 7   PaymentMode.1  86 non-null     object \n",
            " 8   ShippingMode   88 non-null     object \n",
            " 9   ShippingTime   90 non-null     float64\n",
            " 10  Price          90 non-null     object \n",
            "dtypes: float64(1), int64(2), object(8)\n",
            "memory usage: 8.5+ KB\n"
          ]
        }
      ]
    },
    {
      "cell_type": "code",
      "metadata": {
        "id": "Fk3tVqylYuIJ"
      },
      "source": [
        "# First we have to change the DataTypes for all the required columns\n",
        "data.ProductType=data.ProductType.astype('string')\n",
        "data.PaymentMode=data.PaymentMode.astype('string')\n",
        "data.Rating=data.Rating.astype('category')\n",
        "data.Gender=data.Gender.astype('category')\n",
        "data.PaymentMode=data.PaymentMode.astype('category')\n",
        "data.ShippingMode=data.ShippingMode.astype('string')\n",
        "data.Price=data.Price.astype('string')"
      ],
      "execution_count": null,
      "outputs": []
    },
    {
      "cell_type": "code",
      "metadata": {
        "colab": {
          "base_uri": "https://localhost:8080/",
          "height": 35
        },
        "id": "FsjFEfLUS7_I",
        "outputId": "7c9c3c1a-3c1a-4319-d427-e129203f302e"
      },
      "source": [
        "data[\"ProductType\"].mode()[0]"
      ],
      "execution_count": null,
      "outputs": [
        {
          "output_type": "execute_result",
          "data": {
            "application/vnd.google.colaboratory.intrinsic+json": {
              "type": "string"
            },
            "text/plain": [
              "'coates'"
            ]
          },
          "metadata": {},
          "execution_count": 133
        }
      ]
    },
    {
      "cell_type": "code",
      "metadata": {
        "colab": {
          "base_uri": "https://localhost:8080/",
          "height": 35
        },
        "id": "JxlbDO5-TIcR",
        "outputId": "c701fb26-0465-42f9-a24c-f9261b8fc156"
      },
      "source": [
        "data.PaymentMode.mode()[0]"
      ],
      "execution_count": null,
      "outputs": [
        {
          "output_type": "execute_result",
          "data": {
            "application/vnd.google.colaboratory.intrinsic+json": {
              "type": "string"
            },
            "text/plain": [
              "'Direct Deposit'"
            ]
          },
          "metadata": {},
          "execution_count": 134
        }
      ]
    },
    {
      "cell_type": "code",
      "metadata": {
        "id": "6pejNg0XYuIJ"
      },
      "source": [
        "# ProductType, and PaymentMode can be filled with mode\n",
        "# While State can be filled with NA, Gender with Unspecified\n",
        "# We can fill Price with mean values as we have made a sale for that day\n",
        "data.ProductType.fillna(data.ProductType.mode()[0],inplace=True)\n",
        "data.PaymentMode.fillna(data.PaymentMode.mode()[0],inplace=True)\n",
        "data.Gender.fillna('Unspecified',inplace=True)\n",
        "data.Rating.fillna(data.Rating.mode()[0],inplace=True)\n",
        "data.ShippingMode.fillna(data.ShippingMode.mode()[0],inplace=True)\n",
        "data.ShippingTime.fillna(data.ShippingTime.mean(),inplace=True)"
      ],
      "execution_count": null,
      "outputs": []
    },
    {
      "cell_type": "code",
      "metadata": {
        "id": "Kl9DaTTLYuIK",
        "colab": {
          "base_uri": "https://localhost:8080/",
          "height": 394
        },
        "outputId": "c6fc42b3-5562-45cc-d782-26845f672d27"
      },
      "source": [
        "# Checking for missing data again\n",
        "check_miss(data)"
      ],
      "execution_count": null,
      "outputs": [
        {
          "output_type": "execute_result",
          "data": {
            "text/html": [
              "<div>\n",
              "<style scoped>\n",
              "    .dataframe tbody tr th:only-of-type {\n",
              "        vertical-align: middle;\n",
              "    }\n",
              "\n",
              "    .dataframe tbody tr th {\n",
              "        vertical-align: top;\n",
              "    }\n",
              "\n",
              "    .dataframe thead th {\n",
              "        text-align: right;\n",
              "    }\n",
              "</style>\n",
              "<table border=\"1\" class=\"dataframe\">\n",
              "  <thead>\n",
              "    <tr style=\"text-align: right;\">\n",
              "      <th></th>\n",
              "      <th>Col_name</th>\n",
              "      <th>Null Values</th>\n",
              "      <th>Count_Nulls</th>\n",
              "      <th>Percentage_Nulls</th>\n",
              "      <th>DataType</th>\n",
              "    </tr>\n",
              "  </thead>\n",
              "  <tbody>\n",
              "    <tr>\n",
              "      <th>7</th>\n",
              "      <td>PaymentMode.1</td>\n",
              "      <td>True</td>\n",
              "      <td>5</td>\n",
              "      <td>5.494505</td>\n",
              "      <td>object</td>\n",
              "    </tr>\n",
              "    <tr>\n",
              "      <th>10</th>\n",
              "      <td>Price</td>\n",
              "      <td>True</td>\n",
              "      <td>1</td>\n",
              "      <td>1.098901</td>\n",
              "      <td>string</td>\n",
              "    </tr>\n",
              "    <tr>\n",
              "      <th>0</th>\n",
              "      <td>Date</td>\n",
              "      <td>False</td>\n",
              "      <td>0</td>\n",
              "      <td>0.000000</td>\n",
              "      <td>object</td>\n",
              "    </tr>\n",
              "    <tr>\n",
              "      <th>1</th>\n",
              "      <td>CustomerID</td>\n",
              "      <td>False</td>\n",
              "      <td>0</td>\n",
              "      <td>0.000000</td>\n",
              "      <td>int64</td>\n",
              "    </tr>\n",
              "    <tr>\n",
              "      <th>2</th>\n",
              "      <td>ProductType</td>\n",
              "      <td>False</td>\n",
              "      <td>0</td>\n",
              "      <td>0.000000</td>\n",
              "      <td>string</td>\n",
              "    </tr>\n",
              "    <tr>\n",
              "      <th>3</th>\n",
              "      <td>Rating</td>\n",
              "      <td>False</td>\n",
              "      <td>0</td>\n",
              "      <td>0.000000</td>\n",
              "      <td>category</td>\n",
              "    </tr>\n",
              "    <tr>\n",
              "      <th>4</th>\n",
              "      <td>Total_Ratings</td>\n",
              "      <td>False</td>\n",
              "      <td>0</td>\n",
              "      <td>0.000000</td>\n",
              "      <td>int64</td>\n",
              "    </tr>\n",
              "    <tr>\n",
              "      <th>5</th>\n",
              "      <td>Gender</td>\n",
              "      <td>False</td>\n",
              "      <td>0</td>\n",
              "      <td>0.000000</td>\n",
              "      <td>category</td>\n",
              "    </tr>\n",
              "    <tr>\n",
              "      <th>6</th>\n",
              "      <td>PaymentMode</td>\n",
              "      <td>False</td>\n",
              "      <td>0</td>\n",
              "      <td>0.000000</td>\n",
              "      <td>category</td>\n",
              "    </tr>\n",
              "    <tr>\n",
              "      <th>8</th>\n",
              "      <td>ShippingMode</td>\n",
              "      <td>False</td>\n",
              "      <td>0</td>\n",
              "      <td>0.000000</td>\n",
              "      <td>string</td>\n",
              "    </tr>\n",
              "    <tr>\n",
              "      <th>9</th>\n",
              "      <td>ShippingTime</td>\n",
              "      <td>False</td>\n",
              "      <td>0</td>\n",
              "      <td>0.000000</td>\n",
              "      <td>float64</td>\n",
              "    </tr>\n",
              "  </tbody>\n",
              "</table>\n",
              "</div>"
            ],
            "text/plain": [
              "         Col_name  Null Values  Count_Nulls  Percentage_Nulls  DataType\n",
              "7   PaymentMode.1         True            5          5.494505    object\n",
              "10          Price         True            1          1.098901    string\n",
              "0            Date        False            0          0.000000    object\n",
              "1      CustomerID        False            0          0.000000     int64\n",
              "2     ProductType        False            0          0.000000    string\n",
              "3          Rating        False            0          0.000000  category\n",
              "4   Total_Ratings        False            0          0.000000     int64\n",
              "5          Gender        False            0          0.000000  category\n",
              "6     PaymentMode        False            0          0.000000  category\n",
              "8    ShippingMode        False            0          0.000000    string\n",
              "9    ShippingTime        False            0          0.000000   float64"
            ]
          },
          "metadata": {},
          "execution_count": 136
        }
      ]
    },
    {
      "cell_type": "code",
      "metadata": {
        "id": "oCrsTVjvYuIK",
        "colab": {
          "base_uri": "https://localhost:8080/"
        },
        "outputId": "ff1f2683-1c24-4868-baca-bd07fa598455"
      },
      "source": [
        "# What if we used unclean data? How many Product Types would be?\n",
        "print('ProductType Before: ',uncleaned.ProductType.unique())"
      ],
      "execution_count": null,
      "outputs": [
        {
          "output_type": "stream",
          "name": "stdout",
          "text": [
            "ProductType Before:  ['coates' 'dresses ' nan 'pantas' 'Coats/Jackets' 'Jeans' 'Pants'\n",
            " 'Cardigan' 'Dresses' 'Shirts/Tops' 'Hats']\n"
          ]
        }
      ]
    },
    {
      "cell_type": "code",
      "metadata": {
        "id": "wFMEh0U3YuIL",
        "colab": {
          "base_uri": "https://localhost:8080/"
        },
        "outputId": "d856c6d0-1578-4442-eb71-62819bf94ca9"
      },
      "source": [
        "print('ProductType After: ',data.ProductType.unique())"
      ],
      "execution_count": null,
      "outputs": [
        {
          "output_type": "stream",
          "name": "stdout",
          "text": [
            "ProductType After:  <StringArray>\n",
            "[       'coates',      'dresses ', 'Coats/Jackets',         'Jeans',\n",
            "        'pantas',         'Pants',      'Cardigan',       'Dresses',\n",
            "   'Shirts/Tops',          'Hats']\n",
            "Length: 10, dtype: string\n"
          ]
        }
      ]
    },
    {
      "cell_type": "markdown",
      "metadata": {
        "id": "c0ymEKcvYuIM"
      },
      "source": [
        "We had an additional product type which is nan(np.nan/null value). This would have created inconsistencies in analysis. We still have to fill empty Price column but it is quite hard due to different currencies."
      ]
    },
    {
      "cell_type": "markdown",
      "metadata": {
        "id": "ScHP5Wg4YuIM"
      },
      "source": [
        "### Manipulating Values"
      ]
    },
    {
      "cell_type": "markdown",
      "metadata": {
        "id": "a2XEjbxOYuIM"
      },
      "source": [
        "There are typos in the ProductType. There can be in other categorical columns as well."
      ]
    },
    {
      "cell_type": "code",
      "metadata": {
        "id": "piRTSymPYuIN",
        "colab": {
          "base_uri": "https://localhost:8080/",
          "height": 293
        },
        "outputId": "d78d0fad-cd16-48a0-a976-3182372889d0"
      },
      "source": [
        "data.head()"
      ],
      "execution_count": null,
      "outputs": [
        {
          "output_type": "execute_result",
          "data": {
            "text/html": [
              "<div>\n",
              "<style scoped>\n",
              "    .dataframe tbody tr th:only-of-type {\n",
              "        vertical-align: middle;\n",
              "    }\n",
              "\n",
              "    .dataframe tbody tr th {\n",
              "        vertical-align: top;\n",
              "    }\n",
              "\n",
              "    .dataframe thead th {\n",
              "        text-align: right;\n",
              "    }\n",
              "</style>\n",
              "<table border=\"1\" class=\"dataframe\">\n",
              "  <thead>\n",
              "    <tr style=\"text-align: right;\">\n",
              "      <th></th>\n",
              "      <th>Date</th>\n",
              "      <th>CustomerID</th>\n",
              "      <th>ProductType</th>\n",
              "      <th>Rating</th>\n",
              "      <th>Total_Ratings</th>\n",
              "      <th>Gender</th>\n",
              "      <th>PaymentMode</th>\n",
              "      <th>PaymentMode.1</th>\n",
              "      <th>ShippingMode</th>\n",
              "      <th>ShippingTime</th>\n",
              "      <th>Price</th>\n",
              "    </tr>\n",
              "  </thead>\n",
              "  <tbody>\n",
              "    <tr>\n",
              "      <th>0</th>\n",
              "      <td>16/08/20</td>\n",
              "      <td>10471</td>\n",
              "      <td>coates</td>\n",
              "      <td>1 start</td>\n",
              "      <td>8736</td>\n",
              "      <td>Female</td>\n",
              "      <td>Creditcard</td>\n",
              "      <td>Creditcard</td>\n",
              "      <td>Economy</td>\n",
              "      <td>17.0</td>\n",
              "      <td>₹ 675036.2138626401</td>\n",
              "    </tr>\n",
              "    <tr>\n",
              "      <th>1</th>\n",
              "      <td>2/8/2020 0:00</td>\n",
              "      <td>10472</td>\n",
              "      <td>dresses</td>\n",
              "      <td>2 star</td>\n",
              "      <td>8547</td>\n",
              "      <td>Unspecified</td>\n",
              "      <td>Ewallet</td>\n",
              "      <td>Ewallet</td>\n",
              "      <td>Mail</td>\n",
              "      <td>12.0</td>\n",
              "      <td>€ 2,315.53</td>\n",
              "    </tr>\n",
              "    <tr>\n",
              "      <th>2</th>\n",
              "      <td>8/8/2020 0:00</td>\n",
              "      <td>10473</td>\n",
              "      <td>coates</td>\n",
              "      <td>2 star</td>\n",
              "      <td>9833</td>\n",
              "      <td>Unspecified</td>\n",
              "      <td>Prepaid Card</td>\n",
              "      <td>Prepaid Card</td>\n",
              "      <td>Mail</td>\n",
              "      <td>10.0</td>\n",
              "      <td>₹ 611426.29122378</td>\n",
              "    </tr>\n",
              "    <tr>\n",
              "      <th>5</th>\n",
              "      <td>28/08/20</td>\n",
              "      <td>10476</td>\n",
              "      <td>Coats/Jackets</td>\n",
              "      <td>2 star</td>\n",
              "      <td>5347</td>\n",
              "      <td>Female</td>\n",
              "      <td>Direct Deposit</td>\n",
              "      <td>Direct Deposit</td>\n",
              "      <td>Mail</td>\n",
              "      <td>20.0</td>\n",
              "      <td>&lt;NA&gt;</td>\n",
              "    </tr>\n",
              "    <tr>\n",
              "      <th>6</th>\n",
              "      <td>8/8/2020 0:00</td>\n",
              "      <td>10477</td>\n",
              "      <td>coates</td>\n",
              "      <td>5 star</td>\n",
              "      <td>9406</td>\n",
              "      <td>Unspecified</td>\n",
              "      <td>Direct Deposit</td>\n",
              "      <td>Direct Deposit</td>\n",
              "      <td>Mail</td>\n",
              "      <td>14.0</td>\n",
              "      <td>£ 6610.077565000001</td>\n",
              "    </tr>\n",
              "  </tbody>\n",
              "</table>\n",
              "</div>"
            ],
            "text/plain": [
              "            Date  CustomerID  ... ShippingTime                Price\n",
              "0       16/08/20       10471  ...         17.0  ₹ 675036.2138626401\n",
              "1  2/8/2020 0:00       10472  ...         12.0           € 2,315.53\n",
              "2  8/8/2020 0:00       10473  ...         10.0    ₹ 611426.29122378\n",
              "5       28/08/20       10476  ...         20.0                 <NA>\n",
              "6  8/8/2020 0:00       10477  ...         14.0  £ 6610.077565000001\n",
              "\n",
              "[5 rows x 11 columns]"
            ]
          },
          "metadata": {},
          "execution_count": 139
        }
      ]
    },
    {
      "cell_type": "code",
      "metadata": {
        "id": "qLJsgew1YuIN"
      },
      "source": [
        "def find_unique(data,cols):\n",
        "    '''\n",
        "    Returns a DataFrame that contains information about unique values for the column names provided.\n",
        "    data: DataFrame\n",
        "    cols: list of column names\n",
        "    '''\n",
        "    cnull=[sum(data[y].isnull()) for y in data.columns]\n",
        "    uq=pd.DataFrame({'Col_name':cols,\n",
        "                     'Count_':list(len(data[x].unique()) for x in cols),\n",
        "                    'Unique':list(data[x].unique() for x in cols),\n",
        "                      })\n",
        "    return uq"
      ],
      "execution_count": null,
      "outputs": []
    },
    {
      "cell_type": "code",
      "metadata": {
        "id": "qOQOTRIqYuIN",
        "colab": {
          "base_uri": "https://localhost:8080/",
          "height": 206
        },
        "outputId": "f42ba033-8f6c-4388-a3fc-d7043deff1a9"
      },
      "source": [
        "unq=find_unique(data,['ProductType','PaymentMode','Gender','Rating','ShippingMode'])\n",
        "unq"
      ],
      "execution_count": null,
      "outputs": [
        {
          "output_type": "execute_result",
          "data": {
            "text/html": [
              "<div>\n",
              "<style scoped>\n",
              "    .dataframe tbody tr th:only-of-type {\n",
              "        vertical-align: middle;\n",
              "    }\n",
              "\n",
              "    .dataframe tbody tr th {\n",
              "        vertical-align: top;\n",
              "    }\n",
              "\n",
              "    .dataframe thead th {\n",
              "        text-align: right;\n",
              "    }\n",
              "</style>\n",
              "<table border=\"1\" class=\"dataframe\">\n",
              "  <thead>\n",
              "    <tr style=\"text-align: right;\">\n",
              "      <th></th>\n",
              "      <th>Col_name</th>\n",
              "      <th>Count_</th>\n",
              "      <th>Unique</th>\n",
              "    </tr>\n",
              "  </thead>\n",
              "  <tbody>\n",
              "    <tr>\n",
              "      <th>0</th>\n",
              "      <td>ProductType</td>\n",
              "      <td>10</td>\n",
              "      <td>[coates, dresses , Coats/Jackets, Jeans, panta...</td>\n",
              "    </tr>\n",
              "    <tr>\n",
              "      <th>1</th>\n",
              "      <td>PaymentMode</td>\n",
              "      <td>9</td>\n",
              "      <td>['Creditcard', 'Ewallet', 'Prepaid Card', 'Dir...</td>\n",
              "    </tr>\n",
              "    <tr>\n",
              "      <th>2</th>\n",
              "      <td>Gender</td>\n",
              "      <td>3</td>\n",
              "      <td>['Female', 'Unspecified', 'Male']\n",
              "Categories (...</td>\n",
              "    </tr>\n",
              "    <tr>\n",
              "      <th>3</th>\n",
              "      <td>Rating</td>\n",
              "      <td>6</td>\n",
              "      <td>['1 start', '2 star', '5 star', '4 star', '2st...</td>\n",
              "    </tr>\n",
              "    <tr>\n",
              "      <th>4</th>\n",
              "      <td>ShippingMode</td>\n",
              "      <td>4</td>\n",
              "      <td>[Economy, Mail, Express, Normal]</td>\n",
              "    </tr>\n",
              "  </tbody>\n",
              "</table>\n",
              "</div>"
            ],
            "text/plain": [
              "       Col_name  Count_                                             Unique\n",
              "0   ProductType      10  [coates, dresses , Coats/Jackets, Jeans, panta...\n",
              "1   PaymentMode       9  ['Creditcard', 'Ewallet', 'Prepaid Card', 'Dir...\n",
              "2        Gender       3  ['Female', 'Unspecified', 'Male']\n",
              "Categories (...\n",
              "3        Rating       6  ['1 start', '2 star', '5 star', '4 star', '2st...\n",
              "4  ShippingMode       4                   [Economy, Mail, Express, Normal]"
            ]
          },
          "metadata": {},
          "execution_count": 141
        }
      ]
    },
    {
      "cell_type": "markdown",
      "metadata": {
        "id": "8kz2D3qUYuIO"
      },
      "source": [
        "Rating, ProductType and PaymentMode has typos."
      ]
    },
    {
      "cell_type": "code",
      "metadata": {
        "id": "3Eqn2orIYuIO",
        "colab": {
          "base_uri": "https://localhost:8080/"
        },
        "outputId": "deeaa0fe-4288-4145-b9eb-3def671240d5"
      },
      "source": [
        "print('ProductType: ',*unq.iloc[0,2],sep=' | ')\n",
        "print('PaymentMode: ',*unq.iloc[1,2],sep=' | ')\n",
        "print('Rating: ',*unq.iloc[3,2],sep=' | ')"
      ],
      "execution_count": null,
      "outputs": [
        {
          "output_type": "stream",
          "name": "stdout",
          "text": [
            "ProductType:  | coates | dresses  | Coats/Jackets | Jeans | pantas | Pants | Cardigan | Dresses | Shirts/Tops | Hats\n",
            "PaymentMode:  | Creditcard | Ewallet | Prepaid Card | Direct Deposit | Mobile Payment | Cash | Mobile | Credit Card | Directdeposit\n",
            "Rating:  | 1 start | 2 star | 5 star | 4 star | 2star | 3 star\n"
          ]
        }
      ]
    },
    {
      "cell_type": "markdown",
      "metadata": {
        "id": "pjrQYavjYuIO"
      },
      "source": [
        "Typing errors: \n",
        "- __coates__ should be _Coats/Jackets_\n",
        "- __dresses__ should be _Dresses_\n",
        "- __pantas__ should be _Pants_\n",
        "- __Creditcard__ should be _Credit Card_\n",
        "- __Directdeposit__ should be _Direct Deposit_\n",
        "- __2star__ should be _2 star_"
      ]
    },
    {
      "cell_type": "code",
      "metadata": {
        "id": "5gad-orwYuIP"
      },
      "source": [
        "# Manipulating the values\n",
        "def change(i):\n",
        "    if i=='coates':\n",
        "        return 'Coats/Jackets'\n",
        "    elif i=='dresses ':\n",
        "        return 'Dresses'\n",
        "    elif i=='pantas':\n",
        "        return 'Pants'\n",
        "    else:\n",
        "        return i\n",
        "def change2(i):\n",
        "    if i=='Creditcard':\n",
        "        return 'Credit Card'\n",
        "    elif i=='Directdeposit':\n",
        "        return 'Direct Deposit'\n",
        "    else:\n",
        "        return i\n",
        "def change_rating(i):\n",
        "    if i=='2star':\n",
        "        return '2 star'\n",
        "    elif i=='1 start':\n",
        "        return '1 star'\n",
        "    else:\n",
        "        return i\n",
        "        \n",
        "data.PaymentMode=data.PaymentMode.apply(change2)\n",
        "data.ProductType=data.ProductType.apply(change)\n",
        "data.Rating=data.Rating.apply(change_rating)"
      ],
      "execution_count": null,
      "outputs": []
    },
    {
      "cell_type": "code",
      "metadata": {
        "id": "gA_iJp95YuIP",
        "colab": {
          "base_uri": "https://localhost:8080/",
          "height": 206
        },
        "outputId": "f9953ab4-b357-486d-87c2-f15fd53699ef"
      },
      "source": [
        "find_unique(data,['ProductType','PaymentMode','Gender','Rating','ShippingMode'])"
      ],
      "execution_count": null,
      "outputs": [
        {
          "output_type": "execute_result",
          "data": {
            "text/html": [
              "<div>\n",
              "<style scoped>\n",
              "    .dataframe tbody tr th:only-of-type {\n",
              "        vertical-align: middle;\n",
              "    }\n",
              "\n",
              "    .dataframe tbody tr th {\n",
              "        vertical-align: top;\n",
              "    }\n",
              "\n",
              "    .dataframe thead th {\n",
              "        text-align: right;\n",
              "    }\n",
              "</style>\n",
              "<table border=\"1\" class=\"dataframe\">\n",
              "  <thead>\n",
              "    <tr style=\"text-align: right;\">\n",
              "      <th></th>\n",
              "      <th>Col_name</th>\n",
              "      <th>Count_</th>\n",
              "      <th>Unique</th>\n",
              "    </tr>\n",
              "  </thead>\n",
              "  <tbody>\n",
              "    <tr>\n",
              "      <th>0</th>\n",
              "      <td>ProductType</td>\n",
              "      <td>7</td>\n",
              "      <td>[Coats/Jackets, Dresses, Jeans, Pants, Cardiga...</td>\n",
              "    </tr>\n",
              "    <tr>\n",
              "      <th>1</th>\n",
              "      <td>PaymentMode</td>\n",
              "      <td>7</td>\n",
              "      <td>[Credit Card, Ewallet, Prepaid Card, Direct De...</td>\n",
              "    </tr>\n",
              "    <tr>\n",
              "      <th>2</th>\n",
              "      <td>Gender</td>\n",
              "      <td>3</td>\n",
              "      <td>['Female', 'Unspecified', 'Male']\n",
              "Categories (...</td>\n",
              "    </tr>\n",
              "    <tr>\n",
              "      <th>3</th>\n",
              "      <td>Rating</td>\n",
              "      <td>5</td>\n",
              "      <td>[1 star, 2 star, 5 star, 4 star, 3 star]</td>\n",
              "    </tr>\n",
              "    <tr>\n",
              "      <th>4</th>\n",
              "      <td>ShippingMode</td>\n",
              "      <td>4</td>\n",
              "      <td>[Economy, Mail, Express, Normal]</td>\n",
              "    </tr>\n",
              "  </tbody>\n",
              "</table>\n",
              "</div>"
            ],
            "text/plain": [
              "       Col_name  Count_                                             Unique\n",
              "0   ProductType       7  [Coats/Jackets, Dresses, Jeans, Pants, Cardiga...\n",
              "1   PaymentMode       7  [Credit Card, Ewallet, Prepaid Card, Direct De...\n",
              "2        Gender       3  ['Female', 'Unspecified', 'Male']\n",
              "Categories (...\n",
              "3        Rating       5           [1 star, 2 star, 5 star, 4 star, 3 star]\n",
              "4  ShippingMode       4                   [Economy, Mail, Express, Normal]"
            ]
          },
          "metadata": {},
          "execution_count": 144
        }
      ]
    },
    {
      "cell_type": "code",
      "metadata": {
        "colab": {
          "base_uri": "https://localhost:8080/"
        },
        "id": "B9K1xZRZjjKH",
        "outputId": "035b199e-fce9-42da-d716-af5e548dd832"
      },
      "source": [
        "data[\"ProductType\"].unique()"
      ],
      "execution_count": null,
      "outputs": [
        {
          "output_type": "execute_result",
          "data": {
            "text/plain": [
              "array(['Coats/Jackets', 'Dresses', 'Jeans', 'Pants', 'Cardigan',\n",
              "       'Shirts/Tops', 'Hats'], dtype=object)"
            ]
          },
          "metadata": {},
          "execution_count": 145
        }
      ]
    },
    {
      "cell_type": "code",
      "metadata": {
        "colab": {
          "base_uri": "https://localhost:8080/"
        },
        "id": "wH1FFDwojvQn",
        "outputId": "4c25fdc5-d23b-4e85-f2fc-d2a34868da39"
      },
      "source": [
        "data.info()"
      ],
      "execution_count": null,
      "outputs": [
        {
          "output_type": "stream",
          "name": "stdout",
          "text": [
            "<class 'pandas.core.frame.DataFrame'>\n",
            "Int64Index: 91 entries, 0 to 99\n",
            "Data columns (total 11 columns):\n",
            " #   Column         Non-Null Count  Dtype   \n",
            "---  ------         --------------  -----   \n",
            " 0   Date           91 non-null     object  \n",
            " 1   CustomerID     91 non-null     int64   \n",
            " 2   ProductType    91 non-null     object  \n",
            " 3   Rating         91 non-null     object  \n",
            " 4   Total_Ratings  91 non-null     int64   \n",
            " 5   Gender         91 non-null     category\n",
            " 6   PaymentMode    91 non-null     object  \n",
            " 7   PaymentMode.1  86 non-null     object  \n",
            " 8   ShippingMode   91 non-null     string  \n",
            " 9   ShippingTime   91 non-null     float64 \n",
            " 10  Price          90 non-null     string  \n",
            "dtypes: category(1), float64(1), int64(2), object(5), string(2)\n",
            "memory usage: 8.0+ KB\n"
          ]
        }
      ]
    },
    {
      "cell_type": "code",
      "metadata": {
        "id": "pnVzB8wQYuIQ"
      },
      "source": [
        "# we will have to work with dates as well\n",
        "data.Date=pd.to_datetime(data.Date,dayfirst=True)"
      ],
      "execution_count": null,
      "outputs": []
    },
    {
      "cell_type": "code",
      "metadata": {
        "id": "FQbfYGr5YuIQ",
        "colab": {
          "base_uri": "https://localhost:8080/",
          "height": 206
        },
        "outputId": "a73a6e3d-b4c2-4121-d416-5f27ebcc714e"
      },
      "source": [
        "data.head()"
      ],
      "execution_count": null,
      "outputs": [
        {
          "output_type": "execute_result",
          "data": {
            "text/html": [
              "<div>\n",
              "<style scoped>\n",
              "    .dataframe tbody tr th:only-of-type {\n",
              "        vertical-align: middle;\n",
              "    }\n",
              "\n",
              "    .dataframe tbody tr th {\n",
              "        vertical-align: top;\n",
              "    }\n",
              "\n",
              "    .dataframe thead th {\n",
              "        text-align: right;\n",
              "    }\n",
              "</style>\n",
              "<table border=\"1\" class=\"dataframe\">\n",
              "  <thead>\n",
              "    <tr style=\"text-align: right;\">\n",
              "      <th></th>\n",
              "      <th>Date</th>\n",
              "      <th>CustomerID</th>\n",
              "      <th>ProductType</th>\n",
              "      <th>Rating</th>\n",
              "      <th>Total_Ratings</th>\n",
              "      <th>Gender</th>\n",
              "      <th>PaymentMode</th>\n",
              "      <th>PaymentMode.1</th>\n",
              "      <th>ShippingMode</th>\n",
              "      <th>ShippingTime</th>\n",
              "      <th>Price</th>\n",
              "    </tr>\n",
              "  </thead>\n",
              "  <tbody>\n",
              "    <tr>\n",
              "      <th>0</th>\n",
              "      <td>2020-08-16</td>\n",
              "      <td>10471</td>\n",
              "      <td>Coats/Jackets</td>\n",
              "      <td>1 star</td>\n",
              "      <td>8736</td>\n",
              "      <td>Female</td>\n",
              "      <td>Credit Card</td>\n",
              "      <td>Creditcard</td>\n",
              "      <td>Economy</td>\n",
              "      <td>17.0</td>\n",
              "      <td>₹ 675036.2138626401</td>\n",
              "    </tr>\n",
              "    <tr>\n",
              "      <th>1</th>\n",
              "      <td>2020-08-02</td>\n",
              "      <td>10472</td>\n",
              "      <td>Dresses</td>\n",
              "      <td>2 star</td>\n",
              "      <td>8547</td>\n",
              "      <td>Unspecified</td>\n",
              "      <td>Ewallet</td>\n",
              "      <td>Ewallet</td>\n",
              "      <td>Mail</td>\n",
              "      <td>12.0</td>\n",
              "      <td>€ 2,315.53</td>\n",
              "    </tr>\n",
              "    <tr>\n",
              "      <th>2</th>\n",
              "      <td>2020-08-08</td>\n",
              "      <td>10473</td>\n",
              "      <td>Coats/Jackets</td>\n",
              "      <td>2 star</td>\n",
              "      <td>9833</td>\n",
              "      <td>Unspecified</td>\n",
              "      <td>Prepaid Card</td>\n",
              "      <td>Prepaid Card</td>\n",
              "      <td>Mail</td>\n",
              "      <td>10.0</td>\n",
              "      <td>₹ 611426.29122378</td>\n",
              "    </tr>\n",
              "    <tr>\n",
              "      <th>5</th>\n",
              "      <td>2020-08-28</td>\n",
              "      <td>10476</td>\n",
              "      <td>Coats/Jackets</td>\n",
              "      <td>2 star</td>\n",
              "      <td>5347</td>\n",
              "      <td>Female</td>\n",
              "      <td>Direct Deposit</td>\n",
              "      <td>Direct Deposit</td>\n",
              "      <td>Mail</td>\n",
              "      <td>20.0</td>\n",
              "      <td>&lt;NA&gt;</td>\n",
              "    </tr>\n",
              "    <tr>\n",
              "      <th>6</th>\n",
              "      <td>2020-08-08</td>\n",
              "      <td>10477</td>\n",
              "      <td>Coats/Jackets</td>\n",
              "      <td>5 star</td>\n",
              "      <td>9406</td>\n",
              "      <td>Unspecified</td>\n",
              "      <td>Direct Deposit</td>\n",
              "      <td>Direct Deposit</td>\n",
              "      <td>Mail</td>\n",
              "      <td>14.0</td>\n",
              "      <td>£ 6610.077565000001</td>\n",
              "    </tr>\n",
              "  </tbody>\n",
              "</table>\n",
              "</div>"
            ],
            "text/plain": [
              "        Date  CustomerID  ... ShippingTime                Price\n",
              "0 2020-08-16       10471  ...         17.0  ₹ 675036.2138626401\n",
              "1 2020-08-02       10472  ...         12.0           € 2,315.53\n",
              "2 2020-08-08       10473  ...         10.0    ₹ 611426.29122378\n",
              "5 2020-08-28       10476  ...         20.0                 <NA>\n",
              "6 2020-08-08       10477  ...         14.0  £ 6610.077565000001\n",
              "\n",
              "[5 rows x 11 columns]"
            ]
          },
          "metadata": {},
          "execution_count": 148
        }
      ]
    },
    {
      "cell_type": "code",
      "metadata": {
        "colab": {
          "base_uri": "https://localhost:8080/"
        },
        "id": "OY3E61xQj9ol",
        "outputId": "7568ca74-2414-4399-bc04-053cabdc27e0"
      },
      "source": [
        "data.info()"
      ],
      "execution_count": null,
      "outputs": [
        {
          "output_type": "stream",
          "name": "stdout",
          "text": [
            "<class 'pandas.core.frame.DataFrame'>\n",
            "Int64Index: 91 entries, 0 to 99\n",
            "Data columns (total 11 columns):\n",
            " #   Column         Non-Null Count  Dtype         \n",
            "---  ------         --------------  -----         \n",
            " 0   Date           91 non-null     datetime64[ns]\n",
            " 1   CustomerID     91 non-null     int64         \n",
            " 2   ProductType    91 non-null     object        \n",
            " 3   Rating         91 non-null     object        \n",
            " 4   Total_Ratings  91 non-null     int64         \n",
            " 5   Gender         91 non-null     category      \n",
            " 6   PaymentMode    91 non-null     object        \n",
            " 7   PaymentMode.1  86 non-null     object        \n",
            " 8   ShippingMode   91 non-null     string        \n",
            " 9   ShippingTime   91 non-null     float64       \n",
            " 10  Price          90 non-null     string        \n",
            "dtypes: category(1), datetime64[ns](1), float64(1), int64(2), object(4), string(2)\n",
            "memory usage: 8.0+ KB\n"
          ]
        }
      ]
    },
    {
      "cell_type": "markdown",
      "metadata": {
        "id": "7KQcC3PAYuIR"
      },
      "source": [
        "### Grouping"
      ]
    },
    {
      "cell_type": "markdown",
      "metadata": {
        "id": "Dsensc2AYuIR"
      },
      "source": [
        "Robin has to calculate average shipping time for each product type. Let's see how can he do this:"
      ]
    },
    {
      "cell_type": "code",
      "metadata": {
        "colab": {
          "base_uri": "https://localhost:8080/"
        },
        "id": "MCmx8DGJk7Ki",
        "outputId": "51408a83-6c7e-4fb0-f05b-f963fc6d16e0"
      },
      "source": [
        "data.groupby(\"ProductType\")[\"ShippingTime\"].mean()"
      ],
      "execution_count": null,
      "outputs": [
        {
          "output_type": "execute_result",
          "data": {
            "text/plain": [
              "ProductType\n",
              "Cardigan         11.333333\n",
              "Coats/Jackets    12.653846\n",
              "Dresses          13.473684\n",
              "Hats             13.000000\n",
              "Jeans            11.200000\n",
              "Pants            14.485185\n",
              "Shirts/Tops      12.500000\n",
              "Name: ShippingTime, dtype: float64"
            ]
          },
          "metadata": {},
          "execution_count": 150
        }
      ]
    },
    {
      "cell_type": "code",
      "metadata": {
        "id": "LtF_b2mMmViw"
      },
      "source": [
        "#mean,min,max\n",
        "#agg([])"
      ],
      "execution_count": null,
      "outputs": []
    },
    {
      "cell_type": "code",
      "metadata": {
        "colab": {
          "base_uri": "https://localhost:8080/"
        },
        "id": "8g0cBE2JlNec",
        "outputId": "84a499e5-0445-4ce6-b250-5d9b915ca7ec"
      },
      "source": [
        "g = data.groupby(\"ProductType\")[\"ShippingTime\"]\n",
        "g.max()"
      ],
      "execution_count": null,
      "outputs": [
        {
          "output_type": "execute_result",
          "data": {
            "text/plain": [
              "ProductType\n",
              "Cardigan         16.0\n",
              "Coats/Jackets    20.0\n",
              "Dresses          20.0\n",
              "Hats             20.0\n",
              "Jeans            18.0\n",
              "Pants            20.0\n",
              "Shirts/Tops      20.0\n",
              "Name: ShippingTime, dtype: float64"
            ]
          },
          "metadata": {},
          "execution_count": 152
        }
      ]
    },
    {
      "cell_type": "code",
      "metadata": {
        "colab": {
          "base_uri": "https://localhost:8080/",
          "height": 175
        },
        "id": "gOzvCTf5l09z",
        "outputId": "81019d50-08bc-4675-a4aa-d44cd4e4e108"
      },
      "source": [
        "df = pd.DataFrame({'Animal': ['Falcon', 'Falcon',\n",
        "                              'Parrot', 'Parrot'],\n",
        "                   'Max Speed': [380., 370., 24., 26.]})\n",
        "df"
      ],
      "execution_count": null,
      "outputs": [
        {
          "output_type": "execute_result",
          "data": {
            "text/html": [
              "<div>\n",
              "<style scoped>\n",
              "    .dataframe tbody tr th:only-of-type {\n",
              "        vertical-align: middle;\n",
              "    }\n",
              "\n",
              "    .dataframe tbody tr th {\n",
              "        vertical-align: top;\n",
              "    }\n",
              "\n",
              "    .dataframe thead th {\n",
              "        text-align: right;\n",
              "    }\n",
              "</style>\n",
              "<table border=\"1\" class=\"dataframe\">\n",
              "  <thead>\n",
              "    <tr style=\"text-align: right;\">\n",
              "      <th></th>\n",
              "      <th>Animal</th>\n",
              "      <th>Max Speed</th>\n",
              "    </tr>\n",
              "  </thead>\n",
              "  <tbody>\n",
              "    <tr>\n",
              "      <th>0</th>\n",
              "      <td>Falcon</td>\n",
              "      <td>380.0</td>\n",
              "    </tr>\n",
              "    <tr>\n",
              "      <th>1</th>\n",
              "      <td>Falcon</td>\n",
              "      <td>370.0</td>\n",
              "    </tr>\n",
              "    <tr>\n",
              "      <th>2</th>\n",
              "      <td>Parrot</td>\n",
              "      <td>24.0</td>\n",
              "    </tr>\n",
              "    <tr>\n",
              "      <th>3</th>\n",
              "      <td>Parrot</td>\n",
              "      <td>26.0</td>\n",
              "    </tr>\n",
              "  </tbody>\n",
              "</table>\n",
              "</div>"
            ],
            "text/plain": [
              "   Animal  Max Speed\n",
              "0  Falcon      380.0\n",
              "1  Falcon      370.0\n",
              "2  Parrot       24.0\n",
              "3  Parrot       26.0"
            ]
          },
          "metadata": {},
          "execution_count": 153
        }
      ]
    },
    {
      "cell_type": "code",
      "metadata": {
        "colab": {
          "base_uri": "https://localhost:8080/"
        },
        "id": "vlWCiy48l1t0",
        "outputId": "982fa8f5-a430-4f00-c86a-6733e5c63b97"
      },
      "source": [
        "type(df.groupby(\"Animal\").mean())"
      ],
      "execution_count": null,
      "outputs": [
        {
          "output_type": "execute_result",
          "data": {
            "text/plain": [
              "pandas.core.frame.DataFrame"
            ]
          },
          "metadata": {},
          "execution_count": 154
        }
      ]
    },
    {
      "cell_type": "code",
      "metadata": {
        "colab": {
          "base_uri": "https://localhost:8080/",
          "height": 175
        },
        "id": "37EIpAf8mpPc",
        "outputId": "12a47d61-c4ca-4919-c527-b72b79d2ce0e"
      },
      "source": [
        "df.groupby(\"Animal\").agg([np.mean,max,min])"
      ],
      "execution_count": null,
      "outputs": [
        {
          "output_type": "execute_result",
          "data": {
            "text/html": [
              "<div>\n",
              "<style scoped>\n",
              "    .dataframe tbody tr th:only-of-type {\n",
              "        vertical-align: middle;\n",
              "    }\n",
              "\n",
              "    .dataframe tbody tr th {\n",
              "        vertical-align: top;\n",
              "    }\n",
              "\n",
              "    .dataframe thead tr th {\n",
              "        text-align: left;\n",
              "    }\n",
              "\n",
              "    .dataframe thead tr:last-of-type th {\n",
              "        text-align: right;\n",
              "    }\n",
              "</style>\n",
              "<table border=\"1\" class=\"dataframe\">\n",
              "  <thead>\n",
              "    <tr>\n",
              "      <th></th>\n",
              "      <th colspan=\"3\" halign=\"left\">Max Speed</th>\n",
              "    </tr>\n",
              "    <tr>\n",
              "      <th></th>\n",
              "      <th>mean</th>\n",
              "      <th>max</th>\n",
              "      <th>min</th>\n",
              "    </tr>\n",
              "    <tr>\n",
              "      <th>Animal</th>\n",
              "      <th></th>\n",
              "      <th></th>\n",
              "      <th></th>\n",
              "    </tr>\n",
              "  </thead>\n",
              "  <tbody>\n",
              "    <tr>\n",
              "      <th>Falcon</th>\n",
              "      <td>375.0</td>\n",
              "      <td>380.0</td>\n",
              "      <td>370.0</td>\n",
              "    </tr>\n",
              "    <tr>\n",
              "      <th>Parrot</th>\n",
              "      <td>25.0</td>\n",
              "      <td>26.0</td>\n",
              "      <td>24.0</td>\n",
              "    </tr>\n",
              "  </tbody>\n",
              "</table>\n",
              "</div>"
            ],
            "text/plain": [
              "       Max Speed              \n",
              "            mean    max    min\n",
              "Animal                        \n",
              "Falcon     375.0  380.0  370.0\n",
              "Parrot      25.0   26.0   24.0"
            ]
          },
          "metadata": {},
          "execution_count": 155
        }
      ]
    },
    {
      "cell_type": "code",
      "metadata": {
        "id": "eEilHTCAYuIR",
        "colab": {
          "base_uri": "https://localhost:8080/",
          "height": 317
        },
        "outputId": "e6cca859-7988-4b2a-9b10-fbecb6bc551f"
      },
      "source": [
        "print('Average shipping time for each product type: ')\n",
        "data.groupby('ProductType')[\"ShippingTime\"].agg([np.mean,max,min])"
      ],
      "execution_count": null,
      "outputs": [
        {
          "output_type": "stream",
          "name": "stdout",
          "text": [
            "Average shipping time for each product type: \n"
          ]
        },
        {
          "output_type": "execute_result",
          "data": {
            "text/html": [
              "<div>\n",
              "<style scoped>\n",
              "    .dataframe tbody tr th:only-of-type {\n",
              "        vertical-align: middle;\n",
              "    }\n",
              "\n",
              "    .dataframe tbody tr th {\n",
              "        vertical-align: top;\n",
              "    }\n",
              "\n",
              "    .dataframe thead th {\n",
              "        text-align: right;\n",
              "    }\n",
              "</style>\n",
              "<table border=\"1\" class=\"dataframe\">\n",
              "  <thead>\n",
              "    <tr style=\"text-align: right;\">\n",
              "      <th></th>\n",
              "      <th>mean</th>\n",
              "      <th>max</th>\n",
              "      <th>min</th>\n",
              "    </tr>\n",
              "    <tr>\n",
              "      <th>ProductType</th>\n",
              "      <th></th>\n",
              "      <th></th>\n",
              "      <th></th>\n",
              "    </tr>\n",
              "  </thead>\n",
              "  <tbody>\n",
              "    <tr>\n",
              "      <th>Cardigan</th>\n",
              "      <td>11.333333</td>\n",
              "      <td>16.0</td>\n",
              "      <td>6.0</td>\n",
              "    </tr>\n",
              "    <tr>\n",
              "      <th>Coats/Jackets</th>\n",
              "      <td>12.653846</td>\n",
              "      <td>20.0</td>\n",
              "      <td>5.0</td>\n",
              "    </tr>\n",
              "    <tr>\n",
              "      <th>Dresses</th>\n",
              "      <td>13.473684</td>\n",
              "      <td>20.0</td>\n",
              "      <td>5.0</td>\n",
              "    </tr>\n",
              "    <tr>\n",
              "      <th>Hats</th>\n",
              "      <td>13.000000</td>\n",
              "      <td>20.0</td>\n",
              "      <td>7.0</td>\n",
              "    </tr>\n",
              "    <tr>\n",
              "      <th>Jeans</th>\n",
              "      <td>11.200000</td>\n",
              "      <td>18.0</td>\n",
              "      <td>5.0</td>\n",
              "    </tr>\n",
              "    <tr>\n",
              "      <th>Pants</th>\n",
              "      <td>14.485185</td>\n",
              "      <td>20.0</td>\n",
              "      <td>9.0</td>\n",
              "    </tr>\n",
              "    <tr>\n",
              "      <th>Shirts/Tops</th>\n",
              "      <td>12.500000</td>\n",
              "      <td>20.0</td>\n",
              "      <td>5.0</td>\n",
              "    </tr>\n",
              "  </tbody>\n",
              "</table>\n",
              "</div>"
            ],
            "text/plain": [
              "                    mean   max  min\n",
              "ProductType                        \n",
              "Cardigan       11.333333  16.0  6.0\n",
              "Coats/Jackets  12.653846  20.0  5.0\n",
              "Dresses        13.473684  20.0  5.0\n",
              "Hats           13.000000  20.0  7.0\n",
              "Jeans          11.200000  18.0  5.0\n",
              "Pants          14.485185  20.0  9.0\n",
              "Shirts/Tops    12.500000  20.0  5.0"
            ]
          },
          "metadata": {},
          "execution_count": 156
        }
      ]
    },
    {
      "cell_type": "code",
      "metadata": {
        "colab": {
          "base_uri": "https://localhost:8080/"
        },
        "id": "1fSwAUKmAkez",
        "outputId": "1314124f-53a7-4730-ed99-57a6e7abd6e3"
      },
      "source": [
        "print('Average shipping time for each product type: ')\n",
        "data.groupby('ProductType')[\"ShippingTime\"].agg(np.mean)"
      ],
      "execution_count": null,
      "outputs": [
        {
          "output_type": "stream",
          "name": "stdout",
          "text": [
            "Average shipping time for each product type: \n"
          ]
        },
        {
          "output_type": "execute_result",
          "data": {
            "text/plain": [
              "ProductType\n",
              "Cardigan         11.333333\n",
              "Coats/Jackets    12.653846\n",
              "Dresses          13.473684\n",
              "Hats             13.000000\n",
              "Jeans            11.200000\n",
              "Pants            14.485185\n",
              "Shirts/Tops      12.500000\n",
              "Name: ShippingTime, dtype: float64"
            ]
          },
          "metadata": {},
          "execution_count": 157
        }
      ]
    },
    {
      "cell_type": "code",
      "metadata": {
        "id": "p4jvNmlGYuIR",
        "colab": {
          "base_uri": "https://localhost:8080/"
        },
        "outputId": "80eec84e-8934-465b-e85a-3accd00d58f6"
      },
      "source": [
        "# checking groups present in the data\n",
        "grouped=data.groupby('Gender')\n",
        "grouped.groups"
      ],
      "execution_count": null,
      "outputs": [
        {
          "output_type": "execute_result",
          "data": {
            "text/plain": [
              "{'Female': [0, 5, 9, 10, 11, 14, 16, 17, 19, 20, 31, 33, 35, 37, 39, 46, 47, 51, 54, 61, 67, 68, 72, 74, 84, 86, 93, 95, 97], 'Male': [8, 13, 15, 23, 25, 26, 34, 36, 41, 42, 44, 45, 53, 56, 63, 64, 65, 66, 69, 73, 75, 77, 80, 81, 83, 85, 90, 91, 92, 94], 'Unspecified': [1, 2, 6, 7, 12, 18, 21, 22, 24, 28, 29, 30, 32, 38, 40, 48, 49, 50, 52, 55, 57, 58, 60, 62, 70, 76, 78, 79, 82, 87, 96, 99]}"
            ]
          },
          "metadata": {},
          "execution_count": 158
        }
      ]
    },
    {
      "cell_type": "code",
      "metadata": {
        "colab": {
          "base_uri": "https://localhost:8080/",
          "height": 206
        },
        "id": "k0KISIDCnJTD",
        "outputId": "8f8c7c5b-0f61-40c3-a02b-3b079d7ec38f"
      },
      "source": [
        "data.head()"
      ],
      "execution_count": null,
      "outputs": [
        {
          "output_type": "execute_result",
          "data": {
            "text/html": [
              "<div>\n",
              "<style scoped>\n",
              "    .dataframe tbody tr th:only-of-type {\n",
              "        vertical-align: middle;\n",
              "    }\n",
              "\n",
              "    .dataframe tbody tr th {\n",
              "        vertical-align: top;\n",
              "    }\n",
              "\n",
              "    .dataframe thead th {\n",
              "        text-align: right;\n",
              "    }\n",
              "</style>\n",
              "<table border=\"1\" class=\"dataframe\">\n",
              "  <thead>\n",
              "    <tr style=\"text-align: right;\">\n",
              "      <th></th>\n",
              "      <th>Date</th>\n",
              "      <th>CustomerID</th>\n",
              "      <th>ProductType</th>\n",
              "      <th>Rating</th>\n",
              "      <th>Total_Ratings</th>\n",
              "      <th>Gender</th>\n",
              "      <th>PaymentMode</th>\n",
              "      <th>PaymentMode.1</th>\n",
              "      <th>ShippingMode</th>\n",
              "      <th>ShippingTime</th>\n",
              "      <th>Price</th>\n",
              "    </tr>\n",
              "  </thead>\n",
              "  <tbody>\n",
              "    <tr>\n",
              "      <th>0</th>\n",
              "      <td>2020-08-16</td>\n",
              "      <td>10471</td>\n",
              "      <td>Coats/Jackets</td>\n",
              "      <td>1 star</td>\n",
              "      <td>8736</td>\n",
              "      <td>Female</td>\n",
              "      <td>Credit Card</td>\n",
              "      <td>Creditcard</td>\n",
              "      <td>Economy</td>\n",
              "      <td>17.0</td>\n",
              "      <td>₹ 675036.2138626401</td>\n",
              "    </tr>\n",
              "    <tr>\n",
              "      <th>1</th>\n",
              "      <td>2020-08-02</td>\n",
              "      <td>10472</td>\n",
              "      <td>Dresses</td>\n",
              "      <td>2 star</td>\n",
              "      <td>8547</td>\n",
              "      <td>Unspecified</td>\n",
              "      <td>Ewallet</td>\n",
              "      <td>Ewallet</td>\n",
              "      <td>Mail</td>\n",
              "      <td>12.0</td>\n",
              "      <td>€ 2,315.53</td>\n",
              "    </tr>\n",
              "    <tr>\n",
              "      <th>2</th>\n",
              "      <td>2020-08-08</td>\n",
              "      <td>10473</td>\n",
              "      <td>Coats/Jackets</td>\n",
              "      <td>2 star</td>\n",
              "      <td>9833</td>\n",
              "      <td>Unspecified</td>\n",
              "      <td>Prepaid Card</td>\n",
              "      <td>Prepaid Card</td>\n",
              "      <td>Mail</td>\n",
              "      <td>10.0</td>\n",
              "      <td>₹ 611426.29122378</td>\n",
              "    </tr>\n",
              "    <tr>\n",
              "      <th>5</th>\n",
              "      <td>2020-08-28</td>\n",
              "      <td>10476</td>\n",
              "      <td>Coats/Jackets</td>\n",
              "      <td>2 star</td>\n",
              "      <td>5347</td>\n",
              "      <td>Female</td>\n",
              "      <td>Direct Deposit</td>\n",
              "      <td>Direct Deposit</td>\n",
              "      <td>Mail</td>\n",
              "      <td>20.0</td>\n",
              "      <td>&lt;NA&gt;</td>\n",
              "    </tr>\n",
              "    <tr>\n",
              "      <th>6</th>\n",
              "      <td>2020-08-08</td>\n",
              "      <td>10477</td>\n",
              "      <td>Coats/Jackets</td>\n",
              "      <td>5 star</td>\n",
              "      <td>9406</td>\n",
              "      <td>Unspecified</td>\n",
              "      <td>Direct Deposit</td>\n",
              "      <td>Direct Deposit</td>\n",
              "      <td>Mail</td>\n",
              "      <td>14.0</td>\n",
              "      <td>£ 6610.077565000001</td>\n",
              "    </tr>\n",
              "  </tbody>\n",
              "</table>\n",
              "</div>"
            ],
            "text/plain": [
              "        Date  CustomerID  ... ShippingTime                Price\n",
              "0 2020-08-16       10471  ...         17.0  ₹ 675036.2138626401\n",
              "1 2020-08-02       10472  ...         12.0           € 2,315.53\n",
              "2 2020-08-08       10473  ...         10.0    ₹ 611426.29122378\n",
              "5 2020-08-28       10476  ...         20.0                 <NA>\n",
              "6 2020-08-08       10477  ...         14.0  £ 6610.077565000001\n",
              "\n",
              "[5 rows x 11 columns]"
            ]
          },
          "metadata": {},
          "execution_count": 159
        }
      ]
    },
    {
      "cell_type": "code",
      "metadata": {
        "id": "kjBoLpD3YuIS",
        "colab": {
          "base_uri": "https://localhost:8080/",
          "height": 206
        },
        "outputId": "a2dcbc1d-43a7-4301-e8c2-f134be939c67"
      },
      "source": [
        "# First 5 records in group Male\n",
        "grouped.get_group('Male')[:5]"
      ],
      "execution_count": null,
      "outputs": [
        {
          "output_type": "execute_result",
          "data": {
            "text/html": [
              "<div>\n",
              "<style scoped>\n",
              "    .dataframe tbody tr th:only-of-type {\n",
              "        vertical-align: middle;\n",
              "    }\n",
              "\n",
              "    .dataframe tbody tr th {\n",
              "        vertical-align: top;\n",
              "    }\n",
              "\n",
              "    .dataframe thead th {\n",
              "        text-align: right;\n",
              "    }\n",
              "</style>\n",
              "<table border=\"1\" class=\"dataframe\">\n",
              "  <thead>\n",
              "    <tr style=\"text-align: right;\">\n",
              "      <th></th>\n",
              "      <th>Date</th>\n",
              "      <th>CustomerID</th>\n",
              "      <th>ProductType</th>\n",
              "      <th>Rating</th>\n",
              "      <th>Total_Ratings</th>\n",
              "      <th>Gender</th>\n",
              "      <th>PaymentMode</th>\n",
              "      <th>PaymentMode.1</th>\n",
              "      <th>ShippingMode</th>\n",
              "      <th>ShippingTime</th>\n",
              "      <th>Price</th>\n",
              "    </tr>\n",
              "  </thead>\n",
              "  <tbody>\n",
              "    <tr>\n",
              "      <th>8</th>\n",
              "      <td>2020-08-01</td>\n",
              "      <td>10479</td>\n",
              "      <td>Pants</td>\n",
              "      <td>4 star</td>\n",
              "      <td>9630</td>\n",
              "      <td>Male</td>\n",
              "      <td>Direct Deposit</td>\n",
              "      <td>Direct Deposit</td>\n",
              "      <td>Express</td>\n",
              "      <td>12.822222</td>\n",
              "      <td>£ 3010.212198</td>\n",
              "    </tr>\n",
              "    <tr>\n",
              "      <th>13</th>\n",
              "      <td>2020-08-02</td>\n",
              "      <td>10484</td>\n",
              "      <td>Coats/Jackets</td>\n",
              "      <td>1 star</td>\n",
              "      <td>5024</td>\n",
              "      <td>Male</td>\n",
              "      <td>Mobile Payment</td>\n",
              "      <td>Mobile Payment</td>\n",
              "      <td>Express</td>\n",
              "      <td>18.000000</td>\n",
              "      <td>$3,148.65</td>\n",
              "    </tr>\n",
              "    <tr>\n",
              "      <th>15</th>\n",
              "      <td>2020-08-06</td>\n",
              "      <td>10486</td>\n",
              "      <td>Coats/Jackets</td>\n",
              "      <td>1 star</td>\n",
              "      <td>6701</td>\n",
              "      <td>Male</td>\n",
              "      <td>Direct Deposit</td>\n",
              "      <td>Direct Deposit</td>\n",
              "      <td>Mail</td>\n",
              "      <td>19.000000</td>\n",
              "      <td>£ 2190.66134375</td>\n",
              "    </tr>\n",
              "    <tr>\n",
              "      <th>23</th>\n",
              "      <td>2020-08-03</td>\n",
              "      <td>10494</td>\n",
              "      <td>Dresses</td>\n",
              "      <td>2 star</td>\n",
              "      <td>5668</td>\n",
              "      <td>Male</td>\n",
              "      <td>Credit Card</td>\n",
              "      <td>Credit Card</td>\n",
              "      <td>Mail</td>\n",
              "      <td>20.000000</td>\n",
              "      <td>₹ 596893.42988816</td>\n",
              "    </tr>\n",
              "    <tr>\n",
              "      <th>25</th>\n",
              "      <td>2020-08-08</td>\n",
              "      <td>10496</td>\n",
              "      <td>Hats</td>\n",
              "      <td>4 star</td>\n",
              "      <td>6594</td>\n",
              "      <td>Male</td>\n",
              "      <td>Prepaid Card</td>\n",
              "      <td>Prepaid Card</td>\n",
              "      <td>Express</td>\n",
              "      <td>20.000000</td>\n",
              "      <td>£ 4564.22450475</td>\n",
              "    </tr>\n",
              "  </tbody>\n",
              "</table>\n",
              "</div>"
            ],
            "text/plain": [
              "         Date  CustomerID  ... ShippingTime              Price\n",
              "8  2020-08-01       10479  ...    12.822222      £ 3010.212198\n",
              "13 2020-08-02       10484  ...    18.000000         $3,148.65 \n",
              "15 2020-08-06       10486  ...    19.000000    £ 2190.66134375\n",
              "23 2020-08-03       10494  ...    20.000000  ₹ 596893.42988816\n",
              "25 2020-08-08       10496  ...    20.000000    £ 4564.22450475\n",
              "\n",
              "[5 rows x 11 columns]"
            ]
          },
          "metadata": {},
          "execution_count": 160
        }
      ]
    },
    {
      "cell_type": "code",
      "metadata": {
        "id": "SvZ8zkUsYuIS",
        "colab": {
          "base_uri": "https://localhost:8080/",
          "height": 223
        },
        "outputId": "9d3ea38b-514b-4c01-81d3-7d8ef5180337"
      },
      "source": [
        "print('Average shipping time for each Shipping mode: ')\n",
        "data.groupby('ShippingMode')[\"ShippingTime\"].agg([np.mean,max,min])"
      ],
      "execution_count": null,
      "outputs": [
        {
          "output_type": "stream",
          "name": "stdout",
          "text": [
            "Average shipping time for each Shipping mode: \n"
          ]
        },
        {
          "output_type": "execute_result",
          "data": {
            "text/html": [
              "<div>\n",
              "<style scoped>\n",
              "    .dataframe tbody tr th:only-of-type {\n",
              "        vertical-align: middle;\n",
              "    }\n",
              "\n",
              "    .dataframe tbody tr th {\n",
              "        vertical-align: top;\n",
              "    }\n",
              "\n",
              "    .dataframe thead th {\n",
              "        text-align: right;\n",
              "    }\n",
              "</style>\n",
              "<table border=\"1\" class=\"dataframe\">\n",
              "  <thead>\n",
              "    <tr style=\"text-align: right;\">\n",
              "      <th></th>\n",
              "      <th>mean</th>\n",
              "      <th>max</th>\n",
              "      <th>min</th>\n",
              "    </tr>\n",
              "    <tr>\n",
              "      <th>ShippingMode</th>\n",
              "      <th></th>\n",
              "      <th></th>\n",
              "      <th></th>\n",
              "    </tr>\n",
              "  </thead>\n",
              "  <tbody>\n",
              "    <tr>\n",
              "      <th>Economy</th>\n",
              "      <td>15.176471</td>\n",
              "      <td>20.0</td>\n",
              "      <td>8.0</td>\n",
              "    </tr>\n",
              "    <tr>\n",
              "      <th>Express</th>\n",
              "      <td>12.310101</td>\n",
              "      <td>20.0</td>\n",
              "      <td>5.0</td>\n",
              "    </tr>\n",
              "    <tr>\n",
              "      <th>Mail</th>\n",
              "      <td>12.857143</td>\n",
              "      <td>20.0</td>\n",
              "      <td>5.0</td>\n",
              "    </tr>\n",
              "    <tr>\n",
              "      <th>Normal</th>\n",
              "      <td>11.583333</td>\n",
              "      <td>18.0</td>\n",
              "      <td>5.0</td>\n",
              "    </tr>\n",
              "  </tbody>\n",
              "</table>\n",
              "</div>"
            ],
            "text/plain": [
              "                   mean   max  min\n",
              "ShippingMode                      \n",
              "Economy       15.176471  20.0  8.0\n",
              "Express       12.310101  20.0  5.0\n",
              "Mail          12.857143  20.0  5.0\n",
              "Normal        11.583333  18.0  5.0"
            ]
          },
          "metadata": {},
          "execution_count": 161
        }
      ]
    },
    {
      "cell_type": "code",
      "metadata": {
        "id": "-nSB4ZwdYuIT",
        "colab": {
          "base_uri": "https://localhost:8080/",
          "height": 756
        },
        "outputId": "6e5424a6-51d9-480d-d3f1-80240ca89ae7"
      },
      "source": [
        "print('Average total ratings for each product type based on Gender: ')\n",
        "new = data.groupby(['ProductType','Gender'])[\"Total_Ratings\"].agg([np.mean,max,min])\n",
        "new"
      ],
      "execution_count": null,
      "outputs": [
        {
          "output_type": "stream",
          "name": "stdout",
          "text": [
            "Average total ratings for each product type based on Gender: \n"
          ]
        },
        {
          "output_type": "execute_result",
          "data": {
            "text/html": [
              "<div>\n",
              "<style scoped>\n",
              "    .dataframe tbody tr th:only-of-type {\n",
              "        vertical-align: middle;\n",
              "    }\n",
              "\n",
              "    .dataframe tbody tr th {\n",
              "        vertical-align: top;\n",
              "    }\n",
              "\n",
              "    .dataframe thead th {\n",
              "        text-align: right;\n",
              "    }\n",
              "</style>\n",
              "<table border=\"1\" class=\"dataframe\">\n",
              "  <thead>\n",
              "    <tr style=\"text-align: right;\">\n",
              "      <th></th>\n",
              "      <th></th>\n",
              "      <th>mean</th>\n",
              "      <th>max</th>\n",
              "      <th>min</th>\n",
              "    </tr>\n",
              "    <tr>\n",
              "      <th>ProductType</th>\n",
              "      <th>Gender</th>\n",
              "      <th></th>\n",
              "      <th></th>\n",
              "      <th></th>\n",
              "    </tr>\n",
              "  </thead>\n",
              "  <tbody>\n",
              "    <tr>\n",
              "      <th rowspan=\"3\" valign=\"top\">Cardigan</th>\n",
              "      <th>Female</th>\n",
              "      <td>8524.000000</td>\n",
              "      <td>9925</td>\n",
              "      <td>6081</td>\n",
              "    </tr>\n",
              "    <tr>\n",
              "      <th>Male</th>\n",
              "      <td>6313.500000</td>\n",
              "      <td>7547</td>\n",
              "      <td>5080</td>\n",
              "    </tr>\n",
              "    <tr>\n",
              "      <th>Unspecified</th>\n",
              "      <td>7021.000000</td>\n",
              "      <td>7021</td>\n",
              "      <td>7021</td>\n",
              "    </tr>\n",
              "    <tr>\n",
              "      <th rowspan=\"3\" valign=\"top\">Coats/Jackets</th>\n",
              "      <th>Female</th>\n",
              "      <td>7577.000000</td>\n",
              "      <td>9714</td>\n",
              "      <td>5037</td>\n",
              "    </tr>\n",
              "    <tr>\n",
              "      <th>Male</th>\n",
              "      <td>7052.750000</td>\n",
              "      <td>9832</td>\n",
              "      <td>5024</td>\n",
              "    </tr>\n",
              "    <tr>\n",
              "      <th>Unspecified</th>\n",
              "      <td>8021.625000</td>\n",
              "      <td>9833</td>\n",
              "      <td>5498</td>\n",
              "    </tr>\n",
              "    <tr>\n",
              "      <th rowspan=\"3\" valign=\"top\">Dresses</th>\n",
              "      <th>Female</th>\n",
              "      <td>8121.000000</td>\n",
              "      <td>9142</td>\n",
              "      <td>7287</td>\n",
              "    </tr>\n",
              "    <tr>\n",
              "      <th>Male</th>\n",
              "      <td>7202.111111</td>\n",
              "      <td>9570</td>\n",
              "      <td>5485</td>\n",
              "    </tr>\n",
              "    <tr>\n",
              "      <th>Unspecified</th>\n",
              "      <td>8319.250000</td>\n",
              "      <td>9365</td>\n",
              "      <td>6195</td>\n",
              "    </tr>\n",
              "    <tr>\n",
              "      <th rowspan=\"3\" valign=\"top\">Hats</th>\n",
              "      <th>Female</th>\n",
              "      <td>7532.000000</td>\n",
              "      <td>7532</td>\n",
              "      <td>7532</td>\n",
              "    </tr>\n",
              "    <tr>\n",
              "      <th>Male</th>\n",
              "      <td>7819.000000</td>\n",
              "      <td>8734</td>\n",
              "      <td>6594</td>\n",
              "    </tr>\n",
              "    <tr>\n",
              "      <th>Unspecified</th>\n",
              "      <td>5830.000000</td>\n",
              "      <td>6040</td>\n",
              "      <td>5620</td>\n",
              "    </tr>\n",
              "    <tr>\n",
              "      <th rowspan=\"3\" valign=\"top\">Jeans</th>\n",
              "      <th>Female</th>\n",
              "      <td>7842.000000</td>\n",
              "      <td>8399</td>\n",
              "      <td>7285</td>\n",
              "    </tr>\n",
              "    <tr>\n",
              "      <th>Male</th>\n",
              "      <td>6955.500000</td>\n",
              "      <td>7033</td>\n",
              "      <td>6878</td>\n",
              "    </tr>\n",
              "    <tr>\n",
              "      <th>Unspecified</th>\n",
              "      <td>8380.500000</td>\n",
              "      <td>9482</td>\n",
              "      <td>7352</td>\n",
              "    </tr>\n",
              "    <tr>\n",
              "      <th rowspan=\"3\" valign=\"top\">Pants</th>\n",
              "      <th>Female</th>\n",
              "      <td>7048.200000</td>\n",
              "      <td>7816</td>\n",
              "      <td>5783</td>\n",
              "    </tr>\n",
              "    <tr>\n",
              "      <th>Male</th>\n",
              "      <td>8023.000000</td>\n",
              "      <td>9630</td>\n",
              "      <td>6416</td>\n",
              "    </tr>\n",
              "    <tr>\n",
              "      <th>Unspecified</th>\n",
              "      <td>7590.400000</td>\n",
              "      <td>8745</td>\n",
              "      <td>6569</td>\n",
              "    </tr>\n",
              "    <tr>\n",
              "      <th rowspan=\"3\" valign=\"top\">Shirts/Tops</th>\n",
              "      <th>Female</th>\n",
              "      <td>9057.500000</td>\n",
              "      <td>9296</td>\n",
              "      <td>8819</td>\n",
              "    </tr>\n",
              "    <tr>\n",
              "      <th>Male</th>\n",
              "      <td>7708.500000</td>\n",
              "      <td>9965</td>\n",
              "      <td>5757</td>\n",
              "    </tr>\n",
              "    <tr>\n",
              "      <th>Unspecified</th>\n",
              "      <td>7351.000000</td>\n",
              "      <td>9015</td>\n",
              "      <td>5077</td>\n",
              "    </tr>\n",
              "  </tbody>\n",
              "</table>\n",
              "</div>"
            ],
            "text/plain": [
              "                                  mean   max   min\n",
              "ProductType   Gender                              \n",
              "Cardigan      Female       8524.000000  9925  6081\n",
              "              Male         6313.500000  7547  5080\n",
              "              Unspecified  7021.000000  7021  7021\n",
              "Coats/Jackets Female       7577.000000  9714  5037\n",
              "              Male         7052.750000  9832  5024\n",
              "              Unspecified  8021.625000  9833  5498\n",
              "Dresses       Female       8121.000000  9142  7287\n",
              "              Male         7202.111111  9570  5485\n",
              "              Unspecified  8319.250000  9365  6195\n",
              "Hats          Female       7532.000000  7532  7532\n",
              "              Male         7819.000000  8734  6594\n",
              "              Unspecified  5830.000000  6040  5620\n",
              "Jeans         Female       7842.000000  8399  7285\n",
              "              Male         6955.500000  7033  6878\n",
              "              Unspecified  8380.500000  9482  7352\n",
              "Pants         Female       7048.200000  7816  5783\n",
              "              Male         8023.000000  9630  6416\n",
              "              Unspecified  7590.400000  8745  6569\n",
              "Shirts/Tops   Female       9057.500000  9296  8819\n",
              "              Male         7708.500000  9965  5757\n",
              "              Unspecified  7351.000000  9015  5077"
            ]
          },
          "metadata": {},
          "execution_count": 162
        }
      ]
    },
    {
      "cell_type": "code",
      "metadata": {
        "colab": {
          "base_uri": "https://localhost:8080/",
          "height": 707
        },
        "id": "MHVASvZNn8do",
        "outputId": "10e8ee63-45e9-4b3f-a623-937df3760fa1"
      },
      "source": [
        "new.reset_index()"
      ],
      "execution_count": null,
      "outputs": [
        {
          "output_type": "execute_result",
          "data": {
            "text/html": [
              "<div>\n",
              "<style scoped>\n",
              "    .dataframe tbody tr th:only-of-type {\n",
              "        vertical-align: middle;\n",
              "    }\n",
              "\n",
              "    .dataframe tbody tr th {\n",
              "        vertical-align: top;\n",
              "    }\n",
              "\n",
              "    .dataframe thead th {\n",
              "        text-align: right;\n",
              "    }\n",
              "</style>\n",
              "<table border=\"1\" class=\"dataframe\">\n",
              "  <thead>\n",
              "    <tr style=\"text-align: right;\">\n",
              "      <th></th>\n",
              "      <th>ProductType</th>\n",
              "      <th>Gender</th>\n",
              "      <th>mean</th>\n",
              "      <th>max</th>\n",
              "      <th>min</th>\n",
              "    </tr>\n",
              "  </thead>\n",
              "  <tbody>\n",
              "    <tr>\n",
              "      <th>0</th>\n",
              "      <td>Cardigan</td>\n",
              "      <td>Female</td>\n",
              "      <td>8524.000000</td>\n",
              "      <td>9925</td>\n",
              "      <td>6081</td>\n",
              "    </tr>\n",
              "    <tr>\n",
              "      <th>1</th>\n",
              "      <td>Cardigan</td>\n",
              "      <td>Male</td>\n",
              "      <td>6313.500000</td>\n",
              "      <td>7547</td>\n",
              "      <td>5080</td>\n",
              "    </tr>\n",
              "    <tr>\n",
              "      <th>2</th>\n",
              "      <td>Cardigan</td>\n",
              "      <td>Unspecified</td>\n",
              "      <td>7021.000000</td>\n",
              "      <td>7021</td>\n",
              "      <td>7021</td>\n",
              "    </tr>\n",
              "    <tr>\n",
              "      <th>3</th>\n",
              "      <td>Coats/Jackets</td>\n",
              "      <td>Female</td>\n",
              "      <td>7577.000000</td>\n",
              "      <td>9714</td>\n",
              "      <td>5037</td>\n",
              "    </tr>\n",
              "    <tr>\n",
              "      <th>4</th>\n",
              "      <td>Coats/Jackets</td>\n",
              "      <td>Male</td>\n",
              "      <td>7052.750000</td>\n",
              "      <td>9832</td>\n",
              "      <td>5024</td>\n",
              "    </tr>\n",
              "    <tr>\n",
              "      <th>5</th>\n",
              "      <td>Coats/Jackets</td>\n",
              "      <td>Unspecified</td>\n",
              "      <td>8021.625000</td>\n",
              "      <td>9833</td>\n",
              "      <td>5498</td>\n",
              "    </tr>\n",
              "    <tr>\n",
              "      <th>6</th>\n",
              "      <td>Dresses</td>\n",
              "      <td>Female</td>\n",
              "      <td>8121.000000</td>\n",
              "      <td>9142</td>\n",
              "      <td>7287</td>\n",
              "    </tr>\n",
              "    <tr>\n",
              "      <th>7</th>\n",
              "      <td>Dresses</td>\n",
              "      <td>Male</td>\n",
              "      <td>7202.111111</td>\n",
              "      <td>9570</td>\n",
              "      <td>5485</td>\n",
              "    </tr>\n",
              "    <tr>\n",
              "      <th>8</th>\n",
              "      <td>Dresses</td>\n",
              "      <td>Unspecified</td>\n",
              "      <td>8319.250000</td>\n",
              "      <td>9365</td>\n",
              "      <td>6195</td>\n",
              "    </tr>\n",
              "    <tr>\n",
              "      <th>9</th>\n",
              "      <td>Hats</td>\n",
              "      <td>Female</td>\n",
              "      <td>7532.000000</td>\n",
              "      <td>7532</td>\n",
              "      <td>7532</td>\n",
              "    </tr>\n",
              "    <tr>\n",
              "      <th>10</th>\n",
              "      <td>Hats</td>\n",
              "      <td>Male</td>\n",
              "      <td>7819.000000</td>\n",
              "      <td>8734</td>\n",
              "      <td>6594</td>\n",
              "    </tr>\n",
              "    <tr>\n",
              "      <th>11</th>\n",
              "      <td>Hats</td>\n",
              "      <td>Unspecified</td>\n",
              "      <td>5830.000000</td>\n",
              "      <td>6040</td>\n",
              "      <td>5620</td>\n",
              "    </tr>\n",
              "    <tr>\n",
              "      <th>12</th>\n",
              "      <td>Jeans</td>\n",
              "      <td>Female</td>\n",
              "      <td>7842.000000</td>\n",
              "      <td>8399</td>\n",
              "      <td>7285</td>\n",
              "    </tr>\n",
              "    <tr>\n",
              "      <th>13</th>\n",
              "      <td>Jeans</td>\n",
              "      <td>Male</td>\n",
              "      <td>6955.500000</td>\n",
              "      <td>7033</td>\n",
              "      <td>6878</td>\n",
              "    </tr>\n",
              "    <tr>\n",
              "      <th>14</th>\n",
              "      <td>Jeans</td>\n",
              "      <td>Unspecified</td>\n",
              "      <td>8380.500000</td>\n",
              "      <td>9482</td>\n",
              "      <td>7352</td>\n",
              "    </tr>\n",
              "    <tr>\n",
              "      <th>15</th>\n",
              "      <td>Pants</td>\n",
              "      <td>Female</td>\n",
              "      <td>7048.200000</td>\n",
              "      <td>7816</td>\n",
              "      <td>5783</td>\n",
              "    </tr>\n",
              "    <tr>\n",
              "      <th>16</th>\n",
              "      <td>Pants</td>\n",
              "      <td>Male</td>\n",
              "      <td>8023.000000</td>\n",
              "      <td>9630</td>\n",
              "      <td>6416</td>\n",
              "    </tr>\n",
              "    <tr>\n",
              "      <th>17</th>\n",
              "      <td>Pants</td>\n",
              "      <td>Unspecified</td>\n",
              "      <td>7590.400000</td>\n",
              "      <td>8745</td>\n",
              "      <td>6569</td>\n",
              "    </tr>\n",
              "    <tr>\n",
              "      <th>18</th>\n",
              "      <td>Shirts/Tops</td>\n",
              "      <td>Female</td>\n",
              "      <td>9057.500000</td>\n",
              "      <td>9296</td>\n",
              "      <td>8819</td>\n",
              "    </tr>\n",
              "    <tr>\n",
              "      <th>19</th>\n",
              "      <td>Shirts/Tops</td>\n",
              "      <td>Male</td>\n",
              "      <td>7708.500000</td>\n",
              "      <td>9965</td>\n",
              "      <td>5757</td>\n",
              "    </tr>\n",
              "    <tr>\n",
              "      <th>20</th>\n",
              "      <td>Shirts/Tops</td>\n",
              "      <td>Unspecified</td>\n",
              "      <td>7351.000000</td>\n",
              "      <td>9015</td>\n",
              "      <td>5077</td>\n",
              "    </tr>\n",
              "  </tbody>\n",
              "</table>\n",
              "</div>"
            ],
            "text/plain": [
              "      ProductType       Gender         mean   max   min\n",
              "0        Cardigan       Female  8524.000000  9925  6081\n",
              "1        Cardigan         Male  6313.500000  7547  5080\n",
              "2        Cardigan  Unspecified  7021.000000  7021  7021\n",
              "3   Coats/Jackets       Female  7577.000000  9714  5037\n",
              "4   Coats/Jackets         Male  7052.750000  9832  5024\n",
              "5   Coats/Jackets  Unspecified  8021.625000  9833  5498\n",
              "6         Dresses       Female  8121.000000  9142  7287\n",
              "7         Dresses         Male  7202.111111  9570  5485\n",
              "8         Dresses  Unspecified  8319.250000  9365  6195\n",
              "9            Hats       Female  7532.000000  7532  7532\n",
              "10           Hats         Male  7819.000000  8734  6594\n",
              "11           Hats  Unspecified  5830.000000  6040  5620\n",
              "12          Jeans       Female  7842.000000  8399  7285\n",
              "13          Jeans         Male  6955.500000  7033  6878\n",
              "14          Jeans  Unspecified  8380.500000  9482  7352\n",
              "15          Pants       Female  7048.200000  7816  5783\n",
              "16          Pants         Male  8023.000000  9630  6416\n",
              "17          Pants  Unspecified  7590.400000  8745  6569\n",
              "18    Shirts/Tops       Female  9057.500000  9296  8819\n",
              "19    Shirts/Tops         Male  7708.500000  9965  5757\n",
              "20    Shirts/Tops  Unspecified  7351.000000  9015  5077"
            ]
          },
          "metadata": {},
          "execution_count": 163
        }
      ]
    },
    {
      "cell_type": "code",
      "metadata": {
        "id": "CAWg5x8RYuIT",
        "colab": {
          "base_uri": "https://localhost:8080/",
          "height": 756
        },
        "outputId": "7311f096-fe0e-4512-83cc-9cac9ab1a86f"
      },
      "source": [
        "print('Average shipping time for each product type based on Gender: ')\n",
        "data.groupby(['ProductType','Gender'])[\"ShippingTime\"].agg([np.mean,max,min])"
      ],
      "execution_count": null,
      "outputs": [
        {
          "output_type": "stream",
          "name": "stdout",
          "text": [
            "Average shipping time for each product type based on Gender: \n"
          ]
        },
        {
          "output_type": "execute_result",
          "data": {
            "text/html": [
              "<div>\n",
              "<style scoped>\n",
              "    .dataframe tbody tr th:only-of-type {\n",
              "        vertical-align: middle;\n",
              "    }\n",
              "\n",
              "    .dataframe tbody tr th {\n",
              "        vertical-align: top;\n",
              "    }\n",
              "\n",
              "    .dataframe thead th {\n",
              "        text-align: right;\n",
              "    }\n",
              "</style>\n",
              "<table border=\"1\" class=\"dataframe\">\n",
              "  <thead>\n",
              "    <tr style=\"text-align: right;\">\n",
              "      <th></th>\n",
              "      <th></th>\n",
              "      <th>mean</th>\n",
              "      <th>max</th>\n",
              "      <th>min</th>\n",
              "    </tr>\n",
              "    <tr>\n",
              "      <th>ProductType</th>\n",
              "      <th>Gender</th>\n",
              "      <th></th>\n",
              "      <th></th>\n",
              "      <th></th>\n",
              "    </tr>\n",
              "  </thead>\n",
              "  <tbody>\n",
              "    <tr>\n",
              "      <th rowspan=\"3\" valign=\"top\">Cardigan</th>\n",
              "      <th>Female</th>\n",
              "      <td>13.333333</td>\n",
              "      <td>16.0</td>\n",
              "      <td>12.000000</td>\n",
              "    </tr>\n",
              "    <tr>\n",
              "      <th>Male</th>\n",
              "      <td>11.000000</td>\n",
              "      <td>14.0</td>\n",
              "      <td>8.000000</td>\n",
              "    </tr>\n",
              "    <tr>\n",
              "      <th>Unspecified</th>\n",
              "      <td>6.000000</td>\n",
              "      <td>6.0</td>\n",
              "      <td>6.000000</td>\n",
              "    </tr>\n",
              "    <tr>\n",
              "      <th rowspan=\"3\" valign=\"top\">Coats/Jackets</th>\n",
              "      <th>Female</th>\n",
              "      <td>14.100000</td>\n",
              "      <td>20.0</td>\n",
              "      <td>5.000000</td>\n",
              "    </tr>\n",
              "    <tr>\n",
              "      <th>Male</th>\n",
              "      <td>13.000000</td>\n",
              "      <td>19.0</td>\n",
              "      <td>6.000000</td>\n",
              "    </tr>\n",
              "    <tr>\n",
              "      <th>Unspecified</th>\n",
              "      <td>10.500000</td>\n",
              "      <td>14.0</td>\n",
              "      <td>8.000000</td>\n",
              "    </tr>\n",
              "    <tr>\n",
              "      <th rowspan=\"3\" valign=\"top\">Dresses</th>\n",
              "      <th>Female</th>\n",
              "      <td>12.000000</td>\n",
              "      <td>20.0</td>\n",
              "      <td>5.000000</td>\n",
              "    </tr>\n",
              "    <tr>\n",
              "      <th>Male</th>\n",
              "      <td>14.555556</td>\n",
              "      <td>20.0</td>\n",
              "      <td>5.000000</td>\n",
              "    </tr>\n",
              "    <tr>\n",
              "      <th>Unspecified</th>\n",
              "      <td>13.250000</td>\n",
              "      <td>19.0</td>\n",
              "      <td>9.000000</td>\n",
              "    </tr>\n",
              "    <tr>\n",
              "      <th rowspan=\"3\" valign=\"top\">Hats</th>\n",
              "      <th>Female</th>\n",
              "      <td>7.000000</td>\n",
              "      <td>7.0</td>\n",
              "      <td>7.000000</td>\n",
              "    </tr>\n",
              "    <tr>\n",
              "      <th>Male</th>\n",
              "      <td>17.333333</td>\n",
              "      <td>20.0</td>\n",
              "      <td>16.000000</td>\n",
              "    </tr>\n",
              "    <tr>\n",
              "      <th>Unspecified</th>\n",
              "      <td>9.500000</td>\n",
              "      <td>12.0</td>\n",
              "      <td>7.000000</td>\n",
              "    </tr>\n",
              "    <tr>\n",
              "      <th rowspan=\"3\" valign=\"top\">Jeans</th>\n",
              "      <th>Female</th>\n",
              "      <td>11.000000</td>\n",
              "      <td>14.0</td>\n",
              "      <td>8.000000</td>\n",
              "    </tr>\n",
              "    <tr>\n",
              "      <th>Male</th>\n",
              "      <td>12.000000</td>\n",
              "      <td>14.0</td>\n",
              "      <td>10.000000</td>\n",
              "    </tr>\n",
              "    <tr>\n",
              "      <th>Unspecified</th>\n",
              "      <td>11.000000</td>\n",
              "      <td>18.0</td>\n",
              "      <td>5.000000</td>\n",
              "    </tr>\n",
              "    <tr>\n",
              "      <th rowspan=\"3\" valign=\"top\">Pants</th>\n",
              "      <th>Female</th>\n",
              "      <td>14.000000</td>\n",
              "      <td>19.0</td>\n",
              "      <td>10.000000</td>\n",
              "    </tr>\n",
              "    <tr>\n",
              "      <th>Male</th>\n",
              "      <td>16.411111</td>\n",
              "      <td>20.0</td>\n",
              "      <td>12.822222</td>\n",
              "    </tr>\n",
              "    <tr>\n",
              "      <th>Unspecified</th>\n",
              "      <td>14.200000</td>\n",
              "      <td>18.0</td>\n",
              "      <td>9.000000</td>\n",
              "    </tr>\n",
              "    <tr>\n",
              "      <th rowspan=\"3\" valign=\"top\">Shirts/Tops</th>\n",
              "      <th>Female</th>\n",
              "      <td>18.500000</td>\n",
              "      <td>20.0</td>\n",
              "      <td>17.000000</td>\n",
              "    </tr>\n",
              "    <tr>\n",
              "      <th>Male</th>\n",
              "      <td>10.000000</td>\n",
              "      <td>15.0</td>\n",
              "      <td>7.000000</td>\n",
              "    </tr>\n",
              "    <tr>\n",
              "      <th>Unspecified</th>\n",
              "      <td>12.166667</td>\n",
              "      <td>17.0</td>\n",
              "      <td>5.000000</td>\n",
              "    </tr>\n",
              "  </tbody>\n",
              "</table>\n",
              "</div>"
            ],
            "text/plain": [
              "                                mean   max        min\n",
              "ProductType   Gender                                 \n",
              "Cardigan      Female       13.333333  16.0  12.000000\n",
              "              Male         11.000000  14.0   8.000000\n",
              "              Unspecified   6.000000   6.0   6.000000\n",
              "Coats/Jackets Female       14.100000  20.0   5.000000\n",
              "              Male         13.000000  19.0   6.000000\n",
              "              Unspecified  10.500000  14.0   8.000000\n",
              "Dresses       Female       12.000000  20.0   5.000000\n",
              "              Male         14.555556  20.0   5.000000\n",
              "              Unspecified  13.250000  19.0   9.000000\n",
              "Hats          Female        7.000000   7.0   7.000000\n",
              "              Male         17.333333  20.0  16.000000\n",
              "              Unspecified   9.500000  12.0   7.000000\n",
              "Jeans         Female       11.000000  14.0   8.000000\n",
              "              Male         12.000000  14.0  10.000000\n",
              "              Unspecified  11.000000  18.0   5.000000\n",
              "Pants         Female       14.000000  19.0  10.000000\n",
              "              Male         16.411111  20.0  12.822222\n",
              "              Unspecified  14.200000  18.0   9.000000\n",
              "Shirts/Tops   Female       18.500000  20.0  17.000000\n",
              "              Male         10.000000  15.0   7.000000\n",
              "              Unspecified  12.166667  17.0   5.000000"
            ]
          },
          "metadata": {},
          "execution_count": 164
        }
      ]
    },
    {
      "cell_type": "code",
      "metadata": {
        "colab": {
          "base_uri": "https://localhost:8080/",
          "height": 206
        },
        "id": "HJFY8L-3BL2u",
        "outputId": "cac1b7da-20db-458d-b3e5-1a2752f7dd4c"
      },
      "source": [
        "data.head()"
      ],
      "execution_count": null,
      "outputs": [
        {
          "output_type": "execute_result",
          "data": {
            "text/html": [
              "<div>\n",
              "<style scoped>\n",
              "    .dataframe tbody tr th:only-of-type {\n",
              "        vertical-align: middle;\n",
              "    }\n",
              "\n",
              "    .dataframe tbody tr th {\n",
              "        vertical-align: top;\n",
              "    }\n",
              "\n",
              "    .dataframe thead th {\n",
              "        text-align: right;\n",
              "    }\n",
              "</style>\n",
              "<table border=\"1\" class=\"dataframe\">\n",
              "  <thead>\n",
              "    <tr style=\"text-align: right;\">\n",
              "      <th></th>\n",
              "      <th>Date</th>\n",
              "      <th>CustomerID</th>\n",
              "      <th>ProductType</th>\n",
              "      <th>Rating</th>\n",
              "      <th>Total_Ratings</th>\n",
              "      <th>Gender</th>\n",
              "      <th>PaymentMode</th>\n",
              "      <th>PaymentMode.1</th>\n",
              "      <th>ShippingMode</th>\n",
              "      <th>ShippingTime</th>\n",
              "      <th>Price</th>\n",
              "    </tr>\n",
              "  </thead>\n",
              "  <tbody>\n",
              "    <tr>\n",
              "      <th>0</th>\n",
              "      <td>2020-08-16</td>\n",
              "      <td>10471</td>\n",
              "      <td>Coats/Jackets</td>\n",
              "      <td>1 star</td>\n",
              "      <td>8736</td>\n",
              "      <td>Female</td>\n",
              "      <td>Credit Card</td>\n",
              "      <td>Creditcard</td>\n",
              "      <td>Economy</td>\n",
              "      <td>17.0</td>\n",
              "      <td>₹ 675036.2138626401</td>\n",
              "    </tr>\n",
              "    <tr>\n",
              "      <th>1</th>\n",
              "      <td>2020-08-02</td>\n",
              "      <td>10472</td>\n",
              "      <td>Dresses</td>\n",
              "      <td>2 star</td>\n",
              "      <td>8547</td>\n",
              "      <td>Unspecified</td>\n",
              "      <td>Ewallet</td>\n",
              "      <td>Ewallet</td>\n",
              "      <td>Mail</td>\n",
              "      <td>12.0</td>\n",
              "      <td>€ 2,315.53</td>\n",
              "    </tr>\n",
              "    <tr>\n",
              "      <th>2</th>\n",
              "      <td>2020-08-08</td>\n",
              "      <td>10473</td>\n",
              "      <td>Coats/Jackets</td>\n",
              "      <td>2 star</td>\n",
              "      <td>9833</td>\n",
              "      <td>Unspecified</td>\n",
              "      <td>Prepaid Card</td>\n",
              "      <td>Prepaid Card</td>\n",
              "      <td>Mail</td>\n",
              "      <td>10.0</td>\n",
              "      <td>₹ 611426.29122378</td>\n",
              "    </tr>\n",
              "    <tr>\n",
              "      <th>5</th>\n",
              "      <td>2020-08-28</td>\n",
              "      <td>10476</td>\n",
              "      <td>Coats/Jackets</td>\n",
              "      <td>2 star</td>\n",
              "      <td>5347</td>\n",
              "      <td>Female</td>\n",
              "      <td>Direct Deposit</td>\n",
              "      <td>Direct Deposit</td>\n",
              "      <td>Mail</td>\n",
              "      <td>20.0</td>\n",
              "      <td>&lt;NA&gt;</td>\n",
              "    </tr>\n",
              "    <tr>\n",
              "      <th>6</th>\n",
              "      <td>2020-08-08</td>\n",
              "      <td>10477</td>\n",
              "      <td>Coats/Jackets</td>\n",
              "      <td>5 star</td>\n",
              "      <td>9406</td>\n",
              "      <td>Unspecified</td>\n",
              "      <td>Direct Deposit</td>\n",
              "      <td>Direct Deposit</td>\n",
              "      <td>Mail</td>\n",
              "      <td>14.0</td>\n",
              "      <td>£ 6610.077565000001</td>\n",
              "    </tr>\n",
              "  </tbody>\n",
              "</table>\n",
              "</div>"
            ],
            "text/plain": [
              "        Date  CustomerID  ... ShippingTime                Price\n",
              "0 2020-08-16       10471  ...         17.0  ₹ 675036.2138626401\n",
              "1 2020-08-02       10472  ...         12.0           € 2,315.53\n",
              "2 2020-08-08       10473  ...         10.0    ₹ 611426.29122378\n",
              "5 2020-08-28       10476  ...         20.0                 <NA>\n",
              "6 2020-08-08       10477  ...         14.0  £ 6610.077565000001\n",
              "\n",
              "[5 rows x 11 columns]"
            ]
          },
          "metadata": {},
          "execution_count": 165
        }
      ]
    },
    {
      "cell_type": "markdown",
      "metadata": {
        "id": "FAOzqiXICD8Q"
      },
      "source": [
        "https://pandas.pydata.org/docs/reference/api/pandas.pivot_table.html"
      ]
    },
    {
      "cell_type": "code",
      "metadata": {
        "id": "anP2jQ-fYuIU",
        "colab": {
          "base_uri": "https://localhost:8080/",
          "height": 913
        },
        "outputId": "41659319-8d51-48c1-a449-6f903cc7fd08"
      },
      "source": [
        "# Pandas provide an easy way to calculate the aggregate using pivot_table function\n",
        "print('Average shipping time for products ordered on days for each shipping mode:')\n",
        "pd.pivot_table(data,index='Date',columns='ShippingMode',values='ShippingTime')"
      ],
      "execution_count": null,
      "outputs": [
        {
          "output_type": "stream",
          "name": "stdout",
          "text": [
            "Average shipping time for products ordered on days for each shipping mode:\n"
          ]
        },
        {
          "output_type": "execute_result",
          "data": {
            "text/html": [
              "<div>\n",
              "<style scoped>\n",
              "    .dataframe tbody tr th:only-of-type {\n",
              "        vertical-align: middle;\n",
              "    }\n",
              "\n",
              "    .dataframe tbody tr th {\n",
              "        vertical-align: top;\n",
              "    }\n",
              "\n",
              "    .dataframe thead th {\n",
              "        text-align: right;\n",
              "    }\n",
              "</style>\n",
              "<table border=\"1\" class=\"dataframe\">\n",
              "  <thead>\n",
              "    <tr style=\"text-align: right;\">\n",
              "      <th>ShippingMode</th>\n",
              "      <th>Economy</th>\n",
              "      <th>Express</th>\n",
              "      <th>Mail</th>\n",
              "      <th>Normal</th>\n",
              "    </tr>\n",
              "    <tr>\n",
              "      <th>Date</th>\n",
              "      <th></th>\n",
              "      <th></th>\n",
              "      <th></th>\n",
              "      <th></th>\n",
              "    </tr>\n",
              "  </thead>\n",
              "  <tbody>\n",
              "    <tr>\n",
              "      <th>2020-08-01</th>\n",
              "      <td>NaN</td>\n",
              "      <td>12.822222</td>\n",
              "      <td>11.0</td>\n",
              "      <td>9.000000</td>\n",
              "    </tr>\n",
              "    <tr>\n",
              "      <th>2020-08-02</th>\n",
              "      <td>20.0</td>\n",
              "      <td>18.000000</td>\n",
              "      <td>10.5</td>\n",
              "      <td>12.000000</td>\n",
              "    </tr>\n",
              "    <tr>\n",
              "      <th>2020-08-03</th>\n",
              "      <td>NaN</td>\n",
              "      <td>8.000000</td>\n",
              "      <td>20.0</td>\n",
              "      <td>NaN</td>\n",
              "    </tr>\n",
              "    <tr>\n",
              "      <th>2020-08-04</th>\n",
              "      <td>NaN</td>\n",
              "      <td>5.000000</td>\n",
              "      <td>NaN</td>\n",
              "      <td>12.333333</td>\n",
              "    </tr>\n",
              "    <tr>\n",
              "      <th>2020-08-05</th>\n",
              "      <td>20.0</td>\n",
              "      <td>NaN</td>\n",
              "      <td>NaN</td>\n",
              "      <td>10.000000</td>\n",
              "    </tr>\n",
              "    <tr>\n",
              "      <th>2020-08-06</th>\n",
              "      <td>NaN</td>\n",
              "      <td>14.500000</td>\n",
              "      <td>19.0</td>\n",
              "      <td>7.000000</td>\n",
              "    </tr>\n",
              "    <tr>\n",
              "      <th>2020-08-07</th>\n",
              "      <td>13.0</td>\n",
              "      <td>NaN</td>\n",
              "      <td>14.0</td>\n",
              "      <td>NaN</td>\n",
              "    </tr>\n",
              "    <tr>\n",
              "      <th>2020-08-08</th>\n",
              "      <td>NaN</td>\n",
              "      <td>13.500000</td>\n",
              "      <td>11.8</td>\n",
              "      <td>14.000000</td>\n",
              "    </tr>\n",
              "    <tr>\n",
              "      <th>2020-08-09</th>\n",
              "      <td>NaN</td>\n",
              "      <td>16.000000</td>\n",
              "      <td>NaN</td>\n",
              "      <td>NaN</td>\n",
              "    </tr>\n",
              "    <tr>\n",
              "      <th>2020-08-11</th>\n",
              "      <td>19.0</td>\n",
              "      <td>6.000000</td>\n",
              "      <td>NaN</td>\n",
              "      <td>NaN</td>\n",
              "    </tr>\n",
              "    <tr>\n",
              "      <th>2020-08-12</th>\n",
              "      <td>16.0</td>\n",
              "      <td>15.000000</td>\n",
              "      <td>9.0</td>\n",
              "      <td>NaN</td>\n",
              "    </tr>\n",
              "    <tr>\n",
              "      <th>2020-08-13</th>\n",
              "      <td>9.0</td>\n",
              "      <td>19.000000</td>\n",
              "      <td>NaN</td>\n",
              "      <td>NaN</td>\n",
              "    </tr>\n",
              "    <tr>\n",
              "      <th>2020-08-14</th>\n",
              "      <td>17.0</td>\n",
              "      <td>7.000000</td>\n",
              "      <td>NaN</td>\n",
              "      <td>NaN</td>\n",
              "    </tr>\n",
              "    <tr>\n",
              "      <th>2020-08-16</th>\n",
              "      <td>14.0</td>\n",
              "      <td>19.000000</td>\n",
              "      <td>16.0</td>\n",
              "      <td>13.000000</td>\n",
              "    </tr>\n",
              "    <tr>\n",
              "      <th>2020-08-17</th>\n",
              "      <td>18.0</td>\n",
              "      <td>NaN</td>\n",
              "      <td>10.0</td>\n",
              "      <td>NaN</td>\n",
              "    </tr>\n",
              "    <tr>\n",
              "      <th>2020-08-18</th>\n",
              "      <td>NaN</td>\n",
              "      <td>NaN</td>\n",
              "      <td>10.0</td>\n",
              "      <td>8.000000</td>\n",
              "    </tr>\n",
              "    <tr>\n",
              "      <th>2020-08-20</th>\n",
              "      <td>NaN</td>\n",
              "      <td>NaN</td>\n",
              "      <td>7.0</td>\n",
              "      <td>18.000000</td>\n",
              "    </tr>\n",
              "    <tr>\n",
              "      <th>2020-08-21</th>\n",
              "      <td>12.5</td>\n",
              "      <td>NaN</td>\n",
              "      <td>NaN</td>\n",
              "      <td>15.000000</td>\n",
              "    </tr>\n",
              "    <tr>\n",
              "      <th>2020-08-23</th>\n",
              "      <td>NaN</td>\n",
              "      <td>5.000000</td>\n",
              "      <td>13.0</td>\n",
              "      <td>NaN</td>\n",
              "    </tr>\n",
              "    <tr>\n",
              "      <th>2020-08-24</th>\n",
              "      <td>11.0</td>\n",
              "      <td>NaN</td>\n",
              "      <td>NaN</td>\n",
              "      <td>14.000000</td>\n",
              "    </tr>\n",
              "    <tr>\n",
              "      <th>2020-08-25</th>\n",
              "      <td>NaN</td>\n",
              "      <td>20.000000</td>\n",
              "      <td>NaN</td>\n",
              "      <td>12.000000</td>\n",
              "    </tr>\n",
              "    <tr>\n",
              "      <th>2020-08-26</th>\n",
              "      <td>NaN</td>\n",
              "      <td>NaN</td>\n",
              "      <td>19.0</td>\n",
              "      <td>5.000000</td>\n",
              "    </tr>\n",
              "    <tr>\n",
              "      <th>2020-08-28</th>\n",
              "      <td>NaN</td>\n",
              "      <td>12.000000</td>\n",
              "      <td>17.0</td>\n",
              "      <td>NaN</td>\n",
              "    </tr>\n",
              "    <tr>\n",
              "      <th>2020-08-29</th>\n",
              "      <td>15.0</td>\n",
              "      <td>9.000000</td>\n",
              "      <td>6.0</td>\n",
              "      <td>7.000000</td>\n",
              "    </tr>\n",
              "    <tr>\n",
              "      <th>2020-08-30</th>\n",
              "      <td>14.5</td>\n",
              "      <td>9.000000</td>\n",
              "      <td>19.0</td>\n",
              "      <td>17.000000</td>\n",
              "    </tr>\n",
              "    <tr>\n",
              "      <th>2020-08-31</th>\n",
              "      <td>NaN</td>\n",
              "      <td>10.000000</td>\n",
              "      <td>NaN</td>\n",
              "      <td>10.000000</td>\n",
              "    </tr>\n",
              "  </tbody>\n",
              "</table>\n",
              "</div>"
            ],
            "text/plain": [
              "ShippingMode  Economy    Express  Mail     Normal\n",
              "Date                                             \n",
              "2020-08-01        NaN  12.822222  11.0   9.000000\n",
              "2020-08-02       20.0  18.000000  10.5  12.000000\n",
              "2020-08-03        NaN   8.000000  20.0        NaN\n",
              "2020-08-04        NaN   5.000000   NaN  12.333333\n",
              "2020-08-05       20.0        NaN   NaN  10.000000\n",
              "2020-08-06        NaN  14.500000  19.0   7.000000\n",
              "2020-08-07       13.0        NaN  14.0        NaN\n",
              "2020-08-08        NaN  13.500000  11.8  14.000000\n",
              "2020-08-09        NaN  16.000000   NaN        NaN\n",
              "2020-08-11       19.0   6.000000   NaN        NaN\n",
              "2020-08-12       16.0  15.000000   9.0        NaN\n",
              "2020-08-13        9.0  19.000000   NaN        NaN\n",
              "2020-08-14       17.0   7.000000   NaN        NaN\n",
              "2020-08-16       14.0  19.000000  16.0  13.000000\n",
              "2020-08-17       18.0        NaN  10.0        NaN\n",
              "2020-08-18        NaN        NaN  10.0   8.000000\n",
              "2020-08-20        NaN        NaN   7.0  18.000000\n",
              "2020-08-21       12.5        NaN   NaN  15.000000\n",
              "2020-08-23        NaN   5.000000  13.0        NaN\n",
              "2020-08-24       11.0        NaN   NaN  14.000000\n",
              "2020-08-25        NaN  20.000000   NaN  12.000000\n",
              "2020-08-26        NaN        NaN  19.0   5.000000\n",
              "2020-08-28        NaN  12.000000  17.0        NaN\n",
              "2020-08-29       15.0   9.000000   6.0   7.000000\n",
              "2020-08-30       14.5   9.000000  19.0  17.000000\n",
              "2020-08-31        NaN  10.000000   NaN  10.000000"
            ]
          },
          "metadata": {},
          "execution_count": 166
        }
      ]
    },
    {
      "cell_type": "markdown",
      "metadata": {
        "id": "CS7shz41YuIU"
      },
      "source": [
        "### Filtering"
      ]
    },
    {
      "cell_type": "markdown",
      "metadata": {
        "id": "CNZM7WilYuIV"
      },
      "source": [
        "Robin wants entries belonging to state average expense more than 7800. Let's see how to get this:"
      ]
    },
    {
      "cell_type": "code",
      "metadata": {
        "colab": {
          "base_uri": "https://localhost:8080/"
        },
        "id": "qruM8w-TqPzN",
        "outputId": "4167a5f9-b91e-49da-d798-2fa1992931eb"
      },
      "source": [
        "data.groupby(\"ProductType\")[\"Total_Ratings\"].mean()"
      ],
      "execution_count": null,
      "outputs": [
        {
          "output_type": "execute_result",
          "data": {
            "text/plain": [
              "ProductType\n",
              "Cardigan         7536.666667\n",
              "Coats/Jackets    7552.500000\n",
              "Dresses          7727.473684\n",
              "Hats             7108.166667\n",
              "Jeans            7987.800000\n",
              "Pants            7436.583333\n",
              "Shirts/Tops      7754.583333\n",
              "Name: Total_Ratings, dtype: float64"
            ]
          },
          "metadata": {},
          "execution_count": 167
        }
      ]
    },
    {
      "cell_type": "code",
      "metadata": {
        "id": "KW7wUtG8YuIV",
        "colab": {
          "base_uri": "https://localhost:8080/",
          "height": 363
        },
        "outputId": "18d173a7-1c53-4914-99cf-f75cf448a8a2"
      },
      "source": [
        "data.groupby('ProductType').filter(lambda val:val['Total_Ratings'].mean()>7800)"
      ],
      "execution_count": null,
      "outputs": [
        {
          "output_type": "execute_result",
          "data": {
            "text/html": [
              "<div>\n",
              "<style scoped>\n",
              "    .dataframe tbody tr th:only-of-type {\n",
              "        vertical-align: middle;\n",
              "    }\n",
              "\n",
              "    .dataframe tbody tr th {\n",
              "        vertical-align: top;\n",
              "    }\n",
              "\n",
              "    .dataframe thead th {\n",
              "        text-align: right;\n",
              "    }\n",
              "</style>\n",
              "<table border=\"1\" class=\"dataframe\">\n",
              "  <thead>\n",
              "    <tr style=\"text-align: right;\">\n",
              "      <th></th>\n",
              "      <th>Date</th>\n",
              "      <th>CustomerID</th>\n",
              "      <th>ProductType</th>\n",
              "      <th>Rating</th>\n",
              "      <th>Total_Ratings</th>\n",
              "      <th>Gender</th>\n",
              "      <th>PaymentMode</th>\n",
              "      <th>PaymentMode.1</th>\n",
              "      <th>ShippingMode</th>\n",
              "      <th>ShippingTime</th>\n",
              "      <th>Price</th>\n",
              "    </tr>\n",
              "  </thead>\n",
              "  <tbody>\n",
              "    <tr>\n",
              "      <th>7</th>\n",
              "      <td>2020-08-08</td>\n",
              "      <td>10478</td>\n",
              "      <td>Jeans</td>\n",
              "      <td>1 star</td>\n",
              "      <td>8554</td>\n",
              "      <td>Unspecified</td>\n",
              "      <td>Direct Deposit</td>\n",
              "      <td>Direct Deposit</td>\n",
              "      <td>Mail</td>\n",
              "      <td>18.0</td>\n",
              "      <td>$4,287.06</td>\n",
              "    </tr>\n",
              "    <tr>\n",
              "      <th>29</th>\n",
              "      <td>2020-08-02</td>\n",
              "      <td>10500</td>\n",
              "      <td>Jeans</td>\n",
              "      <td>1 star</td>\n",
              "      <td>9410</td>\n",
              "      <td>Unspecified</td>\n",
              "      <td>Direct Deposit</td>\n",
              "      <td>Direct Deposit</td>\n",
              "      <td>Mail</td>\n",
              "      <td>5.0</td>\n",
              "      <td>$21,312,321.13</td>\n",
              "    </tr>\n",
              "    <tr>\n",
              "      <th>38</th>\n",
              "      <td>2020-08-29</td>\n",
              "      <td>10509</td>\n",
              "      <td>Jeans</td>\n",
              "      <td>1 star</td>\n",
              "      <td>7352</td>\n",
              "      <td>Unspecified</td>\n",
              "      <td>Credit Card</td>\n",
              "      <td>Creditcard</td>\n",
              "      <td>Express</td>\n",
              "      <td>9.0</td>\n",
              "      <td>$2,591.72</td>\n",
              "    </tr>\n",
              "    <tr>\n",
              "      <th>45</th>\n",
              "      <td>2020-08-25</td>\n",
              "      <td>10516</td>\n",
              "      <td>Jeans</td>\n",
              "      <td>3 star</td>\n",
              "      <td>7033</td>\n",
              "      <td>Male</td>\n",
              "      <td>Direct Deposit</td>\n",
              "      <td>NaN</td>\n",
              "      <td>Normal</td>\n",
              "      <td>14.0</td>\n",
              "      <td>₹ 167727.12548098</td>\n",
              "    </tr>\n",
              "    <tr>\n",
              "      <th>47</th>\n",
              "      <td>2020-08-21</td>\n",
              "      <td>10518</td>\n",
              "      <td>Jeans</td>\n",
              "      <td>2 star</td>\n",
              "      <td>7285</td>\n",
              "      <td>Female</td>\n",
              "      <td>Credit Card</td>\n",
              "      <td>Creditcard</td>\n",
              "      <td>Normal</td>\n",
              "      <td>14.0</td>\n",
              "      <td>€ 2,773.90</td>\n",
              "    </tr>\n",
              "    <tr>\n",
              "      <th>48</th>\n",
              "      <td>2020-08-20</td>\n",
              "      <td>10519</td>\n",
              "      <td>Jeans</td>\n",
              "      <td>2 star</td>\n",
              "      <td>7678</td>\n",
              "      <td>Unspecified</td>\n",
              "      <td>Ewallet</td>\n",
              "      <td>Ewallet</td>\n",
              "      <td>Normal</td>\n",
              "      <td>18.0</td>\n",
              "      <td>₹ 159529.19686752</td>\n",
              "    </tr>\n",
              "    <tr>\n",
              "      <th>55</th>\n",
              "      <td>2020-08-05</td>\n",
              "      <td>10526</td>\n",
              "      <td>Jeans</td>\n",
              "      <td>2 star</td>\n",
              "      <td>9482</td>\n",
              "      <td>Unspecified</td>\n",
              "      <td>Direct Deposit</td>\n",
              "      <td>Direct Deposit</td>\n",
              "      <td>Normal</td>\n",
              "      <td>10.0</td>\n",
              "      <td>₹ 321706.90933682</td>\n",
              "    </tr>\n",
              "    <tr>\n",
              "      <th>61</th>\n",
              "      <td>2020-08-21</td>\n",
              "      <td>10532</td>\n",
              "      <td>Jeans</td>\n",
              "      <td>2 star</td>\n",
              "      <td>8399</td>\n",
              "      <td>Female</td>\n",
              "      <td>Credit Card</td>\n",
              "      <td>Credit Card</td>\n",
              "      <td>Economy</td>\n",
              "      <td>8.0</td>\n",
              "      <td>€ 4,773.37</td>\n",
              "    </tr>\n",
              "    <tr>\n",
              "      <th>65</th>\n",
              "      <td>2020-08-31</td>\n",
              "      <td>10536</td>\n",
              "      <td>Jeans</td>\n",
              "      <td>1 star</td>\n",
              "      <td>6878</td>\n",
              "      <td>Male</td>\n",
              "      <td>Prepaid Card</td>\n",
              "      <td>Prepaid Card</td>\n",
              "      <td>Express</td>\n",
              "      <td>10.0</td>\n",
              "      <td>$7,072.56</td>\n",
              "    </tr>\n",
              "    <tr>\n",
              "      <th>99</th>\n",
              "      <td>2020-08-29</td>\n",
              "      <td>10570</td>\n",
              "      <td>Jeans</td>\n",
              "      <td>1 star</td>\n",
              "      <td>7807</td>\n",
              "      <td>Unspecified</td>\n",
              "      <td>Credit Card</td>\n",
              "      <td>Credit Card</td>\n",
              "      <td>Mail</td>\n",
              "      <td>6.0</td>\n",
              "      <td>£ 6232.343745500001</td>\n",
              "    </tr>\n",
              "  </tbody>\n",
              "</table>\n",
              "</div>"
            ],
            "text/plain": [
              "         Date  CustomerID  ... ShippingTime                Price\n",
              "7  2020-08-08       10478  ...         18.0           $4,287.06 \n",
              "29 2020-08-02       10500  ...          5.0      $21,312,321.13 \n",
              "38 2020-08-29       10509  ...          9.0           $2,591.72 \n",
              "45 2020-08-25       10516  ...         14.0    ₹ 167727.12548098\n",
              "47 2020-08-21       10518  ...         14.0           € 2,773.90\n",
              "48 2020-08-20       10519  ...         18.0    ₹ 159529.19686752\n",
              "55 2020-08-05       10526  ...         10.0    ₹ 321706.90933682\n",
              "61 2020-08-21       10532  ...          8.0           € 4,773.37\n",
              "65 2020-08-31       10536  ...         10.0           $7,072.56 \n",
              "99 2020-08-29       10570  ...          6.0  £ 6232.343745500001\n",
              "\n",
              "[10 rows x 11 columns]"
            ]
          },
          "metadata": {},
          "execution_count": 168
        }
      ]
    },
    {
      "cell_type": "markdown",
      "metadata": {
        "id": "btTJOrA1YuIV"
      },
      "source": [
        "### Tranforming"
      ]
    },
    {
      "cell_type": "code",
      "metadata": {
        "id": "JjRkf6PPYuIW"
      },
      "source": [
        "from bs4 import BeautifulSoup\n",
        "import requests as rq"
      ],
      "execution_count": null,
      "outputs": []
    },
    {
      "cell_type": "code",
      "metadata": {
        "id": "DaLCALNSYuIW",
        "colab": {
          "base_uri": "https://localhost:8080/",
          "height": 394
        },
        "outputId": "46d16f37-bf3b-4ed5-e629-39aa362670db"
      },
      "source": [
        "# Let's check for missing values \n",
        "check_miss(data)"
      ],
      "execution_count": null,
      "outputs": [
        {
          "output_type": "execute_result",
          "data": {
            "text/html": [
              "<div>\n",
              "<style scoped>\n",
              "    .dataframe tbody tr th:only-of-type {\n",
              "        vertical-align: middle;\n",
              "    }\n",
              "\n",
              "    .dataframe tbody tr th {\n",
              "        vertical-align: top;\n",
              "    }\n",
              "\n",
              "    .dataframe thead th {\n",
              "        text-align: right;\n",
              "    }\n",
              "</style>\n",
              "<table border=\"1\" class=\"dataframe\">\n",
              "  <thead>\n",
              "    <tr style=\"text-align: right;\">\n",
              "      <th></th>\n",
              "      <th>Col_name</th>\n",
              "      <th>Null Values</th>\n",
              "      <th>Count_Nulls</th>\n",
              "      <th>Percentage_Nulls</th>\n",
              "      <th>DataType</th>\n",
              "    </tr>\n",
              "  </thead>\n",
              "  <tbody>\n",
              "    <tr>\n",
              "      <th>7</th>\n",
              "      <td>PaymentMode.1</td>\n",
              "      <td>True</td>\n",
              "      <td>5</td>\n",
              "      <td>5.494505</td>\n",
              "      <td>object</td>\n",
              "    </tr>\n",
              "    <tr>\n",
              "      <th>10</th>\n",
              "      <td>Price</td>\n",
              "      <td>True</td>\n",
              "      <td>1</td>\n",
              "      <td>1.098901</td>\n",
              "      <td>string</td>\n",
              "    </tr>\n",
              "    <tr>\n",
              "      <th>0</th>\n",
              "      <td>Date</td>\n",
              "      <td>False</td>\n",
              "      <td>0</td>\n",
              "      <td>0.000000</td>\n",
              "      <td>datetime64[ns]</td>\n",
              "    </tr>\n",
              "    <tr>\n",
              "      <th>1</th>\n",
              "      <td>CustomerID</td>\n",
              "      <td>False</td>\n",
              "      <td>0</td>\n",
              "      <td>0.000000</td>\n",
              "      <td>int64</td>\n",
              "    </tr>\n",
              "    <tr>\n",
              "      <th>2</th>\n",
              "      <td>ProductType</td>\n",
              "      <td>False</td>\n",
              "      <td>0</td>\n",
              "      <td>0.000000</td>\n",
              "      <td>object</td>\n",
              "    </tr>\n",
              "    <tr>\n",
              "      <th>3</th>\n",
              "      <td>Rating</td>\n",
              "      <td>False</td>\n",
              "      <td>0</td>\n",
              "      <td>0.000000</td>\n",
              "      <td>object</td>\n",
              "    </tr>\n",
              "    <tr>\n",
              "      <th>4</th>\n",
              "      <td>Total_Ratings</td>\n",
              "      <td>False</td>\n",
              "      <td>0</td>\n",
              "      <td>0.000000</td>\n",
              "      <td>int64</td>\n",
              "    </tr>\n",
              "    <tr>\n",
              "      <th>5</th>\n",
              "      <td>Gender</td>\n",
              "      <td>False</td>\n",
              "      <td>0</td>\n",
              "      <td>0.000000</td>\n",
              "      <td>category</td>\n",
              "    </tr>\n",
              "    <tr>\n",
              "      <th>6</th>\n",
              "      <td>PaymentMode</td>\n",
              "      <td>False</td>\n",
              "      <td>0</td>\n",
              "      <td>0.000000</td>\n",
              "      <td>object</td>\n",
              "    </tr>\n",
              "    <tr>\n",
              "      <th>8</th>\n",
              "      <td>ShippingMode</td>\n",
              "      <td>False</td>\n",
              "      <td>0</td>\n",
              "      <td>0.000000</td>\n",
              "      <td>string</td>\n",
              "    </tr>\n",
              "    <tr>\n",
              "      <th>9</th>\n",
              "      <td>ShippingTime</td>\n",
              "      <td>False</td>\n",
              "      <td>0</td>\n",
              "      <td>0.000000</td>\n",
              "      <td>float64</td>\n",
              "    </tr>\n",
              "  </tbody>\n",
              "</table>\n",
              "</div>"
            ],
            "text/plain": [
              "         Col_name  Null Values  Count_Nulls  Percentage_Nulls        DataType\n",
              "7   PaymentMode.1         True            5          5.494505          object\n",
              "10          Price         True            1          1.098901          string\n",
              "0            Date        False            0          0.000000  datetime64[ns]\n",
              "1      CustomerID        False            0          0.000000           int64\n",
              "2     ProductType        False            0          0.000000          object\n",
              "3          Rating        False            0          0.000000          object\n",
              "4   Total_Ratings        False            0          0.000000           int64\n",
              "5          Gender        False            0          0.000000        category\n",
              "6     PaymentMode        False            0          0.000000          object\n",
              "8    ShippingMode        False            0          0.000000          string\n",
              "9    ShippingTime        False            0          0.000000         float64"
            ]
          },
          "metadata": {},
          "execution_count": 170
        }
      ]
    },
    {
      "cell_type": "markdown",
      "metadata": {
        "id": "m5Umldg6YuIW"
      },
      "source": [
        "##### There is still a missing value in Price column"
      ]
    },
    {
      "cell_type": "code",
      "metadata": {
        "id": "SDT-WQk6YuIa",
        "colab": {
          "base_uri": "https://localhost:8080/",
          "height": 81
        },
        "outputId": "0f5f90ca-1615-4af9-dd0f-8e28afec750a"
      },
      "source": [
        "data[data.Price.isna()==True]"
      ],
      "execution_count": null,
      "outputs": [
        {
          "output_type": "execute_result",
          "data": {
            "text/html": [
              "<div>\n",
              "<style scoped>\n",
              "    .dataframe tbody tr th:only-of-type {\n",
              "        vertical-align: middle;\n",
              "    }\n",
              "\n",
              "    .dataframe tbody tr th {\n",
              "        vertical-align: top;\n",
              "    }\n",
              "\n",
              "    .dataframe thead th {\n",
              "        text-align: right;\n",
              "    }\n",
              "</style>\n",
              "<table border=\"1\" class=\"dataframe\">\n",
              "  <thead>\n",
              "    <tr style=\"text-align: right;\">\n",
              "      <th></th>\n",
              "      <th>Date</th>\n",
              "      <th>CustomerID</th>\n",
              "      <th>ProductType</th>\n",
              "      <th>Rating</th>\n",
              "      <th>Total_Ratings</th>\n",
              "      <th>Gender</th>\n",
              "      <th>PaymentMode</th>\n",
              "      <th>PaymentMode.1</th>\n",
              "      <th>ShippingMode</th>\n",
              "      <th>ShippingTime</th>\n",
              "      <th>Price</th>\n",
              "    </tr>\n",
              "  </thead>\n",
              "  <tbody>\n",
              "    <tr>\n",
              "      <th>5</th>\n",
              "      <td>2020-08-28</td>\n",
              "      <td>10476</td>\n",
              "      <td>Coats/Jackets</td>\n",
              "      <td>2 star</td>\n",
              "      <td>5347</td>\n",
              "      <td>Female</td>\n",
              "      <td>Direct Deposit</td>\n",
              "      <td>Direct Deposit</td>\n",
              "      <td>Mail</td>\n",
              "      <td>20.0</td>\n",
              "      <td>&lt;NA&gt;</td>\n",
              "    </tr>\n",
              "  </tbody>\n",
              "</table>\n",
              "</div>"
            ],
            "text/plain": [
              "        Date  CustomerID    ProductType  ... ShippingMode  ShippingTime Price\n",
              "5 2020-08-28       10476  Coats/Jackets  ...         Mail          20.0  <NA>\n",
              "\n",
              "[1 rows x 11 columns]"
            ]
          },
          "metadata": {},
          "execution_count": 171
        }
      ]
    },
    {
      "cell_type": "markdown",
      "metadata": {
        "id": "wDu2uuFlYuIb"
      },
      "source": [
        "##### We will convert the value to 0 for now."
      ]
    },
    {
      "cell_type": "code",
      "metadata": {
        "colab": {
          "base_uri": "https://localhost:8080/"
        },
        "id": "KpY05hxwED6C",
        "outputId": "99a8ea79-c925-4b43-9cfa-e6462891e4ce"
      },
      "source": [
        "# Getting all the exchange rates\n",
        "res=rq.get('https://x-rates.com/table/?from=USD&amount=1')\n",
        "soup=BeautifulSoup(res.content)\n",
        "soup.tbody"
      ],
      "execution_count": null,
      "outputs": [
        {
          "output_type": "execute_result",
          "data": {
            "text/plain": [
              "<tbody>\n",
              "<tr>\n",
              "<td>Euro</td>\n",
              "<td class=\"rtRates\"><a href=\"https://www.x-rates.com/graph/?from=USD&amp;to=EUR\">0.858644</a></td>\n",
              "<td class=\"rtRates\"><a href=\"https://www.x-rates.com/graph/?from=EUR&amp;to=USD\">1.164626</a></td>\n",
              "</tr>\n",
              "<tr>\n",
              "<td>British Pound</td>\n",
              "<td class=\"rtRates\"><a href=\"https://www.x-rates.com/graph/?from=USD&amp;to=GBP\">0.725353</a></td>\n",
              "<td class=\"rtRates\"><a href=\"https://www.x-rates.com/graph/?from=GBP&amp;to=USD\">1.378640</a></td>\n",
              "</tr>\n",
              "<tr>\n",
              "<td>Indian Rupee</td>\n",
              "<td class=\"rtRates\"><a href=\"https://www.x-rates.com/graph/?from=USD&amp;to=INR\">74.998177</a></td>\n",
              "<td class=\"rtRates\"><a href=\"https://www.x-rates.com/graph/?from=INR&amp;to=USD\">0.013334</a></td>\n",
              "</tr>\n",
              "<tr>\n",
              "<td>Australian Dollar</td>\n",
              "<td class=\"rtRates\"><a href=\"https://www.x-rates.com/graph/?from=USD&amp;to=AUD\">1.339743</a></td>\n",
              "<td class=\"rtRates\"><a href=\"https://www.x-rates.com/graph/?from=AUD&amp;to=USD\">0.746412</a></td>\n",
              "</tr>\n",
              "<tr>\n",
              "<td>Canadian Dollar</td>\n",
              "<td class=\"rtRates\"><a href=\"https://www.x-rates.com/graph/?from=USD&amp;to=CAD\">1.236632</a></td>\n",
              "<td class=\"rtRates\"><a href=\"https://www.x-rates.com/graph/?from=CAD&amp;to=USD\">0.808648</a></td>\n",
              "</tr>\n",
              "<tr>\n",
              "<td>Singapore Dollar</td>\n",
              "<td class=\"rtRates\"><a href=\"https://www.x-rates.com/graph/?from=USD&amp;to=SGD\">1.348059</a></td>\n",
              "<td class=\"rtRates\"><a href=\"https://www.x-rates.com/graph/?from=SGD&amp;to=USD\">0.741808</a></td>\n",
              "</tr>\n",
              "<tr>\n",
              "<td>Swiss Franc</td>\n",
              "<td class=\"rtRates\"><a href=\"https://www.x-rates.com/graph/?from=USD&amp;to=CHF\">0.916061</a></td>\n",
              "<td class=\"rtRates\"><a href=\"https://www.x-rates.com/graph/?from=CHF&amp;to=USD\">1.091630</a></td>\n",
              "</tr>\n",
              "<tr>\n",
              "<td>Malaysian Ringgit</td>\n",
              "<td class=\"rtRates\"><a href=\"https://www.x-rates.com/graph/?from=USD&amp;to=MYR\">4.151729</a></td>\n",
              "<td class=\"rtRates\"><a href=\"https://www.x-rates.com/graph/?from=MYR&amp;to=USD\">0.240864</a></td>\n",
              "</tr>\n",
              "<tr>\n",
              "<td>Japanese Yen</td>\n",
              "<td class=\"rtRates\"><a href=\"https://www.x-rates.com/graph/?from=USD&amp;to=JPY\">113.549775</a></td>\n",
              "<td class=\"rtRates\"><a href=\"https://www.x-rates.com/graph/?from=JPY&amp;to=USD\">0.008807</a></td>\n",
              "</tr>\n",
              "<tr>\n",
              "<td>Chinese Yuan Renminbi</td>\n",
              "<td class=\"rtRates\"><a href=\"https://www.x-rates.com/graph/?from=USD&amp;to=CNY\">6.384780</a></td>\n",
              "<td class=\"rtRates\"><a href=\"https://www.x-rates.com/graph/?from=CNY&amp;to=USD\">0.156622</a></td>\n",
              "</tr>\n",
              "</tbody>"
            ]
          },
          "metadata": {},
          "execution_count": 172
        }
      ]
    },
    {
      "cell_type": "code",
      "metadata": {
        "id": "rr0adT4pYuIb"
      },
      "source": [
        "# Getting all the exchange rates\n",
        "res=rq.get('https://x-rates.com/table/?from=USD&amount=1')\n",
        "soup=BeautifulSoup(res.content)\n",
        "qq=soup.tbody\n",
        "erate=[]\n",
        "for i in qq.find_all('td',class_='rtRates')[1:6:2]:\n",
        "    erate.append(float(i.text))"
      ],
      "execution_count": null,
      "outputs": []
    },
    {
      "cell_type": "code",
      "metadata": {
        "colab": {
          "base_uri": "https://localhost:8080/"
        },
        "id": "w9ydEiPJvrHA",
        "outputId": "22ef5302-6ccf-4009-91d5-55a8bacb3030"
      },
      "source": [
        "qq.find_all('td',class_='rtRates')"
      ],
      "execution_count": null,
      "outputs": [
        {
          "output_type": "execute_result",
          "data": {
            "text/plain": [
              "[<td class=\"rtRates\"><a href=\"https://www.x-rates.com/graph/?from=USD&amp;to=EUR\">0.858644</a></td>,\n",
              " <td class=\"rtRates\"><a href=\"https://www.x-rates.com/graph/?from=EUR&amp;to=USD\">1.164626</a></td>,\n",
              " <td class=\"rtRates\"><a href=\"https://www.x-rates.com/graph/?from=USD&amp;to=GBP\">0.725353</a></td>,\n",
              " <td class=\"rtRates\"><a href=\"https://www.x-rates.com/graph/?from=GBP&amp;to=USD\">1.378640</a></td>,\n",
              " <td class=\"rtRates\"><a href=\"https://www.x-rates.com/graph/?from=USD&amp;to=INR\">74.998177</a></td>,\n",
              " <td class=\"rtRates\"><a href=\"https://www.x-rates.com/graph/?from=INR&amp;to=USD\">0.013334</a></td>,\n",
              " <td class=\"rtRates\"><a href=\"https://www.x-rates.com/graph/?from=USD&amp;to=AUD\">1.339743</a></td>,\n",
              " <td class=\"rtRates\"><a href=\"https://www.x-rates.com/graph/?from=AUD&amp;to=USD\">0.746412</a></td>,\n",
              " <td class=\"rtRates\"><a href=\"https://www.x-rates.com/graph/?from=USD&amp;to=CAD\">1.236632</a></td>,\n",
              " <td class=\"rtRates\"><a href=\"https://www.x-rates.com/graph/?from=CAD&amp;to=USD\">0.808648</a></td>,\n",
              " <td class=\"rtRates\"><a href=\"https://www.x-rates.com/graph/?from=USD&amp;to=SGD\">1.348059</a></td>,\n",
              " <td class=\"rtRates\"><a href=\"https://www.x-rates.com/graph/?from=SGD&amp;to=USD\">0.741808</a></td>,\n",
              " <td class=\"rtRates\"><a href=\"https://www.x-rates.com/graph/?from=USD&amp;to=CHF\">0.916061</a></td>,\n",
              " <td class=\"rtRates\"><a href=\"https://www.x-rates.com/graph/?from=CHF&amp;to=USD\">1.091630</a></td>,\n",
              " <td class=\"rtRates\"><a href=\"https://www.x-rates.com/graph/?from=USD&amp;to=MYR\">4.151729</a></td>,\n",
              " <td class=\"rtRates\"><a href=\"https://www.x-rates.com/graph/?from=MYR&amp;to=USD\">0.240864</a></td>,\n",
              " <td class=\"rtRates\"><a href=\"https://www.x-rates.com/graph/?from=USD&amp;to=JPY\">113.549775</a></td>,\n",
              " <td class=\"rtRates\"><a href=\"https://www.x-rates.com/graph/?from=JPY&amp;to=USD\">0.008807</a></td>,\n",
              " <td class=\"rtRates\"><a href=\"https://www.x-rates.com/graph/?from=USD&amp;to=CNY\">6.384780</a></td>,\n",
              " <td class=\"rtRates\"><a href=\"https://www.x-rates.com/graph/?from=CNY&amp;to=USD\">0.156622</a></td>]"
            ]
          },
          "metadata": {},
          "execution_count": 174
        }
      ]
    },
    {
      "cell_type": "code",
      "metadata": {
        "colab": {
          "base_uri": "https://localhost:8080/"
        },
        "id": "0-JFJ2kgv6sc",
        "outputId": "b26c7d5b-fe85-4c1d-e3d5-76c0a0d4f611"
      },
      "source": [
        "qq.find_all('td',class_='rtRates')[1:6:2]"
      ],
      "execution_count": null,
      "outputs": [
        {
          "output_type": "execute_result",
          "data": {
            "text/plain": [
              "[<td class=\"rtRates\"><a href=\"https://www.x-rates.com/graph/?from=EUR&amp;to=USD\">1.164626</a></td>,\n",
              " <td class=\"rtRates\"><a href=\"https://www.x-rates.com/graph/?from=GBP&amp;to=USD\">1.378640</a></td>,\n",
              " <td class=\"rtRates\"><a href=\"https://www.x-rates.com/graph/?from=INR&amp;to=USD\">0.013334</a></td>]"
            ]
          },
          "metadata": {},
          "execution_count": 175
        }
      ]
    },
    {
      "cell_type": "code",
      "metadata": {
        "colab": {
          "base_uri": "https://localhost:8080/"
        },
        "id": "wttE1oImEgMr",
        "outputId": "bf6aea09-bf14-4243-aa1e-29662784039a"
      },
      "source": [
        "erate"
      ],
      "execution_count": null,
      "outputs": [
        {
          "output_type": "execute_result",
          "data": {
            "text/plain": [
              "[1.164626, 1.37864, 0.013334]"
            ]
          },
          "metadata": {},
          "execution_count": 176
        }
      ]
    },
    {
      "cell_type": "code",
      "metadata": {
        "id": "F_FPlZLZYuIc"
      },
      "source": [
        "currency=['$','€','£','₹']"
      ],
      "execution_count": null,
      "outputs": []
    },
    {
      "cell_type": "code",
      "metadata": {
        "colab": {
          "base_uri": "https://localhost:8080/"
        },
        "id": "nOv8Lmops9c4",
        "outputId": "b91f7088-5398-4f68-d9ac-faf57c0ce3d1"
      },
      "source": [
        "\"$\" in \"$21,312,321.13\""
      ],
      "execution_count": null,
      "outputs": [
        {
          "output_type": "execute_result",
          "data": {
            "text/plain": [
              "True"
            ]
          },
          "metadata": {},
          "execution_count": 178
        }
      ]
    },
    {
      "cell_type": "code",
      "metadata": {
        "id": "CZqTk1GxYuId"
      },
      "source": [
        "def currency(i):\n",
        "    if pd.isna(i):\n",
        "        return ''\n",
        "    if '$' in i:\n",
        "        return 'American Dollar'\n",
        "    elif '€' in i:\n",
        "        return 'Euro'\n",
        "    elif '£' in i:\n",
        "        return 'British Pound'\n",
        "    elif '₹' in i:\n",
        "        return 'Indian Rupee'\n",
        "    else:\n",
        "        return ''"
      ],
      "execution_count": null,
      "outputs": []
    },
    {
      "cell_type": "code",
      "metadata": {
        "id": "Z0_yeAHTYuId"
      },
      "source": [
        "PaidCurrency=data[\"Price\"].apply(currency)"
      ],
      "execution_count": null,
      "outputs": []
    },
    {
      "cell_type": "code",
      "metadata": {
        "colab": {
          "base_uri": "https://localhost:8080/"
        },
        "id": "gGEIhrkHtS75",
        "outputId": "787b22cf-2389-4d12-e629-180ba8c88ffa"
      },
      "source": [
        "PaidCurrency"
      ],
      "execution_count": null,
      "outputs": [
        {
          "output_type": "execute_result",
          "data": {
            "text/plain": [
              "0      Indian Rupee\n",
              "1              Euro\n",
              "2      Indian Rupee\n",
              "5                  \n",
              "6     British Pound\n",
              "          ...      \n",
              "94             Euro\n",
              "95    British Pound\n",
              "96     Indian Rupee\n",
              "97     Indian Rupee\n",
              "99    British Pound\n",
              "Name: Price, Length: 91, dtype: object"
            ]
          },
          "metadata": {},
          "execution_count": 181
        }
      ]
    },
    {
      "cell_type": "code",
      "metadata": {
        "id": "jh93ZOdwYuIe"
      },
      "source": [
        "data['PaidCurrency']=PaidCurrency"
      ],
      "execution_count": null,
      "outputs": []
    },
    {
      "cell_type": "code",
      "metadata": {
        "id": "vLgfPHoDYuIe"
      },
      "source": [
        "data['Price_dollar']=data.Price"
      ],
      "execution_count": null,
      "outputs": []
    },
    {
      "cell_type": "code",
      "metadata": {
        "colab": {
          "base_uri": "https://localhost:8080/",
          "height": 617
        },
        "id": "0vxLEF7UE_iw",
        "outputId": "093f628f-3cbe-48ac-f2bc-4dc1e756cf5f"
      },
      "source": [
        "data"
      ],
      "execution_count": null,
      "outputs": [
        {
          "output_type": "execute_result",
          "data": {
            "text/html": [
              "<div>\n",
              "<style scoped>\n",
              "    .dataframe tbody tr th:only-of-type {\n",
              "        vertical-align: middle;\n",
              "    }\n",
              "\n",
              "    .dataframe tbody tr th {\n",
              "        vertical-align: top;\n",
              "    }\n",
              "\n",
              "    .dataframe thead th {\n",
              "        text-align: right;\n",
              "    }\n",
              "</style>\n",
              "<table border=\"1\" class=\"dataframe\">\n",
              "  <thead>\n",
              "    <tr style=\"text-align: right;\">\n",
              "      <th></th>\n",
              "      <th>Date</th>\n",
              "      <th>CustomerID</th>\n",
              "      <th>ProductType</th>\n",
              "      <th>Rating</th>\n",
              "      <th>Total_Ratings</th>\n",
              "      <th>Gender</th>\n",
              "      <th>PaymentMode</th>\n",
              "      <th>PaymentMode.1</th>\n",
              "      <th>ShippingMode</th>\n",
              "      <th>ShippingTime</th>\n",
              "      <th>Price</th>\n",
              "      <th>PaidCurrency</th>\n",
              "      <th>Price_dollar</th>\n",
              "    </tr>\n",
              "  </thead>\n",
              "  <tbody>\n",
              "    <tr>\n",
              "      <th>0</th>\n",
              "      <td>2020-08-16</td>\n",
              "      <td>10471</td>\n",
              "      <td>Coats/Jackets</td>\n",
              "      <td>1 star</td>\n",
              "      <td>8736</td>\n",
              "      <td>Female</td>\n",
              "      <td>Credit Card</td>\n",
              "      <td>Creditcard</td>\n",
              "      <td>Economy</td>\n",
              "      <td>17.0</td>\n",
              "      <td>₹ 675036.2138626401</td>\n",
              "      <td>Indian Rupee</td>\n",
              "      <td>₹ 675036.2138626401</td>\n",
              "    </tr>\n",
              "    <tr>\n",
              "      <th>1</th>\n",
              "      <td>2020-08-02</td>\n",
              "      <td>10472</td>\n",
              "      <td>Dresses</td>\n",
              "      <td>2 star</td>\n",
              "      <td>8547</td>\n",
              "      <td>Unspecified</td>\n",
              "      <td>Ewallet</td>\n",
              "      <td>Ewallet</td>\n",
              "      <td>Mail</td>\n",
              "      <td>12.0</td>\n",
              "      <td>€ 2,315.53</td>\n",
              "      <td>Euro</td>\n",
              "      <td>€ 2,315.53</td>\n",
              "    </tr>\n",
              "    <tr>\n",
              "      <th>2</th>\n",
              "      <td>2020-08-08</td>\n",
              "      <td>10473</td>\n",
              "      <td>Coats/Jackets</td>\n",
              "      <td>2 star</td>\n",
              "      <td>9833</td>\n",
              "      <td>Unspecified</td>\n",
              "      <td>Prepaid Card</td>\n",
              "      <td>Prepaid Card</td>\n",
              "      <td>Mail</td>\n",
              "      <td>10.0</td>\n",
              "      <td>₹ 611426.29122378</td>\n",
              "      <td>Indian Rupee</td>\n",
              "      <td>₹ 611426.29122378</td>\n",
              "    </tr>\n",
              "    <tr>\n",
              "      <th>5</th>\n",
              "      <td>2020-08-28</td>\n",
              "      <td>10476</td>\n",
              "      <td>Coats/Jackets</td>\n",
              "      <td>2 star</td>\n",
              "      <td>5347</td>\n",
              "      <td>Female</td>\n",
              "      <td>Direct Deposit</td>\n",
              "      <td>Direct Deposit</td>\n",
              "      <td>Mail</td>\n",
              "      <td>20.0</td>\n",
              "      <td>&lt;NA&gt;</td>\n",
              "      <td></td>\n",
              "      <td>&lt;NA&gt;</td>\n",
              "    </tr>\n",
              "    <tr>\n",
              "      <th>6</th>\n",
              "      <td>2020-08-08</td>\n",
              "      <td>10477</td>\n",
              "      <td>Coats/Jackets</td>\n",
              "      <td>5 star</td>\n",
              "      <td>9406</td>\n",
              "      <td>Unspecified</td>\n",
              "      <td>Direct Deposit</td>\n",
              "      <td>Direct Deposit</td>\n",
              "      <td>Mail</td>\n",
              "      <td>14.0</td>\n",
              "      <td>£ 6610.077565000001</td>\n",
              "      <td>British Pound</td>\n",
              "      <td>£ 6610.077565000001</td>\n",
              "    </tr>\n",
              "    <tr>\n",
              "      <th>...</th>\n",
              "      <td>...</td>\n",
              "      <td>...</td>\n",
              "      <td>...</td>\n",
              "      <td>...</td>\n",
              "      <td>...</td>\n",
              "      <td>...</td>\n",
              "      <td>...</td>\n",
              "      <td>...</td>\n",
              "      <td>...</td>\n",
              "      <td>...</td>\n",
              "      <td>...</td>\n",
              "      <td>...</td>\n",
              "      <td>...</td>\n",
              "    </tr>\n",
              "    <tr>\n",
              "      <th>94</th>\n",
              "      <td>2020-08-23</td>\n",
              "      <td>10565</td>\n",
              "      <td>Coats/Jackets</td>\n",
              "      <td>1 star</td>\n",
              "      <td>6328</td>\n",
              "      <td>Male</td>\n",
              "      <td>Cash</td>\n",
              "      <td>Cash</td>\n",
              "      <td>Mail</td>\n",
              "      <td>7.0</td>\n",
              "      <td>€ 7,708.86</td>\n",
              "      <td>Euro</td>\n",
              "      <td>€ 7,708.86</td>\n",
              "    </tr>\n",
              "    <tr>\n",
              "      <th>95</th>\n",
              "      <td>2020-08-04</td>\n",
              "      <td>10566</td>\n",
              "      <td>Coats/Jackets</td>\n",
              "      <td>2 star</td>\n",
              "      <td>6090</td>\n",
              "      <td>Female</td>\n",
              "      <td>Prepaid Card</td>\n",
              "      <td>Prepaid Card</td>\n",
              "      <td>Express</td>\n",
              "      <td>5.0</td>\n",
              "      <td>£ 1148.1217405</td>\n",
              "      <td>British Pound</td>\n",
              "      <td>£ 1148.1217405</td>\n",
              "    </tr>\n",
              "    <tr>\n",
              "      <th>96</th>\n",
              "      <td>2020-08-16</td>\n",
              "      <td>10567</td>\n",
              "      <td>Coats/Jackets</td>\n",
              "      <td>5 star</td>\n",
              "      <td>9433</td>\n",
              "      <td>Unspecified</td>\n",
              "      <td>Mobile</td>\n",
              "      <td>Mobile</td>\n",
              "      <td>Normal</td>\n",
              "      <td>13.0</td>\n",
              "      <td>₹ 127655.91325387999</td>\n",
              "      <td>Indian Rupee</td>\n",
              "      <td>₹ 127655.91325387999</td>\n",
              "    </tr>\n",
              "    <tr>\n",
              "      <th>97</th>\n",
              "      <td>2020-08-25</td>\n",
              "      <td>10568</td>\n",
              "      <td>Pants</td>\n",
              "      <td>3 star</td>\n",
              "      <td>7354</td>\n",
              "      <td>Female</td>\n",
              "      <td>Credit Card</td>\n",
              "      <td>Credit Card</td>\n",
              "      <td>Normal</td>\n",
              "      <td>10.0</td>\n",
              "      <td>₹ 577078.47118378</td>\n",
              "      <td>Indian Rupee</td>\n",
              "      <td>₹ 577078.47118378</td>\n",
              "    </tr>\n",
              "    <tr>\n",
              "      <th>99</th>\n",
              "      <td>2020-08-29</td>\n",
              "      <td>10570</td>\n",
              "      <td>Jeans</td>\n",
              "      <td>1 star</td>\n",
              "      <td>7807</td>\n",
              "      <td>Unspecified</td>\n",
              "      <td>Credit Card</td>\n",
              "      <td>Credit Card</td>\n",
              "      <td>Mail</td>\n",
              "      <td>6.0</td>\n",
              "      <td>£ 6232.343745500001</td>\n",
              "      <td>British Pound</td>\n",
              "      <td>£ 6232.343745500001</td>\n",
              "    </tr>\n",
              "  </tbody>\n",
              "</table>\n",
              "<p>91 rows × 13 columns</p>\n",
              "</div>"
            ],
            "text/plain": [
              "         Date  CustomerID  ...   PaidCurrency          Price_dollar\n",
              "0  2020-08-16       10471  ...   Indian Rupee   ₹ 675036.2138626401\n",
              "1  2020-08-02       10472  ...           Euro            € 2,315.53\n",
              "2  2020-08-08       10473  ...   Indian Rupee     ₹ 611426.29122378\n",
              "5  2020-08-28       10476  ...                                 <NA>\n",
              "6  2020-08-08       10477  ...  British Pound   £ 6610.077565000001\n",
              "..        ...         ...  ...            ...                   ...\n",
              "94 2020-08-23       10565  ...           Euro            € 7,708.86\n",
              "95 2020-08-04       10566  ...  British Pound        £ 1148.1217405\n",
              "96 2020-08-16       10567  ...   Indian Rupee  ₹ 127655.91325387999\n",
              "97 2020-08-25       10568  ...   Indian Rupee     ₹ 577078.47118378\n",
              "99 2020-08-29       10570  ...  British Pound   £ 6232.343745500001\n",
              "\n",
              "[91 rows x 13 columns]"
            ]
          },
          "metadata": {},
          "execution_count": 184
        }
      ]
    },
    {
      "cell_type": "code",
      "metadata": {
        "id": "fmYOuu5xYuIi"
      },
      "source": [
        "data.Price_dollar=data.Price_dollar.str.replace('$','')\n",
        "data.Price_dollar=data.Price_dollar.str.replace('€','')\n",
        "data.Price_dollar=data.Price_dollar.str.replace('£','')\n",
        "data.Price_dollar=data.Price_dollar.str.replace('₹','')\n",
        "data.Price_dollar=data.Price_dollar.str.replace(',','')"
      ],
      "execution_count": null,
      "outputs": []
    },
    {
      "cell_type": "code",
      "metadata": {
        "id": "RpbtaPwZYuIi"
      },
      "source": [
        "data.Price_dollar.fillna('0',inplace=True)"
      ],
      "execution_count": null,
      "outputs": []
    },
    {
      "cell_type": "code",
      "metadata": {
        "id": "T-pR8mAbYuIi"
      },
      "source": [
        "data.Price_dollar=data.Price_dollar.astype('float')"
      ],
      "execution_count": null,
      "outputs": []
    },
    {
      "cell_type": "code",
      "metadata": {
        "colab": {
          "base_uri": "https://localhost:8080/",
          "height": 313
        },
        "id": "tQI63h4RE4Cw",
        "outputId": "d1a2cb63-3fc0-480f-d71b-4d923cf08eba"
      },
      "source": [
        "data.head()"
      ],
      "execution_count": null,
      "outputs": [
        {
          "output_type": "execute_result",
          "data": {
            "text/html": [
              "<div>\n",
              "<style scoped>\n",
              "    .dataframe tbody tr th:only-of-type {\n",
              "        vertical-align: middle;\n",
              "    }\n",
              "\n",
              "    .dataframe tbody tr th {\n",
              "        vertical-align: top;\n",
              "    }\n",
              "\n",
              "    .dataframe thead th {\n",
              "        text-align: right;\n",
              "    }\n",
              "</style>\n",
              "<table border=\"1\" class=\"dataframe\">\n",
              "  <thead>\n",
              "    <tr style=\"text-align: right;\">\n",
              "      <th></th>\n",
              "      <th>Date</th>\n",
              "      <th>CustomerID</th>\n",
              "      <th>ProductType</th>\n",
              "      <th>Rating</th>\n",
              "      <th>Total_Ratings</th>\n",
              "      <th>Gender</th>\n",
              "      <th>PaymentMode</th>\n",
              "      <th>PaymentMode.1</th>\n",
              "      <th>ShippingMode</th>\n",
              "      <th>ShippingTime</th>\n",
              "      <th>Price</th>\n",
              "      <th>PaidCurrency</th>\n",
              "      <th>Price_dollar</th>\n",
              "    </tr>\n",
              "  </thead>\n",
              "  <tbody>\n",
              "    <tr>\n",
              "      <th>0</th>\n",
              "      <td>2020-08-16</td>\n",
              "      <td>10471</td>\n",
              "      <td>Coats/Jackets</td>\n",
              "      <td>1 star</td>\n",
              "      <td>8736</td>\n",
              "      <td>Female</td>\n",
              "      <td>Credit Card</td>\n",
              "      <td>Creditcard</td>\n",
              "      <td>Economy</td>\n",
              "      <td>17.0</td>\n",
              "      <td>₹ 675036.2138626401</td>\n",
              "      <td>Indian Rupee</td>\n",
              "      <td>675036.213863</td>\n",
              "    </tr>\n",
              "    <tr>\n",
              "      <th>1</th>\n",
              "      <td>2020-08-02</td>\n",
              "      <td>10472</td>\n",
              "      <td>Dresses</td>\n",
              "      <td>2 star</td>\n",
              "      <td>8547</td>\n",
              "      <td>Unspecified</td>\n",
              "      <td>Ewallet</td>\n",
              "      <td>Ewallet</td>\n",
              "      <td>Mail</td>\n",
              "      <td>12.0</td>\n",
              "      <td>€ 2,315.53</td>\n",
              "      <td>Euro</td>\n",
              "      <td>2315.530000</td>\n",
              "    </tr>\n",
              "    <tr>\n",
              "      <th>2</th>\n",
              "      <td>2020-08-08</td>\n",
              "      <td>10473</td>\n",
              "      <td>Coats/Jackets</td>\n",
              "      <td>2 star</td>\n",
              "      <td>9833</td>\n",
              "      <td>Unspecified</td>\n",
              "      <td>Prepaid Card</td>\n",
              "      <td>Prepaid Card</td>\n",
              "      <td>Mail</td>\n",
              "      <td>10.0</td>\n",
              "      <td>₹ 611426.29122378</td>\n",
              "      <td>Indian Rupee</td>\n",
              "      <td>611426.291224</td>\n",
              "    </tr>\n",
              "    <tr>\n",
              "      <th>5</th>\n",
              "      <td>2020-08-28</td>\n",
              "      <td>10476</td>\n",
              "      <td>Coats/Jackets</td>\n",
              "      <td>2 star</td>\n",
              "      <td>5347</td>\n",
              "      <td>Female</td>\n",
              "      <td>Direct Deposit</td>\n",
              "      <td>Direct Deposit</td>\n",
              "      <td>Mail</td>\n",
              "      <td>20.0</td>\n",
              "      <td>&lt;NA&gt;</td>\n",
              "      <td></td>\n",
              "      <td>0.000000</td>\n",
              "    </tr>\n",
              "    <tr>\n",
              "      <th>6</th>\n",
              "      <td>2020-08-08</td>\n",
              "      <td>10477</td>\n",
              "      <td>Coats/Jackets</td>\n",
              "      <td>5 star</td>\n",
              "      <td>9406</td>\n",
              "      <td>Unspecified</td>\n",
              "      <td>Direct Deposit</td>\n",
              "      <td>Direct Deposit</td>\n",
              "      <td>Mail</td>\n",
              "      <td>14.0</td>\n",
              "      <td>£ 6610.077565000001</td>\n",
              "      <td>British Pound</td>\n",
              "      <td>6610.077565</td>\n",
              "    </tr>\n",
              "  </tbody>\n",
              "</table>\n",
              "</div>"
            ],
            "text/plain": [
              "        Date  CustomerID  ...   PaidCurrency   Price_dollar\n",
              "0 2020-08-16       10471  ...   Indian Rupee  675036.213863\n",
              "1 2020-08-02       10472  ...           Euro    2315.530000\n",
              "2 2020-08-08       10473  ...   Indian Rupee  611426.291224\n",
              "5 2020-08-28       10476  ...                      0.000000\n",
              "6 2020-08-08       10477  ...  British Pound    6610.077565\n",
              "\n",
              "[5 rows x 13 columns]"
            ]
          },
          "metadata": {},
          "execution_count": 188
        }
      ]
    },
    {
      "cell_type": "code",
      "metadata": {
        "id": "2ZJj2SeCYuIj"
      },
      "source": [
        "price_dollar=[]\n",
        "for i in range(100):\n",
        "    try:\n",
        "        if data.PaidCurrency[i]=='Indian Rupee':\n",
        "            price_dollar.append(data.Price_dollar[i]*erate[2])\n",
        "        elif data.PaidCurrency[i]=='British Pound':\n",
        "            price_dollar.append(data.Price_dollar[i]*erate[1])\n",
        "        elif data.PaidCurrency[i]=='Euro':\n",
        "            price_dollar.append(data.Price_dollar[i]*erate[0])\n",
        "        else:\n",
        "            price_dollar.append(data.Price_dollar[i])\n",
        "    except KeyError:\n",
        "        continue"
      ],
      "execution_count": null,
      "outputs": []
    },
    {
      "cell_type": "code",
      "metadata": {
        "id": "Fb09-fodYuIk"
      },
      "source": [
        "data.Price_dollar=price_dollar"
      ],
      "execution_count": null,
      "outputs": []
    },
    {
      "cell_type": "code",
      "metadata": {
        "id": "45_dTAJzYuIk",
        "colab": {
          "base_uri": "https://localhost:8080/",
          "height": 313
        },
        "outputId": "8e101541-7605-4272-a4a8-8939f9cebc3e"
      },
      "source": [
        "data.head()"
      ],
      "execution_count": null,
      "outputs": [
        {
          "output_type": "execute_result",
          "data": {
            "text/html": [
              "<div>\n",
              "<style scoped>\n",
              "    .dataframe tbody tr th:only-of-type {\n",
              "        vertical-align: middle;\n",
              "    }\n",
              "\n",
              "    .dataframe tbody tr th {\n",
              "        vertical-align: top;\n",
              "    }\n",
              "\n",
              "    .dataframe thead th {\n",
              "        text-align: right;\n",
              "    }\n",
              "</style>\n",
              "<table border=\"1\" class=\"dataframe\">\n",
              "  <thead>\n",
              "    <tr style=\"text-align: right;\">\n",
              "      <th></th>\n",
              "      <th>Date</th>\n",
              "      <th>CustomerID</th>\n",
              "      <th>ProductType</th>\n",
              "      <th>Rating</th>\n",
              "      <th>Total_Ratings</th>\n",
              "      <th>Gender</th>\n",
              "      <th>PaymentMode</th>\n",
              "      <th>PaymentMode.1</th>\n",
              "      <th>ShippingMode</th>\n",
              "      <th>ShippingTime</th>\n",
              "      <th>Price</th>\n",
              "      <th>PaidCurrency</th>\n",
              "      <th>Price_dollar</th>\n",
              "    </tr>\n",
              "  </thead>\n",
              "  <tbody>\n",
              "    <tr>\n",
              "      <th>0</th>\n",
              "      <td>2020-08-16</td>\n",
              "      <td>10471</td>\n",
              "      <td>Coats/Jackets</td>\n",
              "      <td>1 star</td>\n",
              "      <td>8736</td>\n",
              "      <td>Female</td>\n",
              "      <td>Credit Card</td>\n",
              "      <td>Creditcard</td>\n",
              "      <td>Economy</td>\n",
              "      <td>17.0</td>\n",
              "      <td>₹ 675036.2138626401</td>\n",
              "      <td>Indian Rupee</td>\n",
              "      <td>9000.932876</td>\n",
              "    </tr>\n",
              "    <tr>\n",
              "      <th>1</th>\n",
              "      <td>2020-08-02</td>\n",
              "      <td>10472</td>\n",
              "      <td>Dresses</td>\n",
              "      <td>2 star</td>\n",
              "      <td>8547</td>\n",
              "      <td>Unspecified</td>\n",
              "      <td>Ewallet</td>\n",
              "      <td>Ewallet</td>\n",
              "      <td>Mail</td>\n",
              "      <td>12.0</td>\n",
              "      <td>€ 2,315.53</td>\n",
              "      <td>Euro</td>\n",
              "      <td>2696.726442</td>\n",
              "    </tr>\n",
              "    <tr>\n",
              "      <th>2</th>\n",
              "      <td>2020-08-08</td>\n",
              "      <td>10473</td>\n",
              "      <td>Coats/Jackets</td>\n",
              "      <td>2 star</td>\n",
              "      <td>9833</td>\n",
              "      <td>Unspecified</td>\n",
              "      <td>Prepaid Card</td>\n",
              "      <td>Prepaid Card</td>\n",
              "      <td>Mail</td>\n",
              "      <td>10.0</td>\n",
              "      <td>₹ 611426.29122378</td>\n",
              "      <td>Indian Rupee</td>\n",
              "      <td>8152.758167</td>\n",
              "    </tr>\n",
              "    <tr>\n",
              "      <th>5</th>\n",
              "      <td>2020-08-28</td>\n",
              "      <td>10476</td>\n",
              "      <td>Coats/Jackets</td>\n",
              "      <td>2 star</td>\n",
              "      <td>5347</td>\n",
              "      <td>Female</td>\n",
              "      <td>Direct Deposit</td>\n",
              "      <td>Direct Deposit</td>\n",
              "      <td>Mail</td>\n",
              "      <td>20.0</td>\n",
              "      <td>&lt;NA&gt;</td>\n",
              "      <td></td>\n",
              "      <td>0.000000</td>\n",
              "    </tr>\n",
              "    <tr>\n",
              "      <th>6</th>\n",
              "      <td>2020-08-08</td>\n",
              "      <td>10477</td>\n",
              "      <td>Coats/Jackets</td>\n",
              "      <td>5 star</td>\n",
              "      <td>9406</td>\n",
              "      <td>Unspecified</td>\n",
              "      <td>Direct Deposit</td>\n",
              "      <td>Direct Deposit</td>\n",
              "      <td>Mail</td>\n",
              "      <td>14.0</td>\n",
              "      <td>£ 6610.077565000001</td>\n",
              "      <td>British Pound</td>\n",
              "      <td>9112.917334</td>\n",
              "    </tr>\n",
              "  </tbody>\n",
              "</table>\n",
              "</div>"
            ],
            "text/plain": [
              "        Date  CustomerID  ...   PaidCurrency Price_dollar\n",
              "0 2020-08-16       10471  ...   Indian Rupee  9000.932876\n",
              "1 2020-08-02       10472  ...           Euro  2696.726442\n",
              "2 2020-08-08       10473  ...   Indian Rupee  8152.758167\n",
              "5 2020-08-28       10476  ...                    0.000000\n",
              "6 2020-08-08       10477  ...  British Pound  9112.917334\n",
              "\n",
              "[5 rows x 13 columns]"
            ]
          },
          "metadata": {},
          "execution_count": 191
        }
      ]
    },
    {
      "cell_type": "code",
      "metadata": {
        "id": "8QaQA_PNYuIk",
        "colab": {
          "base_uri": "https://localhost:8080/",
          "height": 331
        },
        "outputId": "a296ad16-9147-4ba5-998d-4814385bac50"
      },
      "source": [
        "data[['CustomerID','Price','PaidCurrency']].head(9)"
      ],
      "execution_count": null,
      "outputs": [
        {
          "output_type": "execute_result",
          "data": {
            "text/html": [
              "<div>\n",
              "<style scoped>\n",
              "    .dataframe tbody tr th:only-of-type {\n",
              "        vertical-align: middle;\n",
              "    }\n",
              "\n",
              "    .dataframe tbody tr th {\n",
              "        vertical-align: top;\n",
              "    }\n",
              "\n",
              "    .dataframe thead th {\n",
              "        text-align: right;\n",
              "    }\n",
              "</style>\n",
              "<table border=\"1\" class=\"dataframe\">\n",
              "  <thead>\n",
              "    <tr style=\"text-align: right;\">\n",
              "      <th></th>\n",
              "      <th>CustomerID</th>\n",
              "      <th>Price</th>\n",
              "      <th>PaidCurrency</th>\n",
              "    </tr>\n",
              "  </thead>\n",
              "  <tbody>\n",
              "    <tr>\n",
              "      <th>0</th>\n",
              "      <td>10471</td>\n",
              "      <td>₹ 675036.2138626401</td>\n",
              "      <td>Indian Rupee</td>\n",
              "    </tr>\n",
              "    <tr>\n",
              "      <th>1</th>\n",
              "      <td>10472</td>\n",
              "      <td>€ 2,315.53</td>\n",
              "      <td>Euro</td>\n",
              "    </tr>\n",
              "    <tr>\n",
              "      <th>2</th>\n",
              "      <td>10473</td>\n",
              "      <td>₹ 611426.29122378</td>\n",
              "      <td>Indian Rupee</td>\n",
              "    </tr>\n",
              "    <tr>\n",
              "      <th>5</th>\n",
              "      <td>10476</td>\n",
              "      <td>&lt;NA&gt;</td>\n",
              "      <td></td>\n",
              "    </tr>\n",
              "    <tr>\n",
              "      <th>6</th>\n",
              "      <td>10477</td>\n",
              "      <td>£ 6610.077565000001</td>\n",
              "      <td>British Pound</td>\n",
              "    </tr>\n",
              "    <tr>\n",
              "      <th>7</th>\n",
              "      <td>10478</td>\n",
              "      <td>$4,287.06</td>\n",
              "      <td>American Dollar</td>\n",
              "    </tr>\n",
              "    <tr>\n",
              "      <th>8</th>\n",
              "      <td>10479</td>\n",
              "      <td>£ 3010.212198</td>\n",
              "      <td>British Pound</td>\n",
              "    </tr>\n",
              "    <tr>\n",
              "      <th>9</th>\n",
              "      <td>10480</td>\n",
              "      <td>£ 4032878.5368307503</td>\n",
              "      <td>British Pound</td>\n",
              "    </tr>\n",
              "    <tr>\n",
              "      <th>10</th>\n",
              "      <td>10481</td>\n",
              "      <td>€ 3,702.54</td>\n",
              "      <td>Euro</td>\n",
              "    </tr>\n",
              "  </tbody>\n",
              "</table>\n",
              "</div>"
            ],
            "text/plain": [
              "    CustomerID                 Price     PaidCurrency\n",
              "0        10471   ₹ 675036.2138626401     Indian Rupee\n",
              "1        10472            € 2,315.53             Euro\n",
              "2        10473     ₹ 611426.29122378     Indian Rupee\n",
              "5        10476                  <NA>                 \n",
              "6        10477   £ 6610.077565000001    British Pound\n",
              "7        10478            $4,287.06   American Dollar\n",
              "8        10479         £ 3010.212198    British Pound\n",
              "9        10480  £ 4032878.5368307503    British Pound\n",
              "10       10481            € 3,702.54             Euro"
            ]
          },
          "metadata": {},
          "execution_count": 192
        }
      ]
    },
    {
      "cell_type": "code",
      "metadata": {
        "id": "7ng9-F6IYuIl",
        "colab": {
          "base_uri": "https://localhost:8080/",
          "height": 295
        },
        "outputId": "621af5b9-5207-49ff-acc3-843e641fbdb6"
      },
      "source": [
        "# Since we have just transformed the Price ranges we will have to recheck for missing values and outliers again\n",
        "data.boxplot(column='Price_dollar')"
      ],
      "execution_count": null,
      "outputs": [
        {
          "output_type": "execute_result",
          "data": {
            "text/plain": [
              "<matplotlib.axes._subplots.AxesSubplot at 0x7f294ecf8910>"
            ]
          },
          "metadata": {},
          "execution_count": 193
        },
        {
          "output_type": "display_data",
          "data": {
            "image/png": "[encoded data removed]",
            "text/plain": [
              "<Figure size 432x288 with 1 Axes>"
            ]
          },
          "metadata": {
            "needs_background": "light"
          }
        }
      ]
    },
    {
      "cell_type": "markdown",
      "metadata": {
        "id": "3jUqwtQPYuIl"
      },
      "source": [
        "There are 3 outliers present in the data."
      ]
    },
    {
      "cell_type": "code",
      "metadata": {
        "id": "EL-Vy1ZKYuIl"
      },
      "source": [
        "# Pandas allows you to get quantiles using quantile function\n",
        "Q1 = data['Price_dollar'].quantile(0.25)\n",
        "Q3 = data['Price_dollar'].quantile(0.75)\n",
        "IQR = Q3 - Q1"
      ],
      "execution_count": null,
      "outputs": []
    },
    {
      "cell_type": "code",
      "metadata": {
        "id": "1LAnATFaYuIm",
        "colab": {
          "base_uri": "https://localhost:8080/"
        },
        "outputId": "89b82155-44ad-465b-eb8a-a6ad46abff89"
      },
      "source": [
        "print('The IQR value is',IQR)"
      ],
      "execution_count": null,
      "outputs": [
        {
          "output_type": "stream",
          "name": "stdout",
          "text": [
            "The IQR value is 4912.042132670765\n"
          ]
        }
      ]
    },
    {
      "cell_type": "code",
      "metadata": {
        "id": "7GHPUfPcYuIm"
      },
      "source": [
        "# Let's see which entries are outliers\n",
        "outliers=data[(data.Price_dollar < (Q1 - 1.5 * IQR)) |(data.Price_dollar > (Q3 + 1.5 * IQR))]"
      ],
      "execution_count": null,
      "outputs": []
    },
    {
      "cell_type": "code",
      "metadata": {
        "id": "LfYG8t0CYuIm",
        "colab": {
          "base_uri": "https://localhost:8080/",
          "height": 215
        },
        "outputId": "2aac5140-fb49-4487-8203-495ee1f145ad"
      },
      "source": [
        "outliers"
      ],
      "execution_count": null,
      "outputs": [
        {
          "output_type": "execute_result",
          "data": {
            "text/html": [
              "<div>\n",
              "<style scoped>\n",
              "    .dataframe tbody tr th:only-of-type {\n",
              "        vertical-align: middle;\n",
              "    }\n",
              "\n",
              "    .dataframe tbody tr th {\n",
              "        vertical-align: top;\n",
              "    }\n",
              "\n",
              "    .dataframe thead th {\n",
              "        text-align: right;\n",
              "    }\n",
              "</style>\n",
              "<table border=\"1\" class=\"dataframe\">\n",
              "  <thead>\n",
              "    <tr style=\"text-align: right;\">\n",
              "      <th></th>\n",
              "      <th>Date</th>\n",
              "      <th>CustomerID</th>\n",
              "      <th>ProductType</th>\n",
              "      <th>Rating</th>\n",
              "      <th>Total_Ratings</th>\n",
              "      <th>Gender</th>\n",
              "      <th>PaymentMode</th>\n",
              "      <th>PaymentMode.1</th>\n",
              "      <th>ShippingMode</th>\n",
              "      <th>ShippingTime</th>\n",
              "      <th>Price</th>\n",
              "      <th>PaidCurrency</th>\n",
              "      <th>Price_dollar</th>\n",
              "    </tr>\n",
              "  </thead>\n",
              "  <tbody>\n",
              "    <tr>\n",
              "      <th>9</th>\n",
              "      <td>2020-08-16</td>\n",
              "      <td>10480</td>\n",
              "      <td>Pants</td>\n",
              "      <td>1 star</td>\n",
              "      <td>6914</td>\n",
              "      <td>Female</td>\n",
              "      <td>Prepaid Card</td>\n",
              "      <td>Prepaid Card</td>\n",
              "      <td>Express</td>\n",
              "      <td>19.0</td>\n",
              "      <td>£ 4032878.5368307503</td>\n",
              "      <td>British Pound</td>\n",
              "      <td>5.559888e+06</td>\n",
              "    </tr>\n",
              "    <tr>\n",
              "      <th>16</th>\n",
              "      <td>2020-08-17</td>\n",
              "      <td>10487</td>\n",
              "      <td>Pants</td>\n",
              "      <td>2 star</td>\n",
              "      <td>5783</td>\n",
              "      <td>Female</td>\n",
              "      <td>Credit Card</td>\n",
              "      <td>Credit Card</td>\n",
              "      <td>Economy</td>\n",
              "      <td>19.0</td>\n",
              "      <td>£ 25773831.320659</td>\n",
              "      <td>British Pound</td>\n",
              "      <td>3.553283e+07</td>\n",
              "    </tr>\n",
              "    <tr>\n",
              "      <th>29</th>\n",
              "      <td>2020-08-02</td>\n",
              "      <td>10500</td>\n",
              "      <td>Jeans</td>\n",
              "      <td>1 star</td>\n",
              "      <td>9410</td>\n",
              "      <td>Unspecified</td>\n",
              "      <td>Direct Deposit</td>\n",
              "      <td>Direct Deposit</td>\n",
              "      <td>Mail</td>\n",
              "      <td>5.0</td>\n",
              "      <td>$21,312,321.13</td>\n",
              "      <td>American Dollar</td>\n",
              "      <td>2.131232e+07</td>\n",
              "    </tr>\n",
              "  </tbody>\n",
              "</table>\n",
              "</div>"
            ],
            "text/plain": [
              "         Date  CustomerID  ...     PaidCurrency  Price_dollar\n",
              "9  2020-08-16       10480  ...    British Pound  5.559888e+06\n",
              "16 2020-08-17       10487  ...    British Pound  3.553283e+07\n",
              "29 2020-08-02       10500  ...  American Dollar  2.131232e+07\n",
              "\n",
              "[3 rows x 13 columns]"
            ]
          },
          "metadata": {},
          "execution_count": 197
        }
      ]
    },
    {
      "cell_type": "code",
      "metadata": {
        "id": "L8Hrr3UoYuIn"
      },
      "source": [
        "data.drop([9,16,29],axis=0,inplace=True)"
      ],
      "execution_count": null,
      "outputs": []
    },
    {
      "cell_type": "code",
      "metadata": {
        "id": "QC6EV4pPYuIn",
        "colab": {
          "base_uri": "https://localhost:8080/",
          "height": 556
        },
        "outputId": "224d0365-7ee1-4c5f-a9c8-189c1f2e2163"
      },
      "source": [
        "# lets try to filter entries with product type average expense is more than 6000\n",
        "data.groupby('ProductType').filter(lambda val:val['Price_dollar'].mean()>6000)"
      ],
      "execution_count": null,
      "outputs": [
        {
          "output_type": "execute_result",
          "data": {
            "text/html": [
              "<div>\n",
              "<style scoped>\n",
              "    .dataframe tbody tr th:only-of-type {\n",
              "        vertical-align: middle;\n",
              "    }\n",
              "\n",
              "    .dataframe tbody tr th {\n",
              "        vertical-align: top;\n",
              "    }\n",
              "\n",
              "    .dataframe thead th {\n",
              "        text-align: right;\n",
              "    }\n",
              "</style>\n",
              "<table border=\"1\" class=\"dataframe\">\n",
              "  <thead>\n",
              "    <tr style=\"text-align: right;\">\n",
              "      <th></th>\n",
              "      <th>Date</th>\n",
              "      <th>CustomerID</th>\n",
              "      <th>ProductType</th>\n",
              "      <th>Rating</th>\n",
              "      <th>Total_Ratings</th>\n",
              "      <th>Gender</th>\n",
              "      <th>PaymentMode</th>\n",
              "      <th>PaymentMode.1</th>\n",
              "      <th>ShippingMode</th>\n",
              "      <th>ShippingTime</th>\n",
              "      <th>Price</th>\n",
              "      <th>PaidCurrency</th>\n",
              "      <th>Price_dollar</th>\n",
              "    </tr>\n",
              "  </thead>\n",
              "  <tbody>\n",
              "    <tr>\n",
              "      <th>8</th>\n",
              "      <td>2020-08-01</td>\n",
              "      <td>10479</td>\n",
              "      <td>Pants</td>\n",
              "      <td>4 star</td>\n",
              "      <td>9630</td>\n",
              "      <td>Male</td>\n",
              "      <td>Direct Deposit</td>\n",
              "      <td>Direct Deposit</td>\n",
              "      <td>Express</td>\n",
              "      <td>12.822222</td>\n",
              "      <td>£ 3010.212198</td>\n",
              "      <td>British Pound</td>\n",
              "      <td>4149.998945</td>\n",
              "    </tr>\n",
              "    <tr>\n",
              "      <th>11</th>\n",
              "      <td>2020-08-18</td>\n",
              "      <td>10482</td>\n",
              "      <td>Pants</td>\n",
              "      <td>5 star</td>\n",
              "      <td>7816</td>\n",
              "      <td>Female</td>\n",
              "      <td>Mobile Payment</td>\n",
              "      <td>Mobile Payment</td>\n",
              "      <td>Mail</td>\n",
              "      <td>10.000000</td>\n",
              "      <td>€ 6,580.20</td>\n",
              "      <td>Euro</td>\n",
              "      <td>7663.472005</td>\n",
              "    </tr>\n",
              "    <tr>\n",
              "      <th>22</th>\n",
              "      <td>2020-08-04</td>\n",
              "      <td>10493</td>\n",
              "      <td>Pants</td>\n",
              "      <td>4 star</td>\n",
              "      <td>6943</td>\n",
              "      <td>Unspecified</td>\n",
              "      <td>Ewallet</td>\n",
              "      <td>Ewallet</td>\n",
              "      <td>Normal</td>\n",
              "      <td>17.000000</td>\n",
              "      <td>₹ 634808.1963701401</td>\n",
              "      <td>Indian Rupee</td>\n",
              "      <td>8464.532490</td>\n",
              "    </tr>\n",
              "    <tr>\n",
              "      <th>28</th>\n",
              "      <td>2020-08-30</td>\n",
              "      <td>10499</td>\n",
              "      <td>Pants</td>\n",
              "      <td>4 star</td>\n",
              "      <td>7160</td>\n",
              "      <td>Unspecified</td>\n",
              "      <td>Cash</td>\n",
              "      <td>Cash</td>\n",
              "      <td>Economy</td>\n",
              "      <td>17.000000</td>\n",
              "      <td>₹ 176647.10500702</td>\n",
              "      <td>Indian Rupee</td>\n",
              "      <td>2355.412498</td>\n",
              "    </tr>\n",
              "    <tr>\n",
              "      <th>30</th>\n",
              "      <td>2020-08-31</td>\n",
              "      <td>10501</td>\n",
              "      <td>Pants</td>\n",
              "      <td>4 star</td>\n",
              "      <td>6569</td>\n",
              "      <td>Unspecified</td>\n",
              "      <td>Credit Card</td>\n",
              "      <td>Creditcard</td>\n",
              "      <td>Normal</td>\n",
              "      <td>9.000000</td>\n",
              "      <td>₹ 581033.69733056</td>\n",
              "      <td>Indian Rupee</td>\n",
              "      <td>7747.503320</td>\n",
              "    </tr>\n",
              "    <tr>\n",
              "      <th>41</th>\n",
              "      <td>2020-08-02</td>\n",
              "      <td>10512</td>\n",
              "      <td>Pants</td>\n",
              "      <td>2 star</td>\n",
              "      <td>6416</td>\n",
              "      <td>Male</td>\n",
              "      <td>Credit Card</td>\n",
              "      <td>Creditcard</td>\n",
              "      <td>Economy</td>\n",
              "      <td>20.000000</td>\n",
              "      <td>£ 5925.050872750001</td>\n",
              "      <td>British Pound</td>\n",
              "      <td>8168.512135</td>\n",
              "    </tr>\n",
              "    <tr>\n",
              "      <th>60</th>\n",
              "      <td>2020-08-30</td>\n",
              "      <td>10531</td>\n",
              "      <td>Pants</td>\n",
              "      <td>1 star</td>\n",
              "      <td>8535</td>\n",
              "      <td>Unspecified</td>\n",
              "      <td>Direct Deposit</td>\n",
              "      <td>Direct Deposit</td>\n",
              "      <td>Normal</td>\n",
              "      <td>18.000000</td>\n",
              "      <td>€ 5,597.06</td>\n",
              "      <td>Euro</td>\n",
              "      <td>6518.481600</td>\n",
              "    </tr>\n",
              "    <tr>\n",
              "      <th>68</th>\n",
              "      <td>2020-08-02</td>\n",
              "      <td>10539</td>\n",
              "      <td>Pants</td>\n",
              "      <td>4 star</td>\n",
              "      <td>7374</td>\n",
              "      <td>Female</td>\n",
              "      <td>Credit Card</td>\n",
              "      <td>Credit Card</td>\n",
              "      <td>Normal</td>\n",
              "      <td>12.000000</td>\n",
              "      <td>$1,842.56</td>\n",
              "      <td>American Dollar</td>\n",
              "      <td>1842.560000</td>\n",
              "    </tr>\n",
              "    <tr>\n",
              "      <th>78</th>\n",
              "      <td>2020-08-18</td>\n",
              "      <td>10549</td>\n",
              "      <td>Pants</td>\n",
              "      <td>3 star</td>\n",
              "      <td>8745</td>\n",
              "      <td>Unspecified</td>\n",
              "      <td>Prepaid Card</td>\n",
              "      <td>Prepaid Card</td>\n",
              "      <td>Mail</td>\n",
              "      <td>10.000000</td>\n",
              "      <td>£ 4060.4158125000004</td>\n",
              "      <td>British Pound</td>\n",
              "      <td>5597.851656</td>\n",
              "    </tr>\n",
              "    <tr>\n",
              "      <th>97</th>\n",
              "      <td>2020-08-25</td>\n",
              "      <td>10568</td>\n",
              "      <td>Pants</td>\n",
              "      <td>3 star</td>\n",
              "      <td>7354</td>\n",
              "      <td>Female</td>\n",
              "      <td>Credit Card</td>\n",
              "      <td>Credit Card</td>\n",
              "      <td>Normal</td>\n",
              "      <td>10.000000</td>\n",
              "      <td>₹ 577078.47118378</td>\n",
              "      <td>Indian Rupee</td>\n",
              "      <td>7694.764335</td>\n",
              "    </tr>\n",
              "  </tbody>\n",
              "</table>\n",
              "</div>"
            ],
            "text/plain": [
              "         Date  CustomerID  ...     PaidCurrency Price_dollar\n",
              "8  2020-08-01       10479  ...    British Pound  4149.998945\n",
              "11 2020-08-18       10482  ...             Euro  7663.472005\n",
              "22 2020-08-04       10493  ...     Indian Rupee  8464.532490\n",
              "28 2020-08-30       10499  ...     Indian Rupee  2355.412498\n",
              "30 2020-08-31       10501  ...     Indian Rupee  7747.503320\n",
              "41 2020-08-02       10512  ...    British Pound  8168.512135\n",
              "60 2020-08-30       10531  ...             Euro  6518.481600\n",
              "68 2020-08-02       10539  ...  American Dollar  1842.560000\n",
              "78 2020-08-18       10549  ...    British Pound  5597.851656\n",
              "97 2020-08-25       10568  ...     Indian Rupee  7694.764335\n",
              "\n",
              "[10 rows x 13 columns]"
            ]
          },
          "metadata": {},
          "execution_count": 199
        }
      ]
    },
    {
      "cell_type": "markdown",
      "metadata": {
        "id": "U_DBFSjtYuIo"
      },
      "source": [
        "### Encoding"
      ]
    },
    {
      "cell_type": "markdown",
      "metadata": {
        "id": "vXhQwIqeYuIo"
      },
      "source": [
        "#### LabelEncoder"
      ]
    },
    {
      "cell_type": "markdown",
      "metadata": {
        "id": "qA8so9f0YuIo"
      },
      "source": [
        "Scikit-learn(__sklearn__) is a famous machine learning library which provides a number of data preprocessing methods and machine learning algorithms. \n"
      ]
    },
    {
      "cell_type": "code",
      "metadata": {
        "id": "3NWpQg-cYuIo"
      },
      "source": [
        "from sklearn.preprocessing import LabelEncoder"
      ],
      "execution_count": null,
      "outputs": []
    },
    {
      "cell_type": "code",
      "metadata": {
        "id": "XirSU0sKYuIp",
        "colab": {
          "base_uri": "https://localhost:8080/",
          "height": 331
        },
        "outputId": "2c4bc15d-3c2f-488b-b60e-b359491eb758"
      },
      "source": [
        "data[['CustomerID','ProductType','Rating','ShippingMode']].head(9)"
      ],
      "execution_count": null,
      "outputs": [
        {
          "output_type": "execute_result",
          "data": {
            "text/html": [
              "<div>\n",
              "<style scoped>\n",
              "    .dataframe tbody tr th:only-of-type {\n",
              "        vertical-align: middle;\n",
              "    }\n",
              "\n",
              "    .dataframe tbody tr th {\n",
              "        vertical-align: top;\n",
              "    }\n",
              "\n",
              "    .dataframe thead th {\n",
              "        text-align: right;\n",
              "    }\n",
              "</style>\n",
              "<table border=\"1\" class=\"dataframe\">\n",
              "  <thead>\n",
              "    <tr style=\"text-align: right;\">\n",
              "      <th></th>\n",
              "      <th>CustomerID</th>\n",
              "      <th>ProductType</th>\n",
              "      <th>Rating</th>\n",
              "      <th>ShippingMode</th>\n",
              "    </tr>\n",
              "  </thead>\n",
              "  <tbody>\n",
              "    <tr>\n",
              "      <th>0</th>\n",
              "      <td>10471</td>\n",
              "      <td>Coats/Jackets</td>\n",
              "      <td>1 star</td>\n",
              "      <td>Economy</td>\n",
              "    </tr>\n",
              "    <tr>\n",
              "      <th>1</th>\n",
              "      <td>10472</td>\n",
              "      <td>Dresses</td>\n",
              "      <td>2 star</td>\n",
              "      <td>Mail</td>\n",
              "    </tr>\n",
              "    <tr>\n",
              "      <th>2</th>\n",
              "      <td>10473</td>\n",
              "      <td>Coats/Jackets</td>\n",
              "      <td>2 star</td>\n",
              "      <td>Mail</td>\n",
              "    </tr>\n",
              "    <tr>\n",
              "      <th>5</th>\n",
              "      <td>10476</td>\n",
              "      <td>Coats/Jackets</td>\n",
              "      <td>2 star</td>\n",
              "      <td>Mail</td>\n",
              "    </tr>\n",
              "    <tr>\n",
              "      <th>6</th>\n",
              "      <td>10477</td>\n",
              "      <td>Coats/Jackets</td>\n",
              "      <td>5 star</td>\n",
              "      <td>Mail</td>\n",
              "    </tr>\n",
              "    <tr>\n",
              "      <th>7</th>\n",
              "      <td>10478</td>\n",
              "      <td>Jeans</td>\n",
              "      <td>1 star</td>\n",
              "      <td>Mail</td>\n",
              "    </tr>\n",
              "    <tr>\n",
              "      <th>8</th>\n",
              "      <td>10479</td>\n",
              "      <td>Pants</td>\n",
              "      <td>4 star</td>\n",
              "      <td>Express</td>\n",
              "    </tr>\n",
              "    <tr>\n",
              "      <th>10</th>\n",
              "      <td>10481</td>\n",
              "      <td>Dresses</td>\n",
              "      <td>2 star</td>\n",
              "      <td>Economy</td>\n",
              "    </tr>\n",
              "    <tr>\n",
              "      <th>11</th>\n",
              "      <td>10482</td>\n",
              "      <td>Pants</td>\n",
              "      <td>5 star</td>\n",
              "      <td>Mail</td>\n",
              "    </tr>\n",
              "  </tbody>\n",
              "</table>\n",
              "</div>"
            ],
            "text/plain": [
              "    CustomerID    ProductType  Rating ShippingMode\n",
              "0        10471  Coats/Jackets  1 star      Economy\n",
              "1        10472        Dresses  2 star         Mail\n",
              "2        10473  Coats/Jackets  2 star         Mail\n",
              "5        10476  Coats/Jackets  2 star         Mail\n",
              "6        10477  Coats/Jackets  5 star         Mail\n",
              "7        10478          Jeans  1 star         Mail\n",
              "8        10479          Pants  4 star      Express\n",
              "10       10481        Dresses  2 star      Economy\n",
              "11       10482          Pants  5 star         Mail"
            ]
          },
          "metadata": {},
          "execution_count": 201
        }
      ]
    },
    {
      "cell_type": "code",
      "metadata": {
        "id": "Bpl3tT57YuIp"
      },
      "source": [
        "encoded_data=data.copy()"
      ],
      "execution_count": null,
      "outputs": []
    },
    {
      "cell_type": "code",
      "metadata": {
        "id": "aOmqPS5rLQI0"
      },
      "source": [
        "le = LabelEncoder()"
      ],
      "execution_count": null,
      "outputs": []
    },
    {
      "cell_type": "code",
      "metadata": {
        "colab": {
          "base_uri": "https://localhost:8080/"
        },
        "id": "HttTcDUpLQvg",
        "outputId": "0cd73fad-c3a1-4c97-a12c-bd0322596c80"
      },
      "source": [
        "le.fit(encoded_data[\"Rating\"])"
      ],
      "execution_count": null,
      "outputs": [
        {
          "output_type": "execute_result",
          "data": {
            "text/plain": [
              "LabelEncoder()"
            ]
          },
          "metadata": {},
          "execution_count": 204
        }
      ]
    },
    {
      "cell_type": "code",
      "metadata": {
        "colab": {
          "base_uri": "https://localhost:8080/"
        },
        "id": "ivjFIphvLV1_",
        "outputId": "402b2fc0-da40-4546-9bca-09e01d6dce5b"
      },
      "source": [
        "le.classes_"
      ],
      "execution_count": null,
      "outputs": [
        {
          "output_type": "execute_result",
          "data": {
            "text/plain": [
              "array(['1 star', '2 star', '3 star', '4 star', '5 star'], dtype=object)"
            ]
          },
          "metadata": {},
          "execution_count": 205
        }
      ]
    },
    {
      "cell_type": "code",
      "metadata": {
        "colab": {
          "base_uri": "https://localhost:8080/"
        },
        "id": "pDHazFpkLm98",
        "outputId": "98b9881b-8569-48bd-8e60-391c19f6501c"
      },
      "source": [
        "encoded_data[\"Rating\"]"
      ],
      "execution_count": null,
      "outputs": [
        {
          "output_type": "execute_result",
          "data": {
            "text/plain": [
              "0     1 star\n",
              "1     2 star\n",
              "2     2 star\n",
              "5     2 star\n",
              "6     5 star\n",
              "       ...  \n",
              "94    1 star\n",
              "95    2 star\n",
              "96    5 star\n",
              "97    3 star\n",
              "99    1 star\n",
              "Name: Rating, Length: 88, dtype: object"
            ]
          },
          "metadata": {},
          "execution_count": 206
        }
      ]
    },
    {
      "cell_type": "code",
      "metadata": {
        "id": "yLeLriJdLfoL"
      },
      "source": [
        "converted_data = le.transform(encoded_data[\"Rating\"])"
      ],
      "execution_count": null,
      "outputs": []
    },
    {
      "cell_type": "code",
      "metadata": {
        "colab": {
          "base_uri": "https://localhost:8080/"
        },
        "id": "Xl6pcpOZLq2y",
        "outputId": "405b0a6b-c908-4d24-a9f8-f51f42ebf86d"
      },
      "source": [
        "converted_data"
      ],
      "execution_count": null,
      "outputs": [
        {
          "output_type": "execute_result",
          "data": {
            "text/plain": [
              "array([0, 1, 1, 1, 4, 0, 3, 1, 4, 3, 0, 0, 0, 4, 3, 0, 0, 3, 3, 1, 3, 3,\n",
              "       0, 3, 3, 2, 3, 0, 2, 1, 0, 3, 0, 0, 3, 1, 0, 3, 2, 4, 1, 1, 3, 3,\n",
              "       0, 0, 2, 4, 1, 0, 0, 1, 0, 1, 4, 3, 4, 0, 1, 1, 3, 0, 4, 3, 0, 1,\n",
              "       3, 2, 2, 2, 4, 1, 4, 2, 3, 0, 0, 0, 4, 0, 1, 2, 1, 0, 1, 4, 2, 0])"
            ]
          },
          "metadata": {},
          "execution_count": 208
        }
      ]
    },
    {
      "cell_type": "code",
      "metadata": {
        "colab": {
          "base_uri": "https://localhost:8080/"
        },
        "id": "TV6SZt1HL2tX",
        "outputId": "77630114-fd06-4efd-c95d-e44332c1de1e"
      },
      "source": [
        "le.fit(encoded_data[\"Rating\"]).transform(encoded_data[\"Rating\"])"
      ],
      "execution_count": null,
      "outputs": [
        {
          "output_type": "execute_result",
          "data": {
            "text/plain": [
              "array([0, 1, 1, 1, 4, 0, 3, 1, 4, 3, 0, 0, 0, 4, 3, 0, 0, 3, 3, 1, 3, 3,\n",
              "       0, 3, 3, 2, 3, 0, 2, 1, 0, 3, 0, 0, 3, 1, 0, 3, 2, 4, 1, 1, 3, 3,\n",
              "       0, 0, 2, 4, 1, 0, 0, 1, 0, 1, 4, 3, 4, 0, 1, 1, 3, 0, 4, 3, 0, 1,\n",
              "       3, 2, 2, 2, 4, 1, 4, 2, 3, 0, 0, 0, 4, 0, 1, 2, 1, 0, 1, 4, 2, 0])"
            ]
          },
          "metadata": {},
          "execution_count": 209
        }
      ]
    },
    {
      "cell_type": "code",
      "metadata": {
        "colab": {
          "base_uri": "https://localhost:8080/"
        },
        "id": "TY_SoYJAMCmP",
        "outputId": "667426ff-8fd9-4733-bf16-f51ead4af7ce"
      },
      "source": [
        "le.fit_transform(encoded_data[\"Rating\"])"
      ],
      "execution_count": null,
      "outputs": [
        {
          "output_type": "execute_result",
          "data": {
            "text/plain": [
              "array([0, 1, 1, 1, 4, 0, 3, 1, 4, 3, 0, 0, 0, 4, 3, 0, 0, 3, 3, 1, 3, 3,\n",
              "       0, 3, 3, 2, 3, 0, 2, 1, 0, 3, 0, 0, 3, 1, 0, 3, 2, 4, 1, 1, 3, 3,\n",
              "       0, 0, 2, 4, 1, 0, 0, 1, 0, 1, 4, 3, 4, 0, 1, 1, 3, 0, 4, 3, 0, 1,\n",
              "       3, 2, 2, 2, 4, 1, 4, 2, 3, 0, 0, 0, 4, 0, 1, 2, 1, 0, 1, 4, 2, 0])"
            ]
          },
          "metadata": {},
          "execution_count": 210
        }
      ]
    },
    {
      "cell_type": "code",
      "metadata": {
        "id": "1_uRx-RNGBcG",
        "colab": {
          "base_uri": "https://localhost:8080/"
        },
        "outputId": "a64433df-518f-42a3-9e01-7d5ff8f25589"
      },
      "source": [
        "le.classes_"
      ],
      "execution_count": null,
      "outputs": [
        {
          "output_type": "execute_result",
          "data": {
            "text/plain": [
              "array(['1 star', '2 star', '3 star', '4 star', '5 star'], dtype=object)"
            ]
          },
          "metadata": {},
          "execution_count": 211
        }
      ]
    },
    {
      "cell_type": "code",
      "metadata": {
        "id": "_wlladsfGKDw",
        "colab": {
          "base_uri": "https://localhost:8080/"
        },
        "outputId": "5967a445-7cfd-46a0-9cb2-aa708ea2eb8a"
      },
      "source": [
        "le.inverse_transform([2])"
      ],
      "execution_count": null,
      "outputs": [
        {
          "output_type": "execute_result",
          "data": {
            "text/plain": [
              "array(['3 star'], dtype=object)"
            ]
          },
          "metadata": {},
          "execution_count": 212
        }
      ]
    },
    {
      "cell_type": "code",
      "metadata": {
        "colab": {
          "base_uri": "https://localhost:8080/",
          "height": 313
        },
        "id": "FuTPFRZrMfEB",
        "outputId": "cf99e3ec-eb50-46c4-f18c-8726bd90386b"
      },
      "source": [
        "encoded_data[\"LE\"] = le.fit_transform(encoded_data[\"Rating\"])\n",
        "encoded_data.head()"
      ],
      "execution_count": null,
      "outputs": [
        {
          "output_type": "execute_result",
          "data": {
            "text/html": [
              "<div>\n",
              "<style scoped>\n",
              "    .dataframe tbody tr th:only-of-type {\n",
              "        vertical-align: middle;\n",
              "    }\n",
              "\n",
              "    .dataframe tbody tr th {\n",
              "        vertical-align: top;\n",
              "    }\n",
              "\n",
              "    .dataframe thead th {\n",
              "        text-align: right;\n",
              "    }\n",
              "</style>\n",
              "<table border=\"1\" class=\"dataframe\">\n",
              "  <thead>\n",
              "    <tr style=\"text-align: right;\">\n",
              "      <th></th>\n",
              "      <th>Date</th>\n",
              "      <th>CustomerID</th>\n",
              "      <th>ProductType</th>\n",
              "      <th>Rating</th>\n",
              "      <th>Total_Ratings</th>\n",
              "      <th>Gender</th>\n",
              "      <th>PaymentMode</th>\n",
              "      <th>PaymentMode.1</th>\n",
              "      <th>ShippingMode</th>\n",
              "      <th>ShippingTime</th>\n",
              "      <th>Price</th>\n",
              "      <th>PaidCurrency</th>\n",
              "      <th>Price_dollar</th>\n",
              "      <th>LE</th>\n",
              "    </tr>\n",
              "  </thead>\n",
              "  <tbody>\n",
              "    <tr>\n",
              "      <th>0</th>\n",
              "      <td>2020-08-16</td>\n",
              "      <td>10471</td>\n",
              "      <td>Coats/Jackets</td>\n",
              "      <td>1 star</td>\n",
              "      <td>8736</td>\n",
              "      <td>Female</td>\n",
              "      <td>Credit Card</td>\n",
              "      <td>Creditcard</td>\n",
              "      <td>Economy</td>\n",
              "      <td>17.0</td>\n",
              "      <td>₹ 675036.2138626401</td>\n",
              "      <td>Indian Rupee</td>\n",
              "      <td>9000.932876</td>\n",
              "      <td>0</td>\n",
              "    </tr>\n",
              "    <tr>\n",
              "      <th>1</th>\n",
              "      <td>2020-08-02</td>\n",
              "      <td>10472</td>\n",
              "      <td>Dresses</td>\n",
              "      <td>2 star</td>\n",
              "      <td>8547</td>\n",
              "      <td>Unspecified</td>\n",
              "      <td>Ewallet</td>\n",
              "      <td>Ewallet</td>\n",
              "      <td>Mail</td>\n",
              "      <td>12.0</td>\n",
              "      <td>€ 2,315.53</td>\n",
              "      <td>Euro</td>\n",
              "      <td>2696.726442</td>\n",
              "      <td>1</td>\n",
              "    </tr>\n",
              "    <tr>\n",
              "      <th>2</th>\n",
              "      <td>2020-08-08</td>\n",
              "      <td>10473</td>\n",
              "      <td>Coats/Jackets</td>\n",
              "      <td>2 star</td>\n",
              "      <td>9833</td>\n",
              "      <td>Unspecified</td>\n",
              "      <td>Prepaid Card</td>\n",
              "      <td>Prepaid Card</td>\n",
              "      <td>Mail</td>\n",
              "      <td>10.0</td>\n",
              "      <td>₹ 611426.29122378</td>\n",
              "      <td>Indian Rupee</td>\n",
              "      <td>8152.758167</td>\n",
              "      <td>1</td>\n",
              "    </tr>\n",
              "    <tr>\n",
              "      <th>5</th>\n",
              "      <td>2020-08-28</td>\n",
              "      <td>10476</td>\n",
              "      <td>Coats/Jackets</td>\n",
              "      <td>2 star</td>\n",
              "      <td>5347</td>\n",
              "      <td>Female</td>\n",
              "      <td>Direct Deposit</td>\n",
              "      <td>Direct Deposit</td>\n",
              "      <td>Mail</td>\n",
              "      <td>20.0</td>\n",
              "      <td>&lt;NA&gt;</td>\n",
              "      <td></td>\n",
              "      <td>0.000000</td>\n",
              "      <td>1</td>\n",
              "    </tr>\n",
              "    <tr>\n",
              "      <th>6</th>\n",
              "      <td>2020-08-08</td>\n",
              "      <td>10477</td>\n",
              "      <td>Coats/Jackets</td>\n",
              "      <td>5 star</td>\n",
              "      <td>9406</td>\n",
              "      <td>Unspecified</td>\n",
              "      <td>Direct Deposit</td>\n",
              "      <td>Direct Deposit</td>\n",
              "      <td>Mail</td>\n",
              "      <td>14.0</td>\n",
              "      <td>£ 6610.077565000001</td>\n",
              "      <td>British Pound</td>\n",
              "      <td>9112.917334</td>\n",
              "      <td>4</td>\n",
              "    </tr>\n",
              "  </tbody>\n",
              "</table>\n",
              "</div>"
            ],
            "text/plain": [
              "        Date  CustomerID    ProductType  ...   PaidCurrency  Price_dollar LE\n",
              "0 2020-08-16       10471  Coats/Jackets  ...   Indian Rupee   9000.932876  0\n",
              "1 2020-08-02       10472        Dresses  ...           Euro   2696.726442  1\n",
              "2 2020-08-08       10473  Coats/Jackets  ...   Indian Rupee   8152.758167  1\n",
              "5 2020-08-28       10476  Coats/Jackets  ...                     0.000000  1\n",
              "6 2020-08-08       10477  Coats/Jackets  ...  British Pound   9112.917334  4\n",
              "\n",
              "[5 rows x 14 columns]"
            ]
          },
          "metadata": {},
          "execution_count": 213
        }
      ]
    },
    {
      "cell_type": "markdown",
      "metadata": {
        "id": "larKnJPuYuIq"
      },
      "source": [
        "#### Mapping"
      ]
    },
    {
      "cell_type": "code",
      "metadata": {
        "id": "4yeEyNRyYuIq"
      },
      "source": [
        "encoded_data=data.copy()"
      ],
      "execution_count": null,
      "outputs": []
    },
    {
      "cell_type": "code",
      "metadata": {
        "id": "pAw2LoovYuIq"
      },
      "source": [
        "def map_rating(i):\n",
        "    if i=='1 star':\n",
        "        return 0\n",
        "    elif i=='2 star':\n",
        "        return 1\n",
        "    elif i=='3 star':\n",
        "        return 2\n",
        "    elif i=='4 star':\n",
        "        return 3\n",
        "    elif i=='5 star':\n",
        "        return 4\n",
        "    else:\n",
        "        return -1"
      ],
      "execution_count": null,
      "outputs": []
    },
    {
      "cell_type": "code",
      "metadata": {
        "id": "goLRVvARYuIq"
      },
      "source": [
        "encoded_data[\"Rating\"]=encoded_data[\"Rating\"].map(map_rating)"
      ],
      "execution_count": null,
      "outputs": []
    },
    {
      "cell_type": "code",
      "metadata": {
        "id": "Wj_JwpipYuIr",
        "colab": {
          "base_uri": "https://localhost:8080/",
          "height": 313
        },
        "outputId": "0158f378-3d42-4b05-a047-99d7e868bae5"
      },
      "source": [
        "encoded_data.head()"
      ],
      "execution_count": null,
      "outputs": [
        {
          "output_type": "execute_result",
          "data": {
            "text/html": [
              "<div>\n",
              "<style scoped>\n",
              "    .dataframe tbody tr th:only-of-type {\n",
              "        vertical-align: middle;\n",
              "    }\n",
              "\n",
              "    .dataframe tbody tr th {\n",
              "        vertical-align: top;\n",
              "    }\n",
              "\n",
              "    .dataframe thead th {\n",
              "        text-align: right;\n",
              "    }\n",
              "</style>\n",
              "<table border=\"1\" class=\"dataframe\">\n",
              "  <thead>\n",
              "    <tr style=\"text-align: right;\">\n",
              "      <th></th>\n",
              "      <th>Date</th>\n",
              "      <th>CustomerID</th>\n",
              "      <th>ProductType</th>\n",
              "      <th>Rating</th>\n",
              "      <th>Total_Ratings</th>\n",
              "      <th>Gender</th>\n",
              "      <th>PaymentMode</th>\n",
              "      <th>PaymentMode.1</th>\n",
              "      <th>ShippingMode</th>\n",
              "      <th>ShippingTime</th>\n",
              "      <th>Price</th>\n",
              "      <th>PaidCurrency</th>\n",
              "      <th>Price_dollar</th>\n",
              "    </tr>\n",
              "  </thead>\n",
              "  <tbody>\n",
              "    <tr>\n",
              "      <th>0</th>\n",
              "      <td>2020-08-16</td>\n",
              "      <td>10471</td>\n",
              "      <td>Coats/Jackets</td>\n",
              "      <td>0</td>\n",
              "      <td>8736</td>\n",
              "      <td>Female</td>\n",
              "      <td>Credit Card</td>\n",
              "      <td>Creditcard</td>\n",
              "      <td>Economy</td>\n",
              "      <td>17.0</td>\n",
              "      <td>₹ 675036.2138626401</td>\n",
              "      <td>Indian Rupee</td>\n",
              "      <td>9000.932876</td>\n",
              "    </tr>\n",
              "    <tr>\n",
              "      <th>1</th>\n",
              "      <td>2020-08-02</td>\n",
              "      <td>10472</td>\n",
              "      <td>Dresses</td>\n",
              "      <td>1</td>\n",
              "      <td>8547</td>\n",
              "      <td>Unspecified</td>\n",
              "      <td>Ewallet</td>\n",
              "      <td>Ewallet</td>\n",
              "      <td>Mail</td>\n",
              "      <td>12.0</td>\n",
              "      <td>€ 2,315.53</td>\n",
              "      <td>Euro</td>\n",
              "      <td>2696.726442</td>\n",
              "    </tr>\n",
              "    <tr>\n",
              "      <th>2</th>\n",
              "      <td>2020-08-08</td>\n",
              "      <td>10473</td>\n",
              "      <td>Coats/Jackets</td>\n",
              "      <td>1</td>\n",
              "      <td>9833</td>\n",
              "      <td>Unspecified</td>\n",
              "      <td>Prepaid Card</td>\n",
              "      <td>Prepaid Card</td>\n",
              "      <td>Mail</td>\n",
              "      <td>10.0</td>\n",
              "      <td>₹ 611426.29122378</td>\n",
              "      <td>Indian Rupee</td>\n",
              "      <td>8152.758167</td>\n",
              "    </tr>\n",
              "    <tr>\n",
              "      <th>5</th>\n",
              "      <td>2020-08-28</td>\n",
              "      <td>10476</td>\n",
              "      <td>Coats/Jackets</td>\n",
              "      <td>1</td>\n",
              "      <td>5347</td>\n",
              "      <td>Female</td>\n",
              "      <td>Direct Deposit</td>\n",
              "      <td>Direct Deposit</td>\n",
              "      <td>Mail</td>\n",
              "      <td>20.0</td>\n",
              "      <td>&lt;NA&gt;</td>\n",
              "      <td></td>\n",
              "      <td>0.000000</td>\n",
              "    </tr>\n",
              "    <tr>\n",
              "      <th>6</th>\n",
              "      <td>2020-08-08</td>\n",
              "      <td>10477</td>\n",
              "      <td>Coats/Jackets</td>\n",
              "      <td>4</td>\n",
              "      <td>9406</td>\n",
              "      <td>Unspecified</td>\n",
              "      <td>Direct Deposit</td>\n",
              "      <td>Direct Deposit</td>\n",
              "      <td>Mail</td>\n",
              "      <td>14.0</td>\n",
              "      <td>£ 6610.077565000001</td>\n",
              "      <td>British Pound</td>\n",
              "      <td>9112.917334</td>\n",
              "    </tr>\n",
              "  </tbody>\n",
              "</table>\n",
              "</div>"
            ],
            "text/plain": [
              "        Date  CustomerID  ...   PaidCurrency  Price_dollar\n",
              "0 2020-08-16       10471  ...   Indian Rupee   9000.932876\n",
              "1 2020-08-02       10472  ...           Euro   2696.726442\n",
              "2 2020-08-08       10473  ...   Indian Rupee   8152.758167\n",
              "5 2020-08-28       10476  ...                     0.000000\n",
              "6 2020-08-08       10477  ...  British Pound   9112.917334\n",
              "\n",
              "[5 rows x 13 columns]"
            ]
          },
          "metadata": {},
          "execution_count": 217
        }
      ]
    },
    {
      "cell_type": "markdown",
      "metadata": {
        "id": "yYVknzROYuIr"
      },
      "source": [
        "#### OneHotEncoder"
      ]
    },
    {
      "cell_type": "code",
      "metadata": {
        "id": "KDHzcPmtYuIr"
      },
      "source": [
        "encoded_data=data.copy()"
      ],
      "execution_count": null,
      "outputs": []
    },
    {
      "cell_type": "code",
      "metadata": {
        "id": "LAhghnB9YuIs",
        "colab": {
          "base_uri": "https://localhost:8080/",
          "height": 206
        },
        "outputId": "53871e8b-1031-48b7-f752-be1fe6c37e00"
      },
      "source": [
        "encoded_data[['CustomerID','ProductType','Rating','ShippingMode']].head()"
      ],
      "execution_count": null,
      "outputs": [
        {
          "output_type": "execute_result",
          "data": {
            "text/html": [
              "<div>\n",
              "<style scoped>\n",
              "    .dataframe tbody tr th:only-of-type {\n",
              "        vertical-align: middle;\n",
              "    }\n",
              "\n",
              "    .dataframe tbody tr th {\n",
              "        vertical-align: top;\n",
              "    }\n",
              "\n",
              "    .dataframe thead th {\n",
              "        text-align: right;\n",
              "    }\n",
              "</style>\n",
              "<table border=\"1\" class=\"dataframe\">\n",
              "  <thead>\n",
              "    <tr style=\"text-align: right;\">\n",
              "      <th></th>\n",
              "      <th>CustomerID</th>\n",
              "      <th>ProductType</th>\n",
              "      <th>Rating</th>\n",
              "      <th>ShippingMode</th>\n",
              "    </tr>\n",
              "  </thead>\n",
              "  <tbody>\n",
              "    <tr>\n",
              "      <th>0</th>\n",
              "      <td>10471</td>\n",
              "      <td>Coats/Jackets</td>\n",
              "      <td>1 star</td>\n",
              "      <td>Economy</td>\n",
              "    </tr>\n",
              "    <tr>\n",
              "      <th>1</th>\n",
              "      <td>10472</td>\n",
              "      <td>Dresses</td>\n",
              "      <td>2 star</td>\n",
              "      <td>Mail</td>\n",
              "    </tr>\n",
              "    <tr>\n",
              "      <th>2</th>\n",
              "      <td>10473</td>\n",
              "      <td>Coats/Jackets</td>\n",
              "      <td>2 star</td>\n",
              "      <td>Mail</td>\n",
              "    </tr>\n",
              "    <tr>\n",
              "      <th>5</th>\n",
              "      <td>10476</td>\n",
              "      <td>Coats/Jackets</td>\n",
              "      <td>2 star</td>\n",
              "      <td>Mail</td>\n",
              "    </tr>\n",
              "    <tr>\n",
              "      <th>6</th>\n",
              "      <td>10477</td>\n",
              "      <td>Coats/Jackets</td>\n",
              "      <td>5 star</td>\n",
              "      <td>Mail</td>\n",
              "    </tr>\n",
              "  </tbody>\n",
              "</table>\n",
              "</div>"
            ],
            "text/plain": [
              "   CustomerID    ProductType  Rating ShippingMode\n",
              "0       10471  Coats/Jackets  1 star      Economy\n",
              "1       10472        Dresses  2 star         Mail\n",
              "2       10473  Coats/Jackets  2 star         Mail\n",
              "5       10476  Coats/Jackets  2 star         Mail\n",
              "6       10477  Coats/Jackets  5 star         Mail"
            ]
          },
          "metadata": {},
          "execution_count": 248
        }
      ]
    },
    {
      "cell_type": "code",
      "metadata": {
        "id": "sTWJlySEYuIs"
      },
      "source": [
        "from sklearn.preprocessing import OneHotEncoder"
      ],
      "execution_count": null,
      "outputs": []
    },
    {
      "cell_type": "code",
      "metadata": {
        "colab": {
          "base_uri": "https://localhost:8080/"
        },
        "id": "ax-QgvTROvTG",
        "outputId": "ef1c2f0e-4b1f-4f52-8d41-ed692fe45314"
      },
      "source": [
        "encoded_data[\"Rating\"].values.shape"
      ],
      "execution_count": null,
      "outputs": [
        {
          "output_type": "execute_result",
          "data": {
            "text/plain": [
              "(88,)"
            ]
          },
          "metadata": {},
          "execution_count": 250
        }
      ]
    },
    {
      "cell_type": "code",
      "metadata": {
        "colab": {
          "base_uri": "https://localhost:8080/"
        },
        "id": "6HaemLBtO4Mh",
        "outputId": "2608fa48-07fe-4b9d-a10f-0fcb41b826f2"
      },
      "source": [
        "encoded_data[\"Rating\"].values.reshape(-1,1).shape"
      ],
      "execution_count": null,
      "outputs": [
        {
          "output_type": "execute_result",
          "data": {
            "text/plain": [
              "(88, 1)"
            ]
          },
          "metadata": {},
          "execution_count": 251
        }
      ]
    },
    {
      "cell_type": "code",
      "metadata": {
        "colab": {
          "base_uri": "https://localhost:8080/",
          "height": 206
        },
        "id": "DHyucsNZOOT9",
        "outputId": "bbf71093-947f-4181-dbb9-4943024bb9fc"
      },
      "source": [
        "ohe = OneHotEncoder()\n",
        "out = ohe.fit_transform(encoded_data[\"Rating\"].values.reshape(-1,1)).toarray()\n",
        "df_out = pd.DataFrame(out)\n",
        "df_out.head()"
      ],
      "execution_count": null,
      "outputs": [
        {
          "output_type": "execute_result",
          "data": {
            "text/html": [
              "<div>\n",
              "<style scoped>\n",
              "    .dataframe tbody tr th:only-of-type {\n",
              "        vertical-align: middle;\n",
              "    }\n",
              "\n",
              "    .dataframe tbody tr th {\n",
              "        vertical-align: top;\n",
              "    }\n",
              "\n",
              "    .dataframe thead th {\n",
              "        text-align: right;\n",
              "    }\n",
              "</style>\n",
              "<table border=\"1\" class=\"dataframe\">\n",
              "  <thead>\n",
              "    <tr style=\"text-align: right;\">\n",
              "      <th></th>\n",
              "      <th>0</th>\n",
              "      <th>1</th>\n",
              "      <th>2</th>\n",
              "      <th>3</th>\n",
              "      <th>4</th>\n",
              "    </tr>\n",
              "  </thead>\n",
              "  <tbody>\n",
              "    <tr>\n",
              "      <th>0</th>\n",
              "      <td>1.0</td>\n",
              "      <td>0.0</td>\n",
              "      <td>0.0</td>\n",
              "      <td>0.0</td>\n",
              "      <td>0.0</td>\n",
              "    </tr>\n",
              "    <tr>\n",
              "      <th>1</th>\n",
              "      <td>0.0</td>\n",
              "      <td>1.0</td>\n",
              "      <td>0.0</td>\n",
              "      <td>0.0</td>\n",
              "      <td>0.0</td>\n",
              "    </tr>\n",
              "    <tr>\n",
              "      <th>2</th>\n",
              "      <td>0.0</td>\n",
              "      <td>1.0</td>\n",
              "      <td>0.0</td>\n",
              "      <td>0.0</td>\n",
              "      <td>0.0</td>\n",
              "    </tr>\n",
              "    <tr>\n",
              "      <th>3</th>\n",
              "      <td>0.0</td>\n",
              "      <td>1.0</td>\n",
              "      <td>0.0</td>\n",
              "      <td>0.0</td>\n",
              "      <td>0.0</td>\n",
              "    </tr>\n",
              "    <tr>\n",
              "      <th>4</th>\n",
              "      <td>0.0</td>\n",
              "      <td>0.0</td>\n",
              "      <td>0.0</td>\n",
              "      <td>0.0</td>\n",
              "      <td>1.0</td>\n",
              "    </tr>\n",
              "  </tbody>\n",
              "</table>\n",
              "</div>"
            ],
            "text/plain": [
              "     0    1    2    3    4\n",
              "0  1.0  0.0  0.0  0.0  0.0\n",
              "1  0.0  1.0  0.0  0.0  0.0\n",
              "2  0.0  1.0  0.0  0.0  0.0\n",
              "3  0.0  1.0  0.0  0.0  0.0\n",
              "4  0.0  0.0  0.0  0.0  1.0"
            ]
          },
          "metadata": {},
          "execution_count": 252
        }
      ]
    },
    {
      "cell_type": "code",
      "metadata": {
        "colab": {
          "base_uri": "https://localhost:8080/"
        },
        "id": "jiwsvJ_SSWTz",
        "outputId": "c7305a9b-cf72-478f-c063-cafeb1382c44"
      },
      "source": [
        "ohe.categories_"
      ],
      "execution_count": null,
      "outputs": [
        {
          "output_type": "execute_result",
          "data": {
            "text/plain": [
              "[array(['1 star', '2 star', '3 star', '4 star', '5 star'], dtype=object)]"
            ]
          },
          "metadata": {},
          "execution_count": 253
        }
      ]
    },
    {
      "cell_type": "code",
      "metadata": {
        "id": "zmq7ecWJYuIs"
      },
      "source": [
        "lbe=LabelEncoder()"
      ],
      "execution_count": null,
      "outputs": []
    },
    {
      "cell_type": "code",
      "metadata": {
        "id": "P5KP0xsLYuIt"
      },
      "source": [
        "encoded_data['ProductType_lbl']=lbe.fit_transform(encoded_data.ProductType)"
      ],
      "execution_count": null,
      "outputs": []
    },
    {
      "cell_type": "code",
      "metadata": {
        "id": "5Gpp3FJNYuIt"
      },
      "source": [
        "ohe=OneHotEncoder(handle_unknown='ignore')"
      ],
      "execution_count": null,
      "outputs": []
    },
    {
      "cell_type": "code",
      "metadata": {
        "colab": {
          "base_uri": "https://localhost:8080/",
          "height": 313
        },
        "id": "G7BXdbd1Qw3J",
        "outputId": "66a916af-6801-4142-d182-6e88fb46a3ba"
      },
      "source": [
        "encoded_data.head()"
      ],
      "execution_count": null,
      "outputs": [
        {
          "output_type": "execute_result",
          "data": {
            "text/html": [
              "<div>\n",
              "<style scoped>\n",
              "    .dataframe tbody tr th:only-of-type {\n",
              "        vertical-align: middle;\n",
              "    }\n",
              "\n",
              "    .dataframe tbody tr th {\n",
              "        vertical-align: top;\n",
              "    }\n",
              "\n",
              "    .dataframe thead th {\n",
              "        text-align: right;\n",
              "    }\n",
              "</style>\n",
              "<table border=\"1\" class=\"dataframe\">\n",
              "  <thead>\n",
              "    <tr style=\"text-align: right;\">\n",
              "      <th></th>\n",
              "      <th>Date</th>\n",
              "      <th>CustomerID</th>\n",
              "      <th>ProductType</th>\n",
              "      <th>Rating</th>\n",
              "      <th>Total_Ratings</th>\n",
              "      <th>Gender</th>\n",
              "      <th>PaymentMode</th>\n",
              "      <th>PaymentMode.1</th>\n",
              "      <th>ShippingMode</th>\n",
              "      <th>ShippingTime</th>\n",
              "      <th>Price</th>\n",
              "      <th>PaidCurrency</th>\n",
              "      <th>Price_dollar</th>\n",
              "      <th>ProductType_lbl</th>\n",
              "    </tr>\n",
              "  </thead>\n",
              "  <tbody>\n",
              "    <tr>\n",
              "      <th>0</th>\n",
              "      <td>2020-08-16</td>\n",
              "      <td>10471</td>\n",
              "      <td>Coats/Jackets</td>\n",
              "      <td>1 star</td>\n",
              "      <td>8736</td>\n",
              "      <td>Female</td>\n",
              "      <td>Credit Card</td>\n",
              "      <td>Creditcard</td>\n",
              "      <td>Economy</td>\n",
              "      <td>17.0</td>\n",
              "      <td>₹ 675036.2138626401</td>\n",
              "      <td>Indian Rupee</td>\n",
              "      <td>9000.932876</td>\n",
              "      <td>1</td>\n",
              "    </tr>\n",
              "    <tr>\n",
              "      <th>1</th>\n",
              "      <td>2020-08-02</td>\n",
              "      <td>10472</td>\n",
              "      <td>Dresses</td>\n",
              "      <td>2 star</td>\n",
              "      <td>8547</td>\n",
              "      <td>Unspecified</td>\n",
              "      <td>Ewallet</td>\n",
              "      <td>Ewallet</td>\n",
              "      <td>Mail</td>\n",
              "      <td>12.0</td>\n",
              "      <td>€ 2,315.53</td>\n",
              "      <td>Euro</td>\n",
              "      <td>2696.726442</td>\n",
              "      <td>2</td>\n",
              "    </tr>\n",
              "    <tr>\n",
              "      <th>2</th>\n",
              "      <td>2020-08-08</td>\n",
              "      <td>10473</td>\n",
              "      <td>Coats/Jackets</td>\n",
              "      <td>2 star</td>\n",
              "      <td>9833</td>\n",
              "      <td>Unspecified</td>\n",
              "      <td>Prepaid Card</td>\n",
              "      <td>Prepaid Card</td>\n",
              "      <td>Mail</td>\n",
              "      <td>10.0</td>\n",
              "      <td>₹ 611426.29122378</td>\n",
              "      <td>Indian Rupee</td>\n",
              "      <td>8152.758167</td>\n",
              "      <td>1</td>\n",
              "    </tr>\n",
              "    <tr>\n",
              "      <th>5</th>\n",
              "      <td>2020-08-28</td>\n",
              "      <td>10476</td>\n",
              "      <td>Coats/Jackets</td>\n",
              "      <td>2 star</td>\n",
              "      <td>5347</td>\n",
              "      <td>Female</td>\n",
              "      <td>Direct Deposit</td>\n",
              "      <td>Direct Deposit</td>\n",
              "      <td>Mail</td>\n",
              "      <td>20.0</td>\n",
              "      <td>&lt;NA&gt;</td>\n",
              "      <td></td>\n",
              "      <td>0.000000</td>\n",
              "      <td>1</td>\n",
              "    </tr>\n",
              "    <tr>\n",
              "      <th>6</th>\n",
              "      <td>2020-08-08</td>\n",
              "      <td>10477</td>\n",
              "      <td>Coats/Jackets</td>\n",
              "      <td>5 star</td>\n",
              "      <td>9406</td>\n",
              "      <td>Unspecified</td>\n",
              "      <td>Direct Deposit</td>\n",
              "      <td>Direct Deposit</td>\n",
              "      <td>Mail</td>\n",
              "      <td>14.0</td>\n",
              "      <td>£ 6610.077565000001</td>\n",
              "      <td>British Pound</td>\n",
              "      <td>9112.917334</td>\n",
              "      <td>1</td>\n",
              "    </tr>\n",
              "  </tbody>\n",
              "</table>\n",
              "</div>"
            ],
            "text/plain": [
              "        Date  CustomerID  ... Price_dollar ProductType_lbl\n",
              "0 2020-08-16       10471  ...  9000.932876               1\n",
              "1 2020-08-02       10472  ...  2696.726442               2\n",
              "2 2020-08-08       10473  ...  8152.758167               1\n",
              "5 2020-08-28       10476  ...     0.000000               1\n",
              "6 2020-08-08       10477  ...  9112.917334               1\n",
              "\n",
              "[5 rows x 14 columns]"
            ]
          },
          "metadata": {},
          "execution_count": 232
        }
      ]
    },
    {
      "cell_type": "code",
      "metadata": {
        "id": "TdTkDgZsYuIw"
      },
      "source": [
        "out=pd.DataFrame(ohe.fit_transform(encoded_data[['ProductType_lbl']]).toarray())"
      ],
      "execution_count": null,
      "outputs": []
    },
    {
      "cell_type": "code",
      "metadata": {
        "colab": {
          "base_uri": "https://localhost:8080/",
          "height": 423
        },
        "id": "gNfzQhw_Q-CP",
        "outputId": "221902a7-d1ea-4e59-da2a-6684fc3445d4"
      },
      "source": [
        "out"
      ],
      "execution_count": null,
      "outputs": [
        {
          "output_type": "execute_result",
          "data": {
            "text/html": [
              "<div>\n",
              "<style scoped>\n",
              "    .dataframe tbody tr th:only-of-type {\n",
              "        vertical-align: middle;\n",
              "    }\n",
              "\n",
              "    .dataframe tbody tr th {\n",
              "        vertical-align: top;\n",
              "    }\n",
              "\n",
              "    .dataframe thead th {\n",
              "        text-align: right;\n",
              "    }\n",
              "</style>\n",
              "<table border=\"1\" class=\"dataframe\">\n",
              "  <thead>\n",
              "    <tr style=\"text-align: right;\">\n",
              "      <th></th>\n",
              "      <th>0</th>\n",
              "      <th>1</th>\n",
              "      <th>2</th>\n",
              "      <th>3</th>\n",
              "      <th>4</th>\n",
              "      <th>5</th>\n",
              "      <th>6</th>\n",
              "    </tr>\n",
              "  </thead>\n",
              "  <tbody>\n",
              "    <tr>\n",
              "      <th>0</th>\n",
              "      <td>0.0</td>\n",
              "      <td>1.0</td>\n",
              "      <td>0.0</td>\n",
              "      <td>0.0</td>\n",
              "      <td>0.0</td>\n",
              "      <td>0.0</td>\n",
              "      <td>0.0</td>\n",
              "    </tr>\n",
              "    <tr>\n",
              "      <th>1</th>\n",
              "      <td>0.0</td>\n",
              "      <td>0.0</td>\n",
              "      <td>1.0</td>\n",
              "      <td>0.0</td>\n",
              "      <td>0.0</td>\n",
              "      <td>0.0</td>\n",
              "      <td>0.0</td>\n",
              "    </tr>\n",
              "    <tr>\n",
              "      <th>2</th>\n",
              "      <td>0.0</td>\n",
              "      <td>1.0</td>\n",
              "      <td>0.0</td>\n",
              "      <td>0.0</td>\n",
              "      <td>0.0</td>\n",
              "      <td>0.0</td>\n",
              "      <td>0.0</td>\n",
              "    </tr>\n",
              "    <tr>\n",
              "      <th>3</th>\n",
              "      <td>0.0</td>\n",
              "      <td>1.0</td>\n",
              "      <td>0.0</td>\n",
              "      <td>0.0</td>\n",
              "      <td>0.0</td>\n",
              "      <td>0.0</td>\n",
              "      <td>0.0</td>\n",
              "    </tr>\n",
              "    <tr>\n",
              "      <th>4</th>\n",
              "      <td>0.0</td>\n",
              "      <td>1.0</td>\n",
              "      <td>0.0</td>\n",
              "      <td>0.0</td>\n",
              "      <td>0.0</td>\n",
              "      <td>0.0</td>\n",
              "      <td>0.0</td>\n",
              "    </tr>\n",
              "    <tr>\n",
              "      <th>...</th>\n",
              "      <td>...</td>\n",
              "      <td>...</td>\n",
              "      <td>...</td>\n",
              "      <td>...</td>\n",
              "      <td>...</td>\n",
              "      <td>...</td>\n",
              "      <td>...</td>\n",
              "    </tr>\n",
              "    <tr>\n",
              "      <th>83</th>\n",
              "      <td>0.0</td>\n",
              "      <td>1.0</td>\n",
              "      <td>0.0</td>\n",
              "      <td>0.0</td>\n",
              "      <td>0.0</td>\n",
              "      <td>0.0</td>\n",
              "      <td>0.0</td>\n",
              "    </tr>\n",
              "    <tr>\n",
              "      <th>84</th>\n",
              "      <td>0.0</td>\n",
              "      <td>1.0</td>\n",
              "      <td>0.0</td>\n",
              "      <td>0.0</td>\n",
              "      <td>0.0</td>\n",
              "      <td>0.0</td>\n",
              "      <td>0.0</td>\n",
              "    </tr>\n",
              "    <tr>\n",
              "      <th>85</th>\n",
              "      <td>0.0</td>\n",
              "      <td>1.0</td>\n",
              "      <td>0.0</td>\n",
              "      <td>0.0</td>\n",
              "      <td>0.0</td>\n",
              "      <td>0.0</td>\n",
              "      <td>0.0</td>\n",
              "    </tr>\n",
              "    <tr>\n",
              "      <th>86</th>\n",
              "      <td>0.0</td>\n",
              "      <td>0.0</td>\n",
              "      <td>0.0</td>\n",
              "      <td>0.0</td>\n",
              "      <td>0.0</td>\n",
              "      <td>1.0</td>\n",
              "      <td>0.0</td>\n",
              "    </tr>\n",
              "    <tr>\n",
              "      <th>87</th>\n",
              "      <td>0.0</td>\n",
              "      <td>0.0</td>\n",
              "      <td>0.0</td>\n",
              "      <td>0.0</td>\n",
              "      <td>1.0</td>\n",
              "      <td>0.0</td>\n",
              "      <td>0.0</td>\n",
              "    </tr>\n",
              "  </tbody>\n",
              "</table>\n",
              "<p>88 rows × 7 columns</p>\n",
              "</div>"
            ],
            "text/plain": [
              "      0    1    2    3    4    5    6\n",
              "0   0.0  1.0  0.0  0.0  0.0  0.0  0.0\n",
              "1   0.0  0.0  1.0  0.0  0.0  0.0  0.0\n",
              "2   0.0  1.0  0.0  0.0  0.0  0.0  0.0\n",
              "3   0.0  1.0  0.0  0.0  0.0  0.0  0.0\n",
              "4   0.0  1.0  0.0  0.0  0.0  0.0  0.0\n",
              "..  ...  ...  ...  ...  ...  ...  ...\n",
              "83  0.0  1.0  0.0  0.0  0.0  0.0  0.0\n",
              "84  0.0  1.0  0.0  0.0  0.0  0.0  0.0\n",
              "85  0.0  1.0  0.0  0.0  0.0  0.0  0.0\n",
              "86  0.0  0.0  0.0  0.0  0.0  1.0  0.0\n",
              "87  0.0  0.0  0.0  0.0  1.0  0.0  0.0\n",
              "\n",
              "[88 rows x 7 columns]"
            ]
          },
          "metadata": {},
          "execution_count": 242
        }
      ]
    },
    {
      "cell_type": "code",
      "metadata": {
        "colab": {
          "base_uri": "https://localhost:8080/"
        },
        "id": "4TQaogq3R5Gu",
        "outputId": "b0085ffb-e462-409b-dce1-34760ca88ca1"
      },
      "source": [
        "lbe.classes_"
      ],
      "execution_count": null,
      "outputs": [
        {
          "output_type": "execute_result",
          "data": {
            "text/plain": [
              "array(['Cardigan', 'Coats/Jackets', 'Dresses', 'Hats', 'Jeans', 'Pants',\n",
              "       'Shirts/Tops'], dtype=object)"
            ]
          },
          "metadata": {},
          "execution_count": 245
        }
      ]
    },
    {
      "cell_type": "code",
      "metadata": {
        "colab": {
          "base_uri": "https://localhost:8080/"
        },
        "id": "B4FYsB1-R9iX",
        "outputId": "d82fc05f-812e-4d54-c809-a10077938756"
      },
      "source": [
        "ohe.categories_"
      ],
      "execution_count": null,
      "outputs": [
        {
          "output_type": "execute_result",
          "data": {
            "text/plain": [
              "[array([0, 1, 2, 3, 4, 5, 6])]"
            ]
          },
          "metadata": {},
          "execution_count": 246
        }
      ]
    },
    {
      "cell_type": "code",
      "metadata": {
        "id": "DkzveLEDSLtx"
      },
      "source": [
        ""
      ],
      "execution_count": null,
      "outputs": []
    },
    {
      "cell_type": "code",
      "metadata": {
        "id": "p1lGGAxEYuIx"
      },
      "source": [
        "# Merge the dataframe\n",
        "encoded_data = encoded_data.join(out)"
      ],
      "execution_count": null,
      "outputs": []
    },
    {
      "cell_type": "code",
      "metadata": {
        "id": "JoE2_QqcYuIx",
        "colab": {
          "base_uri": "https://localhost:8080/",
          "height": 206
        },
        "outputId": "94da081f-f559-447a-a864-f34608de32cd"
      },
      "source": [
        "encoded_data.drop(['CustomerID','Rating','ShippingMode','Total_Ratings','Gender','PaymentMode',\n",
        "                   'ShippingTime','Price','Price_dollar','PaidCurrency'],axis=1).head()"
      ],
      "execution_count": null,
      "outputs": [
        {
          "output_type": "execute_result",
          "data": {
            "text/html": [
              "<div>\n",
              "<style scoped>\n",
              "    .dataframe tbody tr th:only-of-type {\n",
              "        vertical-align: middle;\n",
              "    }\n",
              "\n",
              "    .dataframe tbody tr th {\n",
              "        vertical-align: top;\n",
              "    }\n",
              "\n",
              "    .dataframe thead th {\n",
              "        text-align: right;\n",
              "    }\n",
              "</style>\n",
              "<table border=\"1\" class=\"dataframe\">\n",
              "  <thead>\n",
              "    <tr style=\"text-align: right;\">\n",
              "      <th></th>\n",
              "      <th>Date</th>\n",
              "      <th>ProductType</th>\n",
              "      <th>PaymentMode.1</th>\n",
              "      <th>ProductType_lbl</th>\n",
              "      <th>0</th>\n",
              "      <th>1</th>\n",
              "      <th>2</th>\n",
              "      <th>3</th>\n",
              "      <th>4</th>\n",
              "      <th>5</th>\n",
              "      <th>6</th>\n",
              "    </tr>\n",
              "  </thead>\n",
              "  <tbody>\n",
              "    <tr>\n",
              "      <th>0</th>\n",
              "      <td>2020-08-16</td>\n",
              "      <td>Coats/Jackets</td>\n",
              "      <td>Creditcard</td>\n",
              "      <td>1</td>\n",
              "      <td>0.0</td>\n",
              "      <td>1.0</td>\n",
              "      <td>0.0</td>\n",
              "      <td>0.0</td>\n",
              "      <td>0.0</td>\n",
              "      <td>0.0</td>\n",
              "      <td>0.0</td>\n",
              "    </tr>\n",
              "    <tr>\n",
              "      <th>1</th>\n",
              "      <td>2020-08-02</td>\n",
              "      <td>Dresses</td>\n",
              "      <td>Ewallet</td>\n",
              "      <td>2</td>\n",
              "      <td>0.0</td>\n",
              "      <td>0.0</td>\n",
              "      <td>1.0</td>\n",
              "      <td>0.0</td>\n",
              "      <td>0.0</td>\n",
              "      <td>0.0</td>\n",
              "      <td>0.0</td>\n",
              "    </tr>\n",
              "    <tr>\n",
              "      <th>2</th>\n",
              "      <td>2020-08-08</td>\n",
              "      <td>Coats/Jackets</td>\n",
              "      <td>Prepaid Card</td>\n",
              "      <td>1</td>\n",
              "      <td>0.0</td>\n",
              "      <td>1.0</td>\n",
              "      <td>0.0</td>\n",
              "      <td>0.0</td>\n",
              "      <td>0.0</td>\n",
              "      <td>0.0</td>\n",
              "      <td>0.0</td>\n",
              "    </tr>\n",
              "    <tr>\n",
              "      <th>5</th>\n",
              "      <td>2020-08-28</td>\n",
              "      <td>Coats/Jackets</td>\n",
              "      <td>Direct Deposit</td>\n",
              "      <td>1</td>\n",
              "      <td>0.0</td>\n",
              "      <td>0.0</td>\n",
              "      <td>0.0</td>\n",
              "      <td>0.0</td>\n",
              "      <td>1.0</td>\n",
              "      <td>0.0</td>\n",
              "      <td>0.0</td>\n",
              "    </tr>\n",
              "    <tr>\n",
              "      <th>6</th>\n",
              "      <td>2020-08-08</td>\n",
              "      <td>Coats/Jackets</td>\n",
              "      <td>Direct Deposit</td>\n",
              "      <td>1</td>\n",
              "      <td>0.0</td>\n",
              "      <td>0.0</td>\n",
              "      <td>0.0</td>\n",
              "      <td>0.0</td>\n",
              "      <td>0.0</td>\n",
              "      <td>1.0</td>\n",
              "      <td>0.0</td>\n",
              "    </tr>\n",
              "  </tbody>\n",
              "</table>\n",
              "</div>"
            ],
            "text/plain": [
              "        Date    ProductType   PaymentMode.1  ...    4    5    6\n",
              "0 2020-08-16  Coats/Jackets      Creditcard  ...  0.0  0.0  0.0\n",
              "1 2020-08-02        Dresses         Ewallet  ...  0.0  0.0  0.0\n",
              "2 2020-08-08  Coats/Jackets    Prepaid Card  ...  0.0  0.0  0.0\n",
              "5 2020-08-28  Coats/Jackets  Direct Deposit  ...  1.0  0.0  0.0\n",
              "6 2020-08-08  Coats/Jackets  Direct Deposit  ...  0.0  1.0  0.0\n",
              "\n",
              "[5 rows x 11 columns]"
            ]
          },
          "metadata": {},
          "execution_count": 244
        }
      ]
    },
    {
      "cell_type": "code",
      "metadata": {
        "colab": {
          "base_uri": "https://localhost:8080/"
        },
        "id": "m7nVdwlnS0Z9",
        "outputId": "f1b78f0b-c2cb-4f28-827d-89dbf2c59040"
      },
      "source": [
        "import numpy as np\n",
        "x = np.random.random((2,2))\n",
        "x.shape"
      ],
      "execution_count": null,
      "outputs": [
        {
          "output_type": "execute_result",
          "data": {
            "text/plain": [
              "(2, 2)"
            ]
          },
          "metadata": {},
          "execution_count": 257
        }
      ]
    },
    {
      "cell_type": "code",
      "metadata": {
        "colab": {
          "base_uri": "https://localhost:8080/"
        },
        "id": "W3KB5uCTS-Nl",
        "outputId": "059197ca-9799-4c38-feea-cbe09445cc20"
      },
      "source": [
        "x"
      ],
      "execution_count": null,
      "outputs": [
        {
          "output_type": "execute_result",
          "data": {
            "text/plain": [
              "array([[0.49966983, 0.88295649],\n",
              "       [0.71212049, 0.30499413]])"
            ]
          },
          "metadata": {},
          "execution_count": 258
        }
      ]
    },
    {
      "cell_type": "code",
      "metadata": {
        "colab": {
          "base_uri": "https://localhost:8080/"
        },
        "id": "o3J30oRBS-n-",
        "outputId": "1a469ba0-206f-4011-9a6c-78c00c10ef98"
      },
      "source": [
        "a = x.reshape(1,-1)\n",
        "a.shape"
      ],
      "execution_count": null,
      "outputs": [
        {
          "output_type": "execute_result",
          "data": {
            "text/plain": [
              "(1, 4)"
            ]
          },
          "metadata": {},
          "execution_count": 260
        }
      ]
    },
    {
      "cell_type": "code",
      "metadata": {
        "colab": {
          "base_uri": "https://localhost:8080/"
        },
        "id": "d1xbPmvSTP8I",
        "outputId": "a3acfdf8-b239-4eb5-9ef5-e9eccbc818e0"
      },
      "source": [
        "x.shape"
      ],
      "execution_count": null,
      "outputs": [
        {
          "output_type": "execute_result",
          "data": {
            "text/plain": [
              "(2, 2)"
            ]
          },
          "metadata": {},
          "execution_count": 261
        }
      ]
    },
    {
      "cell_type": "code",
      "metadata": {
        "colab": {
          "base_uri": "https://localhost:8080/"
        },
        "id": "HF0d1lXYTRDv",
        "outputId": "ebf8c480-e736-40d9-f578-b815eadf817d"
      },
      "source": [
        "b = x.reshape(-1,1)\n",
        "b.shape"
      ],
      "execution_count": null,
      "outputs": [
        {
          "output_type": "execute_result",
          "data": {
            "text/plain": [
              "(4, 1)"
            ]
          },
          "metadata": {},
          "execution_count": 262
        }
      ]
    },
    {
      "cell_type": "code",
      "metadata": {
        "colab": {
          "base_uri": "https://localhost:8080/"
        },
        "id": "JvgkLgz4TWYm",
        "outputId": "a68da8f1-ee67-461c-a459-5eba26748b62"
      },
      "source": [
        "b"
      ],
      "execution_count": null,
      "outputs": [
        {
          "output_type": "execute_result",
          "data": {
            "text/plain": [
              "array([[0.49966983],\n",
              "       [0.88295649],\n",
              "       [0.71212049],\n",
              "       [0.30499413]])"
            ]
          },
          "metadata": {},
          "execution_count": 263
        }
      ]
    },
    {
      "cell_type": "code",
      "metadata": {
        "colab": {
          "base_uri": "https://localhost:8080/"
        },
        "id": "6mox-IE6TZqU",
        "outputId": "266e6027-8584-4f91-9d2b-4d2d6cde00bf"
      },
      "source": [
        "y = np.random.random(5)\n",
        "y.shape"
      ],
      "execution_count": null,
      "outputs": [
        {
          "output_type": "execute_result",
          "data": {
            "text/plain": [
              "(5,)"
            ]
          },
          "metadata": {},
          "execution_count": 264
        }
      ]
    },
    {
      "cell_type": "code",
      "metadata": {
        "colab": {
          "base_uri": "https://localhost:8080/"
        },
        "id": "FNgLetCXTf7T",
        "outputId": "b8426a01-d686-4bab-d12c-868d6c016221"
      },
      "source": [
        "y"
      ],
      "execution_count": null,
      "outputs": [
        {
          "output_type": "execute_result",
          "data": {
            "text/plain": [
              "array([0.35458058, 0.63638154, 0.07783129, 0.24787692, 0.31691502])"
            ]
          },
          "metadata": {},
          "execution_count": 265
        }
      ]
    },
    {
      "cell_type": "code",
      "metadata": {
        "colab": {
          "base_uri": "https://localhost:8080/"
        },
        "id": "HV9pvWOrTn5W",
        "outputId": "91355d7f-5229-4ba2-a79b-ab406f3bec24"
      },
      "source": [
        "y.reshape(-1,1)"
      ],
      "execution_count": null,
      "outputs": [
        {
          "output_type": "execute_result",
          "data": {
            "text/plain": [
              "array([[0.35458058],\n",
              "       [0.63638154],\n",
              "       [0.07783129],\n",
              "       [0.24787692],\n",
              "       [0.31691502]])"
            ]
          },
          "metadata": {},
          "execution_count": 266
        }
      ]
    },
    {
      "cell_type": "code",
      "metadata": {
        "colab": {
          "base_uri": "https://localhost:8080/"
        },
        "id": "DdZfsvfTTqrw",
        "outputId": "d4b48770-575c-44a0-d7f2-d08486207fea"
      },
      "source": [
        "y.reshape(1,-1)"
      ],
      "execution_count": null,
      "outputs": [
        {
          "output_type": "execute_result",
          "data": {
            "text/plain": [
              "array([[0.35458058, 0.63638154, 0.07783129, 0.24787692, 0.31691502]])"
            ]
          },
          "metadata": {},
          "execution_count": 267
        }
      ]
    },
    {
      "cell_type": "markdown",
      "metadata": {
        "id": "-Fz8U_a-YuIy"
      },
      "source": [
        "#### Pandas Dummies"
      ]
    },
    {
      "cell_type": "code",
      "metadata": {
        "id": "EsAe9MSmYuIy"
      },
      "source": [
        "# We can simply do the similar thing using pandas dummies\n",
        "encoded_data=data.copy()"
      ],
      "execution_count": null,
      "outputs": []
    },
    {
      "cell_type": "code",
      "metadata": {
        "id": "tjR-UAlSYuIz"
      },
      "source": [
        "encoded_data=pd.get_dummies(encoded_data,columns=['ProductType'])"
      ],
      "execution_count": null,
      "outputs": []
    },
    {
      "cell_type": "code",
      "metadata": {
        "id": "vI7m0-9fYuIz",
        "colab": {
          "base_uri": "https://localhost:8080/",
          "height": 313
        },
        "outputId": "da6b9f44-4a7a-4a30-f7d1-5c57cdf2c355"
      },
      "source": [
        "encoded_data.drop(['CustomerID','Rating','ShippingMode','Total_Ratings','Gender','PaymentMode',\n",
        "                   'ShippingTime','Price','Price_dollar','PaidCurrency'],axis=1).head()"
      ],
      "execution_count": null,
      "outputs": [
        {
          "output_type": "execute_result",
          "data": {
            "text/html": [
              "<div>\n",
              "<style scoped>\n",
              "    .dataframe tbody tr th:only-of-type {\n",
              "        vertical-align: middle;\n",
              "    }\n",
              "\n",
              "    .dataframe tbody tr th {\n",
              "        vertical-align: top;\n",
              "    }\n",
              "\n",
              "    .dataframe thead th {\n",
              "        text-align: right;\n",
              "    }\n",
              "</style>\n",
              "<table border=\"1\" class=\"dataframe\">\n",
              "  <thead>\n",
              "    <tr style=\"text-align: right;\">\n",
              "      <th></th>\n",
              "      <th>Date</th>\n",
              "      <th>PaymentMode.1</th>\n",
              "      <th>ProductType_Cardigan</th>\n",
              "      <th>ProductType_Coats/Jackets</th>\n",
              "      <th>ProductType_Dresses</th>\n",
              "      <th>ProductType_Hats</th>\n",
              "      <th>ProductType_Jeans</th>\n",
              "      <th>ProductType_Pants</th>\n",
              "      <th>ProductType_Shirts/Tops</th>\n",
              "    </tr>\n",
              "  </thead>\n",
              "  <tbody>\n",
              "    <tr>\n",
              "      <th>0</th>\n",
              "      <td>2020-08-16</td>\n",
              "      <td>Creditcard</td>\n",
              "      <td>0</td>\n",
              "      <td>1</td>\n",
              "      <td>0</td>\n",
              "      <td>0</td>\n",
              "      <td>0</td>\n",
              "      <td>0</td>\n",
              "      <td>0</td>\n",
              "    </tr>\n",
              "    <tr>\n",
              "      <th>1</th>\n",
              "      <td>2020-08-02</td>\n",
              "      <td>Ewallet</td>\n",
              "      <td>0</td>\n",
              "      <td>0</td>\n",
              "      <td>1</td>\n",
              "      <td>0</td>\n",
              "      <td>0</td>\n",
              "      <td>0</td>\n",
              "      <td>0</td>\n",
              "    </tr>\n",
              "    <tr>\n",
              "      <th>2</th>\n",
              "      <td>2020-08-08</td>\n",
              "      <td>Prepaid Card</td>\n",
              "      <td>0</td>\n",
              "      <td>1</td>\n",
              "      <td>0</td>\n",
              "      <td>0</td>\n",
              "      <td>0</td>\n",
              "      <td>0</td>\n",
              "      <td>0</td>\n",
              "    </tr>\n",
              "    <tr>\n",
              "      <th>5</th>\n",
              "      <td>2020-08-28</td>\n",
              "      <td>Direct Deposit</td>\n",
              "      <td>0</td>\n",
              "      <td>1</td>\n",
              "      <td>0</td>\n",
              "      <td>0</td>\n",
              "      <td>0</td>\n",
              "      <td>0</td>\n",
              "      <td>0</td>\n",
              "    </tr>\n",
              "    <tr>\n",
              "      <th>6</th>\n",
              "      <td>2020-08-08</td>\n",
              "      <td>Direct Deposit</td>\n",
              "      <td>0</td>\n",
              "      <td>1</td>\n",
              "      <td>0</td>\n",
              "      <td>0</td>\n",
              "      <td>0</td>\n",
              "      <td>0</td>\n",
              "      <td>0</td>\n",
              "    </tr>\n",
              "  </tbody>\n",
              "</table>\n",
              "</div>"
            ],
            "text/plain": [
              "        Date   PaymentMode.1  ...  ProductType_Pants  ProductType_Shirts/Tops\n",
              "0 2020-08-16      Creditcard  ...                  0                        0\n",
              "1 2020-08-02         Ewallet  ...                  0                        0\n",
              "2 2020-08-08    Prepaid Card  ...                  0                        0\n",
              "5 2020-08-28  Direct Deposit  ...                  0                        0\n",
              "6 2020-08-08  Direct Deposit  ...                  0                        0\n",
              "\n",
              "[5 rows x 9 columns]"
            ]
          },
          "metadata": {},
          "execution_count": 270
        }
      ]
    },
    {
      "cell_type": "markdown",
      "metadata": {
        "id": "a29P83_PYuI0"
      },
      "source": [
        "It is more convenient to use dummies as it reduces a lot of clutter in the code."
      ]
    },
    {
      "cell_type": "markdown",
      "metadata": {
        "id": "nL8e6HC8YuI0"
      },
      "source": [
        "#### LabelBinarizer"
      ]
    },
    {
      "cell_type": "code",
      "metadata": {
        "id": "COwR6cqQYuI0"
      },
      "source": [
        "from sklearn.preprocessing import LabelBinarizer"
      ],
      "execution_count": null,
      "outputs": []
    },
    {
      "cell_type": "code",
      "metadata": {
        "id": "WHUXn7v-YuI0"
      },
      "source": [
        "encoded_data=data.copy()"
      ],
      "execution_count": null,
      "outputs": []
    },
    {
      "cell_type": "code",
      "metadata": {
        "id": "KQwp1IoZYuI1"
      },
      "source": [
        "lbz=LabelBinarizer()"
      ],
      "execution_count": null,
      "outputs": []
    },
    {
      "cell_type": "code",
      "metadata": {
        "id": "z0JjV2rBYuI1",
        "colab": {
          "base_uri": "https://localhost:8080/"
        },
        "outputId": "01537321-2208-45f3-ff56-86e91849f61e"
      },
      "source": [
        "lbz.fit_transform(encoded_data.ProductType)[:5]"
      ],
      "execution_count": null,
      "outputs": [
        {
          "output_type": "execute_result",
          "data": {
            "text/plain": [
              "array([[0, 1, 0, 0, 0, 0, 0],\n",
              "       [0, 0, 1, 0, 0, 0, 0],\n",
              "       [0, 1, 0, 0, 0, 0, 0],\n",
              "       [0, 1, 0, 0, 0, 0, 0],\n",
              "       [0, 1, 0, 0, 0, 0, 0]])"
            ]
          },
          "metadata": {},
          "execution_count": 274
        }
      ]
    },
    {
      "cell_type": "markdown",
      "metadata": {
        "id": "AbwKF1qKYuI1"
      },
      "source": [
        "As you can see LabelBinarizer returns a 2D array just like OneHotEncoder"
      ]
    },
    {
      "cell_type": "markdown",
      "metadata": {
        "id": "Ovx2Ts5-YuI2"
      },
      "source": [
        "#### Target Encoding - LeaveOneOut Encoder"
      ]
    },
    {
      "cell_type": "code",
      "metadata": {
        "id": "R62TawS4YuI2",
        "colab": {
          "base_uri": "https://localhost:8080/"
        },
        "outputId": "aaecd061-6307-4b5e-9ca2-04a7443f8d5d"
      },
      "source": [
        "# Please wait while the library is installed\n",
        "!pip install category-encoders --quiet  --disable-pip-version-check"
      ],
      "execution_count": null,
      "outputs": [
        {
          "output_type": "stream",
          "name": "stdout",
          "text": [
            "\u001b[?25l\r\u001b[K     |████                            | 10 kB 24.3 MB/s eta 0:00:01\r\u001b[K     |████████                        | 20 kB 26.9 MB/s eta 0:00:01\r\u001b[K     |████████████                    | 30 kB 29.6 MB/s eta 0:00:01\r\u001b[K     |████████████████                | 40 kB 32.6 MB/s eta 0:00:01\r\u001b[K     |████████████████████            | 51 kB 35.6 MB/s eta 0:00:01\r\u001b[K     |████████████████████████        | 61 kB 28.2 MB/s eta 0:00:01\r\u001b[K     |████████████████████████████    | 71 kB 26.4 MB/s eta 0:00:01\r\u001b[K     |███████████████████████████████▉| 81 kB 27.7 MB/s eta 0:00:01\r\u001b[K     |████████████████████████████████| 82 kB 388 kB/s \n",
            "\u001b[?25h"
          ]
        }
      ]
    },
    {
      "cell_type": "code",
      "metadata": {
        "id": "kmEeQLduYuI2",
        "colab": {
          "base_uri": "https://localhost:8080/"
        },
        "outputId": "c82d658b-e690-4dff-ac9e-78ce12c597da"
      },
      "source": [
        "from category_encoders import LeaveOneOutEncoder"
      ],
      "execution_count": null,
      "outputs": [
        {
          "output_type": "stream",
          "name": "stderr",
          "text": [
            "/usr/local/lib/python3.7/dist-packages/statsmodels/tools/_testing.py:19: FutureWarning: pandas.util.testing is deprecated. Use the functions in the public API at pandas.testing instead.\n",
            "  import pandas.util.testing as tm\n"
          ]
        }
      ]
    },
    {
      "cell_type": "code",
      "metadata": {
        "colab": {
          "base_uri": "https://localhost:8080/",
          "height": 313
        },
        "id": "kIIrL9gcUg5a",
        "outputId": "e9083262-c3ef-4ea0-da05-4f829ad16c73"
      },
      "source": [
        "data.head()"
      ],
      "execution_count": null,
      "outputs": [
        {
          "output_type": "execute_result",
          "data": {
            "text/html": [
              "<div>\n",
              "<style scoped>\n",
              "    .dataframe tbody tr th:only-of-type {\n",
              "        vertical-align: middle;\n",
              "    }\n",
              "\n",
              "    .dataframe tbody tr th {\n",
              "        vertical-align: top;\n",
              "    }\n",
              "\n",
              "    .dataframe thead th {\n",
              "        text-align: right;\n",
              "    }\n",
              "</style>\n",
              "<table border=\"1\" class=\"dataframe\">\n",
              "  <thead>\n",
              "    <tr style=\"text-align: right;\">\n",
              "      <th></th>\n",
              "      <th>Date</th>\n",
              "      <th>CustomerID</th>\n",
              "      <th>ProductType</th>\n",
              "      <th>Rating</th>\n",
              "      <th>Total_Ratings</th>\n",
              "      <th>Gender</th>\n",
              "      <th>PaymentMode</th>\n",
              "      <th>PaymentMode.1</th>\n",
              "      <th>ShippingMode</th>\n",
              "      <th>ShippingTime</th>\n",
              "      <th>Price</th>\n",
              "      <th>PaidCurrency</th>\n",
              "      <th>Price_dollar</th>\n",
              "    </tr>\n",
              "  </thead>\n",
              "  <tbody>\n",
              "    <tr>\n",
              "      <th>0</th>\n",
              "      <td>2020-08-16</td>\n",
              "      <td>10471</td>\n",
              "      <td>Coats/Jackets</td>\n",
              "      <td>1 star</td>\n",
              "      <td>8736</td>\n",
              "      <td>Female</td>\n",
              "      <td>Credit Card</td>\n",
              "      <td>Creditcard</td>\n",
              "      <td>Economy</td>\n",
              "      <td>17.0</td>\n",
              "      <td>₹ 675036.2138626401</td>\n",
              "      <td>Indian Rupee</td>\n",
              "      <td>9000.932876</td>\n",
              "    </tr>\n",
              "    <tr>\n",
              "      <th>1</th>\n",
              "      <td>2020-08-02</td>\n",
              "      <td>10472</td>\n",
              "      <td>Dresses</td>\n",
              "      <td>2 star</td>\n",
              "      <td>8547</td>\n",
              "      <td>Unspecified</td>\n",
              "      <td>Ewallet</td>\n",
              "      <td>Ewallet</td>\n",
              "      <td>Mail</td>\n",
              "      <td>12.0</td>\n",
              "      <td>€ 2,315.53</td>\n",
              "      <td>Euro</td>\n",
              "      <td>2696.726442</td>\n",
              "    </tr>\n",
              "    <tr>\n",
              "      <th>2</th>\n",
              "      <td>2020-08-08</td>\n",
              "      <td>10473</td>\n",
              "      <td>Coats/Jackets</td>\n",
              "      <td>2 star</td>\n",
              "      <td>9833</td>\n",
              "      <td>Unspecified</td>\n",
              "      <td>Prepaid Card</td>\n",
              "      <td>Prepaid Card</td>\n",
              "      <td>Mail</td>\n",
              "      <td>10.0</td>\n",
              "      <td>₹ 611426.29122378</td>\n",
              "      <td>Indian Rupee</td>\n",
              "      <td>8152.758167</td>\n",
              "    </tr>\n",
              "    <tr>\n",
              "      <th>5</th>\n",
              "      <td>2020-08-28</td>\n",
              "      <td>10476</td>\n",
              "      <td>Coats/Jackets</td>\n",
              "      <td>2 star</td>\n",
              "      <td>5347</td>\n",
              "      <td>Female</td>\n",
              "      <td>Direct Deposit</td>\n",
              "      <td>Direct Deposit</td>\n",
              "      <td>Mail</td>\n",
              "      <td>20.0</td>\n",
              "      <td>&lt;NA&gt;</td>\n",
              "      <td></td>\n",
              "      <td>0.000000</td>\n",
              "    </tr>\n",
              "    <tr>\n",
              "      <th>6</th>\n",
              "      <td>2020-08-08</td>\n",
              "      <td>10477</td>\n",
              "      <td>Coats/Jackets</td>\n",
              "      <td>5 star</td>\n",
              "      <td>9406</td>\n",
              "      <td>Unspecified</td>\n",
              "      <td>Direct Deposit</td>\n",
              "      <td>Direct Deposit</td>\n",
              "      <td>Mail</td>\n",
              "      <td>14.0</td>\n",
              "      <td>£ 6610.077565000001</td>\n",
              "      <td>British Pound</td>\n",
              "      <td>9112.917334</td>\n",
              "    </tr>\n",
              "  </tbody>\n",
              "</table>\n",
              "</div>"
            ],
            "text/plain": [
              "        Date  CustomerID  ...   PaidCurrency Price_dollar\n",
              "0 2020-08-16       10471  ...   Indian Rupee  9000.932876\n",
              "1 2020-08-02       10472  ...           Euro  2696.726442\n",
              "2 2020-08-08       10473  ...   Indian Rupee  8152.758167\n",
              "5 2020-08-28       10476  ...                    0.000000\n",
              "6 2020-08-08       10477  ...  British Pound  9112.917334\n",
              "\n",
              "[5 rows x 13 columns]"
            ]
          },
          "metadata": {},
          "execution_count": 277
        }
      ]
    },
    {
      "cell_type": "code",
      "metadata": {
        "id": "PNU6UNVXYuI2"
      },
      "source": [
        "X=data.drop('Price_dollar',axis=1)\n",
        "y=data.Price_dollar"
      ],
      "execution_count": null,
      "outputs": []
    },
    {
      "cell_type": "code",
      "metadata": {
        "id": "fOYuB7J9YuI3"
      },
      "source": [
        "lo=LeaveOneOutEncoder(cols=['ShippingMode'])"
      ],
      "execution_count": null,
      "outputs": []
    },
    {
      "cell_type": "code",
      "metadata": {
        "id": "2VxsIyX-YuI4",
        "colab": {
          "base_uri": "https://localhost:8080/"
        },
        "outputId": "47ca8063-4bb7-4f50-d227-d7ab180020ab"
      },
      "source": [
        "lo.fit(X,y)"
      ],
      "execution_count": null,
      "outputs": [
        {
          "output_type": "execute_result",
          "data": {
            "text/plain": [
              "LeaveOneOutEncoder(cols=['ShippingMode'], drop_invariant=False,\n",
              "                   handle_missing='value', handle_unknown='value',\n",
              "                   random_state=None, return_df=True, sigma=None, verbose=0)"
            ]
          },
          "metadata": {},
          "execution_count": 280
        }
      ]
    },
    {
      "cell_type": "code",
      "metadata": {
        "id": "Js0r1JzbYuI4",
        "colab": {
          "base_uri": "https://localhost:8080/",
          "height": 206
        },
        "outputId": "bf4ab15b-c23b-4d55-9371-0c262bdebf1d"
      },
      "source": [
        "data[['CustomerID','ShippingMode']].head(5)"
      ],
      "execution_count": null,
      "outputs": [
        {
          "output_type": "execute_result",
          "data": {
            "text/html": [
              "<div>\n",
              "<style scoped>\n",
              "    .dataframe tbody tr th:only-of-type {\n",
              "        vertical-align: middle;\n",
              "    }\n",
              "\n",
              "    .dataframe tbody tr th {\n",
              "        vertical-align: top;\n",
              "    }\n",
              "\n",
              "    .dataframe thead th {\n",
              "        text-align: right;\n",
              "    }\n",
              "</style>\n",
              "<table border=\"1\" class=\"dataframe\">\n",
              "  <thead>\n",
              "    <tr style=\"text-align: right;\">\n",
              "      <th></th>\n",
              "      <th>CustomerID</th>\n",
              "      <th>ShippingMode</th>\n",
              "    </tr>\n",
              "  </thead>\n",
              "  <tbody>\n",
              "    <tr>\n",
              "      <th>0</th>\n",
              "      <td>10471</td>\n",
              "      <td>Economy</td>\n",
              "    </tr>\n",
              "    <tr>\n",
              "      <th>1</th>\n",
              "      <td>10472</td>\n",
              "      <td>Mail</td>\n",
              "    </tr>\n",
              "    <tr>\n",
              "      <th>2</th>\n",
              "      <td>10473</td>\n",
              "      <td>Mail</td>\n",
              "    </tr>\n",
              "    <tr>\n",
              "      <th>5</th>\n",
              "      <td>10476</td>\n",
              "      <td>Mail</td>\n",
              "    </tr>\n",
              "    <tr>\n",
              "      <th>6</th>\n",
              "      <td>10477</td>\n",
              "      <td>Mail</td>\n",
              "    </tr>\n",
              "  </tbody>\n",
              "</table>\n",
              "</div>"
            ],
            "text/plain": [
              "   CustomerID ShippingMode\n",
              "0       10471      Economy\n",
              "1       10472         Mail\n",
              "2       10473         Mail\n",
              "5       10476         Mail\n",
              "6       10477         Mail"
            ]
          },
          "metadata": {},
          "execution_count": 281
        }
      ]
    },
    {
      "cell_type": "code",
      "metadata": {
        "id": "-s6wF8vWYuI7",
        "colab": {
          "base_uri": "https://localhost:8080/",
          "height": 206
        },
        "outputId": "df2a85b4-9535-44d9-f0af-6c120a42fd3d"
      },
      "source": [
        "lo.transform(X)[['CustomerID','ShippingMode']].head(5)"
      ],
      "execution_count": null,
      "outputs": [
        {
          "output_type": "execute_result",
          "data": {
            "text/html": [
              "<div>\n",
              "<style scoped>\n",
              "    .dataframe tbody tr th:only-of-type {\n",
              "        vertical-align: middle;\n",
              "    }\n",
              "\n",
              "    .dataframe tbody tr th {\n",
              "        vertical-align: top;\n",
              "    }\n",
              "\n",
              "    .dataframe thead th {\n",
              "        text-align: right;\n",
              "    }\n",
              "</style>\n",
              "<table border=\"1\" class=\"dataframe\">\n",
              "  <thead>\n",
              "    <tr style=\"text-align: right;\">\n",
              "      <th></th>\n",
              "      <th>CustomerID</th>\n",
              "      <th>ShippingMode</th>\n",
              "    </tr>\n",
              "  </thead>\n",
              "  <tbody>\n",
              "    <tr>\n",
              "      <th>0</th>\n",
              "      <td>10471</td>\n",
              "      <td>4762.741929</td>\n",
              "    </tr>\n",
              "    <tr>\n",
              "      <th>1</th>\n",
              "      <td>10472</td>\n",
              "      <td>5526.982748</td>\n",
              "    </tr>\n",
              "    <tr>\n",
              "      <th>2</th>\n",
              "      <td>10473</td>\n",
              "      <td>5526.982748</td>\n",
              "    </tr>\n",
              "    <tr>\n",
              "      <th>5</th>\n",
              "      <td>10476</td>\n",
              "      <td>5526.982748</td>\n",
              "    </tr>\n",
              "    <tr>\n",
              "      <th>6</th>\n",
              "      <td>10477</td>\n",
              "      <td>5526.982748</td>\n",
              "    </tr>\n",
              "  </tbody>\n",
              "</table>\n",
              "</div>"
            ],
            "text/plain": [
              "   CustomerID  ShippingMode\n",
              "0       10471   4762.741929\n",
              "1       10472   5526.982748\n",
              "2       10473   5526.982748\n",
              "5       10476   5526.982748\n",
              "6       10477   5526.982748"
            ]
          },
          "metadata": {},
          "execution_count": 282
        }
      ]
    },
    {
      "cell_type": "markdown",
      "metadata": {
        "id": "HxFNke9JYuI7"
      },
      "source": [
        "### Scaling"
      ]
    },
    {
      "cell_type": "markdown",
      "metadata": {
        "id": "BSfFp64PYuI8"
      },
      "source": [
        "#### StandardScaler"
      ]
    },
    {
      "cell_type": "code",
      "metadata": {
        "id": "T82f1n56YuI8"
      },
      "source": [
        "data.head()"
      ],
      "execution_count": null,
      "outputs": []
    },
    {
      "cell_type": "code",
      "metadata": {
        "id": "-V_DZTpUYuI9"
      },
      "source": [
        "data[['Total_Ratings','ShippingTime','Price_dollar']].agg([np.mean,max,min])"
      ],
      "execution_count": null,
      "outputs": []
    },
    {
      "cell_type": "code",
      "metadata": {
        "id": "bPqcGzjkYuI9"
      },
      "source": [
        "data[['Total_Ratings','ShippingTime','Price_dollar']].boxplot()"
      ],
      "execution_count": null,
      "outputs": []
    },
    {
      "cell_type": "markdown",
      "metadata": {
        "id": "HjWigWliYuI-"
      },
      "source": [
        "Clearly, there is difference is scales in features."
      ]
    },
    {
      "cell_type": "code",
      "metadata": {
        "id": "SwnKOxYkYuJH"
      },
      "source": [
        "scaled_data=data.copy()"
      ],
      "execution_count": null,
      "outputs": []
    },
    {
      "cell_type": "code",
      "metadata": {
        "id": "02vxErliYuJJ"
      },
      "source": [
        "from sklearn.preprocessing import StandardScaler"
      ],
      "execution_count": null,
      "outputs": []
    },
    {
      "cell_type": "code",
      "metadata": {
        "id": "T63GQxZ0YuJJ"
      },
      "source": [
        "scl_tr=StandardScaler() # scaling total ratings\n",
        "scl_st=StandardScaler() # scaling shipping time\n",
        "scl_pd=StandardScaler() # scaling price in dollars"
      ],
      "execution_count": null,
      "outputs": []
    },
    {
      "cell_type": "code",
      "metadata": {
        "id": "Ug8W1sqZYuJK"
      },
      "source": [
        "scaled_data.Total_Ratings=scl_tr.fit_transform(scaled_data[['Total_Ratings']])\n",
        "scaled_data.ShippingTime=scl_st.fit_transform(scaled_data[['ShippingTime']])\n",
        "scaled_data.Price_dollar=scl_pd.fit_transform(scaled_data[['Price_dollar']])"
      ],
      "execution_count": null,
      "outputs": []
    },
    {
      "cell_type": "code",
      "metadata": {
        "id": "2ZWe57ZqYuJL"
      },
      "source": [
        "scaled_data[['Total_Ratings','ShippingTime','Price_dollar']].boxplot()"
      ],
      "execution_count": null,
      "outputs": []
    },
    {
      "cell_type": "markdown",
      "metadata": {
        "id": "gQSefYXNYuJM"
      },
      "source": [
        "#### MinMaxScaler"
      ]
    },
    {
      "cell_type": "code",
      "metadata": {
        "id": "fYqQaso2YuJM"
      },
      "source": [
        "scaled_data=data.copy()"
      ],
      "execution_count": null,
      "outputs": []
    },
    {
      "cell_type": "code",
      "metadata": {
        "id": "_RJNIIQ-YuJN"
      },
      "source": [
        "from sklearn.preprocessing import MinMaxScaler"
      ],
      "execution_count": null,
      "outputs": []
    },
    {
      "cell_type": "code",
      "metadata": {
        "id": "9UCaCqA2YuJN"
      },
      "source": [
        "mcl_tr=MinMaxScaler() # scaling total ratings\n",
        "mcl_st=MinMaxScaler() # scaling shipping time\n",
        "mcl_pd=MinMaxScaler() # scaling price in dollars"
      ],
      "execution_count": null,
      "outputs": []
    },
    {
      "cell_type": "code",
      "metadata": {
        "id": "uCMNMWfwYuJO"
      },
      "source": [
        "scaled_data.Total_Ratings=mcl_tr.fit_transform(scaled_data[['Total_Ratings']])\n",
        "scaled_data.ShippingTime=mcl_st.fit_transform(scaled_data[['ShippingTime']])\n",
        "scaled_data.Price_dollar=mcl_pd.fit_transform(scaled_data[['Price_dollar']])"
      ],
      "execution_count": null,
      "outputs": []
    },
    {
      "cell_type": "code",
      "metadata": {
        "id": "pz00UHlyYuJO"
      },
      "source": [
        "scaled_data[['Total_Ratings','ShippingTime','Price_dollar']].boxplot()"
      ],
      "execution_count": null,
      "outputs": []
    },
    {
      "cell_type": "markdown",
      "metadata": {
        "id": "Fx28ZCEYYuJP"
      },
      "source": [
        "MinMaxScaler scales data between 0-1"
      ]
    },
    {
      "cell_type": "markdown",
      "metadata": {
        "id": "zjiKnri3YuJQ"
      },
      "source": [
        "#### Binarizer"
      ]
    },
    {
      "cell_type": "code",
      "metadata": {
        "id": "ZIPb8VYhYuJQ"
      },
      "source": [
        "from sklearn.preprocessing import Binarizer"
      ],
      "execution_count": null,
      "outputs": []
    },
    {
      "cell_type": "code",
      "metadata": {
        "id": "VBS18N8JYuJW"
      },
      "source": [
        "scaled_data=data.copy()"
      ],
      "execution_count": null,
      "outputs": []
    },
    {
      "cell_type": "code",
      "metadata": {
        "id": "Bel4OkThYuJW"
      },
      "source": [
        "bl=Binarizer(5000)"
      ],
      "execution_count": null,
      "outputs": []
    },
    {
      "cell_type": "code",
      "metadata": {
        "id": "BiMgTm-jYuJW"
      },
      "source": [
        "# Let's say we have divide data where purchase were made more than 5000\n",
        "scaled_data['Price_5000']=bl.fit_transform(scaled_data[['Price_dollar']])"
      ],
      "execution_count": null,
      "outputs": []
    },
    {
      "cell_type": "code",
      "metadata": {
        "id": "2NkMQh5gYuJX"
      },
      "source": [
        "scaled_data[['Price_dollar','Price_5000']].head()"
      ],
      "execution_count": null,
      "outputs": []
    },
    {
      "cell_type": "markdown",
      "metadata": {
        "id": "HGZQNB6hYuJX"
      },
      "source": [
        "##### Saving Preprocessed DataFrame"
      ]
    },
    {
      "cell_type": "code",
      "metadata": {
        "id": "basUFSfkYuJX"
      },
      "source": [
        "data.head()"
      ],
      "execution_count": null,
      "outputs": []
    },
    {
      "cell_type": "code",
      "metadata": {
        "id": "fohoFAzRYuJX"
      },
      "source": [
        "data.to_csv('Bello_Fashions_processed.csv',index=False)"
      ],
      "execution_count": null,
      "outputs": []
    },
    {
      "cell_type": "markdown",
      "metadata": {
        "id": "a70i93MNYuJY"
      },
      "source": [
        "### Advance Manipulation"
      ]
    },
    {
      "cell_type": "markdown",
      "metadata": {
        "id": "i_QKKTGmYuJY"
      },
      "source": [
        "#### Plotting and Styling"
      ]
    },
    {
      "cell_type": "markdown",
      "metadata": {
        "id": "YO7UuS3pYuJY"
      },
      "source": [
        "#### Plotting"
      ]
    },
    {
      "cell_type": "code",
      "metadata": {
        "id": "C-MBvHG6YuJY"
      },
      "source": [
        "data.head()"
      ],
      "execution_count": null,
      "outputs": []
    },
    {
      "cell_type": "code",
      "metadata": {
        "id": "Q2YMkEHvYuJY"
      },
      "source": [
        "def getCount(data,cat):\n",
        "    '''\n",
        "    data: DataFrame\n",
        "    cat: category name  \n",
        "    '''\n",
        "    rre={'Category':[],'Length':[]}\n",
        "    for grp,gata in data.groupby(cat):\n",
        "        rre['Category'].append(grp)\n",
        "        rre['Length'].append(len(gata))\n",
        "    return pd.DataFrame(rre)"
      ],
      "execution_count": null,
      "outputs": []
    },
    {
      "cell_type": "markdown",
      "metadata": {
        "id": "QZtBF--QYuJZ"
      },
      "source": [
        "##### Most Popular Product Type"
      ]
    },
    {
      "cell_type": "code",
      "metadata": {
        "id": "30LcdFubYuJZ"
      },
      "source": [
        "pt_count=getCount(data,'ProductType')\n",
        "pt_count.set_index('Category',inplace=True)"
      ],
      "execution_count": null,
      "outputs": []
    },
    {
      "cell_type": "code",
      "metadata": {
        "id": "2UhZihc7YuJZ"
      },
      "source": [
        "pt_count.plot(kind='bar',title='Product Sales')"
      ],
      "execution_count": null,
      "outputs": []
    },
    {
      "cell_type": "markdown",
      "metadata": {
        "id": "fv_AVAiUYuJZ"
      },
      "source": [
        "##### Most Preferred Payment Mode"
      ]
    },
    {
      "cell_type": "code",
      "metadata": {
        "id": "qwk5FzDaYuJZ"
      },
      "source": [
        "pt_count=getCount(data,'PaymentMode')\n",
        "pt_count.set_index('Category',inplace=True)\n",
        "pt_count.plot(kind='bar',title='Payment Mode')"
      ],
      "execution_count": null,
      "outputs": []
    },
    {
      "cell_type": "markdown",
      "metadata": {
        "id": "om5MIoDvYuJa"
      },
      "source": [
        "##### Most Preferred Shipping Mode"
      ]
    },
    {
      "cell_type": "code",
      "metadata": {
        "id": "ADcLeNTmYuJa"
      },
      "source": [
        "pt_count=getCount(data,'ShippingMode')\n",
        "pt_count.set_index('Category',inplace=True)\n",
        "pt_count.plot(kind='bar',title='Payment Mode')"
      ],
      "execution_count": null,
      "outputs": []
    },
    {
      "cell_type": "markdown",
      "metadata": {
        "id": "rVDPQX9TYuJb"
      },
      "source": [
        "##### Average Price/ShippingTime of products per category"
      ]
    },
    {
      "cell_type": "code",
      "metadata": {
        "id": "vHI3PSEmYuJb"
      },
      "source": [
        "aprice=data.groupby('ProductType')['Price_dollar'].agg(np.mean)"
      ],
      "execution_count": null,
      "outputs": []
    },
    {
      "cell_type": "code",
      "metadata": {
        "id": "xBGKe8RWYuJc"
      },
      "source": [
        "aprice.plot(kind='bar')"
      ],
      "execution_count": null,
      "outputs": []
    },
    {
      "cell_type": "code",
      "metadata": {
        "id": "kIXgIkBqYuJc"
      },
      "source": [
        "aship=data.groupby('ProductType')['ShippingTime'].agg(np.mean)\n",
        "aship.plot(kind='bar')"
      ],
      "execution_count": null,
      "outputs": []
    },
    {
      "cell_type": "markdown",
      "metadata": {
        "id": "CDIc9NAzYuJd"
      },
      "source": [
        "##### Check the distribution of Shipping time"
      ]
    },
    {
      "cell_type": "code",
      "metadata": {
        "id": "vPP0wp5qYuJd"
      },
      "source": [
        "data[['ShippingTime']].plot.hist()"
      ],
      "execution_count": null,
      "outputs": []
    },
    {
      "cell_type": "markdown",
      "metadata": {
        "id": "pHWbrTJdYuJd"
      },
      "source": [
        "##### Pie Chart"
      ]
    },
    {
      "cell_type": "code",
      "metadata": {
        "id": "Ru5C7EoeYuJe"
      },
      "source": [
        "pt_count=getCount(data,'PaymentMode')\n",
        "pt_count.set_index('Category',inplace=True)\n",
        "pt_count.Length.plot.pie(title='Payment Mode')"
      ],
      "execution_count": null,
      "outputs": []
    },
    {
      "cell_type": "markdown",
      "metadata": {
        "id": "MzBjs8e7YuJe"
      },
      "source": [
        "#### Highlighting Price >5000"
      ]
    },
    {
      "cell_type": "code",
      "metadata": {
        "id": "5-Je-u8IYuJe"
      },
      "source": [
        "styled_data=data.head(10).style"
      ],
      "execution_count": null,
      "outputs": []
    },
    {
      "cell_type": "code",
      "metadata": {
        "id": "M46b5NdMYuJe"
      },
      "source": [
        "styled_data=data.drop(['Date','Price'],axis=1).head(10).style\n",
        "def price_range(price):\n",
        "    out=[]\n",
        "    for i in price:\n",
        "        if float(i)>5000:\n",
        "            # if price is greater than 5000 then color is light blue\n",
        "            out.append(\"background-color : #e1eff6\")\n",
        "        else:\n",
        "            # if price is less than 5000 then color is light pink\n",
        "            out.append(\"background-color : #eccbd9\")\n",
        "    return out\n",
        "styled_data.apply(price_range,subset=['Price_dollar'])"
      ],
      "execution_count": null,
      "outputs": []
    },
    {
      "cell_type": "markdown",
      "metadata": {
        "id": "AZSkC6PoYuJf"
      },
      "source": [
        "#### Styling whole table using CSS styles"
      ]
    },
    {
      "cell_type": "code",
      "metadata": {
        "id": "-Q-qC-jNYuJf"
      },
      "source": [
        "styled_data=data.drop(['Date','Price'],axis=1).head(10).style\n",
        "\n",
        "\n",
        "styles = [\n",
        "    dict(selector=\"tr:hover\",props=[(\"background-color\", \"#eccbd9\")]),\n",
        "    dict(selector=\"th:hover\",props=[(\"background-color\", \"#eccbd9\")]),\n",
        "    dict(selector=\"th\", props=[('background-color','#4f6d7a'),\n",
        "                               (\"font-size\", \"12px\"),\n",
        "                               (\"text-align\", \"center\"),\n",
        "                               ('color', '#ffffff'),\n",
        "                              ('border','1px solid #dbe9ee')]),\n",
        "    dict(selector='tbody', props=[('color', '#449dd1'),]),\n",
        "    dict(selector='tr', props=[('background-color','#e1eff6'),\n",
        "                                ('color', '#449dd1'),\n",
        "                                ('font-family','Helvetica')]),\n",
        "    dict(selector='td',props=[('border','1px solid #166088'),\n",
        "                             (\"font-size\", \"10px\")])\n",
        "]\n",
        "\n",
        "styled_data.set_table_styles(styles)"
      ],
      "execution_count": null,
      "outputs": []
    },
    {
      "cell_type": "markdown",
      "metadata": {
        "id": "zLKIhMX7YuJg"
      },
      "source": [
        "#### Magnification"
      ]
    },
    {
      "cell_type": "code",
      "metadata": {
        "id": "gU93ze03YuJg"
      },
      "source": [
        "styled_data=data.drop(['Date','Price'],axis=1).head(10).style\n",
        "\n",
        "def magnify():\n",
        "    return [dict(selector=\"th\",\n",
        "                 props=[(\"font-size\", \"7pt\")]),\n",
        "            dict(selector=\"td\",\n",
        "                 props=[('padding', \"4px 4px\"),]),\n",
        "            dict(selector=\"th:hover\",\n",
        "                 props=[(\"font-size\", \"13pt\")]),\n",
        "            dict(selector=\"tr:hover td:hover\",\n",
        "                 props=[('max-width', '200px'),\n",
        "                        ('font-size', '14pt'),\n",
        "                       ('color', '#4f6d7a')])]\n",
        "\n",
        "\n",
        "\n",
        "\n",
        "styles = [\n",
        "    dict(selector=\"tr:hover\",props=[(\"background-color\", \"#eccbd9\")]),\n",
        "    dict(selector=\"th:hover\",props=[(\"background-color\", \"#eccbd9\")]),\n",
        "    dict(selector=\"th\", props=[('background-color','#4f6d7a'),\n",
        "                               (\"font-size\", \"120%\"),\n",
        "                               (\"text-align\", \"center\"),\n",
        "                               ('color', '#ffffff'),\n",
        "                              ('border','1px solid #dbe9ee')]),\n",
        "    dict(selector='tbody', props=[('color', '#449dd1'),]),\n",
        "    dict(selector='tr', props=[('background-color','#e1eff6'),\n",
        "                                ('color', '#449dd1'),\n",
        "                                ('font-family','Helvetica')]),\n",
        "    dict(selector='td',props=[('border','1px solid #166088'),])]\n",
        "\n",
        "styles.extend(magnify())\n",
        "styled_data.set_table_styles(styles)"
      ],
      "execution_count": null,
      "outputs": []
    }
  ]
}