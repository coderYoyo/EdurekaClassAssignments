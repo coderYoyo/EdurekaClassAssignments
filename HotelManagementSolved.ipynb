{
 "cells": [
  {
   "cell_type": "markdown",
   "metadata": {
    "id": "EoE6hf_QhspK"
   },
   "source": [
    "#Hotel Management System using Python\n",
    "\n",
    "\n"
   ]
  },
  {
   "cell_type": "markdown",
   "metadata": {
    "id": "zci04WtcSr0a"
   },
   "source": [
    "##**Scenario**: Hotel Managment System for Hotel Bella Casa.\n",
    "\n",
    "###Hotel Bella Casa is an upscale hotel brand that delivers four different categories of the room each type having a maximum of five rooms of accommodation limit. In this hotel, the major issues mainly concerned are the synchronization, management of room bookings, providing appropriate information to their customers, record stabilization, room service tracking, restaurant management, and overall bill generation according to services taken by the customer."
   ]
  },
  {
   "cell_type": "markdown",
   "metadata": {
    "id": "2cR5lhUmSsIC"
   },
   "source": [
    "**Problem Statement:** Write a Python code to build a Hotel Management System which could perform the following operations like - Room Booking, Provide you with Hotel Rooms Info, Room Service, Billing, and Record-Keeping.\n",
    "\n",
    "**Topics Covered:**\n",
    "- Function\n",
    "- Loops\n",
    "- DateTime\n",
    "- Conditional Statement\n",
    "- Data Types\n",
    "  - String\n",
    "  - List\n",
    "  - Dictionary"
   ]
  },
  {
   "cell_type": "markdown",
   "metadata": {
    "id": "EU3T7KD9emIm"
   },
   "source": [
    "####Functions Used\n",
    "\n",
    "![](https://imgur.com/a/Yh2Bav5)\n",
    "\n",
    "- Booking(): Book room at hotel\n",
    "- Room_Service(): Room service for people staying at hotel\n",
    "- Payment(): Shows total bill of the customer \n",
    "-Record(): Shows all the booking records in the hotel \n",
    "-Rooms_Info(): Shows information of all the categories of room\n",
    "-Restuarant_menu(): Shows food menu\n",
    "-Pay_For_Food(): Generate bill for food ordered\n",
    "-Home(): Menu Driven program to run all the functions "
   ]
  },
  {
   "cell_type": "markdown",
   "metadata": {
    "id": "eUpXusH0GmHV"
   },
   "source": [
    "###Declaring Global List"
   ]
  },
  {
   "cell_type": "code",
   "execution_count": null,
   "metadata": {
    "id": "Cu4nXBtCFLtX"
   },
   "outputs": [],
   "source": [
    "import random \n",
    "from datetime import datetime\n",
    "import re\n",
    "\n",
    "#A Dictionary of Room Numbers Booked for Categories 1,2,3,4 \n",
    "room_no={1:[],2:[],3:[],4:[]}\n",
    "room_price=[]\n",
    "#Dictionary of bill amount with CUstomer-Id as Key\n",
    "billamounts={}\n",
    "#Dictionary Containing all the booking records for every customer-id\n",
    "records={}\n"
   ]
  },
  {
   "cell_type": "markdown",
   "metadata": {
    "id": "odDiOC3Vc8wC"
   },
   "source": [
    "####Booking Function\n",
    "**Asks for check-in time, check-out time, shows availability and books room**\n",
    "- validates date input with datetime and ensures that checkin date isn't after checout date\n",
    "-Uses RegEx to validate and ensure that name and phone number are entered in correct format\n",
    "-Randomly generates a customer id and allocates a room number\n",
    "-Creates a record once a booking is made"
   ]
  },
  {
   "cell_type": "code",
   "execution_count": null,
   "metadata": {
    "id": "Z5IAyzbjj6bb"
   },
   "outputs": [],
   "source": [
    "#Booking\n",
    "def Booking():\n",
    "    print(\"When do you want to Book\")\n",
    "    ci=input(\"Check In-->\")\n",
    "    ci=[int(i) for i in ci.split(\"/\")]\n",
    "    ci=datetime(ci[2],ci[1],ci[0])\n",
    "    co=input(\"Check Out-->\")\n",
    "    co=[int(i) for i in co.split(\"/\")]\n",
    "    co=datetime(co[2],co[1],co[0])\n",
    "    print(\"SELECT ROOM TYPE\") \n",
    "    print(\" 1. Standard Non-AC \\t\\t3500\") \n",
    "    print(\" 2. Standard AC     \\t\\t4000\") \n",
    "    print(\" 3. 3-Bed Non-AC    \\t\\t4500\") \n",
    "    print(\" 4. 3-Bed AC        \\t\\t5000\") \n",
    "    #this Dict contains the prices of hotels\n",
    "    prices={1:3500,2:4000,3:4500,4:5000}\n",
    "    type=int(input(\"Enter Type Code->\"))\n",
    "    try:\n",
    "        #checks if co is before ci\n",
    "        print(\"in try\",(co-ci).days>0)\n",
    "        if((co-ci).days>0):\n",
    "            if len(room_no[type])<50:\n",
    "                print(\"Available\")\n",
    "            else:\n",
    "                print(\"Unavailabe\")\n",
    "        else:\n",
    "            print(\"Checkout can't be before checkin\")\n",
    "    except:\n",
    "        print(\"Incorrect Date format. Re-enter values\")\n",
    "        Booking()\n",
    "    \n",
    "    cname=input(\"Name->\")\n",
    "    #checks if name entered in correct format\n",
    "    if not(bool(re.match('[a-zA-Z\\s]+$', cname))):\n",
    "        print(\"Incorrect Format\")\n",
    "        Booking()\n",
    "    cphone=input(\"Phone Number->\")\n",
    "    if not(bool(re.match('^[6-9]{1}[0-9]{9}$', cphone))):\n",
    "        print(\"Incorrect Phone Number\")\n",
    "        Booking()            \n",
    "    caddress=input(\"Address->\")\n",
    "    #generates random non repetitive room_no\n",
    "    def room_no_generator():\n",
    "        n=type*100+random.randrange(50)\n",
    "        if (n in room_no[type]):\n",
    "            room_no_generator()\n",
    "        return n\n",
    "    #generates random non repetitive cust id\n",
    "    def cid_generator():\n",
    "        n=type*1000+random.randrange(999)\n",
    "        if (n in records.keys()):\n",
    "            cid_generator()\n",
    "        return n    \n",
    "    rn=room_no_generator()\n",
    "    cid=cid_generator()\n",
    "    billamounts[cid]=prices[type]*(co-ci).days\n",
    "    room_no[type].append(rn)\n",
    "    print(\"Room Booked Successfully\")\n",
    "    print(cname,cphone)\n",
    "    print(\"Room:\",rn,\"CustID:\",cid)\n",
    "    print(\"Bill Amount=\",billamounts[cid])\n",
    "    records[cid]=\"Room no\"+str(rn)+\" \"+str(cname)+\" \"+str(cphone)\n"
   ]
  },
  {
   "cell_type": "markdown",
   "metadata": {
    "id": "eN_aYIq1PsSQ"
   },
   "source": [
    "####Room Service\n",
    "**Asks for services requested by customers staying in Hotel**\n",
    "- Adds the additional amount of services to total bill "
   ]
  },
  {
   "cell_type": "code",
   "execution_count": null,
   "metadata": {
    "id": "r4chGi4eJWWO"
   },
   "outputs": [],
   "source": [
    "#Room_Service\n",
    "def Room_Service():\n",
    "    amount=0\n",
    "    cid=input(\"Enter Customer ID-->\")\n",
    "    print(\"Select Service\") \n",
    "    print(\" 1. Dining\") \n",
    "    print(\" 2. Room Cleaning\") \n",
    "    print(\" 3. Laundary\") \n",
    "    print(\" 4. Other\")\n",
    "    choice=int(input(\"Choice Number:\"))\n",
    "    if choice==1:\n",
    "        Restuarant_menu()\n",
    "        amount=amount+Pay_for_food()\n",
    "    elif choice==2:\n",
    "        print(\"Cleaning Requested\")\n",
    "    elif choice==3:\n",
    "        itemcount=int(input(\"Enter Number of Items:\"))\n",
    "        amount=amount+itemcount*20\n",
    "    else:\n",
    "        other_amount=int(input(\"Enter amount if any:\"))\n",
    "        amount=amount+other_amount\n",
    "    billamounts[cid]=billamounts[cid]+amount"
   ]
  },
  {
   "cell_type": "markdown",
   "metadata": {
    "id": "Yxt4mqexQMbO"
   },
   "source": [
    "####Payment\n",
    "Generates total bill of a customer and displays all the customer information "
   ]
  },
  {
   "cell_type": "code",
   "execution_count": null,
   "metadata": {
    "id": "FNiDOiCoJWjr"
   },
   "outputs": [],
   "source": [
    "#Total bill\n",
    "def Payment():\n",
    "    cid=input(\"Enter CID->\")\n",
    "    print(\"Customer Details\", records[cid])\n",
    "  \n",
    "    print(\"The Total BIll is\", billamounts[cid])\n",
    "    \n",
    "    "
   ]
  },
  {
   "cell_type": "markdown",
   "metadata": {
    "id": "pWSxPzSJQfae"
   },
   "source": [
    "####Records\n",
    "**Shows all the booking related records in the hotel**"
   ]
  },
  {
   "cell_type": "code",
   "execution_count": null,
   "metadata": {
    "id": "33GlcGmS1YlN"
   },
   "outputs": [],
   "source": [
    "#Records\n",
    "def Record():\n",
    "    for i,j in records.items():\n",
    "        print(i,j)\n"
   ]
  },
  {
   "cell_type": "markdown",
   "metadata": {
    "id": "m3becKSTJfUB"
   },
   "source": [
    "###Room information function\n",
    "*  **Enables the customers to view the types of rooms available in the hotel.**\n",
    "*  **Allow the customer to check the availablity of given types of rooms**"
   ]
  },
  {
   "cell_type": "code",
   "execution_count": null,
   "metadata": {
    "id": "s95VV9uiOYux"
   },
   "outputs": [],
   "source": [
    "#Room information and checking availablity\n",
    "def Rooms_Info():\n",
    "    \n",
    "    #user input of type of room\n",
    "    x=int(input(\"Please Enter your choice--->\\n1)Single Non-AC Room(1 Single Bed,Small almirah,1 Tea Table,Telephone)\\n2)Double-Bed Non-AC Room(1 Double Bed,Television,Large almirah,2 Tea Table,Telephone)\\n3)Triple Bed Non-AC Room(3 Single Bed,Television,Large Almirah,3 Tea Table,Telephone,Balcony)\\n4)Double-Bed AC Room(1 Double Bed,Television,Large Almirah,Air-Conditioner,Balcony,2 Tea Table,Telephone)\\n\"))\n",
    "    \n",
    "    if ((x==1) and len(room_no[x])<50):\n",
    "\n",
    "        print (\"Available\")\n",
    "        print (\"You have opted Single-Bed Non-AC Room  \")\n",
    "        room_price=2000\n",
    "        print(\"Your room price per Day=\",room_price,\"\\n\")\n",
    "            \n",
    "\n",
    "    elif ((x==2) and len(room_no[x])<50):\n",
    "\n",
    "        print (\"Available\")    \n",
    "        print (\"You have opted  Double-Bed Non-AC Room\")\n",
    "        room_price=3000\n",
    "        print(\"Your room price per Day=\",room_price,\"\\n\")\n",
    "\n",
    "  \n",
    "\n",
    "    elif ((x==3) and len(room_no[x])<50):\n",
    "\n",
    "        print (\"Available\")\n",
    "        print (\"You have opted  Triple-Bed Non-AC Room\")\n",
    "        room_price=4000\n",
    "        print(\"Your room price per Day=\",room_price,\"\\n\")\n",
    "\n",
    "   \n",
    "\n",
    "\n",
    "    elif ((x==4) and len(room_no[x])<50):\n",
    "\n",
    "        print (\"Available\")\n",
    "        print (\"You have opted Double-Bed AC Room\")\n",
    "        room_price=5000\n",
    "        print(\"Your room price per Day=\",room_price,\"\\n\")\n",
    "\n",
    "    else:\n",
    "        print(\"Unavailable\")\n",
    "\n",
    "      \n",
    "\n",
    "\n",
    " \n",
    "\n",
    "        "
   ]
  },
  {
   "cell_type": "markdown",
   "metadata": {
    "id": "Er6i6rTboo5y"
   },
   "source": [
    "###Restuarant menu function.\n",
    "**Display the menu of food items available with rates in the restuarant.**"
   ]
  },
  {
   "cell_type": "code",
   "execution_count": null,
   "metadata": {
    "colab": {
     "base_uri": "https://localhost:8080/",
     "height": 678
    },
    "id": "dM5EBU0dJf_s",
    "outputId": "d54aca99-18b0-4bc0-f9fe-43f240556aaa"
   },
   "outputs": [
    {
     "name": "stdout",
     "output_type": "stream",
     "text": [
      " ****Restuarant Menu****\n",
      "\n",
      "    <---Bevrages--->\n",
      "\n",
      "1)Tea....................10.00\n",
      "\n",
      "2)Coffee.................20.00\n",
      "\n",
      "3)Cold Drink.............30.00\n",
      "\n",
      "4)Water..................20.00\n",
      "\n",
      "    <---Breakfast--->\n",
      "\n",
      "5)Samosa.................10.00\n",
      "\n",
      "6)Burger.................30.00\n",
      "\n",
      "7)Sandwitch..............25.00\n",
      "\n",
      "8)Idli...................20.00\n",
      "\n",
      "    <---Lunch--->\n",
      "\n",
      "9)Combo Lunch............200.00\n",
      "\n",
      "    <---Dinner--->\n",
      "\n",
      "10)DinnerCombo............250.00\n",
      "\n",
      "    <---Icecream--->\n",
      "\n",
      "11)Vanilla icecream.......20.00\n",
      "\n",
      "12)Choclate icecream......40.00\n",
      "\n"
     ]
    }
   ],
   "source": [
    "def Restuarant_menu():\n",
    "    \n",
    "    print(\"****Restuarant Menu****\\n\".center(25))#ali\n",
    "\n",
    "    print(\"    <---Bevrages--->\\n\")\n",
    "    print(\"1)Tea....................10.00\\n\")\n",
    "    print(\"2)Coffee.................20.00\\n\")\n",
    "    print(\"3)Cold Drink.............30.00\\n\")\n",
    "    print(\"4)Water..................20.00\\n\")\n",
    "    print(\"    <---Breakfast--->\\n\")\n",
    "    print(\"5)Samosa.................10.00\\n\")\n",
    "    print(\"6)Burger.................30.00\\n\")\n",
    "    print(\"7)Sandwitch..............25.00\\n\")\n",
    "    print(\"8)Idli...................20.00\\n\")\n",
    "    print(\"    <---Lunch--->\\n\")\n",
    "    print(\"9)Combo Lunch............200.00\\n\")\n",
    "    print(\"    <---Dinner--->\\n\")\n",
    "    print(\"10)DinnerCombo............250.00\\n\")\n",
    "    print(\"    <---Icecream--->\\n\")\n",
    "    print(\"11)Vanilla icecream.......20.00\\n\")\n",
    "    print(\"12)Choclate icecream......40.00\\n\")\n",
    "\n",
    "Restuarant_menu()"
   ]
  },
  {
   "cell_type": "markdown",
   "metadata": {
    "id": "LgAw1H2AWwAE"
   },
   "source": [
    "###Pay for food function\n",
    "\n",
    "*  **Stores the restuarant menu index wise in the dictioanary.**\n",
    "*  **Print the keys of dictionary in varaible.**\n",
    "*  **Request customer to lodge the food order with the restuarant.**\n",
    "*  **Display total amount of bill of the ordered food  by the customer.**"
   ]
  },
  {
   "cell_type": "code",
   "execution_count": null,
   "metadata": {
    "id": "ZNx_qSxVbu6w"
   },
   "outputs": [],
   "source": [
    "def Pay_for_food():\n",
    "    sum=0\n",
    "    # dictionary to save rate of food items indexwise\n",
    "    dict={'1':10.00,'2':20.00,'3':30.00,'4':20.00,'5':30.00,'6':10.00,'7':25.00,'8':20.00,'9':200.00,'10':250.00,'11':20.00,'12':40.00}\n",
    "    \n",
    "    \n",
    "    while(True):\n",
    "    \n",
    "     order=input(\"<---Please enter the  code of food item--->\")\n",
    "     print(\"Please Press E to exit the order\")\n",
    "    \n",
    "     if order in dict.keys():\n",
    "      sum=sum+dict[order]\n",
    "\n",
    "     elif order=='E':\n",
    "      break \n",
    "        \n",
    "     else:   \n",
    "         print(\"Please enter the right choice of food\")    \n",
    "\n",
    "    print(\"***Restuarant Bill***\") \n",
    "\n",
    "    #printing of total bill of food   \n",
    "    print(\"The total bill for food =\",sum)\n",
    "    return sum\n",
    "\n"
   ]
  },
  {
   "cell_type": "markdown",
   "metadata": {
    "id": "28Ro4jTVQ_Ju"
   },
   "source": [
    "####Home Function\n",
    "**A menu driven program to access all the functionalities within the program**\n",
    "\n",
    "-Requests the user to enter choice code and executes the functions accordingly\n"
   ]
  },
  {
   "cell_type": "code",
   "execution_count": null,
   "metadata": {
    "id": "er9wOhi5JWmf"
   },
   "outputs": [],
   "source": [
    "#Driver Program (HOME)\n",
    "# Home Function \n",
    "def Home():\n",
    "    choice=1\n",
    "    while(choice!=0):\n",
    "        print(\"WELCOME TO HOTEL Bella Casa\".center(127)) #Alligns the Text to Center\n",
    "        print(\"\\t\\t 1 Booking\\n\")  \n",
    "        print(\"\\t\\t 2 Rooms Info\\n\")\n",
    "        print(\"\\t\\t 3 Record\\n\")\n",
    "        print(\"\\t\\t 4 Room Service\\n\")\n",
    "        print(\"\\t\\t 5 Order Food\\n\")\n",
    "        print(\"\\t\\t 6 Pay For Food\\n\")\n",
    "        print(\"\\t\\t 7 Total Bill\\n\") \n",
    "        print(\"\\t\\t 0 Exit\\n\") \n",
    "   \n",
    "        choice=int(input(\"choose your option->\")) \n",
    "        \n",
    "        if choice == 1: \n",
    "            Booking() \n",
    "        \n",
    "        elif choice == 2: \n",
    "            Rooms_Info() \n",
    "\n",
    "        elif choice == 3:  \n",
    "            Record() \n",
    "        \n",
    "        elif choice == 4:  \n",
    "            Room_Service() \n",
    "        \n",
    "        elif choice == 5:  \n",
    "            Restuarant_menu() \n",
    "        \n",
    "        elif choice == 6:  \n",
    "            Pay_for_food() \n",
    "\n",
    "        elif choice == 7: \n",
    "            Payment() \n",
    "        else:\n",
    "            choice=0"
   ]
  },
  {
   "cell_type": "code",
   "execution_count": null,
   "metadata": {
    "colab": {
     "base_uri": "https://localhost:8080/",
     "height": 1000
    },
    "id": "rWSSNHeFKB54",
    "outputId": "c6f64bb3-5eb4-4dc5-c0bd-4b4598d40627"
   },
   "outputs": [
    {
     "name": "stdout",
     "output_type": "stream",
     "text": [
      "                                                  WELCOME TO HOTEL Bella Casa                                                  \n",
      "\t\t 1 Booking\n",
      "\n",
      "\t\t 2 Rooms Info\n",
      "\n",
      "\t\t 3 Record\n",
      "\n",
      "\t\t 4 Room Service\n",
      "\n",
      "\t\t 5 Order Food\n",
      "\n",
      "\t\t 6 Pay For Food\n",
      "\n",
      "\t\t 7 Total Bill\n",
      "\n",
      "\t\t 0 Exit\n",
      "\n",
      "choose your option->1\n",
      "When do you want to Book\n",
      "Check In-->21/10/2020\n",
      "Check Out-->25/10/2020\n",
      "SELECT ROOM TYPE\n",
      " 1. Standard Non-AC \t\t3500\n",
      " 2. Standard AC     \t\t4000\n",
      " 3. 3-Bed Non-AC    \t\t4500\n",
      " 4. 3-Bed AC        \t\t5000\n",
      "Enter Type Code->4\n",
      "in try True\n",
      "Available\n",
      "Name->Abhishek Singh\n",
      "Phone Number->9988776655\n",
      "Address->H1, Surendra Nagar, Delhi\n",
      "Room Booked Successfully\n",
      "Abhishek Singh 9988776655\n",
      "Room: 427 CustID: 4277\n",
      "Bill Amount= 20000\n",
      "                                                  WELCOME TO HOTEL Bella Casa                                                  \n",
      "\t\t 1 Booking\n",
      "\n",
      "\t\t 2 Rooms Info\n",
      "\n",
      "\t\t 3 Record\n",
      "\n",
      "\t\t 4 Room Service\n",
      "\n",
      "\t\t 5 Order Food\n",
      "\n",
      "\t\t 6 Pay For Food\n",
      "\n",
      "\t\t 7 Total Bill\n",
      "\n",
      "\t\t 0 Exit\n",
      "\n",
      "choose your option->3\n",
      "4277 Room no427 Abhishek Singh 9988776655\n",
      "                                                  WELCOME TO HOTEL Bella Casa                                                  \n",
      "\t\t 1 Booking\n",
      "\n",
      "\t\t 2 Rooms Info\n",
      "\n",
      "\t\t 3 Record\n",
      "\n",
      "\t\t 4 Room Service\n",
      "\n",
      "\t\t 5 Order Food\n",
      "\n",
      "\t\t 6 Pay For Food\n",
      "\n",
      "\t\t 7 Total Bill\n",
      "\n",
      "\t\t 0 Exit\n",
      "\n",
      "choose your option->0\n"
     ]
    }
   ],
   "source": [
    "#Driver Code\n",
    "Home()"
   ]
  }
 ],
 "metadata": {
  "colab": {
   "collapsed_sections": [],
   "name": "HotelManagementSolved.ipynb",
   "provenance": []
  },
  "kernelspec": {
   "display_name": "Python 3",
   "language": "python",
   "name": "python3"
  },
  "language_info": {
   "codemirror_mode": {
    "name": "ipython",
    "version": 3
   },
   "file_extension": ".py",
   "mimetype": "text/x-python",
   "name": "python",
   "nbconvert_exporter": "python",
   "pygments_lexer": "ipython3",
   "version": "3.7.7"
  }
 },
 "nbformat": 4,
 "nbformat_minor": 1
}
